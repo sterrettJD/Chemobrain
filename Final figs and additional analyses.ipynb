{
 "cells": [
  {
   "cell_type": "markdown",
   "id": "378267e8",
   "metadata": {},
   "source": [
    "- time from chemo\n",
    "\n",
    "- boxplots\n",
    "  - age\n",
    "  - cesd\n",
    "  - fact-cog\n",
    "  - remake akkermansia\n",
    "- within group beta div\n",
    "  - boxplot\n",
    "  - stat testing?\n",
    "- taxa barplot\n",
    "- alpha div depression stats testing"
   ]
  },
  {
   "cell_type": "code",
   "execution_count": 3,
   "id": "74f94076",
   "metadata": {},
   "outputs": [
    {
     "name": "stdout",
     "output_type": "stream",
     "text": [
      "/Users/johnsterrett/Research-Projects/Boulder/Chemobrain/200608_Elsayed_Lowry-1101\n"
     ]
    }
   ],
   "source": [
    "%cd /Users/johnsterrett/Research-Projects/Boulder/Chemobrain/200608_Elsayed_Lowry-1101/"
   ]
  },
  {
   "cell_type": "code",
   "execution_count": 249,
   "id": "c473ea99",
   "metadata": {},
   "outputs": [],
   "source": [
    "import pandas as pd\n",
    "import numpy as np\n",
    "from qiime2 import Artifact, Visualization\n",
    "import matplotlib.pyplot as plt\n",
    "import seaborn as sns\n",
    "from scipy.stats import spearmanr\n",
    "%matplotlib inline"
   ]
  },
  {
   "cell_type": "markdown",
   "id": "44212b8e",
   "metadata": {},
   "source": [
    "## Time from Chemo\n",
    "\n",
    "#### Loading up, cleaning data"
   ]
  },
  {
   "cell_type": "code",
   "execution_count": 57,
   "id": "893138a6",
   "metadata": {},
   "outputs": [],
   "source": [
    "faith_pd = Artifact.load(\"core-diversity-results/faith_pd_vector.qza\").view(pd.Series)\n",
    "time_df = pd.read_csv(\"time-difference.txt\", sep=\"\\t\", index_col=\"Study ID \")\n",
    "metadata = pd.read_csv(\"Categorical-meta-noNA.tsv\", sep=\"\\t\")"
   ]
  },
  {
   "cell_type": "code",
   "execution_count": 58,
   "id": "72d94ff2",
   "metadata": {
    "scrolled": true
   },
   "outputs": [
    {
     "data": {
      "text/html": [
       "<div>\n",
       "<style scoped>\n",
       "    .dataframe tbody tr th:only-of-type {\n",
       "        vertical-align: middle;\n",
       "    }\n",
       "\n",
       "    .dataframe tbody tr th {\n",
       "        vertical-align: top;\n",
       "    }\n",
       "\n",
       "    .dataframe thead th {\n",
       "        text-align: right;\n",
       "    }\n",
       "</style>\n",
       "<table border=\"1\" class=\"dataframe\">\n",
       "  <thead>\n",
       "    <tr style=\"text-align: right;\">\n",
       "      <th></th>\n",
       "      <th>BC (1) HC (0)</th>\n",
       "      <th>Psych Assessment Day</th>\n",
       "      <th>Stool Sample Day</th>\n",
       "      <th>date closest to assessment</th>\n",
       "      <th>date closest to stool</th>\n",
       "      <th>Diff tx to psych Assess</th>\n",
       "      <th>Diff tx to Stool</th>\n",
       "      <th>Unnamed: 8</th>\n",
       "      <th>Unnamed: 9</th>\n",
       "      <th>Psych difference</th>\n",
       "      <th>stool difference</th>\n",
       "    </tr>\n",
       "    <tr>\n",
       "      <th>Study ID</th>\n",
       "      <th></th>\n",
       "      <th></th>\n",
       "      <th></th>\n",
       "      <th></th>\n",
       "      <th></th>\n",
       "      <th></th>\n",
       "      <th></th>\n",
       "      <th></th>\n",
       "      <th></th>\n",
       "      <th></th>\n",
       "      <th></th>\n",
       "    </tr>\n",
       "  </thead>\n",
       "  <tbody>\n",
       "    <tr>\n",
       "      <th>1001</th>\n",
       "      <td>1</td>\n",
       "      <td>1/20/19</td>\n",
       "      <td>2/13/19</td>\n",
       "      <td>1/2/19</td>\n",
       "      <td>1/2/19</td>\n",
       "      <td>18.0</td>\n",
       "      <td>42.0</td>\n",
       "      <td>NaN</td>\n",
       "      <td>AVG</td>\n",
       "      <td>11.428571</td>\n",
       "      <td>13.000000</td>\n",
       "    </tr>\n",
       "    <tr>\n",
       "      <th>1011</th>\n",
       "      <td>1</td>\n",
       "      <td>12/18/18</td>\n",
       "      <td>7/9/19</td>\n",
       "      <td>12/27/18</td>\n",
       "      <td>6/12/19</td>\n",
       "      <td>-9.0</td>\n",
       "      <td>27.0</td>\n",
       "      <td>NaN</td>\n",
       "      <td>SD</td>\n",
       "      <td>11.271963</td>\n",
       "      <td>14.424681</td>\n",
       "    </tr>\n",
       "    <tr>\n",
       "      <th>1013</th>\n",
       "      <td>1</td>\n",
       "      <td>1/4/19</td>\n",
       "      <td>1/9/19</td>\n",
       "      <td>1/4/19</td>\n",
       "      <td>1/9/19</td>\n",
       "      <td>0.0</td>\n",
       "      <td>0.0</td>\n",
       "      <td>NaN</td>\n",
       "      <td>NaN</td>\n",
       "      <td>NaN</td>\n",
       "      <td>NaN</td>\n",
       "    </tr>\n",
       "    <tr>\n",
       "      <th>1017</th>\n",
       "      <td>1</td>\n",
       "      <td>3/5/19</td>\n",
       "      <td>3/27/19</td>\n",
       "      <td>2/26/19</td>\n",
       "      <td>3/18/19</td>\n",
       "      <td>7.0</td>\n",
       "      <td>9.0</td>\n",
       "      <td>NaN</td>\n",
       "      <td>NaN</td>\n",
       "      <td>NaN</td>\n",
       "      <td>NaN</td>\n",
       "    </tr>\n",
       "    <tr>\n",
       "      <th>1018</th>\n",
       "      <td>1</td>\n",
       "      <td>2/17/19</td>\n",
       "      <td>3/29/19</td>\n",
       "      <td>2/8/19</td>\n",
       "      <td>3/21/19</td>\n",
       "      <td>9.0</td>\n",
       "      <td>8.0</td>\n",
       "      <td>NaN</td>\n",
       "      <td>NaN</td>\n",
       "      <td>NaN</td>\n",
       "      <td>NaN</td>\n",
       "    </tr>\n",
       "  </tbody>\n",
       "</table>\n",
       "</div>"
      ],
      "text/plain": [
       "           BC (1) HC (0) Psych Assessment Day Stool Sample Day   \\\n",
       "Study ID                                                          \n",
       "1001                   1              1/20/19           2/13/19   \n",
       "1011                   1             12/18/18            7/9/19   \n",
       "1013                   1               1/4/19            1/9/19   \n",
       "1017                   1               3/5/19           3/27/19   \n",
       "1018                   1              2/17/19           3/29/19   \n",
       "\n",
       "          date closest to assessment date closest to stool   \\\n",
       "Study ID                                                      \n",
       "1001                          1/2/19                 1/2/19   \n",
       "1011                        12/27/18                6/12/19   \n",
       "1013                          1/4/19                 1/9/19   \n",
       "1017                         2/26/19                3/18/19   \n",
       "1018                          2/8/19                3/21/19   \n",
       "\n",
       "           Diff tx to psych Assess  Diff tx to Stool   Unnamed: 8 Unnamed: 9  \\\n",
       "Study ID                                                                       \n",
       "1001                          18.0               42.0         NaN       AVG    \n",
       "1011                          -9.0               27.0         NaN        SD    \n",
       "1013                           0.0                0.0         NaN        NaN   \n",
       "1017                           7.0                9.0         NaN        NaN   \n",
       "1018                           9.0                8.0         NaN        NaN   \n",
       "\n",
       "           Psych difference  stool difference  \n",
       "Study ID                                       \n",
       "1001              11.428571         13.000000  \n",
       "1011              11.271963         14.424681  \n",
       "1013                    NaN               NaN  \n",
       "1017                    NaN               NaN  \n",
       "1018                    NaN               NaN  "
      ]
     },
     "execution_count": 58,
     "metadata": {},
     "output_type": "execute_result"
    }
   ],
   "source": [
    "time_df.head()"
   ]
  },
  {
   "cell_type": "code",
   "execution_count": 100,
   "id": "fb4c214c",
   "metadata": {},
   "outputs": [
    {
     "data": {
      "text/plain": [
       "pandas.core.indexes.numeric.Int64Index"
      ]
     },
     "execution_count": 100,
     "metadata": {},
     "output_type": "execute_result"
    }
   ],
   "source": [
    "type(time_df.index)"
   ]
  },
  {
   "cell_type": "code",
   "execution_count": 59,
   "id": "d989d9fa",
   "metadata": {},
   "outputs": [],
   "source": [
    "faith_pd.index = faith_pd.index.astype(int)"
   ]
  },
  {
   "cell_type": "code",
   "execution_count": 67,
   "id": "46c5003d",
   "metadata": {},
   "outputs": [],
   "source": [
    "metadata[\"StudyID\"] = metadata[\"plate.sample.id\"].apply(lambda x: str(x).replace(\" \", \"\").split(\"-\")[0])\n",
    "metadata = metadata.set_index(metadata[\"StudyID\"].astype(int))"
   ]
  },
  {
   "cell_type": "code",
   "execution_count": 68,
   "id": "92764a96",
   "metadata": {},
   "outputs": [],
   "source": [
    "metadata[\"Time difference\"] = time_df[\"Diff tx to Stool \"]"
   ]
  },
  {
   "cell_type": "code",
   "execution_count": 69,
   "id": "f68805ae",
   "metadata": {},
   "outputs": [],
   "source": [
    "metadata = metadata[metadata[\"linkerprimersequence\"].isna()==False]"
   ]
  },
  {
   "cell_type": "code",
   "execution_count": 70,
   "id": "3055244a",
   "metadata": {},
   "outputs": [],
   "source": [
    "metadata = metadata.set_index(metadata[\"sampleid\"].astype(int))"
   ]
  },
  {
   "cell_type": "code",
   "execution_count": 90,
   "id": "fe827cae",
   "metadata": {},
   "outputs": [],
   "source": [
    "time_faith = pd.concat([metadata[\"Time difference\"], faith_pd], axis=1) "
   ]
  },
  {
   "cell_type": "markdown",
   "id": "2fb97fa7",
   "metadata": {},
   "source": [
    "#### Only grab the ones that aren't NA and where time diff is not negative"
   ]
  },
  {
   "cell_type": "code",
   "execution_count": 91,
   "id": "2e20e770",
   "metadata": {},
   "outputs": [],
   "source": [
    "time_faith.dropna(inplace=True)"
   ]
  },
  {
   "cell_type": "code",
   "execution_count": 92,
   "id": "36b3362b",
   "metadata": {},
   "outputs": [],
   "source": [
    "time_faith = time_faith[time_faith[\"Time difference\"]>=0]"
   ]
  },
  {
   "cell_type": "markdown",
   "id": "ad571965",
   "metadata": {},
   "source": [
    "#### Looks relatively normal"
   ]
  },
  {
   "cell_type": "code",
   "execution_count": 93,
   "id": "005e3328",
   "metadata": {},
   "outputs": [
    {
     "data": {
      "text/plain": [
       "<AxesSubplot:>"
      ]
     },
     "execution_count": 93,
     "metadata": {},
     "output_type": "execute_result"
    },
    {
     "data": {
      "image/png": "[encoded data removed]",
      "text/plain": [
       "<Figure size 432x288 with 1 Axes>"
      ]
     },
     "metadata": {
      "needs_background": "light"
     },
     "output_type": "display_data"
    }
   ],
   "source": [
    "time_faith[\"faith_pd\"].hist()"
   ]
  },
  {
   "cell_type": "markdown",
   "id": "ff078ba7",
   "metadata": {},
   "source": [
    "#### Looks slightly not linear, so I'll do spearman"
   ]
  },
  {
   "cell_type": "code",
   "execution_count": 162,
   "id": "f0b30b5d",
   "metadata": {},
   "outputs": [
    {
     "data": {
      "text/plain": [
       "<AxesSubplot:xlabel='Time difference', ylabel='faith_pd'>"
      ]
     },
     "execution_count": 162,
     "metadata": {},
     "output_type": "execute_result"
    },
    {
     "data": {
      "image/png": "[encoded data removed]",
      "text/plain": [
       "<Figure size 432x288 with 1 Axes>"
      ]
     },
     "metadata": {
      "needs_background": "light"
     },
     "output_type": "display_data"
    }
   ],
   "source": [
    "sns.scatterplot(y=\"faith_pd\",\n",
    "                x=\"Time difference\",\n",
    "                data=time_faith,\n",
    "                s=50)"
   ]
  },
  {
   "cell_type": "code",
   "execution_count": 96,
   "id": "a49c3f61",
   "metadata": {},
   "outputs": [
    {
     "data": {
      "text/plain": [
       "SpearmanrResult(correlation=0.5909090909090909, pvalue=0.05557560428877463)"
      ]
     },
     "execution_count": 96,
     "metadata": {},
     "output_type": "execute_result"
    }
   ],
   "source": [
    "spearmanr(time_faith[\"faith_pd\"],\n",
    "          time_faith[\"Time difference\"])"
   ]
  },
  {
   "cell_type": "markdown",
   "id": "0fda0919",
   "metadata": {},
   "source": [
    "## Psych boxplots"
   ]
  },
  {
   "cell_type": "code",
   "execution_count": 114,
   "id": "1a034761",
   "metadata": {},
   "outputs": [],
   "source": [
    "mapper = {\"1 - Yes\": \"Breast Cancer\", \"2 - No\": \"Healthy Control\"}\n",
    "\n",
    "metadata[\"Chemotherapy\"] = metadata[\"hcvsbc-cat\"].apply(lambda x: mapper[x])"
   ]
  },
  {
   "cell_type": "code",
   "execution_count": 119,
   "id": "137b5608",
   "metadata": {},
   "outputs": [],
   "source": [
    "melted_demo = pd.melt(metadata[[\"age\",\"cesd_total\", \"fact_c_total\", \"Chemotherapy\"]],\n",
    "                       id_vars=\"Chemotherapy\")"
   ]
  },
  {
   "cell_type": "code",
   "execution_count": 130,
   "id": "f89679b8",
   "metadata": {},
   "outputs": [
    {
     "data": {
      "text/html": [
       "<div>\n",
       "<style scoped>\n",
       "    .dataframe tbody tr th:only-of-type {\n",
       "        vertical-align: middle;\n",
       "    }\n",
       "\n",
       "    .dataframe tbody tr th {\n",
       "        vertical-align: top;\n",
       "    }\n",
       "\n",
       "    .dataframe thead th {\n",
       "        text-align: right;\n",
       "    }\n",
       "</style>\n",
       "<table border=\"1\" class=\"dataframe\">\n",
       "  <thead>\n",
       "    <tr style=\"text-align: right;\">\n",
       "      <th></th>\n",
       "      <th>Chemotherapy</th>\n",
       "      <th>variable</th>\n",
       "      <th>value</th>\n",
       "    </tr>\n",
       "  </thead>\n",
       "  <tbody>\n",
       "    <tr>\n",
       "      <th>0</th>\n",
       "      <td>Breast Cancer</td>\n",
       "      <td>age</td>\n",
       "      <td>35.0</td>\n",
       "    </tr>\n",
       "    <tr>\n",
       "      <th>1</th>\n",
       "      <td>Healthy Control</td>\n",
       "      <td>age</td>\n",
       "      <td>24.0</td>\n",
       "    </tr>\n",
       "    <tr>\n",
       "      <th>2</th>\n",
       "      <td>Healthy Control</td>\n",
       "      <td>age</td>\n",
       "      <td>36.0</td>\n",
       "    </tr>\n",
       "    <tr>\n",
       "      <th>3</th>\n",
       "      <td>Healthy Control</td>\n",
       "      <td>age</td>\n",
       "      <td>19.0</td>\n",
       "    </tr>\n",
       "    <tr>\n",
       "      <th>4</th>\n",
       "      <td>Healthy Control</td>\n",
       "      <td>age</td>\n",
       "      <td>21.0</td>\n",
       "    </tr>\n",
       "  </tbody>\n",
       "</table>\n",
       "</div>"
      ],
      "text/plain": [
       "      Chemotherapy variable  value\n",
       "0    Breast Cancer      age   35.0\n",
       "1  Healthy Control      age   24.0\n",
       "2  Healthy Control      age   36.0\n",
       "3  Healthy Control      age   19.0\n",
       "4  Healthy Control      age   21.0"
      ]
     },
     "execution_count": 130,
     "metadata": {},
     "output_type": "execute_result"
    }
   ],
   "source": [
    "melted_demo.head()"
   ]
  },
  {
   "cell_type": "code",
   "execution_count": 148,
   "id": "4f74a2d3",
   "metadata": {},
   "outputs": [
    {
     "data": {
      "image/png": "[encoded data removed]",
      "text/plain": [
       "<Figure size 1080x360 with 3 Axes>"
      ]
     },
     "metadata": {
      "needs_background": "light"
     },
     "output_type": "display_data"
    }
   ],
   "source": [
    "g = sns.catplot(x=\"Chemotherapy\",\n",
    "            y=\"value\",\n",
    "            data=melted_demo,\n",
    "            col=\"variable\",\n",
    "            kind=\"box\",\n",
    "            sharey=False)\n",
    "\n",
    "g.axes.flatten()[0].set_ylabel(\"Age\")\n",
    "g.axes.flatten()[1].set_ylabel(\"CES-D Total\")\n",
    "g.axes.flatten()[2].set_ylabel(\"Fact-Cog Total\")\n",
    "\n",
    "for ax in g.axes.flatten():\n",
    "    ax.set_title(\"\")\n",
    "    ax.set_ylim(0,)"
   ]
  },
  {
   "cell_type": "code",
   "execution_count": 159,
   "id": "c3bdd353",
   "metadata": {},
   "outputs": [
    {
     "data": {
      "image/png": "[encoded data removed]",
      "text/plain": [
       "<Figure size 1080x360 with 3 Axes>"
      ]
     },
     "metadata": {
      "needs_background": "light"
     },
     "output_type": "display_data"
    }
   ],
   "source": [
    "g = sns.catplot(x=\"Chemotherapy\",\n",
    "            y=\"value\",\n",
    "            data=melted_demo,\n",
    "            col=\"variable\",\n",
    "            s=10,\n",
    "            sharey=False)\n",
    "\n",
    "g.axes.flatten()[0].set_ylabel(\"Age\")\n",
    "g.axes.flatten()[1].set_ylabel(\"CES-D Total\")\n",
    "g.axes.flatten()[2].set_ylabel(\"Fact-Cog Total\")\n",
    "\n",
    "for ax in g.axes.flatten():\n",
    "    ax.set_title(\"\")\n",
    "    ax.set_ylim(0,)"
   ]
  },
  {
   "cell_type": "markdown",
   "id": "e1507dac",
   "metadata": {},
   "source": [
    "## *Akkermansia* plots"
   ]
  },
  {
   "cell_type": "code",
   "execution_count": 200,
   "id": "78007693",
   "metadata": {},
   "outputs": [],
   "source": [
    "tax_table = Artifact.load(\"tax-L6-table.qza\").view(pd.DataFrame)"
   ]
  },
  {
   "cell_type": "code",
   "execution_count": 201,
   "id": "7e76804e",
   "metadata": {},
   "outputs": [],
   "source": [
    "tax_mat = np.matrix(tax_table)\n",
    "tax_mat /= np.sum(tax_mat, axis=1)\n",
    "tax_table = pd.DataFrame(tax_mat, \n",
    "                         index=[int(ind) for ind in tax_table.index], \n",
    "                         columns=tax_table.columns)"
   ]
  },
  {
   "cell_type": "code",
   "execution_count": 202,
   "id": "231232cf",
   "metadata": {},
   "outputs": [],
   "source": [
    "akkermansia = [col for col in tax_table.columns if \"Akkermansia\" in col]"
   ]
  },
  {
   "cell_type": "code",
   "execution_count": 204,
   "id": "876a8348",
   "metadata": {},
   "outputs": [],
   "source": [
    "akkermansia_chemo = pd.concat([tax_table[akkermansia],\n",
    "                               metadata[\"Chemotherapy\"]],\n",
    "                              axis=1).dropna()"
   ]
  },
  {
   "cell_type": "code",
   "execution_count": 208,
   "id": "b67d3d12",
   "metadata": {},
   "outputs": [
    {
     "data": {
      "text/plain": [
       "Text(0, 0.5, 'Akkermansia relative abundance')"
      ]
     },
     "execution_count": 208,
     "metadata": {},
     "output_type": "execute_result"
    },
    {
     "data": {
      "image/png": "[encoded data removed]",
      "text/plain": [
       "<Figure size 432x288 with 1 Axes>"
      ]
     },
     "metadata": {
      "needs_background": "light"
     },
     "output_type": "display_data"
    }
   ],
   "source": [
    "p = sns.boxplot(x=\"Chemotherapy\",\n",
    "                y=akkermansia[0],\n",
    "                data=akkermansia_chemo)\n",
    "p.set_ylabel(\"Akkermansia relative abundance\")"
   ]
  },
  {
   "cell_type": "code",
   "execution_count": 210,
   "id": "894eeb19",
   "metadata": {},
   "outputs": [],
   "source": [
    "akkermansia_time = pd.concat([tax_table[akkermansia],\n",
    "                               metadata[\"Time difference\"]],\n",
    "                              axis=1).dropna()\n",
    "akkermansia_time = akkermansia_time[akkermansia_time[\"Time difference\"] >= 0]"
   ]
  },
  {
   "cell_type": "code",
   "execution_count": 213,
   "id": "31a74e4c",
   "metadata": {},
   "outputs": [
    {
     "data": {
      "text/plain": [
       "Text(0, 0.5, 'Akkermansia relative abundance')"
      ]
     },
     "execution_count": 213,
     "metadata": {},
     "output_type": "execute_result"
    },
    {
     "data": {
      "image/png": "[encoded data removed]",
      "text/plain": [
       "<Figure size 432x288 with 1 Axes>"
      ]
     },
     "metadata": {
      "needs_background": "light"
     },
     "output_type": "display_data"
    }
   ],
   "source": [
    "p = sns.scatterplot(x=\"Time difference\",\n",
    "                y=akkermansia[0],\n",
    "                data=akkermansia_time)\n",
    "p.set_ylabel(\"Akkermansia relative abundance\")"
   ]
  },
  {
   "cell_type": "code",
   "execution_count": 214,
   "id": "efd6ecc9",
   "metadata": {},
   "outputs": [
    {
     "data": {
      "text/plain": [
       "SpearmanrResult(correlation=0.21869328378394914, pvalue=0.47286762074199706)"
      ]
     },
     "execution_count": 214,
     "metadata": {},
     "output_type": "execute_result"
    }
   ],
   "source": [
    "spearmanr(akkermansia_time[\"Time difference\"],\n",
    "          akkermansia_time[akkermansia[0]])"
   ]
  },
  {
   "cell_type": "markdown",
   "id": "87e0b359",
   "metadata": {},
   "source": [
    "## Depression alpha diversity"
   ]
  },
  {
   "cell_type": "code",
   "execution_count": 220,
   "id": "4e4c592f",
   "metadata": {},
   "outputs": [],
   "source": [
    "chemo_cesd_faith = pd.concat([metadata[[\"cesd_total_categorical\", \"Chemotherapy\"]],\n",
    "                              faith_pd], \n",
    "                             axis=1).dropna()"
   ]
  },
  {
   "cell_type": "code",
   "execution_count": 230,
   "id": "f032de0a",
   "metadata": {},
   "outputs": [
    {
     "data": {
      "text/plain": [
       "<AxesSubplot:xlabel='Chemotherapy', ylabel='faith_pd'>"
      ]
     },
     "execution_count": 230,
     "metadata": {},
     "output_type": "execute_result"
    },
    {
     "data": {
      "image/png": "[encoded data removed]",
      "text/plain": [
       "<Figure size 432x288 with 1 Axes>"
      ]
     },
     "metadata": {
      "needs_background": "light"
     },
     "output_type": "display_data"
    }
   ],
   "source": [
    "sns.scatterplot(y=\"faith_pd\",\n",
    "            x=\"Chemotherapy\",\n",
    "            hue=\"cesd_total_categorical\",\n",
    "            data=chemo_cesd_faith,\n",
    "            x_jitter=10)"
   ]
  },
  {
   "cell_type": "markdown",
   "id": "d3aea387",
   "metadata": {},
   "source": [
    "## PERMDISP"
   ]
  },
  {
   "cell_type": "code",
   "execution_count": 246,
   "id": "1cc618fb",
   "metadata": {},
   "outputs": [
    {
     "name": "stdout",
     "output_type": "stream",
     "text": [
      "\u001b[32mSaved FeatureTable[Frequency] to: core-diversity-results-noNA/rarefied_table.qza\u001b[0m\n",
      "\u001b[32mSaved SampleData[AlphaDiversity] to: core-diversity-results-noNA/faith_pd_vector.qza\u001b[0m\n",
      "\u001b[32mSaved SampleData[AlphaDiversity] to: core-diversity-results-noNA/observed_features_vector.qza\u001b[0m\n",
      "\u001b[32mSaved SampleData[AlphaDiversity] to: core-diversity-results-noNA/shannon_vector.qza\u001b[0m\n",
      "\u001b[32mSaved SampleData[AlphaDiversity] to: core-diversity-results-noNA/evenness_vector.qza\u001b[0m\n",
      "\u001b[32mSaved DistanceMatrix to: core-diversity-results-noNA/unweighted_unifrac_distance_matrix.qza\u001b[0m\n",
      "\u001b[32mSaved DistanceMatrix to: core-diversity-results-noNA/weighted_unifrac_distance_matrix.qza\u001b[0m\n",
      "\u001b[32mSaved DistanceMatrix to: core-diversity-results-noNA/jaccard_distance_matrix.qza\u001b[0m\n",
      "\u001b[32mSaved DistanceMatrix to: core-diversity-results-noNA/bray_curtis_distance_matrix.qza\u001b[0m\n",
      "\u001b[32mSaved PCoAResults to: core-diversity-results-noNA/unweighted_unifrac_pcoa_results.qza\u001b[0m\n",
      "\u001b[32mSaved PCoAResults to: core-diversity-results-noNA/weighted_unifrac_pcoa_results.qza\u001b[0m\n",
      "\u001b[32mSaved PCoAResults to: core-diversity-results-noNA/jaccard_pcoa_results.qza\u001b[0m\n",
      "\u001b[32mSaved PCoAResults to: core-diversity-results-noNA/bray_curtis_pcoa_results.qza\u001b[0m\n",
      "\u001b[32mSaved Visualization to: core-diversity-results-noNA/unweighted_unifrac_emperor.qzv\u001b[0m\n",
      "\u001b[32mSaved Visualization to: core-diversity-results-noNA/weighted_unifrac_emperor.qzv\u001b[0m\n",
      "\u001b[32mSaved Visualization to: core-diversity-results-noNA/jaccard_emperor.qzv\u001b[0m\n",
      "\u001b[32mSaved Visualization to: core-diversity-results-noNA/bray_curtis_emperor.qzv\u001b[0m\n"
     ]
    }
   ],
   "source": [
    "! qiime diversity core-metrics-phylogenetic \\\n",
    "--i-table table_noNA.qza \\\n",
    "--i-phylogeny insertion-tree.qza \\\n",
    "--p-sampling-depth 13100 \\\n",
    "--m-metadata-file Categorical-meta-noNA.tsv \\\n",
    "--output-dir core-diversity-results-noNA"
   ]
  },
  {
   "cell_type": "code",
   "execution_count": 247,
   "id": "172fcdc0",
   "metadata": {},
   "outputs": [
    {
     "name": "stdout",
     "output_type": "stream",
     "text": [
      "\u001b[32mSaved Visualization to: core-diversity-results-noNA/permdisp_hcvsbc_ununi.qza.qzv\u001b[0m\r\n"
     ]
    }
   ],
   "source": [
    "! qiime diversity beta-group-significance \\\n",
    "--i-distance-matrix core-diversity-results-noNA/unweighted_unifrac_distance_matrix.qza \\\n",
    "--m-metadata-file Categorical-meta-noNA.tsv \\\n",
    "--m-metadata-column hcvsbc-cat \\\n",
    "--p-method permdisp \\\n",
    "--o-visualization core-diversity-results-noNA/permdisp_hcvsbc_ununi.qzv"
   ]
  },
  {
   "cell_type": "markdown",
   "id": "beae882a",
   "metadata": {},
   "source": [
    "#### Unweighted Unifrac\n",
    "#### F value\t2.06044\n",
    "#### p-value\t0.158"
   ]
  },
  {
   "cell_type": "code",
   "execution_count": 251,
   "id": "b958b0cb",
   "metadata": {},
   "outputs": [
    {
     "name": "stdout",
     "output_type": "stream",
     "text": [
      "\u001b[32mSaved Visualization to: core-diversity-results-noNA/permdisp_hcvsbc_wuni.qzv\u001b[0m\r\n"
     ]
    }
   ],
   "source": [
    "! qiime diversity beta-group-significance \\\n",
    "--i-distance-matrix core-diversity-results-noNA/weighted_unifrac_distance_matrix.qza \\\n",
    "--m-metadata-file Categorical-meta-noNA.tsv \\\n",
    "--m-metadata-column hcvsbc-cat \\\n",
    "--p-method permdisp \\\n",
    "--o-visualization core-diversity-results-noNA/permdisp_hcvsbc_wuni.qzv"
   ]
  },
  {
   "cell_type": "markdown",
   "id": "2f9a1baa",
   "metadata": {},
   "source": [
    "#### Weighted UniFrac\n",
    "#### test statistic\t1.22936\n",
    "#### p-value\t0.253"
   ]
  },
  {
   "cell_type": "code",
   "execution_count": null,
   "id": "c5b0bb30",
   "metadata": {},
   "outputs": [],
   "source": []
  }
 ],
 "metadata": {
  "kernelspec": {
   "display_name": "Python 3",
   "language": "python",
   "name": "python3"
  },
  "language_info": {
   "codemirror_mode": {
    "name": "ipython",
    "version": 3
   },
   "file_extension": ".py",
   "mimetype": "text/x-python",
   "name": "python",
   "nbconvert_exporter": "python",
   "pygments_lexer": "ipython3",
   "version": "3.8.8"
  }
 },
 "nbformat": 4,
 "nbformat_minor": 5
}
