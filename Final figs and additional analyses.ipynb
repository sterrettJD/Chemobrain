{
 "cells": [
  {
   "cell_type": "markdown",
   "metadata": {},
   "source": [
    "- time from chemo\n",
    "\n",
    "- boxplots\n",
    "  - age\n",
    "  - cesd\n",
    "  - fact-cog\n",
    "  - remake akkermansia\n",
    "- within group beta div\n",
    "  - boxplot\n",
    "  - stat testing?\n",
    "- taxa barplot\n",
    "- alpha div depression stats testing"
   ]
  },
  {
   "cell_type": "code",
   "execution_count": 1,
   "metadata": {},
   "outputs": [
    {
     "name": "stdout",
     "output_type": "stream",
     "text": [
      "/Users/johnsterrett/Research-Projects/Boulder/Chemobrain/200608_Elsayed_Lowry-1101\n"
     ]
    }
   ],
   "source": [
    "%cd /Users/johnsterrett/Research-Projects/Boulder/Chemobrain/200608_Elsayed_Lowry-1101/"
   ]
  },
  {
   "cell_type": "code",
   "execution_count": 2,
   "metadata": {},
   "outputs": [],
   "source": [
    "import pandas as pd\n",
    "import numpy as np\n",
    "from qiime2 import Artifact, Visualization\n",
    "import matplotlib.pyplot as plt\n",
    "import seaborn as sns\n",
    "from scipy.stats import spearmanr, kruskal\n",
    "from scipy.optimize import curve_fit\n",
    "%matplotlib inline"
   ]
  },
  {
   "cell_type": "markdown",
   "metadata": {},
   "source": [
    "## Time from Chemo\n",
    "\n",
    "#### Loading up, cleaning data"
   ]
  },
  {
   "cell_type": "code",
   "execution_count": 63,
   "metadata": {},
   "outputs": [],
   "source": [
    "faith_pd = Artifact.load(\"core-diversity-results/faith_pd_vector.qza\").view(pd.Series)\n",
    "time_df = pd.read_csv(\"time-difference.txt\", sep=\"\\t\", index_col=\"Study ID \")\n",
    "metadata = pd.read_csv(\"Categorical-meta-noNA.tsv\", sep=\"\\t\")"
   ]
  },
  {
   "cell_type": "code",
   "execution_count": 64,
   "metadata": {
    "scrolled": true
   },
   "outputs": [
    {
     "data": {
      "text/html": [
       "<div>\n",
       "<style scoped>\n",
       "    .dataframe tbody tr th:only-of-type {\n",
       "        vertical-align: middle;\n",
       "    }\n",
       "\n",
       "    .dataframe tbody tr th {\n",
       "        vertical-align: top;\n",
       "    }\n",
       "\n",
       "    .dataframe thead th {\n",
       "        text-align: right;\n",
       "    }\n",
       "</style>\n",
       "<table border=\"1\" class=\"dataframe\">\n",
       "  <thead>\n",
       "    <tr style=\"text-align: right;\">\n",
       "      <th></th>\n",
       "      <th>BC (1) HC (0)</th>\n",
       "      <th>Psych Assessment Day</th>\n",
       "      <th>Stool Sample Day</th>\n",
       "      <th>date closest to assessment</th>\n",
       "      <th>date closest to stool</th>\n",
       "      <th>Diff tx to psych Assess</th>\n",
       "      <th>Diff tx to Stool</th>\n",
       "      <th>Unnamed: 8</th>\n",
       "      <th>Unnamed: 9</th>\n",
       "      <th>Psych difference</th>\n",
       "      <th>stool difference</th>\n",
       "    </tr>\n",
       "    <tr>\n",
       "      <th>Study ID</th>\n",
       "      <th></th>\n",
       "      <th></th>\n",
       "      <th></th>\n",
       "      <th></th>\n",
       "      <th></th>\n",
       "      <th></th>\n",
       "      <th></th>\n",
       "      <th></th>\n",
       "      <th></th>\n",
       "      <th></th>\n",
       "      <th></th>\n",
       "    </tr>\n",
       "  </thead>\n",
       "  <tbody>\n",
       "    <tr>\n",
       "      <th>1001</th>\n",
       "      <td>1</td>\n",
       "      <td>1/20/19</td>\n",
       "      <td>2/13/19</td>\n",
       "      <td>1/2/19</td>\n",
       "      <td>1/2/19</td>\n",
       "      <td>18.0</td>\n",
       "      <td>42.0</td>\n",
       "      <td>NaN</td>\n",
       "      <td>AVG</td>\n",
       "      <td>11.428571</td>\n",
       "      <td>13.000000</td>\n",
       "    </tr>\n",
       "    <tr>\n",
       "      <th>1011</th>\n",
       "      <td>1</td>\n",
       "      <td>12/18/18</td>\n",
       "      <td>7/9/19</td>\n",
       "      <td>12/27/18</td>\n",
       "      <td>6/12/19</td>\n",
       "      <td>-9.0</td>\n",
       "      <td>27.0</td>\n",
       "      <td>NaN</td>\n",
       "      <td>SD</td>\n",
       "      <td>11.271963</td>\n",
       "      <td>14.424681</td>\n",
       "    </tr>\n",
       "    <tr>\n",
       "      <th>1013</th>\n",
       "      <td>1</td>\n",
       "      <td>1/4/19</td>\n",
       "      <td>1/9/19</td>\n",
       "      <td>1/4/19</td>\n",
       "      <td>1/9/19</td>\n",
       "      <td>0.0</td>\n",
       "      <td>0.0</td>\n",
       "      <td>NaN</td>\n",
       "      <td>NaN</td>\n",
       "      <td>NaN</td>\n",
       "      <td>NaN</td>\n",
       "    </tr>\n",
       "    <tr>\n",
       "      <th>1017</th>\n",
       "      <td>1</td>\n",
       "      <td>3/5/19</td>\n",
       "      <td>3/27/19</td>\n",
       "      <td>2/26/19</td>\n",
       "      <td>3/18/19</td>\n",
       "      <td>7.0</td>\n",
       "      <td>9.0</td>\n",
       "      <td>NaN</td>\n",
       "      <td>NaN</td>\n",
       "      <td>NaN</td>\n",
       "      <td>NaN</td>\n",
       "    </tr>\n",
       "    <tr>\n",
       "      <th>1018</th>\n",
       "      <td>1</td>\n",
       "      <td>2/17/19</td>\n",
       "      <td>3/29/19</td>\n",
       "      <td>2/8/19</td>\n",
       "      <td>3/21/19</td>\n",
       "      <td>9.0</td>\n",
       "      <td>8.0</td>\n",
       "      <td>NaN</td>\n",
       "      <td>NaN</td>\n",
       "      <td>NaN</td>\n",
       "      <td>NaN</td>\n",
       "    </tr>\n",
       "  </tbody>\n",
       "</table>\n",
       "</div>"
      ],
      "text/plain": [
       "           BC (1) HC (0) Psych Assessment Day Stool Sample Day   \\\n",
       "Study ID                                                          \n",
       "1001                   1              1/20/19           2/13/19   \n",
       "1011                   1             12/18/18            7/9/19   \n",
       "1013                   1               1/4/19            1/9/19   \n",
       "1017                   1               3/5/19           3/27/19   \n",
       "1018                   1              2/17/19           3/29/19   \n",
       "\n",
       "          date closest to assessment date closest to stool   \\\n",
       "Study ID                                                      \n",
       "1001                          1/2/19                 1/2/19   \n",
       "1011                        12/27/18                6/12/19   \n",
       "1013                          1/4/19                 1/9/19   \n",
       "1017                         2/26/19                3/18/19   \n",
       "1018                          2/8/19                3/21/19   \n",
       "\n",
       "           Diff tx to psych Assess  Diff tx to Stool   Unnamed: 8 Unnamed: 9  \\\n",
       "Study ID                                                                       \n",
       "1001                          18.0               42.0         NaN       AVG    \n",
       "1011                          -9.0               27.0         NaN        SD    \n",
       "1013                           0.0                0.0         NaN        NaN   \n",
       "1017                           7.0                9.0         NaN        NaN   \n",
       "1018                           9.0                8.0         NaN        NaN   \n",
       "\n",
       "           Psych difference  stool difference  \n",
       "Study ID                                       \n",
       "1001              11.428571         13.000000  \n",
       "1011              11.271963         14.424681  \n",
       "1013                    NaN               NaN  \n",
       "1017                    NaN               NaN  \n",
       "1018                    NaN               NaN  "
      ]
     },
     "execution_count": 64,
     "metadata": {},
     "output_type": "execute_result"
    }
   ],
   "source": [
    "time_df.head()"
   ]
  },
  {
   "cell_type": "code",
   "execution_count": 65,
   "metadata": {},
   "outputs": [
    {
     "data": {
      "text/plain": [
       "pandas.core.indexes.numeric.Int64Index"
      ]
     },
     "execution_count": 65,
     "metadata": {},
     "output_type": "execute_result"
    }
   ],
   "source": [
    "type(time_df.index)"
   ]
  },
  {
   "cell_type": "code",
   "execution_count": 66,
   "metadata": {},
   "outputs": [],
   "source": [
    "faith_pd.index = faith_pd.index.astype(int)"
   ]
  },
  {
   "cell_type": "code",
   "execution_count": 67,
   "metadata": {},
   "outputs": [],
   "source": [
    "metadata = metadata.iloc[:33]\n",
    "metadata[\"StudyID\"] = metadata[\"plate.sample.id\"].apply(lambda x: str(x).replace(\" \", \"\").split(\"-\")[0])\n",
    "metadata = metadata.set_index(metadata[\"StudyID\"].astype(int))"
   ]
  },
  {
   "cell_type": "code",
   "execution_count": 68,
   "metadata": {},
   "outputs": [],
   "source": [
    "metadata[\"Time difference\"] = time_df[\"Diff tx to Stool \"]"
   ]
  },
  {
   "cell_type": "code",
   "execution_count": 69,
   "metadata": {},
   "outputs": [],
   "source": [
    "metadata = metadata[metadata[\"linkerprimersequence\"].isna()==False]"
   ]
  },
  {
   "cell_type": "code",
   "execution_count": 70,
   "metadata": {},
   "outputs": [],
   "source": [
    "metadata = metadata.set_index(metadata[\"sampleid\"].astype(int))"
   ]
  },
  {
   "cell_type": "code",
   "execution_count": 71,
   "metadata": {},
   "outputs": [],
   "source": [
    "mapper = {\"1 - Yes\": \"Breast Cancer\", \"2 - No\": \"Healthy Control\"}\n",
    "\n",
    "metadata[\"Chemotherapy\"] = metadata[\"hcvsbc-cat\"].apply(lambda x: mapper[x])"
   ]
  },
  {
   "cell_type": "code",
   "execution_count": 72,
   "metadata": {},
   "outputs": [],
   "source": [
    "time_faith = pd.concat([metadata[[\"Time difference\",\"Chemotherapy\"]], faith_pd], axis=1) "
   ]
  },
  {
   "cell_type": "markdown",
   "metadata": {},
   "source": [
    "#### Only grab the ones that aren't NA and where time diff is not negative"
   ]
  },
  {
   "cell_type": "code",
   "execution_count": 73,
   "metadata": {},
   "outputs": [],
   "source": [
    "time_faith = time_faith[time_faith[\"Chemotherapy\"].isna()==False]"
   ]
  },
  {
   "cell_type": "code",
   "execution_count": 74,
   "metadata": {},
   "outputs": [],
   "source": [
    "time_faith = time_faith[(time_faith[\"Time difference\"]>=0) | \n",
    "                        ((time_faith[\"Time difference\"].isna()) & (time_faith[\"Chemotherapy\"]==\"Healthy Control\"))]"
   ]
  },
  {
   "cell_type": "code",
   "execution_count": 75,
   "metadata": {},
   "outputs": [],
   "source": [
    "time_faith[\"Time difference\"] = time_faith[\"Time difference\"].fillna(0)"
   ]
  },
  {
   "cell_type": "markdown",
   "metadata": {},
   "source": [
    "#### Not very normal looking"
   ]
  },
  {
   "cell_type": "code",
   "execution_count": 76,
   "metadata": {},
   "outputs": [
    {
     "data": {
      "text/plain": [
       "<matplotlib.axes._subplots.AxesSubplot at 0x7f9ea11d0390>"
      ]
     },
     "execution_count": 76,
     "metadata": {},
     "output_type": "execute_result"
    },
    {
     "data": {
      "image/png": "[encoded data removed]",
      "text/plain": [
       "<Figure size 432x288 with 1 Axes>"
      ]
     },
     "metadata": {
      "needs_background": "light"
     },
     "output_type": "display_data"
    }
   ],
   "source": [
    "time_faith[\"faith_pd\"].hist()"
   ]
  },
  {
   "cell_type": "code",
   "execution_count": 77,
   "metadata": {},
   "outputs": [
    {
     "data": {
      "image/png": "[encoded data removed]",
      "text/plain": [
       "<Figure size 432x288 with 1 Axes>"
      ]
     },
     "metadata": {
      "needs_background": "light"
     },
     "output_type": "display_data"
    }
   ],
   "source": [
    "sns.scatterplot(y=\"faith_pd\",\n",
    "                x=\"Time difference\",\n",
    "                hue=\"Chemotherapy\",\n",
    "                data=time_faith,\n",
    "                x_jitter=True,\n",
    "                s=50)\n",
    "plt.show()"
   ]
  },
  {
   "cell_type": "code",
   "execution_count": 78,
   "metadata": {},
   "outputs": [
    {
     "data": {
      "image/png": "[encoded data removed]",
      "text/plain": [
       "<Figure size 432x288 with 1 Axes>"
      ]
     },
     "metadata": {
      "needs_background": "light"
     },
     "output_type": "display_data"
    }
   ],
   "source": [
    "ax = sns.scatterplot(y=\"faith_pd\",\n",
    "                    x=\"Time difference\",\n",
    "                    data=time_faith[time_faith[\"Chemotherapy\"]==\"Breast Cancer\"],\n",
    "                    x_jitter=True,\n",
    "                    s=50)\n",
    "ax.axhline(time_faith.loc[time_faith[\"Chemotherapy\"]==\"Healthy Control\",\"faith_pd\"].mean(),c=\"tab:orange\")\n",
    "plt.show()"
   ]
  },
  {
   "cell_type": "code",
   "execution_count": 79,
   "metadata": {},
   "outputs": [
    {
     "data": {
      "text/plain": [
       "SpearmanrResult(correlation=0.5909090909090909, pvalue=0.05557560428877463)"
      ]
     },
     "execution_count": 79,
     "metadata": {},
     "output_type": "execute_result"
    }
   ],
   "source": [
    "time_faith_bc = time_faith[time_faith[\"Chemotherapy\"]==\"Breast Cancer\"].dropna()\n",
    "\n",
    "spearmanr(time_faith_bc[\"faith_pd\"],\n",
    "          time_faith_bc[\"Time difference\"])"
   ]
  },
  {
   "cell_type": "code",
   "execution_count": 80,
   "metadata": {},
   "outputs": [
    {
     "data": {
      "text/html": [
       "<div>\n",
       "<style scoped>\n",
       "    .dataframe tbody tr th:only-of-type {\n",
       "        vertical-align: middle;\n",
       "    }\n",
       "\n",
       "    .dataframe tbody tr th {\n",
       "        vertical-align: top;\n",
       "    }\n",
       "\n",
       "    .dataframe thead th {\n",
       "        text-align: right;\n",
       "    }\n",
       "</style>\n",
       "<table border=\"1\" class=\"dataframe\">\n",
       "  <thead>\n",
       "    <tr style=\"text-align: right;\">\n",
       "      <th></th>\n",
       "      <th>Time difference</th>\n",
       "      <th>Chemotherapy</th>\n",
       "      <th>faith_pd</th>\n",
       "    </tr>\n",
       "  </thead>\n",
       "  <tbody>\n",
       "    <tr>\n",
       "      <th>1</th>\n",
       "      <td>42.0</td>\n",
       "      <td>Breast Cancer</td>\n",
       "      <td>NaN</td>\n",
       "    </tr>\n",
       "    <tr>\n",
       "      <th>3</th>\n",
       "      <td>0.0</td>\n",
       "      <td>Healthy Control</td>\n",
       "      <td>39.137351</td>\n",
       "    </tr>\n",
       "    <tr>\n",
       "      <th>4</th>\n",
       "      <td>0.0</td>\n",
       "      <td>Healthy Control</td>\n",
       "      <td>83.452385</td>\n",
       "    </tr>\n",
       "    <tr>\n",
       "      <th>6</th>\n",
       "      <td>0.0</td>\n",
       "      <td>Healthy Control</td>\n",
       "      <td>45.691895</td>\n",
       "    </tr>\n",
       "    <tr>\n",
       "      <th>8</th>\n",
       "      <td>0.0</td>\n",
       "      <td>Healthy Control</td>\n",
       "      <td>31.343711</td>\n",
       "    </tr>\n",
       "    <tr>\n",
       "      <th>10</th>\n",
       "      <td>0.0</td>\n",
       "      <td>Healthy Control</td>\n",
       "      <td>67.279588</td>\n",
       "    </tr>\n",
       "    <tr>\n",
       "      <th>12</th>\n",
       "      <td>0.0</td>\n",
       "      <td>Healthy Control</td>\n",
       "      <td>40.645350</td>\n",
       "    </tr>\n",
       "    <tr>\n",
       "      <th>14</th>\n",
       "      <td>27.0</td>\n",
       "      <td>Breast Cancer</td>\n",
       "      <td>69.714897</td>\n",
       "    </tr>\n",
       "    <tr>\n",
       "      <th>15</th>\n",
       "      <td>0.0</td>\n",
       "      <td>Healthy Control</td>\n",
       "      <td>88.562366</td>\n",
       "    </tr>\n",
       "    <tr>\n",
       "      <th>17</th>\n",
       "      <td>0.0</td>\n",
       "      <td>Breast Cancer</td>\n",
       "      <td>37.002279</td>\n",
       "    </tr>\n",
       "    <tr>\n",
       "      <th>19</th>\n",
       "      <td>0.0</td>\n",
       "      <td>Healthy Control</td>\n",
       "      <td>73.347141</td>\n",
       "    </tr>\n",
       "    <tr>\n",
       "      <th>21</th>\n",
       "      <td>9.0</td>\n",
       "      <td>Breast Cancer</td>\n",
       "      <td>62.366110</td>\n",
       "    </tr>\n",
       "    <tr>\n",
       "      <th>22</th>\n",
       "      <td>8.0</td>\n",
       "      <td>Breast Cancer</td>\n",
       "      <td>36.451233</td>\n",
       "    </tr>\n",
       "    <tr>\n",
       "      <th>25</th>\n",
       "      <td>5.0</td>\n",
       "      <td>Breast Cancer</td>\n",
       "      <td>50.765868</td>\n",
       "    </tr>\n",
       "    <tr>\n",
       "      <th>26</th>\n",
       "      <td>0.0</td>\n",
       "      <td>Healthy Control</td>\n",
       "      <td>83.378292</td>\n",
       "    </tr>\n",
       "    <tr>\n",
       "      <th>29</th>\n",
       "      <td>7.0</td>\n",
       "      <td>Breast Cancer</td>\n",
       "      <td>48.526147</td>\n",
       "    </tr>\n",
       "    <tr>\n",
       "      <th>30</th>\n",
       "      <td>10.0</td>\n",
       "      <td>Breast Cancer</td>\n",
       "      <td>53.405754</td>\n",
       "    </tr>\n",
       "    <tr>\n",
       "      <th>31</th>\n",
       "      <td>1.0</td>\n",
       "      <td>Breast Cancer</td>\n",
       "      <td>21.533027</td>\n",
       "    </tr>\n",
       "    <tr>\n",
       "      <th>32</th>\n",
       "      <td>3.0</td>\n",
       "      <td>Breast Cancer</td>\n",
       "      <td>43.514417</td>\n",
       "    </tr>\n",
       "    <tr>\n",
       "      <th>33</th>\n",
       "      <td>5.0</td>\n",
       "      <td>Breast Cancer</td>\n",
       "      <td>NaN</td>\n",
       "    </tr>\n",
       "    <tr>\n",
       "      <th>34</th>\n",
       "      <td>0.0</td>\n",
       "      <td>Healthy Control</td>\n",
       "      <td>32.278463</td>\n",
       "    </tr>\n",
       "    <tr>\n",
       "      <th>36</th>\n",
       "      <td>0.0</td>\n",
       "      <td>Healthy Control</td>\n",
       "      <td>41.008405</td>\n",
       "    </tr>\n",
       "    <tr>\n",
       "      <th>39</th>\n",
       "      <td>0.0</td>\n",
       "      <td>Healthy Control</td>\n",
       "      <td>69.576732</td>\n",
       "    </tr>\n",
       "    <tr>\n",
       "      <th>41</th>\n",
       "      <td>26.0</td>\n",
       "      <td>Breast Cancer</td>\n",
       "      <td>50.339507</td>\n",
       "    </tr>\n",
       "    <tr>\n",
       "      <th>42</th>\n",
       "      <td>0.0</td>\n",
       "      <td>Healthy Control</td>\n",
       "      <td>73.067378</td>\n",
       "    </tr>\n",
       "    <tr>\n",
       "      <th>43</th>\n",
       "      <td>0.0</td>\n",
       "      <td>Healthy Control</td>\n",
       "      <td>35.419916</td>\n",
       "    </tr>\n",
       "    <tr>\n",
       "      <th>44</th>\n",
       "      <td>39.0</td>\n",
       "      <td>Breast Cancer</td>\n",
       "      <td>44.387750</td>\n",
       "    </tr>\n",
       "  </tbody>\n",
       "</table>\n",
       "</div>"
      ],
      "text/plain": [
       "    Time difference     Chemotherapy   faith_pd\n",
       "1              42.0    Breast Cancer        NaN\n",
       "3               0.0  Healthy Control  39.137351\n",
       "4               0.0  Healthy Control  83.452385\n",
       "6               0.0  Healthy Control  45.691895\n",
       "8               0.0  Healthy Control  31.343711\n",
       "10              0.0  Healthy Control  67.279588\n",
       "12              0.0  Healthy Control  40.645350\n",
       "14             27.0    Breast Cancer  69.714897\n",
       "15              0.0  Healthy Control  88.562366\n",
       "17              0.0    Breast Cancer  37.002279\n",
       "19              0.0  Healthy Control  73.347141\n",
       "21              9.0    Breast Cancer  62.366110\n",
       "22              8.0    Breast Cancer  36.451233\n",
       "25              5.0    Breast Cancer  50.765868\n",
       "26              0.0  Healthy Control  83.378292\n",
       "29              7.0    Breast Cancer  48.526147\n",
       "30             10.0    Breast Cancer  53.405754\n",
       "31              1.0    Breast Cancer  21.533027\n",
       "32              3.0    Breast Cancer  43.514417\n",
       "33              5.0    Breast Cancer        NaN\n",
       "34              0.0  Healthy Control  32.278463\n",
       "36              0.0  Healthy Control  41.008405\n",
       "39              0.0  Healthy Control  69.576732\n",
       "41             26.0    Breast Cancer  50.339507\n",
       "42              0.0  Healthy Control  73.067378\n",
       "43              0.0  Healthy Control  35.419916\n",
       "44             39.0    Breast Cancer  44.387750"
      ]
     },
     "execution_count": 80,
     "metadata": {},
     "output_type": "execute_result"
    }
   ],
   "source": [
    "time_faith"
   ]
  },
  {
   "cell_type": "code",
   "execution_count": 81,
   "metadata": {},
   "outputs": [],
   "source": [
    "fit = np.polyfit(x = np.log(time_faith_bc[\"Time difference\"]+0.01),\n",
    "                 y = time_faith_bc[\"faith_pd\"],\n",
    "                 deg=1)"
   ]
  },
  {
   "cell_type": "code",
   "execution_count": 82,
   "metadata": {},
   "outputs": [
    {
     "data": {
      "image/png": "[encoded data removed]",
      "text/plain": [
       "<Figure size 432x288 with 1 Axes>"
      ]
     },
     "metadata": {
      "needs_background": "light"
     },
     "output_type": "display_data"
    }
   ],
   "source": [
    "x = np.arange(0,45,0.25)+0.01\n",
    "y = fit[0] * np.log(x) + fit[1]\n",
    "\n",
    "ax = sns.scatterplot(y=\"faith_pd\",\n",
    "                     x=\"Time difference\",\n",
    "                     data=time_faith,\n",
    "                     hue=\"Chemotherapy\",\n",
    "                     x_jitter=True,\n",
    "                     s=50)\n",
    "ax.axhline(time_faith.loc[time_faith[\"Chemotherapy\"]==\"Healthy Control\",\"faith_pd\"].mean(),\n",
    "           c=\"tab:orange\",\n",
    "           lw=5,\n",
    "           alpha=0.7)\n",
    "\n",
    "ax.plot(x,y, lw=5, alpha=0.7)\n",
    "ax.set_ylim(0,100)\n",
    "ax.set_ylabel(\"Faith's Phylogenetic Diversity\")\n",
    "\n",
    "plt.savefig(\"faith_time_logfit.pdf\")\n",
    "plt.show()"
   ]
  },
  {
   "cell_type": "code",
   "execution_count": 83,
   "metadata": {},
   "outputs": [],
   "source": [
    "def func(x, a, b):\n",
    "    return a * np.sqrt(x) + b\n",
    "fit2 = curve_fit(func, \n",
    "                 xdata=time_faith_bc[\"Time difference\"],\n",
    "                 ydata=time_faith_bc[\"faith_pd\"])"
   ]
  },
  {
   "cell_type": "code",
   "execution_count": 84,
   "metadata": {},
   "outputs": [
    {
     "name": "stdout",
     "output_type": "stream",
     "text": [
      "fit 1: [ 2.90910588 42.63093028] \n",
      "fit 2: [ 3.7912049  35.66804273]\n"
     ]
    }
   ],
   "source": [
    "print(f'fit 1: {fit} \\nfit 2: {fit2[0]}')"
   ]
  },
  {
   "cell_type": "code",
   "execution_count": 85,
   "metadata": {},
   "outputs": [
    {
     "data": {
      "image/png": "[encoded data removed]",
      "text/plain": [
       "<Figure size 432x288 with 1 Axes>"
      ]
     },
     "metadata": {
      "needs_background": "light"
     },
     "output_type": "display_data"
    }
   ],
   "source": [
    "x = np.arange(0,45,0.25)+0.01\n",
    "y = fit2[0][0] * np.sqrt(x) + fit2[0][1]\n",
    "\n",
    "ax = sns.scatterplot(y=\"faith_pd\",\n",
    "                     x=\"Time difference\",\n",
    "                     data=time_faith,\n",
    "                     hue=\"Chemotherapy\",\n",
    "                     x_jitter=True,\n",
    "                     s=50)\n",
    "ax.axhline(time_faith.loc[time_faith[\"Chemotherapy\"]==\"Healthy Control\",\"faith_pd\"].mean(),\n",
    "           c=\"tab:orange\",\n",
    "           lw=5,\n",
    "           alpha=0.7)\n",
    "\n",
    "ax.plot(x,y, lw=5, alpha=0.7)\n",
    "\n",
    "ax.set_ylim(0,100)\n",
    "ax.set_ylabel(\"Faith's Phylogenetic Diversity\")\n",
    "\n",
    "plt.savefig(\"faith_sqrt_fit.pdf\")\n",
    "plt.show()"
   ]
  },
  {
   "cell_type": "code",
   "execution_count": 86,
   "metadata": {},
   "outputs": [],
   "source": [
    "grp_mapper = {\"Breast Cancer\": \"Group 1\", \"Healthy Control\": \"Group 2\"}\n",
    "time_faith[\"Experimental Group\"] = time_faith[\"Chemotherapy\"].apply(lambda x: grp_mapper[x])"
   ]
  },
  {
   "cell_type": "code",
   "execution_count": 87,
   "metadata": {},
   "outputs": [
    {
     "data": {
      "image/png": "[encoded data removed]",
      "text/plain": [
       "<Figure size 432x288 with 1 Axes>"
      ]
     },
     "metadata": {
      "needs_background": "light"
     },
     "output_type": "display_data"
    }
   ],
   "source": [
    "x = np.arange(0,45,0.25)+0.01\n",
    "logy = fit[0] * np.log(x) + fit[1]\n",
    "\n",
    "\n",
    "ax = sns.scatterplot(y=\"faith_pd\",\n",
    "                     x=\"Time difference\",\n",
    "                     data=time_faith,\n",
    "                     hue=\"Experimental Group\",\n",
    "                     x_jitter=True,\n",
    "                     s=50)\n",
    "\n",
    "ax.axhline(time_faith.loc[time_faith[\"Chemotherapy\"]==\"Healthy Control\",\"faith_pd\"].mean(),\n",
    "           c=\"tab:orange\",\n",
    "           lw=5,\n",
    "           alpha=0.7)\n",
    "\n",
    "ax.plot(x,logy, lw=5, alpha=0.7, c=\"tab:blue\")\n",
    "\n",
    "\n",
    "\n",
    "annot_coords = (18, fit[0] * np.log(20) + fit[1])\n",
    "\n",
    "ax.annotate(\"y = \" + str(round(fit[0],2)) + r\" $\\log{_{10}}{x} + $\" + str(round(fit[1], 2)), \n",
    "            xy=annot_coords, xytext=(18, fit[0] * np.log(20) + fit[1]-15),\n",
    "            ha=\"center\", bbox=dict(boxstyle=\"round\", fc=\"w\"),\n",
    "            arrowprops=dict(arrowstyle=\"->\"))\n",
    "\n",
    "grp2_mean = time_faith.loc[time_faith[\"Chemotherapy\"]==\"Healthy Control\",\"faith_pd\"].mean()\n",
    "\n",
    "ax.annotate(\"Group 2 mean (\" + str(round(grp2_mean,2)) + \")\", \n",
    "            xy=(18, grp2_mean), \n",
    "            xytext=(18, grp2_mean + 15),\n",
    "            ha=\"center\", bbox=dict(boxstyle=\"round\", fc=\"w\"),\n",
    "            arrowprops=dict(arrowstyle=\"->\"))\n",
    "\n",
    "ax.set_ylim(0,100)\n",
    "ax.set_xlim(-2,45)\n",
    "ax.set_ylabel(\"Faith's Phylogenetic Diversity\")\n",
    "ax.set_xlabel(\"Days since last chemotherapy treatment\")\n",
    "\n",
    "plt.savefig(\"faith_log_fit_annotated.pdf\")\n",
    "plt.show()"
   ]
  },
  {
   "cell_type": "markdown",
   "metadata": {},
   "source": [
    "## Psych boxplots"
   ]
  },
  {
   "cell_type": "code",
   "execution_count": 88,
   "metadata": {},
   "outputs": [],
   "source": [
    "updated_cesd = pd.read_csv(\"../CES-D range correction 3.7.22.csv\", index_col=\"participant ID \")"
   ]
  },
  {
   "cell_type": "code",
   "execution_count": 89,
   "metadata": {},
   "outputs": [],
   "source": [
    "metadata = metadata.set_index([\"StudyID\"])\n",
    "metadata.index = [int(x) for x in metadata.index]\n",
    "metadata[\"Updated CES-D\"] = updated_cesd[\"CESD-total \"]"
   ]
  },
  {
   "cell_type": "code",
   "execution_count": 91,
   "metadata": {},
   "outputs": [],
   "source": [
    "melted_demo = pd.melt(metadata[[\"age\",\"Updated CES-D\", \"fact_c_total\", \"Chemotherapy\"]],\n",
    "                       id_vars=\"Chemotherapy\")"
   ]
  },
  {
   "cell_type": "code",
   "execution_count": 92,
   "metadata": {},
   "outputs": [],
   "source": [
    "melted_demo[\"Experimental Group\"] = melted_demo[\"Chemotherapy\"].apply(lambda x: grp_mapper[x])"
   ]
  },
  {
   "cell_type": "code",
   "execution_count": 93,
   "metadata": {},
   "outputs": [
    {
     "data": {
      "text/html": [
       "<div>\n",
       "<style scoped>\n",
       "    .dataframe tbody tr th:only-of-type {\n",
       "        vertical-align: middle;\n",
       "    }\n",
       "\n",
       "    .dataframe tbody tr th {\n",
       "        vertical-align: top;\n",
       "    }\n",
       "\n",
       "    .dataframe thead th {\n",
       "        text-align: right;\n",
       "    }\n",
       "</style>\n",
       "<table border=\"1\" class=\"dataframe\">\n",
       "  <thead>\n",
       "    <tr style=\"text-align: right;\">\n",
       "      <th></th>\n",
       "      <th>Chemotherapy</th>\n",
       "      <th>variable</th>\n",
       "      <th>value</th>\n",
       "      <th>Experimental Group</th>\n",
       "    </tr>\n",
       "  </thead>\n",
       "  <tbody>\n",
       "    <tr>\n",
       "      <th>40</th>\n",
       "      <td>Breast Cancer</td>\n",
       "      <td>Updated CES-D</td>\n",
       "      <td>0.0</td>\n",
       "      <td>Group 1</td>\n",
       "    </tr>\n",
       "    <tr>\n",
       "      <th>41</th>\n",
       "      <td>Healthy Control</td>\n",
       "      <td>Updated CES-D</td>\n",
       "      <td>7.0</td>\n",
       "      <td>Group 2</td>\n",
       "    </tr>\n",
       "    <tr>\n",
       "      <th>42</th>\n",
       "      <td>Breast Cancer</td>\n",
       "      <td>Updated CES-D</td>\n",
       "      <td>13.0</td>\n",
       "      <td>Group 1</td>\n",
       "    </tr>\n",
       "    <tr>\n",
       "      <th>43</th>\n",
       "      <td>Healthy Control</td>\n",
       "      <td>Updated CES-D</td>\n",
       "      <td>0.0</td>\n",
       "      <td>Group 2</td>\n",
       "    </tr>\n",
       "    <tr>\n",
       "      <th>44</th>\n",
       "      <td>Breast Cancer</td>\n",
       "      <td>Updated CES-D</td>\n",
       "      <td>18.0</td>\n",
       "      <td>Group 1</td>\n",
       "    </tr>\n",
       "    <tr>\n",
       "      <th>45</th>\n",
       "      <td>Breast Cancer</td>\n",
       "      <td>Updated CES-D</td>\n",
       "      <td>19.0</td>\n",
       "      <td>Group 1</td>\n",
       "    </tr>\n",
       "    <tr>\n",
       "      <th>46</th>\n",
       "      <td>Breast Cancer</td>\n",
       "      <td>Updated CES-D</td>\n",
       "      <td>10.0</td>\n",
       "      <td>Group 1</td>\n",
       "    </tr>\n",
       "    <tr>\n",
       "      <th>47</th>\n",
       "      <td>Breast Cancer</td>\n",
       "      <td>Updated CES-D</td>\n",
       "      <td>2.0</td>\n",
       "      <td>Group 1</td>\n",
       "    </tr>\n",
       "    <tr>\n",
       "      <th>48</th>\n",
       "      <td>Breast Cancer</td>\n",
       "      <td>Updated CES-D</td>\n",
       "      <td>13.0</td>\n",
       "      <td>Group 1</td>\n",
       "    </tr>\n",
       "    <tr>\n",
       "      <th>49</th>\n",
       "      <td>Breast Cancer</td>\n",
       "      <td>Updated CES-D</td>\n",
       "      <td>12.0</td>\n",
       "      <td>Group 1</td>\n",
       "    </tr>\n",
       "  </tbody>\n",
       "</table>\n",
       "</div>"
      ],
      "text/plain": [
       "       Chemotherapy       variable  value Experimental Group\n",
       "40    Breast Cancer  Updated CES-D    0.0            Group 1\n",
       "41  Healthy Control  Updated CES-D    7.0            Group 2\n",
       "42    Breast Cancer  Updated CES-D   13.0            Group 1\n",
       "43  Healthy Control  Updated CES-D    0.0            Group 2\n",
       "44    Breast Cancer  Updated CES-D   18.0            Group 1\n",
       "45    Breast Cancer  Updated CES-D   19.0            Group 1\n",
       "46    Breast Cancer  Updated CES-D   10.0            Group 1\n",
       "47    Breast Cancer  Updated CES-D    2.0            Group 1\n",
       "48    Breast Cancer  Updated CES-D   13.0            Group 1\n",
       "49    Breast Cancer  Updated CES-D   12.0            Group 1"
      ]
     },
     "execution_count": 93,
     "metadata": {},
     "output_type": "execute_result"
    }
   ],
   "source": [
    "melted_demo.iloc[40:50]"
   ]
  },
  {
   "cell_type": "code",
   "execution_count": 94,
   "metadata": {},
   "outputs": [],
   "source": [
    "import matplotlib"
   ]
  },
  {
   "cell_type": "code",
   "execution_count": 95,
   "metadata": {},
   "outputs": [
    {
     "data": {
      "image/png": "[encoded data removed]",
      "text/plain": [
       "<Figure size 1080x360 with 3 Axes>"
      ]
     },
     "metadata": {
      "needs_background": "light"
     },
     "output_type": "display_data"
    }
   ],
   "source": [
    "font = {'size'   : 14}\n",
    "\n",
    "matplotlib.rc('font', **font)\n",
    "\n",
    "g = sns.catplot(x=\"Chemotherapy\",\n",
    "            y=\"value\",\n",
    "            data=melted_demo,\n",
    "            col=\"variable\",\n",
    "            kind=\"box\",\n",
    "            palette=[\"tab:orange\",\"tab:blue\"],\n",
    "            sharey=False)\n",
    "\n",
    "\n",
    "g.axes.flatten()[0].set_ylabel(\"Age\")\n",
    "g.axes.flatten()[1].set_ylabel(\"CES-D Total\")\n",
    "g.axes.flatten()[2].set_ylabel(\"Fact-Cog Total\")\n",
    "\n",
    "for ax in g.axes.flatten():\n",
    "    ax.set_title(\"\")\n",
    "    ax.set_ylim(0,)\n",
    "    \n",
    "plt.savefig(\"reanalysis-2/Figures/age-cesd-fact-boxplots.pdf\")\n",
    "plt.savefig(\"reanalysis-2/Figures/age-cesd-fact-boxplots.png\")\n",
    "plt.show()"
   ]
  },
  {
   "cell_type": "code",
   "execution_count": 96,
   "metadata": {},
   "outputs": [
    {
     "data": {
      "image/png": "[encoded data removed]",
      "text/plain": [
       "<Figure size 1080x360 with 3 Axes>"
      ]
     },
     "metadata": {
      "needs_background": "light"
     },
     "output_type": "display_data"
    }
   ],
   "source": [
    "g = sns.catplot(x=\"Chemotherapy\",\n",
    "            y=\"value\",\n",
    "            data=melted_demo,\n",
    "            col=\"variable\",\n",
    "            s=10,\n",
    "            sharey=False)\n",
    "\n",
    "g.axes.flatten()[0].set_ylabel(\"Age\")\n",
    "g.axes.flatten()[1].set_ylabel(\"CES-D Total\")\n",
    "g.axes.flatten()[2].set_ylabel(\"Fact-Cog Total\")\n",
    "\n",
    "for ax in g.axes.flatten():\n",
    "    ax.set_title(\"\")\n",
    "    ax.set_ylim(0,)"
   ]
  },
  {
   "cell_type": "markdown",
   "metadata": {},
   "source": [
    "## *Akkermansia* plots"
   ]
  },
  {
   "cell_type": "code",
   "execution_count": 120,
   "metadata": {},
   "outputs": [],
   "source": [
    "tax_table = Artifact.load(\"tax-L6-table.qza\").view(pd.DataFrame)"
   ]
  },
  {
   "cell_type": "code",
   "execution_count": 121,
   "metadata": {},
   "outputs": [],
   "source": [
    "tax_mat = np.matrix(tax_table)\n",
    "tax_mat /= np.sum(tax_mat, axis=1)\n",
    "tax_table = pd.DataFrame(tax_mat, \n",
    "                         index=[int(ind) for ind in tax_table.index], \n",
    "                         columns=tax_table.columns)"
   ]
  },
  {
   "cell_type": "code",
   "execution_count": 122,
   "metadata": {},
   "outputs": [],
   "source": [
    "akkermansia = [col for col in tax_table.columns if \"Akkermansia\" in col]"
   ]
  },
  {
   "cell_type": "code",
   "execution_count": 125,
   "metadata": {},
   "outputs": [],
   "source": [
    "akkermansia_chemo = pd.concat([tax_table[akkermansia],\n",
    "                               metadata[\"Chemotherapy\"]],\n",
    "                              axis=1).dropna()\n",
    "akkermansia_chemo[\"Experimental Group\"] = akkermansia_chemo[\"Chemotherapy\"].apply(lambda x: grp_mapper[x])"
   ]
  },
  {
   "cell_type": "code",
   "execution_count": 129,
   "metadata": {},
   "outputs": [
    {
     "data": {
      "image/png": "[encoded data removed]",
      "text/plain": [
       "<Figure size 432x288 with 1 Axes>"
      ]
     },
     "metadata": {
      "needs_background": "light"
     },
     "output_type": "display_data"
    }
   ],
   "source": [
    "p = sns.boxplot(x=\"Experimental Group\",\n",
    "                y=akkermansia[0],\n",
    "                data=akkermansia_chemo)\n",
    "p.set_ylabel(r\"$Akkermansia$ relative abundance\")\n",
    "\n",
    "plt.savefig(\"Akkermansia-boxplots.pdf\")\n",
    "plt.show()"
   ]
  },
  {
   "cell_type": "code",
   "execution_count": 131,
   "metadata": {},
   "outputs": [],
   "source": [
    "akkermansia_time = pd.concat([tax_table[akkermansia],\n",
    "                               metadata[\"Time difference\"]],\n",
    "                              axis=1).dropna()\n",
    "akkermansia_time = akkermansia_time[akkermansia_time[\"Time difference\"] >= 0]"
   ]
  },
  {
   "cell_type": "code",
   "execution_count": 136,
   "metadata": {},
   "outputs": [
    {
     "data": {
      "image/png": "[encoded data removed]",
      "text/plain": [
       "<Figure size 432x288 with 1 Axes>"
      ]
     },
     "metadata": {
      "needs_background": "light"
     },
     "output_type": "display_data"
    }
   ],
   "source": [
    "p = sns.scatterplot(x=\"Time difference\",\n",
    "                y=akkermansia[0],\n",
    "                data=akkermansia_time)\n",
    "p.set_ylabel(r\"$Akkermansia$ relative abundance\")\n",
    "p.set_xlabel(r\"Days since last chemotherapy treatment\")\n",
    "p.set_title(r\"$Akkermansia$ in Group 1\")\n",
    "\n",
    "plt.savefig(\"akkermansia-time.pdf\")\n",
    "plt.show()"
   ]
  },
  {
   "cell_type": "code",
   "execution_count": 206,
   "metadata": {},
   "outputs": [
    {
     "data": {
      "image/png": "[encoded data removed]",
      "text/plain": [
       "<Figure size 432x288 with 1 Axes>"
      ]
     },
     "metadata": {
      "needs_background": "light"
     },
     "output_type": "display_data"
    }
   ],
   "source": [
    "akkermansia_time_all = pd.concat([tax_table[akkermansia],\n",
    "                                  metadata[[\"Chemotherapy\",\"Time difference\"]]], \n",
    "                                 axis=1)\n",
    "akkermansia_time_all = akkermansia_time_all[(akkermansia_time_all[\"Time difference\"] >= 0) | \n",
    "                                            (akkermansia_time_all[\"Chemotherapy\"]==\"Healthy Control\")]\n",
    "\n",
    "akkermansia_time_all[\"Experimental Group\"] = akkermansia_time_all[\"Chemotherapy\"].apply(lambda x: grp_mapper[x])\n",
    "akkermansia_time_all.fillna(0,inplace=True)\n",
    "\n",
    "p = sns.scatterplot(x=\"Time difference\",\n",
    "                    y=akkermansia[0],\n",
    "                    hue=\"Experimental Group\",\n",
    "                data=akkermansia_time_all)\n",
    "grp2_akk_mean = akkermansia_time_all[akkermansia_time_all[\"Experimental Group\"]==\"Group 2\"][akkermansia[0]].mean()\n",
    "p.axhline(grp2_akk_mean,\n",
    "          c=\"tab:orange\", lw=\"3\", alpha=0.7)\n",
    "\n",
    "p.annotate(\"Group 2 mean (\" + str(round(grp2_akk_mean,4)) + \")\", \n",
    "            xy=(20, grp2_akk_mean), \n",
    "            xytext=(20, grp2_akk_mean + 0.01),\n",
    "            ha=\"center\", bbox=dict(boxstyle=\"round\", fc=\"w\"),\n",
    "            arrowprops=dict(arrowstyle=\"->\"))\n",
    "\n",
    "p.set_ylabel(r\"$Akkermansia$ relative abundance\")\n",
    "p.set_xlabel(r\"Days since last chemotherapy treatment\")\n",
    "\n",
    "plt.savefig(\"akkermansia-time-all.pdf\")\n",
    "plt.show()"
   ]
  },
  {
   "cell_type": "code",
   "execution_count": 138,
   "metadata": {},
   "outputs": [
    {
     "data": {
      "text/plain": [
       "SpearmanrResult(correlation=0.21869328378394914, pvalue=0.47286762074199706)"
      ]
     },
     "execution_count": 138,
     "metadata": {},
     "output_type": "execute_result"
    }
   ],
   "source": [
    "spearmanr(akkermansia_time[\"Time difference\"],\n",
    "          akkermansia_time[akkermansia[0]])"
   ]
  },
  {
   "cell_type": "markdown",
   "metadata": {},
   "source": [
    "## Depression alpha diversity"
   ]
  },
  {
   "cell_type": "code",
   "execution_count": 139,
   "metadata": {},
   "outputs": [],
   "source": [
    "chemo_cesd_faith = pd.concat([metadata[[\"cesd_total_categorical\", \"Chemotherapy\"]],\n",
    "                              faith_pd], \n",
    "                             axis=1).dropna()\n",
    "chemo_cesd_faith[\"Experimental Group\"] = chemo_cesd_faith[\"Chemotherapy\"].apply(lambda x: grp_mapper[x])"
   ]
  },
  {
   "cell_type": "code",
   "execution_count": 140,
   "metadata": {},
   "outputs": [
    {
     "data": {
      "text/plain": [
       "<matplotlib.axes._subplots.AxesSubplot at 0x148142588>"
      ]
     },
     "execution_count": 140,
     "metadata": {},
     "output_type": "execute_result"
    },
    {
     "data": {
      "image/png": "[encoded data removed]",
      "text/plain": [
       "<Figure size 432x288 with 1 Axes>"
      ]
     },
     "metadata": {
      "needs_background": "light"
     },
     "output_type": "display_data"
    }
   ],
   "source": [
    "sns.boxplot(y=\"faith_pd\",\n",
    "            x=\"Experimental Group\",\n",
    "            hue=\"cesd_total_categorical\",\n",
    "            data=chemo_cesd_faith)"
   ]
  },
  {
   "cell_type": "code",
   "execution_count": 141,
   "metadata": {},
   "outputs": [
    {
     "data": {
      "text/plain": [
       "KruskalResult(statistic=1.7028225806451616, pvalue=0.6363064537540493)"
      ]
     },
     "execution_count": 141,
     "metadata": {},
     "output_type": "execute_result"
    }
   ],
   "source": [
    "A = \"Breast Cancer\"\n",
    "B = \"Healthy Control\"\n",
    "X = \"Probable Depression\"\n",
    "Y = \"Possible Depression\"\n",
    "\n",
    "AX = chemo_cesd_faith.loc[(chemo_cesd_faith[\"Chemotherapy\"]==A) & (chemo_cesd_faith[\"cesd_total_categorical\"]==X)]\n",
    "AY = chemo_cesd_faith.loc[(chemo_cesd_faith[\"Chemotherapy\"]==A) & (chemo_cesd_faith[\"cesd_total_categorical\"]==Y)]\n",
    "BX = chemo_cesd_faith.loc[(chemo_cesd_faith[\"Chemotherapy\"]==B) & (chemo_cesd_faith[\"cesd_total_categorical\"]==X)]\n",
    "BY = chemo_cesd_faith.loc[(chemo_cesd_faith[\"Chemotherapy\"]==B) & (chemo_cesd_faith[\"cesd_total_categorical\"]==Y)]\n",
    "\n",
    "kruskal(AX[\"faith_pd\"],\n",
    "        AY[\"faith_pd\"],\n",
    "        BX[\"faith_pd\"],\n",
    "        BY[\"faith_pd\"])"
   ]
  },
  {
   "cell_type": "code",
   "execution_count": 142,
   "metadata": {},
   "outputs": [
    {
     "data": {
      "text/plain": [
       "KruskalResult(statistic=0.8000000000000043, pvalue=0.3710933695226962)"
      ]
     },
     "execution_count": 142,
     "metadata": {},
     "output_type": "execute_result"
    }
   ],
   "source": [
    "#within breast cancer\n",
    "kruskal(AX[\"faith_pd\"],\n",
    "        AY[\"faith_pd\"])"
   ]
  },
  {
   "cell_type": "markdown",
   "metadata": {},
   "source": [
    "## PERMDISP"
   ]
  },
  {
   "cell_type": "code",
   "execution_count": 246,
   "metadata": {},
   "outputs": [
    {
     "name": "stdout",
     "output_type": "stream",
     "text": [
      "\u001b[32mSaved FeatureTable[Frequency] to: core-diversity-results-noNA/rarefied_table.qza\u001b[0m\n",
      "\u001b[32mSaved SampleData[AlphaDiversity] to: core-diversity-results-noNA/faith_pd_vector.qza\u001b[0m\n",
      "\u001b[32mSaved SampleData[AlphaDiversity] to: core-diversity-results-noNA/observed_features_vector.qza\u001b[0m\n",
      "\u001b[32mSaved SampleData[AlphaDiversity] to: core-diversity-results-noNA/shannon_vector.qza\u001b[0m\n",
      "\u001b[32mSaved SampleData[AlphaDiversity] to: core-diversity-results-noNA/evenness_vector.qza\u001b[0m\n",
      "\u001b[32mSaved DistanceMatrix to: core-diversity-results-noNA/unweighted_unifrac_distance_matrix.qza\u001b[0m\n",
      "\u001b[32mSaved DistanceMatrix to: core-diversity-results-noNA/weighted_unifrac_distance_matrix.qza\u001b[0m\n",
      "\u001b[32mSaved DistanceMatrix to: core-diversity-results-noNA/jaccard_distance_matrix.qza\u001b[0m\n",
      "\u001b[32mSaved DistanceMatrix to: core-diversity-results-noNA/bray_curtis_distance_matrix.qza\u001b[0m\n",
      "\u001b[32mSaved PCoAResults to: core-diversity-results-noNA/unweighted_unifrac_pcoa_results.qza\u001b[0m\n",
      "\u001b[32mSaved PCoAResults to: core-diversity-results-noNA/weighted_unifrac_pcoa_results.qza\u001b[0m\n",
      "\u001b[32mSaved PCoAResults to: core-diversity-results-noNA/jaccard_pcoa_results.qza\u001b[0m\n",
      "\u001b[32mSaved PCoAResults to: core-diversity-results-noNA/bray_curtis_pcoa_results.qza\u001b[0m\n",
      "\u001b[32mSaved Visualization to: core-diversity-results-noNA/unweighted_unifrac_emperor.qzv\u001b[0m\n",
      "\u001b[32mSaved Visualization to: core-diversity-results-noNA/weighted_unifrac_emperor.qzv\u001b[0m\n",
      "\u001b[32mSaved Visualization to: core-diversity-results-noNA/jaccard_emperor.qzv\u001b[0m\n",
      "\u001b[32mSaved Visualization to: core-diversity-results-noNA/bray_curtis_emperor.qzv\u001b[0m\n"
     ]
    }
   ],
   "source": [
    "! qiime diversity core-metrics-phylogenetic \\\n",
    "--i-table table_noNA.qza \\\n",
    "--i-phylogeny insertion-tree.qza \\\n",
    "--p-sampling-depth 13100 \\\n",
    "--m-metadata-file Categorical-meta-noNA.tsv \\\n",
    "--output-dir core-diversity-results-noNA"
   ]
  },
  {
   "cell_type": "code",
   "execution_count": 247,
   "metadata": {},
   "outputs": [
    {
     "name": "stdout",
     "output_type": "stream",
     "text": [
      "\u001b[32mSaved Visualization to: core-diversity-results-noNA/permdisp_hcvsbc_ununi.qza.qzv\u001b[0m\r\n"
     ]
    }
   ],
   "source": [
    "! qiime diversity beta-group-significance \\\n",
    "--i-distance-matrix core-diversity-results-noNA/unweighted_unifrac_distance_matrix.qza \\\n",
    "--m-metadata-file Categorical-meta-noNA.tsv \\\n",
    "--m-metadata-column hcvsbc-cat \\\n",
    "--p-method permdisp \\\n",
    "--o-visualization core-diversity-results-noNA/permdisp_hcvsbc_ununi.qzv"
   ]
  },
  {
   "cell_type": "markdown",
   "metadata": {},
   "source": [
    "#### Unweighted Unifrac\n",
    "#### F value\t2.06044\n",
    "#### p-value\t0.158"
   ]
  },
  {
   "cell_type": "code",
   "execution_count": 251,
   "metadata": {},
   "outputs": [
    {
     "name": "stdout",
     "output_type": "stream",
     "text": [
      "\u001b[32mSaved Visualization to: core-diversity-results-noNA/permdisp_hcvsbc_wuni.qzv\u001b[0m\r\n"
     ]
    }
   ],
   "source": [
    "! qiime diversity beta-group-significance \\\n",
    "--i-distance-matrix core-diversity-results-noNA/weighted_unifrac_distance_matrix.qza \\\n",
    "--m-metadata-file Categorical-meta-noNA.tsv \\\n",
    "--m-metadata-column hcvsbc-cat \\\n",
    "--p-method permdisp \\\n",
    "--o-visualization core-diversity-results-noNA/permdisp_hcvsbc_wuni.qzv"
   ]
  },
  {
   "cell_type": "markdown",
   "metadata": {},
   "source": [
    "#### Weighted UniFrac\n",
    "#### test statistic\t1.22936\n",
    "#### p-value\t0.253"
   ]
  },
  {
   "cell_type": "markdown",
   "metadata": {},
   "source": [
    "## Desulfobacterota"
   ]
  },
  {
   "cell_type": "code",
   "execution_count": 144,
   "metadata": {},
   "outputs": [],
   "source": [
    "L2 = Artifact.load(\"tax-L2-table.qza\").view(pd.DataFrame)\n",
    "L2.index = L2.index.astype(int)"
   ]
  },
  {
   "cell_type": "code",
   "execution_count": 149,
   "metadata": {},
   "outputs": [],
   "source": [
    "L2mat = np.matrix(L2) \n",
    "L2mat /= np.sum(L2mat, axis=1)\n",
    "L2 = pd.DataFrame(L2mat, index = L2.index, columns=L2.columns)"
   ]
  },
  {
   "cell_type": "code",
   "execution_count": 157,
   "metadata": {},
   "outputs": [],
   "source": [
    "desulf_fact = pd.concat([L2[\"d__Bacteria;p__Desulfobacterota\"],\n",
    "                           metadata[[\"fact_c_total\",\"Chemotherapy\"]]],\n",
    "                         axis=1).dropna()\n",
    "desulf_fact[\"Experimental Group\"] = desulf_fact[\"Chemotherapy\"].apply(lambda x: grp_mapper[x])"
   ]
  },
  {
   "cell_type": "code",
   "execution_count": 161,
   "metadata": {},
   "outputs": [
    {
     "data": {
      "image/png": "[encoded data removed]",
      "text/plain": [
       "<Figure size 432x288 with 1 Axes>"
      ]
     },
     "metadata": {
      "needs_background": "light"
     },
     "output_type": "display_data"
    }
   ],
   "source": [
    "ax = sns.scatterplot(x=\"fact_c_total\",\n",
    "                    y=\"d__Bacteria;p__Desulfobacterota\",\n",
    "                    data=desulf_fact)\n",
    "\n",
    "ax.set_ylabel(\"Desulfobacterota relative abundance\")\n",
    "ax.set_xlabel(\"FACT-Cog total score\")\n",
    "\n",
    "plt.savefig(\"desulfobacterota-fact-scatter.pdf\")\n",
    "plt.show()"
   ]
  },
  {
   "cell_type": "code",
   "execution_count": 163,
   "metadata": {},
   "outputs": [
    {
     "data": {
      "image/png": "[encoded data removed]",
      "text/plain": [
       "<Figure size 432x288 with 1 Axes>"
      ]
     },
     "metadata": {
      "needs_background": "light"
     },
     "output_type": "display_data"
    }
   ],
   "source": [
    "ax = sns.scatterplot(x=\"fact_c_total\",\n",
    "                    y=\"d__Bacteria;p__Desulfobacterota\",\n",
    "                    hue=\"Experimental Group\",\n",
    "                    data=desulf_fact)\n",
    "\n",
    "ax.set_ylabel(\"Desulfobacterota relative abundance\")\n",
    "ax.set_xlabel(\"FACT-Cog total score\")\n",
    "\n",
    "plt.savefig(\"desulfobacterota-fact-scatter-chemo.pdf\")\n",
    "plt.show()"
   ]
  },
  {
   "cell_type": "markdown",
   "metadata": {},
   "source": [
    "## Taxa barplot remaking"
   ]
  },
  {
   "cell_type": "code",
   "execution_count": 168,
   "metadata": {
    "scrolled": true
   },
   "outputs": [],
   "source": [
    "metadata[\"Experimental Group\"] = metadata[\"Chemotherapy\"].apply(lambda x: grp_mapper[x])"
   ]
  },
  {
   "cell_type": "code",
   "execution_count": 178,
   "metadata": {},
   "outputs": [],
   "source": [
    "metadata[\"sampleid\"] = metadata[\"sampleid\"].astype(int)"
   ]
  },
  {
   "cell_type": "code",
   "execution_count": 179,
   "metadata": {},
   "outputs": [],
   "source": [
    "metadata.to_csv(\"expr-group-metadata.tsv\", sep=\"\\t\", index=False)"
   ]
  },
  {
   "cell_type": "code",
   "execution_count": 180,
   "metadata": {},
   "outputs": [
    {
     "name": "stdout",
     "output_type": "stream",
     "text": [
      "\u001b[32mSaved FeatureTable[Frequency] to: noMito_noChloro-expr-table.qza\u001b[0m\r\n"
     ]
    }
   ],
   "source": [
    "! qiime feature-table filter-samples \\\n",
    "--i-table noMito_noChloro-noNA-table.qza \\\n",
    "--m-metadata-file expr-group-metadata.tsv \\\n",
    "--o-filtered-table noMito_noChloro-expr-table.qza"
   ]
  },
  {
   "cell_type": "code",
   "execution_count": 181,
   "metadata": {},
   "outputs": [
    {
     "name": "stdout",
     "output_type": "stream",
     "text": [
      "\u001b[32mSaved Visualization to: expr-grp-taxa-barplot.qza.qzv\u001b[0m\r\n"
     ]
    }
   ],
   "source": [
    "! qiime taxa barplot \\\n",
    "--i-table noMito_noChloro-noNA-table.qza \\\n",
    "--i-taxonomy taxonomy-silva.qza \\\n",
    "--m-metadata-file expr-group-metadata.tsv \\\n",
    "--o-visualization expr-grp-taxa-barplot.qza"
   ]
  }
 ],
 "metadata": {
  "kernelspec": {
   "display_name": "Python 3",
   "language": "python",
   "name": "python3"
  },
  "language_info": {
   "codemirror_mode": {
    "name": "ipython",
    "version": 3
   },
   "file_extension": ".py",
   "mimetype": "text/x-python",
   "name": "python",
   "nbconvert_exporter": "python",
   "pygments_lexer": "ipython3",
   "version": "3.6.10"
  }
 },
 "nbformat": 4,
 "nbformat_minor": 5
}
