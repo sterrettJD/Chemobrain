{
 "cells": [
  {
   "cell_type": "markdown",
   "id": "65f92775",
   "metadata": {},
   "source": [
    "- time from chemo\n",
    "\n",
    "- boxplots\n",
    "  - age\n",
    "  - cesd\n",
    "  - fact-cog\n",
    "  - remake akkermansia\n",
    "- within group beta div\n",
    "  - boxplot\n",
    "  - stat testing?\n",
    "- taxa barplot\n",
    "- alpha div depression stats testing"
   ]
  },
  {
   "cell_type": "code",
   "execution_count": 1,
   "id": "11b8273c",
   "metadata": {},
   "outputs": [
    {
     "name": "stdout",
     "output_type": "stream",
     "text": [
      "/Users/johnsterrett/Research-Projects/Boulder/Chemobrain/200608_Elsayed_Lowry-1101\n"
     ]
    }
   ],
   "source": [
    "%cd /Users/johnsterrett/Research-Projects/Boulder/Chemobrain/200608_Elsayed_Lowry-1101/"
   ]
  },
  {
   "cell_type": "code",
   "execution_count": 2,
   "id": "9c55e3b9",
   "metadata": {},
   "outputs": [],
   "source": [
    "import pandas as pd\n",
    "import numpy as np\n",
    "from qiime2 import Artifact, Visualization\n",
    "import matplotlib.pyplot as plt\n",
    "import seaborn as sns\n",
    "from scipy.stats import spearmanr, kruskal\n",
    "from scipy.optimize import curve_fit\n",
    "%matplotlib inline"
   ]
  },
  {
   "cell_type": "markdown",
   "id": "feb1a8af",
   "metadata": {},
   "source": [
    "## Time from Chemo\n",
    "\n",
    "#### Loading up, cleaning data"
   ]
  },
  {
   "cell_type": "code",
   "execution_count": 3,
   "id": "f970ff01",
   "metadata": {},
   "outputs": [],
   "source": [
    "faith_pd = Artifact.load(\"core-diversity-results/faith_pd_vector.qza\").view(pd.Series)\n",
    "time_df = pd.read_csv(\"time-difference.txt\", sep=\"\\t\", index_col=\"Study ID \")\n",
    "metadata = pd.read_csv(\"Categorical-meta-noNA.tsv\", sep=\"\\t\")"
   ]
  },
  {
   "cell_type": "code",
   "execution_count": 4,
   "id": "cb598612",
   "metadata": {
    "scrolled": true
   },
   "outputs": [
    {
     "data": {
      "text/html": [
       "<div>\n",
       "<style scoped>\n",
       "    .dataframe tbody tr th:only-of-type {\n",
       "        vertical-align: middle;\n",
       "    }\n",
       "\n",
       "    .dataframe tbody tr th {\n",
       "        vertical-align: top;\n",
       "    }\n",
       "\n",
       "    .dataframe thead th {\n",
       "        text-align: right;\n",
       "    }\n",
       "</style>\n",
       "<table border=\"1\" class=\"dataframe\">\n",
       "  <thead>\n",
       "    <tr style=\"text-align: right;\">\n",
       "      <th></th>\n",
       "      <th>BC (1) HC (0)</th>\n",
       "      <th>Psych Assessment Day</th>\n",
       "      <th>Stool Sample Day</th>\n",
       "      <th>date closest to assessment</th>\n",
       "      <th>date closest to stool</th>\n",
       "      <th>Diff tx to psych Assess</th>\n",
       "      <th>Diff tx to Stool</th>\n",
       "      <th>Unnamed: 8</th>\n",
       "      <th>Unnamed: 9</th>\n",
       "      <th>Psych difference</th>\n",
       "      <th>stool difference</th>\n",
       "    </tr>\n",
       "    <tr>\n",
       "      <th>Study ID</th>\n",
       "      <th></th>\n",
       "      <th></th>\n",
       "      <th></th>\n",
       "      <th></th>\n",
       "      <th></th>\n",
       "      <th></th>\n",
       "      <th></th>\n",
       "      <th></th>\n",
       "      <th></th>\n",
       "      <th></th>\n",
       "      <th></th>\n",
       "    </tr>\n",
       "  </thead>\n",
       "  <tbody>\n",
       "    <tr>\n",
       "      <th>1001</th>\n",
       "      <td>1</td>\n",
       "      <td>1/20/19</td>\n",
       "      <td>2/13/19</td>\n",
       "      <td>1/2/19</td>\n",
       "      <td>1/2/19</td>\n",
       "      <td>18.0</td>\n",
       "      <td>42.0</td>\n",
       "      <td>NaN</td>\n",
       "      <td>AVG</td>\n",
       "      <td>11.428571</td>\n",
       "      <td>13.000000</td>\n",
       "    </tr>\n",
       "    <tr>\n",
       "      <th>1011</th>\n",
       "      <td>1</td>\n",
       "      <td>12/18/18</td>\n",
       "      <td>7/9/19</td>\n",
       "      <td>12/27/18</td>\n",
       "      <td>6/12/19</td>\n",
       "      <td>-9.0</td>\n",
       "      <td>27.0</td>\n",
       "      <td>NaN</td>\n",
       "      <td>SD</td>\n",
       "      <td>11.271963</td>\n",
       "      <td>14.424681</td>\n",
       "    </tr>\n",
       "    <tr>\n",
       "      <th>1013</th>\n",
       "      <td>1</td>\n",
       "      <td>1/4/19</td>\n",
       "      <td>1/9/19</td>\n",
       "      <td>1/4/19</td>\n",
       "      <td>1/9/19</td>\n",
       "      <td>0.0</td>\n",
       "      <td>0.0</td>\n",
       "      <td>NaN</td>\n",
       "      <td>NaN</td>\n",
       "      <td>NaN</td>\n",
       "      <td>NaN</td>\n",
       "    </tr>\n",
       "    <tr>\n",
       "      <th>1017</th>\n",
       "      <td>1</td>\n",
       "      <td>3/5/19</td>\n",
       "      <td>3/27/19</td>\n",
       "      <td>2/26/19</td>\n",
       "      <td>3/18/19</td>\n",
       "      <td>7.0</td>\n",
       "      <td>9.0</td>\n",
       "      <td>NaN</td>\n",
       "      <td>NaN</td>\n",
       "      <td>NaN</td>\n",
       "      <td>NaN</td>\n",
       "    </tr>\n",
       "    <tr>\n",
       "      <th>1018</th>\n",
       "      <td>1</td>\n",
       "      <td>2/17/19</td>\n",
       "      <td>3/29/19</td>\n",
       "      <td>2/8/19</td>\n",
       "      <td>3/21/19</td>\n",
       "      <td>9.0</td>\n",
       "      <td>8.0</td>\n",
       "      <td>NaN</td>\n",
       "      <td>NaN</td>\n",
       "      <td>NaN</td>\n",
       "      <td>NaN</td>\n",
       "    </tr>\n",
       "  </tbody>\n",
       "</table>\n",
       "</div>"
      ],
      "text/plain": [
       "           BC (1) HC (0) Psych Assessment Day Stool Sample Day   \\\n",
       "Study ID                                                          \n",
       "1001                   1              1/20/19           2/13/19   \n",
       "1011                   1             12/18/18            7/9/19   \n",
       "1013                   1               1/4/19            1/9/19   \n",
       "1017                   1               3/5/19           3/27/19   \n",
       "1018                   1              2/17/19           3/29/19   \n",
       "\n",
       "          date closest to assessment date closest to stool   \\\n",
       "Study ID                                                      \n",
       "1001                          1/2/19                 1/2/19   \n",
       "1011                        12/27/18                6/12/19   \n",
       "1013                          1/4/19                 1/9/19   \n",
       "1017                         2/26/19                3/18/19   \n",
       "1018                          2/8/19                3/21/19   \n",
       "\n",
       "           Diff tx to psych Assess  Diff tx to Stool   Unnamed: 8 Unnamed: 9  \\\n",
       "Study ID                                                                       \n",
       "1001                          18.0               42.0         NaN       AVG    \n",
       "1011                          -9.0               27.0         NaN        SD    \n",
       "1013                           0.0                0.0         NaN        NaN   \n",
       "1017                           7.0                9.0         NaN        NaN   \n",
       "1018                           9.0                8.0         NaN        NaN   \n",
       "\n",
       "           Psych difference  stool difference  \n",
       "Study ID                                       \n",
       "1001              11.428571         13.000000  \n",
       "1011              11.271963         14.424681  \n",
       "1013                    NaN               NaN  \n",
       "1017                    NaN               NaN  \n",
       "1018                    NaN               NaN  "
      ]
     },
     "execution_count": 4,
     "metadata": {},
     "output_type": "execute_result"
    }
   ],
   "source": [
    "time_df.head()"
   ]
  },
  {
   "cell_type": "code",
   "execution_count": 5,
   "id": "abe3034b",
   "metadata": {},
   "outputs": [
    {
     "data": {
      "text/plain": [
       "pandas.core.indexes.numeric.Int64Index"
      ]
     },
     "execution_count": 5,
     "metadata": {},
     "output_type": "execute_result"
    }
   ],
   "source": [
    "type(time_df.index)"
   ]
  },
  {
   "cell_type": "code",
   "execution_count": 6,
   "id": "d6ae015d",
   "metadata": {},
   "outputs": [],
   "source": [
    "faith_pd.index = faith_pd.index.astype(int)"
   ]
  },
  {
   "cell_type": "code",
   "execution_count": 7,
   "id": "f13bda6a",
   "metadata": {},
   "outputs": [],
   "source": [
    "metadata = metadata.iloc[:33]\n",
    "metadata[\"StudyID\"] = metadata[\"plate.sample.id\"].apply(lambda x: str(x).replace(\" \", \"\").split(\"-\")[0])\n",
    "metadata = metadata.set_index(metadata[\"StudyID\"].astype(int))"
   ]
  },
  {
   "cell_type": "code",
   "execution_count": 8,
   "id": "8c28b1bc",
   "metadata": {},
   "outputs": [],
   "source": [
    "metadata[\"Time difference\"] = time_df[\"Diff tx to Stool \"]"
   ]
  },
  {
   "cell_type": "code",
   "execution_count": 9,
   "id": "0b5ef2b9",
   "metadata": {},
   "outputs": [],
   "source": [
    "metadata = metadata[metadata[\"linkerprimersequence\"].isna()==False]"
   ]
  },
  {
   "cell_type": "code",
   "execution_count": 10,
   "id": "81a45e39",
   "metadata": {},
   "outputs": [],
   "source": [
    "metadata = metadata.set_index(metadata[\"sampleid\"].astype(int))"
   ]
  },
  {
   "cell_type": "code",
   "execution_count": 11,
   "id": "4c25ff6b",
   "metadata": {},
   "outputs": [],
   "source": [
    "mapper = {\"1 - Yes\": \"Breast Cancer\", \"2 - No\": \"Healthy Control\"}\n",
    "\n",
    "metadata[\"Chemotherapy\"] = metadata[\"hcvsbc-cat\"].apply(lambda x: mapper[x])"
   ]
  },
  {
   "cell_type": "code",
   "execution_count": 12,
   "id": "ca870bd2",
   "metadata": {},
   "outputs": [],
   "source": [
    "time_faith = pd.concat([metadata[[\"Time difference\",\"Chemotherapy\"]], faith_pd], axis=1) "
   ]
  },
  {
   "cell_type": "markdown",
   "id": "29ca7fc4",
   "metadata": {},
   "source": [
    "#### Only grab the ones that aren't NA and where time diff is not negative"
   ]
  },
  {
   "cell_type": "code",
   "execution_count": 13,
   "id": "f0aec4ad",
   "metadata": {},
   "outputs": [],
   "source": [
    "time_faith = time_faith[time_faith[\"Chemotherapy\"].isna()==False]"
   ]
  },
  {
   "cell_type": "code",
   "execution_count": 14,
   "id": "63e5e578",
   "metadata": {},
   "outputs": [],
   "source": [
    "time_faith = time_faith[(time_faith[\"Time difference\"]>=0) | \n",
    "                        ((time_faith[\"Time difference\"].isna()) & (time_faith[\"Chemotherapy\"]==\"Healthy Control\"))]"
   ]
  },
  {
   "cell_type": "code",
   "execution_count": 15,
   "id": "ddf7232b",
   "metadata": {},
   "outputs": [],
   "source": [
    "time_faith[\"Time difference\"] = time_faith[\"Time difference\"].fillna(0)"
   ]
  },
  {
   "cell_type": "markdown",
   "id": "d061a7ee",
   "metadata": {},
   "source": [
    "#### Not very normal looking"
   ]
  },
  {
   "cell_type": "code",
   "execution_count": 16,
   "id": "b4f4d586",
   "metadata": {},
   "outputs": [
    {
     "data": {
      "text/plain": [
       "<AxesSubplot:>"
      ]
     },
     "execution_count": 16,
     "metadata": {},
     "output_type": "execute_result"
    },
    {
     "data": {
      "image/png": "[encoded data removed]",
      "text/plain": [
       "<Figure size 432x288 with 1 Axes>"
      ]
     },
     "metadata": {
      "needs_background": "light"
     },
     "output_type": "display_data"
    }
   ],
   "source": [
    "time_faith[\"faith_pd\"].hist()"
   ]
  },
  {
   "cell_type": "code",
   "execution_count": 17,
   "id": "1834a518",
   "metadata": {},
   "outputs": [
    {
     "data": {
      "image/png": "[encoded data removed]",
      "text/plain": [
       "<Figure size 432x288 with 1 Axes>"
      ]
     },
     "metadata": {
      "needs_background": "light"
     },
     "output_type": "display_data"
    }
   ],
   "source": [
    "sns.scatterplot(y=\"faith_pd\",\n",
    "                x=\"Time difference\",\n",
    "                hue=\"Chemotherapy\",\n",
    "                data=time_faith,\n",
    "                x_jitter=True,\n",
    "                s=50)\n",
    "plt.show()"
   ]
  },
  {
   "cell_type": "code",
   "execution_count": 18,
   "id": "a3fb4023",
   "metadata": {},
   "outputs": [
    {
     "data": {
      "image/png": "[encoded data removed]",
      "text/plain": [
       "<Figure size 432x288 with 1 Axes>"
      ]
     },
     "metadata": {
      "needs_background": "light"
     },
     "output_type": "display_data"
    }
   ],
   "source": [
    "ax = sns.scatterplot(y=\"faith_pd\",\n",
    "                    x=\"Time difference\",\n",
    "                    data=time_faith[time_faith[\"Chemotherapy\"]==\"Breast Cancer\"],\n",
    "                    x_jitter=True,\n",
    "                    s=50)\n",
    "ax.axhline(time_faith.loc[time_faith[\"Chemotherapy\"]==\"Healthy Control\",\"faith_pd\"].mean(),c=\"tab:orange\")\n",
    "plt.show()"
   ]
  },
  {
   "cell_type": "code",
   "execution_count": 19,
   "id": "bb5b4778",
   "metadata": {},
   "outputs": [
    {
     "data": {
      "text/plain": [
       "SpearmanrResult(correlation=0.5909090909090909, pvalue=0.05557560428877463)"
      ]
     },
     "execution_count": 19,
     "metadata": {},
     "output_type": "execute_result"
    }
   ],
   "source": [
    "time_faith_bc = time_faith[time_faith[\"Chemotherapy\"]==\"Breast Cancer\"].dropna()\n",
    "\n",
    "spearmanr(time_faith_bc[\"faith_pd\"],\n",
    "          time_faith_bc[\"Time difference\"])"
   ]
  },
  {
   "cell_type": "code",
   "execution_count": 20,
   "id": "7fdbb660",
   "metadata": {},
   "outputs": [
    {
     "data": {
      "text/html": [
       "<div>\n",
       "<style scoped>\n",
       "    .dataframe tbody tr th:only-of-type {\n",
       "        vertical-align: middle;\n",
       "    }\n",
       "\n",
       "    .dataframe tbody tr th {\n",
       "        vertical-align: top;\n",
       "    }\n",
       "\n",
       "    .dataframe thead th {\n",
       "        text-align: right;\n",
       "    }\n",
       "</style>\n",
       "<table border=\"1\" class=\"dataframe\">\n",
       "  <thead>\n",
       "    <tr style=\"text-align: right;\">\n",
       "      <th></th>\n",
       "      <th>Time difference</th>\n",
       "      <th>Chemotherapy</th>\n",
       "      <th>faith_pd</th>\n",
       "    </tr>\n",
       "  </thead>\n",
       "  <tbody>\n",
       "    <tr>\n",
       "      <th>1</th>\n",
       "      <td>42.0</td>\n",
       "      <td>Breast Cancer</td>\n",
       "      <td>NaN</td>\n",
       "    </tr>\n",
       "    <tr>\n",
       "      <th>3</th>\n",
       "      <td>0.0</td>\n",
       "      <td>Healthy Control</td>\n",
       "      <td>39.137351</td>\n",
       "    </tr>\n",
       "    <tr>\n",
       "      <th>4</th>\n",
       "      <td>0.0</td>\n",
       "      <td>Healthy Control</td>\n",
       "      <td>83.452385</td>\n",
       "    </tr>\n",
       "    <tr>\n",
       "      <th>6</th>\n",
       "      <td>0.0</td>\n",
       "      <td>Healthy Control</td>\n",
       "      <td>45.691895</td>\n",
       "    </tr>\n",
       "    <tr>\n",
       "      <th>8</th>\n",
       "      <td>0.0</td>\n",
       "      <td>Healthy Control</td>\n",
       "      <td>31.343711</td>\n",
       "    </tr>\n",
       "    <tr>\n",
       "      <th>10</th>\n",
       "      <td>0.0</td>\n",
       "      <td>Healthy Control</td>\n",
       "      <td>67.279588</td>\n",
       "    </tr>\n",
       "    <tr>\n",
       "      <th>12</th>\n",
       "      <td>0.0</td>\n",
       "      <td>Healthy Control</td>\n",
       "      <td>40.645350</td>\n",
       "    </tr>\n",
       "    <tr>\n",
       "      <th>14</th>\n",
       "      <td>27.0</td>\n",
       "      <td>Breast Cancer</td>\n",
       "      <td>69.714897</td>\n",
       "    </tr>\n",
       "    <tr>\n",
       "      <th>15</th>\n",
       "      <td>0.0</td>\n",
       "      <td>Healthy Control</td>\n",
       "      <td>88.562366</td>\n",
       "    </tr>\n",
       "    <tr>\n",
       "      <th>17</th>\n",
       "      <td>0.0</td>\n",
       "      <td>Breast Cancer</td>\n",
       "      <td>37.002279</td>\n",
       "    </tr>\n",
       "    <tr>\n",
       "      <th>19</th>\n",
       "      <td>0.0</td>\n",
       "      <td>Healthy Control</td>\n",
       "      <td>73.347141</td>\n",
       "    </tr>\n",
       "    <tr>\n",
       "      <th>21</th>\n",
       "      <td>9.0</td>\n",
       "      <td>Breast Cancer</td>\n",
       "      <td>62.366110</td>\n",
       "    </tr>\n",
       "    <tr>\n",
       "      <th>22</th>\n",
       "      <td>8.0</td>\n",
       "      <td>Breast Cancer</td>\n",
       "      <td>36.451233</td>\n",
       "    </tr>\n",
       "    <tr>\n",
       "      <th>25</th>\n",
       "      <td>5.0</td>\n",
       "      <td>Breast Cancer</td>\n",
       "      <td>50.765868</td>\n",
       "    </tr>\n",
       "    <tr>\n",
       "      <th>26</th>\n",
       "      <td>0.0</td>\n",
       "      <td>Healthy Control</td>\n",
       "      <td>83.378292</td>\n",
       "    </tr>\n",
       "    <tr>\n",
       "      <th>29</th>\n",
       "      <td>7.0</td>\n",
       "      <td>Breast Cancer</td>\n",
       "      <td>48.526147</td>\n",
       "    </tr>\n",
       "    <tr>\n",
       "      <th>30</th>\n",
       "      <td>10.0</td>\n",
       "      <td>Breast Cancer</td>\n",
       "      <td>53.405754</td>\n",
       "    </tr>\n",
       "    <tr>\n",
       "      <th>31</th>\n",
       "      <td>1.0</td>\n",
       "      <td>Breast Cancer</td>\n",
       "      <td>21.533027</td>\n",
       "    </tr>\n",
       "    <tr>\n",
       "      <th>32</th>\n",
       "      <td>3.0</td>\n",
       "      <td>Breast Cancer</td>\n",
       "      <td>43.514417</td>\n",
       "    </tr>\n",
       "    <tr>\n",
       "      <th>33</th>\n",
       "      <td>5.0</td>\n",
       "      <td>Breast Cancer</td>\n",
       "      <td>NaN</td>\n",
       "    </tr>\n",
       "    <tr>\n",
       "      <th>34</th>\n",
       "      <td>0.0</td>\n",
       "      <td>Healthy Control</td>\n",
       "      <td>32.278463</td>\n",
       "    </tr>\n",
       "    <tr>\n",
       "      <th>36</th>\n",
       "      <td>0.0</td>\n",
       "      <td>Healthy Control</td>\n",
       "      <td>41.008405</td>\n",
       "    </tr>\n",
       "    <tr>\n",
       "      <th>39</th>\n",
       "      <td>0.0</td>\n",
       "      <td>Healthy Control</td>\n",
       "      <td>69.576732</td>\n",
       "    </tr>\n",
       "    <tr>\n",
       "      <th>41</th>\n",
       "      <td>26.0</td>\n",
       "      <td>Breast Cancer</td>\n",
       "      <td>50.339507</td>\n",
       "    </tr>\n",
       "    <tr>\n",
       "      <th>42</th>\n",
       "      <td>0.0</td>\n",
       "      <td>Healthy Control</td>\n",
       "      <td>73.067378</td>\n",
       "    </tr>\n",
       "    <tr>\n",
       "      <th>43</th>\n",
       "      <td>0.0</td>\n",
       "      <td>Healthy Control</td>\n",
       "      <td>35.419916</td>\n",
       "    </tr>\n",
       "    <tr>\n",
       "      <th>44</th>\n",
       "      <td>39.0</td>\n",
       "      <td>Breast Cancer</td>\n",
       "      <td>44.387750</td>\n",
       "    </tr>\n",
       "  </tbody>\n",
       "</table>\n",
       "</div>"
      ],
      "text/plain": [
       "    Time difference     Chemotherapy   faith_pd\n",
       "1              42.0    Breast Cancer        NaN\n",
       "3               0.0  Healthy Control  39.137351\n",
       "4               0.0  Healthy Control  83.452385\n",
       "6               0.0  Healthy Control  45.691895\n",
       "8               0.0  Healthy Control  31.343711\n",
       "10              0.0  Healthy Control  67.279588\n",
       "12              0.0  Healthy Control  40.645350\n",
       "14             27.0    Breast Cancer  69.714897\n",
       "15              0.0  Healthy Control  88.562366\n",
       "17              0.0    Breast Cancer  37.002279\n",
       "19              0.0  Healthy Control  73.347141\n",
       "21              9.0    Breast Cancer  62.366110\n",
       "22              8.0    Breast Cancer  36.451233\n",
       "25              5.0    Breast Cancer  50.765868\n",
       "26              0.0  Healthy Control  83.378292\n",
       "29              7.0    Breast Cancer  48.526147\n",
       "30             10.0    Breast Cancer  53.405754\n",
       "31              1.0    Breast Cancer  21.533027\n",
       "32              3.0    Breast Cancer  43.514417\n",
       "33              5.0    Breast Cancer        NaN\n",
       "34              0.0  Healthy Control  32.278463\n",
       "36              0.0  Healthy Control  41.008405\n",
       "39              0.0  Healthy Control  69.576732\n",
       "41             26.0    Breast Cancer  50.339507\n",
       "42              0.0  Healthy Control  73.067378\n",
       "43              0.0  Healthy Control  35.419916\n",
       "44             39.0    Breast Cancer  44.387750"
      ]
     },
     "execution_count": 20,
     "metadata": {},
     "output_type": "execute_result"
    }
   ],
   "source": [
    "time_faith"
   ]
  },
  {
   "cell_type": "code",
   "execution_count": 21,
   "id": "e4adc364",
   "metadata": {},
   "outputs": [],
   "source": [
    "fit = np.polyfit(x = np.log(time_faith_bc[\"Time difference\"]+0.01),\n",
    "                 y = time_faith_bc[\"faith_pd\"],\n",
    "                 deg=1)"
   ]
  },
  {
   "cell_type": "code",
   "execution_count": 61,
   "id": "0d033756",
   "metadata": {},
   "outputs": [
    {
     "data": {
      "image/png": "[encoded data removed]",
      "text/plain": [
       "<Figure size 432x288 with 1 Axes>"
      ]
     },
     "metadata": {
      "needs_background": "light"
     },
     "output_type": "display_data"
    }
   ],
   "source": [
    "x = np.arange(0,45,0.25)+0.01\n",
    "y = fit[0] * np.log(x) + fit[1]\n",
    "\n",
    "ax = sns.scatterplot(y=\"faith_pd\",\n",
    "                     x=\"Time difference\",\n",
    "                     data=time_faith,\n",
    "                     hue=\"Chemotherapy\",\n",
    "                     x_jitter=True,\n",
    "                     s=50)\n",
    "ax.axhline(time_faith.loc[time_faith[\"Chemotherapy\"]==\"Healthy Control\",\"faith_pd\"].mean(),\n",
    "           c=\"tab:orange\",\n",
    "           lw=5,\n",
    "           alpha=0.7)\n",
    "\n",
    "ax.plot(x,y, lw=5, alpha=0.7)\n",
    "ax.set_ylim(0,100)\n",
    "ax.set_ylabel(\"Faith's Phylogenetic Diversity\")\n",
    "\n",
    "plt.legend(frameon=False)\n",
    "ax.spines[\"top\"].set_visible(False)\n",
    "ax.spines[\"right\"].set_visible(False)\n",
    "\n",
    "\n",
    "plt.savefig(\"faith_time_logfit.pdf\")\n",
    "plt.show()"
   ]
  },
  {
   "cell_type": "code",
   "execution_count": 34,
   "id": "fbc27e18",
   "metadata": {},
   "outputs": [],
   "source": [
    "def func(x, a, b):\n",
    "    return a * np.sqrt(x) + b\n",
    "fit2 = curve_fit(func, \n",
    "                 xdata=time_faith_bc[\"Time difference\"],\n",
    "                 ydata=time_faith_bc[\"faith_pd\"])"
   ]
  },
  {
   "cell_type": "code",
   "execution_count": 35,
   "id": "e48947fe",
   "metadata": {},
   "outputs": [
    {
     "name": "stdout",
     "output_type": "stream",
     "text": [
      "fit 1: [ 2.90910588 42.63093028] \n",
      "fit 2: [ 3.79120495 35.66804256]\n"
     ]
    }
   ],
   "source": [
    "print(f'fit 1: {fit} \\nfit 2: {fit2[0]}')"
   ]
  },
  {
   "cell_type": "code",
   "execution_count": 36,
   "id": "9a21eb7e",
   "metadata": {},
   "outputs": [
    {
     "data": {
      "image/png": "[encoded data removed]",
      "text/plain": [
       "<Figure size 432x288 with 1 Axes>"
      ]
     },
     "metadata": {
      "needs_background": "light"
     },
     "output_type": "display_data"
    }
   ],
   "source": [
    "x = np.arange(0,45,0.25)+0.01\n",
    "y = fit2[0][0] * np.sqrt(x) + fit2[0][1]\n",
    "\n",
    "ax = sns.scatterplot(y=\"faith_pd\",\n",
    "                     x=\"Time difference\",\n",
    "                     data=time_faith,\n",
    "                     hue=\"Chemotherapy\",\n",
    "                     x_jitter=True,\n",
    "                     s=50)\n",
    "ax.axhline(time_faith.loc[time_faith[\"Chemotherapy\"]==\"Healthy Control\",\"faith_pd\"].mean(),\n",
    "           c=\"tab:orange\",\n",
    "           lw=5,\n",
    "           alpha=0.7)\n",
    "\n",
    "ax.plot(x,y, lw=5, alpha=0.7)\n",
    "\n",
    "ax.set_ylim(0,100)\n",
    "ax.set_ylabel(\"Faith's Phylogenetic Diversity\")\n",
    "\n",
    "plt.savefig(\"faith_sqrt_fit.pdf\")\n",
    "plt.show()"
   ]
  },
  {
   "cell_type": "code",
   "execution_count": 37,
   "id": "f8de18ff",
   "metadata": {},
   "outputs": [],
   "source": [
    "grp_mapper = {\"Breast Cancer\": \"Group 1\", \"Healthy Control\": \"Group 2\"}\n",
    "time_faith[\"Experimental Group\"] = time_faith[\"Chemotherapy\"].apply(lambda x: grp_mapper[x])"
   ]
  },
  {
   "cell_type": "code",
   "execution_count": 68,
   "id": "3a421012",
   "metadata": {},
   "outputs": [
    {
     "data": {
      "image/png": "[encoded data removed]",
      "text/plain": [
       "<Figure size 432x288 with 1 Axes>"
      ]
     },
     "metadata": {
      "needs_background": "light"
     },
     "output_type": "display_data"
    }
   ],
   "source": [
    "x = np.arange(0,45,0.25)+0.01\n",
    "logy = fit[0] * np.log(x) + fit[1]\n",
    "\n",
    "\n",
    "ax = sns.scatterplot(y=\"faith_pd\",\n",
    "                     x=\"Time difference\",\n",
    "                     data=time_faith,\n",
    "                     hue=\"Chemotherapy\", palette=[\"tab:orange\", \"tab:blue\"],\n",
    "                     x_jitter=True,\n",
    "                     s=50)\n",
    "\n",
    "ax.axhline(time_faith.loc[time_faith[\"Chemotherapy\"]==\"Healthy Control\",\"faith_pd\"].mean(),\n",
    "           c=\"tab:blue\",\n",
    "           lw=5,\n",
    "           alpha=0.7)\n",
    "\n",
    "ax.plot(x,logy, lw=5, alpha=0.7, c=\"tab:orange\")\n",
    "\n",
    "\n",
    "\n",
    "annot_coords = (18, fit[0] * np.log(20) + fit[1])\n",
    "\n",
    "ax.annotate(\"y = \" + str(round(fit[0],1)) + r\" $\\log{_{10}}{x} + $\" + str(round(fit[1], 1)), \n",
    "            xy=annot_coords, xytext=(18, fit[0] * np.log(20) + fit[1]-15),\n",
    "            ha=\"center\", bbox=dict(boxstyle=\"round\", fc=\"w\"),\n",
    "            arrowprops=dict(arrowstyle=\"->\"))\n",
    "\n",
    "grp2_mean = time_faith.loc[time_faith[\"Chemotherapy\"]==\"Healthy Control\",\"faith_pd\"].mean()\n",
    "\n",
    "ax.annotate(\"control mean (\" + str(round(grp2_mean,1)) + \")\", \n",
    "            xy=(18, grp2_mean), \n",
    "            xytext=(18, grp2_mean + 16),\n",
    "            ha=\"center\", bbox=dict(boxstyle=\"round\", fc=\"w\"),\n",
    "            arrowprops=dict(arrowstyle=\"->\"))\n",
    "\n",
    "ax.set_ylim(0,100)\n",
    "ax.set_xlim(-2,45)\n",
    "ax.set_ylabel(\"Faith's Phylogenetic Diversity\")\n",
    "ax.set_xlabel(\"Days since last chemotherapy treatment\")\n",
    "\n",
    "# flip legend order\n",
    "handles, labels = ax.get_legend_handles_labels()\n",
    "order = [1,0]\n",
    "plt.legend([handles[idx] for idx in order],[labels[idx] for idx in order], \n",
    "           frameon=False, bbox_to_anchor=(1,1.1))\n",
    "# remove spines\n",
    "ax.spines[\"top\"].set_visible(False)\n",
    "ax.spines[\"right\"].set_visible(False)\n",
    "\n",
    "plt.savefig(\"faith_log_fit_annotated.pdf\")\n",
    "plt.show()"
   ]
  },
  {
   "cell_type": "markdown",
   "id": "0d44886e",
   "metadata": {},
   "source": [
    "## Psych boxplots"
   ]
  },
  {
   "cell_type": "code",
   "execution_count": 42,
   "id": "02bf71ab",
   "metadata": {},
   "outputs": [],
   "source": [
    "updated_cesd = pd.read_csv(\"../CES-D range correction 3.7.22.csv\", index_col=\"participant ID \")"
   ]
  },
  {
   "cell_type": "code",
   "execution_count": 43,
   "id": "f19ebb48",
   "metadata": {},
   "outputs": [],
   "source": [
    "metadata = metadata.set_index([\"StudyID\"])\n",
    "metadata.index = [int(x) for x in metadata.index]\n",
    "metadata[\"Updated CES-D\"] = updated_cesd[\"CESD-total \"]"
   ]
  },
  {
   "cell_type": "code",
   "execution_count": 44,
   "id": "67377765",
   "metadata": {},
   "outputs": [],
   "source": [
    "melted_demo = pd.melt(metadata[[\"age\",\"Updated CES-D\", \"fact_c_total\", \"Chemotherapy\"]],\n",
    "                       id_vars=\"Chemotherapy\")"
   ]
  },
  {
   "cell_type": "code",
   "execution_count": 45,
   "id": "b289f2e0",
   "metadata": {},
   "outputs": [],
   "source": [
    "melted_demo[\"Experimental Group\"] = melted_demo[\"Chemotherapy\"].apply(lambda x: grp_mapper[x])"
   ]
  },
  {
   "cell_type": "code",
   "execution_count": 46,
   "id": "3f018ef8",
   "metadata": {},
   "outputs": [
    {
     "data": {
      "text/html": [
       "<div>\n",
       "<style scoped>\n",
       "    .dataframe tbody tr th:only-of-type {\n",
       "        vertical-align: middle;\n",
       "    }\n",
       "\n",
       "    .dataframe tbody tr th {\n",
       "        vertical-align: top;\n",
       "    }\n",
       "\n",
       "    .dataframe thead th {\n",
       "        text-align: right;\n",
       "    }\n",
       "</style>\n",
       "<table border=\"1\" class=\"dataframe\">\n",
       "  <thead>\n",
       "    <tr style=\"text-align: right;\">\n",
       "      <th></th>\n",
       "      <th>Chemotherapy</th>\n",
       "      <th>variable</th>\n",
       "      <th>value</th>\n",
       "      <th>Experimental Group</th>\n",
       "    </tr>\n",
       "  </thead>\n",
       "  <tbody>\n",
       "    <tr>\n",
       "      <th>40</th>\n",
       "      <td>Breast Cancer</td>\n",
       "      <td>Updated CES-D</td>\n",
       "      <td>0.0</td>\n",
       "      <td>Group 1</td>\n",
       "    </tr>\n",
       "    <tr>\n",
       "      <th>41</th>\n",
       "      <td>Healthy Control</td>\n",
       "      <td>Updated CES-D</td>\n",
       "      <td>7.0</td>\n",
       "      <td>Group 2</td>\n",
       "    </tr>\n",
       "    <tr>\n",
       "      <th>42</th>\n",
       "      <td>Breast Cancer</td>\n",
       "      <td>Updated CES-D</td>\n",
       "      <td>13.0</td>\n",
       "      <td>Group 1</td>\n",
       "    </tr>\n",
       "    <tr>\n",
       "      <th>43</th>\n",
       "      <td>Healthy Control</td>\n",
       "      <td>Updated CES-D</td>\n",
       "      <td>0.0</td>\n",
       "      <td>Group 2</td>\n",
       "    </tr>\n",
       "    <tr>\n",
       "      <th>44</th>\n",
       "      <td>Breast Cancer</td>\n",
       "      <td>Updated CES-D</td>\n",
       "      <td>18.0</td>\n",
       "      <td>Group 1</td>\n",
       "    </tr>\n",
       "    <tr>\n",
       "      <th>45</th>\n",
       "      <td>Breast Cancer</td>\n",
       "      <td>Updated CES-D</td>\n",
       "      <td>19.0</td>\n",
       "      <td>Group 1</td>\n",
       "    </tr>\n",
       "    <tr>\n",
       "      <th>46</th>\n",
       "      <td>Breast Cancer</td>\n",
       "      <td>Updated CES-D</td>\n",
       "      <td>10.0</td>\n",
       "      <td>Group 1</td>\n",
       "    </tr>\n",
       "    <tr>\n",
       "      <th>47</th>\n",
       "      <td>Breast Cancer</td>\n",
       "      <td>Updated CES-D</td>\n",
       "      <td>2.0</td>\n",
       "      <td>Group 1</td>\n",
       "    </tr>\n",
       "    <tr>\n",
       "      <th>48</th>\n",
       "      <td>Breast Cancer</td>\n",
       "      <td>Updated CES-D</td>\n",
       "      <td>13.0</td>\n",
       "      <td>Group 1</td>\n",
       "    </tr>\n",
       "    <tr>\n",
       "      <th>49</th>\n",
       "      <td>Breast Cancer</td>\n",
       "      <td>Updated CES-D</td>\n",
       "      <td>12.0</td>\n",
       "      <td>Group 1</td>\n",
       "    </tr>\n",
       "  </tbody>\n",
       "</table>\n",
       "</div>"
      ],
      "text/plain": [
       "       Chemotherapy       variable  value Experimental Group\n",
       "40    Breast Cancer  Updated CES-D    0.0            Group 1\n",
       "41  Healthy Control  Updated CES-D    7.0            Group 2\n",
       "42    Breast Cancer  Updated CES-D   13.0            Group 1\n",
       "43  Healthy Control  Updated CES-D    0.0            Group 2\n",
       "44    Breast Cancer  Updated CES-D   18.0            Group 1\n",
       "45    Breast Cancer  Updated CES-D   19.0            Group 1\n",
       "46    Breast Cancer  Updated CES-D   10.0            Group 1\n",
       "47    Breast Cancer  Updated CES-D    2.0            Group 1\n",
       "48    Breast Cancer  Updated CES-D   13.0            Group 1\n",
       "49    Breast Cancer  Updated CES-D   12.0            Group 1"
      ]
     },
     "execution_count": 46,
     "metadata": {},
     "output_type": "execute_result"
    }
   ],
   "source": [
    "melted_demo.iloc[40:50]"
   ]
  },
  {
   "cell_type": "code",
   "execution_count": 91,
   "id": "37648afb",
   "metadata": {},
   "outputs": [
    {
     "data": {
      "text/plain": [
       "array(['age', 'Updated CES-D', 'fact_c_total'], dtype=object)"
      ]
     },
     "execution_count": 91,
     "metadata": {},
     "output_type": "execute_result"
    }
   ],
   "source": [
    "melted_demo[\"variable\"].unique()"
   ]
  },
  {
   "cell_type": "code",
   "execution_count": 47,
   "id": "ec41eba8",
   "metadata": {},
   "outputs": [],
   "source": [
    "import matplotlib"
   ]
  },
  {
   "cell_type": "code",
   "execution_count": 93,
   "id": "eb14805b",
   "metadata": {},
   "outputs": [
    {
     "data": {
      "image/png": "[encoded data removed]",
      "text/plain": [
       "<Figure size 1080x360 with 3 Axes>"
      ]
     },
     "metadata": {
      "needs_background": "light"
     },
     "output_type": "display_data"
    }
   ],
   "source": [
    "font = {'size'   : 14}\n",
    "\n",
    "matplotlib.rc('font', **font)\n",
    "\n",
    "g = sns.catplot(x=\"Chemotherapy\",\n",
    "            y=\"value\",\n",
    "            data=melted_demo,\n",
    "            col=\"variable\",\n",
    "            kind=\"box\",\n",
    "            palette=[\"tab:blue\", \"tab:orange\"],\n",
    "            sharey=False,\n",
    "            order=[\"Healthy Control\", \"Breast Cancer\"],\n",
    "            col_order=[\"age\", \"fact_c_total\", \"Updated CES-D\"])\n",
    "\n",
    "\n",
    "g.axes.flatten()[0].set_ylabel(\"Age\")\n",
    "g.axes.flatten()[1].set_ylabel(\"FACT-Cog Total\")\n",
    "g.axes.flatten()[2].set_ylabel(\"CES-D Total\")\n",
    "\n",
    "g.axes.flatten()[0].set_title(\"A\",x=-0.1)\n",
    "g.axes.flatten()[1].set_title(\"B\",x=-0.1)\n",
    "g.axes.flatten()[2].set_title(\"C\",x=-0.1)\n",
    "\n",
    "for ax in g.axes.flatten():\n",
    "    #ax.set_title(\"\")\n",
    "    ax.set_ylim(0,)\n",
    "    ax.set_xlabel(\"\")\n",
    "    \n",
    "plt.savefig(\"reanalysis-2/Figures/age-cesd-fact-boxplots.pdf\")\n",
    "plt.savefig(\"reanalysis-2/Figures/age-cesd-fact-boxplots.png\")\n",
    "plt.show()"
   ]
  },
  {
   "cell_type": "code",
   "execution_count": 70,
   "id": "9d7d1c72",
   "metadata": {},
   "outputs": [
    {
     "data": {
      "image/png": "[encoded data removed]",
      "text/plain": [
       "<Figure size 1080x360 with 3 Axes>"
      ]
     },
     "metadata": {
      "needs_background": "light"
     },
     "output_type": "display_data"
    }
   ],
   "source": [
    "g = sns.catplot(x=\"Chemotherapy\",\n",
    "            y=\"value\",\n",
    "            data=melted_demo,\n",
    "            col=\"variable\",\n",
    "            s=10,\n",
    "            sharey=False)\n",
    "\n",
    "g.axes.flatten()[0].set_ylabel(\"Age\")\n",
    "g.axes.flatten()[1].set_ylabel(\"CES-D Total\")\n",
    "g.axes.flatten()[2].set_ylabel(\"Fact-Cog Total\")\n",
    "\n",
    "for ax in g.axes.flatten():\n",
    "    ax.set_title(\"\")\n",
    "    ax.set_ylim(0,)\n",
    "    ax.set_xlabel(\"\")\n",
    "    "
   ]
  },
  {
   "cell_type": "markdown",
   "id": "cc0718d8",
   "metadata": {},
   "source": [
    "## *Akkermansia* plots"
   ]
  },
  {
   "cell_type": "code",
   "execution_count": 71,
   "id": "0834ac63",
   "metadata": {},
   "outputs": [],
   "source": [
    "metadata = metadata.reset_index().set_index(\"sampleid\")\n",
    "metadata[\"StudyID\"] = metadata[\"index\"]"
   ]
  },
  {
   "cell_type": "code",
   "execution_count": 72,
   "id": "3041135c",
   "metadata": {},
   "outputs": [],
   "source": [
    "tax_table = Artifact.load(\"tax-L6-table.qza\").view(pd.DataFrame)"
   ]
  },
  {
   "cell_type": "code",
   "execution_count": 73,
   "id": "3dbedac1",
   "metadata": {},
   "outputs": [],
   "source": [
    "tax_mat = np.matrix(tax_table)\n",
    "tax_mat /= np.sum(tax_mat, axis=1)\n",
    "tax_table = pd.DataFrame(tax_mat, \n",
    "                         index=[int(ind) for ind in tax_table.index], \n",
    "                         columns=tax_table.columns)"
   ]
  },
  {
   "cell_type": "code",
   "execution_count": 74,
   "id": "7ccce20b",
   "metadata": {},
   "outputs": [],
   "source": [
    "akkermansia = [col for col in tax_table.columns if \"Akkermansia\" in col]"
   ]
  },
  {
   "cell_type": "code",
   "execution_count": 75,
   "id": "75cf33d3",
   "metadata": {},
   "outputs": [],
   "source": [
    "akkermansia_chemo = pd.concat([tax_table[akkermansia],\n",
    "                               metadata[\"Chemotherapy\"]],\n",
    "                              axis=1).dropna()\n",
    "akkermansia_chemo[\"Experimental Group\"] = akkermansia_chemo[\"Chemotherapy\"].apply(lambda x: grp_mapper[x])"
   ]
  },
  {
   "cell_type": "code",
   "execution_count": 76,
   "id": "f2e4ed06",
   "metadata": {},
   "outputs": [
    {
     "data": {
      "image/png": "[encoded data removed]",
      "text/plain": [
       "<Figure size 432x288 with 1 Axes>"
      ]
     },
     "metadata": {
      "needs_background": "light"
     },
     "output_type": "display_data"
    }
   ],
   "source": [
    "p = sns.boxplot(x=\"Experimental Group\",\n",
    "                y=akkermansia[0],\n",
    "                data=akkermansia_chemo)\n",
    "p.set_ylabel(r\"$Akkermansia$ relative abundance\")\n",
    "\n",
    "plt.savefig(\"Akkermansia-boxplots.pdf\")\n",
    "plt.show()"
   ]
  },
  {
   "cell_type": "code",
   "execution_count": 77,
   "id": "e03aab06",
   "metadata": {},
   "outputs": [],
   "source": [
    "akkermansia_time = pd.concat([tax_table[akkermansia],\n",
    "                               metadata[\"Time difference\"]],\n",
    "                              axis=1).dropna()\n",
    "akkermansia_time = akkermansia_time[akkermansia_time[\"Time difference\"] >= 0]"
   ]
  },
  {
   "cell_type": "code",
   "execution_count": 78,
   "id": "1864d7e8",
   "metadata": {},
   "outputs": [
    {
     "data": {
      "image/png": "[encoded data removed]",
      "text/plain": [
       "<Figure size 432x288 with 1 Axes>"
      ]
     },
     "metadata": {
      "needs_background": "light"
     },
     "output_type": "display_data"
    }
   ],
   "source": [
    "p = sns.scatterplot(x=\"Time difference\",\n",
    "                y=akkermansia[0],\n",
    "                data=akkermansia_time)\n",
    "p.set_ylabel(r\"$Akkermansia$ relative abundance\")\n",
    "p.set_xlabel(r\"Days since last chemotherapy treatment\")\n",
    "p.set_title(r\"$Akkermansia$ in Group 1\")\n",
    "\n",
    "plt.savefig(\"akkermansia-time.pdf\")\n",
    "plt.show()"
   ]
  },
  {
   "cell_type": "code",
   "execution_count": 79,
   "id": "bf6edf20",
   "metadata": {},
   "outputs": [
    {
     "data": {
      "image/png": "[encoded data removed]",
      "text/plain": [
       "<Figure size 432x288 with 1 Axes>"
      ]
     },
     "metadata": {
      "needs_background": "light"
     },
     "output_type": "display_data"
    }
   ],
   "source": [
    "akkermansia_time_all = pd.concat([tax_table[akkermansia],\n",
    "                                  metadata[[\"Chemotherapy\",\"Time difference\"]]], \n",
    "                                 axis=1)\n",
    "akkermansia_time_all = akkermansia_time_all[(akkermansia_time_all[\"Time difference\"] >= 0) | \n",
    "                                            (akkermansia_time_all[\"Chemotherapy\"]==\"Healthy Control\")]\n",
    "\n",
    "akkermansia_time_all[\"Experimental Group\"] = akkermansia_time_all[\"Chemotherapy\"].apply(lambda x: grp_mapper[x])\n",
    "akkermansia_time_all.fillna(0,inplace=True)\n",
    "\n",
    "p = sns.scatterplot(x=\"Time difference\",\n",
    "                    y=akkermansia[0],\n",
    "                    hue=\"Experimental Group\",\n",
    "                data=akkermansia_time_all)\n",
    "grp2_akk_mean = akkermansia_time_all[akkermansia_time_all[\"Experimental Group\"]==\"Group 2\"][akkermansia[0]].mean()\n",
    "p.axhline(grp2_akk_mean,\n",
    "          c=\"tab:orange\", lw=\"3\", alpha=0.7)\n",
    "\n",
    "p.annotate(\"Group 2 mean (\" + str(round(grp2_akk_mean,4)) + \")\", \n",
    "            xy=(20, grp2_akk_mean), \n",
    "            xytext=(20, grp2_akk_mean + 0.01),\n",
    "            ha=\"center\", bbox=dict(boxstyle=\"round\", fc=\"w\"),\n",
    "            arrowprops=dict(arrowstyle=\"->\"))\n",
    "\n",
    "p.set_ylabel(r\"$Akkermansia$ relative abundance\")\n",
    "p.set_xlabel(r\"Days since last chemotherapy treatment\")\n",
    "\n",
    "plt.savefig(\"akkermansia-time-all.pdf\")\n",
    "plt.show()"
   ]
  },
  {
   "cell_type": "code",
   "execution_count": 80,
   "id": "d3e5acc2",
   "metadata": {},
   "outputs": [
    {
     "data": {
      "text/plain": [
       "SpearmanrResult(correlation=0.21869328378394914, pvalue=0.47286762074199706)"
      ]
     },
     "execution_count": 80,
     "metadata": {},
     "output_type": "execute_result"
    }
   ],
   "source": [
    "spearmanr(akkermansia_time[\"Time difference\"],\n",
    "          akkermansia_time[akkermansia[0]])"
   ]
  },
  {
   "cell_type": "markdown",
   "id": "4c0e2d57",
   "metadata": {},
   "source": [
    "## Depression alpha diversity"
   ]
  },
  {
   "cell_type": "code",
   "execution_count": 81,
   "id": "33d808da",
   "metadata": {},
   "outputs": [],
   "source": [
    "metadata[\"updated_cesd_total_categorical\"] = metadata[\"Updated CES-D\"].apply(lambda x: \"depressive symptomatology\" if x>=16 else \"no depression\")"
   ]
  },
  {
   "cell_type": "code",
   "execution_count": 82,
   "id": "6a9be811",
   "metadata": {},
   "outputs": [],
   "source": [
    "chemo_cesd_faith = pd.concat([metadata[[\"updated_cesd_total_categorical\", \"Chemotherapy\", \"Updated CES-D\"]],\n",
    "                              faith_pd], \n",
    "                             axis=1).dropna()\n",
    "chemo_cesd_faith[\"Experimental Group\"] = chemo_cesd_faith[\"Chemotherapy\"].apply(lambda x: grp_mapper[x])"
   ]
  },
  {
   "cell_type": "code",
   "execution_count": 83,
   "id": "ee35fc17",
   "metadata": {},
   "outputs": [
    {
     "data": {
      "text/plain": [
       "<AxesSubplot:xlabel='Chemotherapy', ylabel='faith_pd'>"
      ]
     },
     "execution_count": 83,
     "metadata": {},
     "output_type": "execute_result"
    },
    {
     "data": {
      "image/png": "[encoded data removed]",
      "text/plain": [
       "<Figure size 432x288 with 1 Axes>"
      ]
     },
     "metadata": {
      "needs_background": "light"
     },
     "output_type": "display_data"
    }
   ],
   "source": [
    "font = {'size'   : 10}\n",
    "\n",
    "matplotlib.rc('font', **font)\n",
    "\n",
    "ax = sns.boxplot(y=\"faith_pd\",\n",
    "            x=\"Chemotherapy\",\n",
    "            hue=\"updated_cesd_total_categorical\",\n",
    "            data=chemo_cesd_faith)\n",
    "\n",
    "sns.swarmplot(y=\"faith_pd\",\n",
    "            x=\"Chemotherapy\",\n",
    "            hue=\"updated_cesd_total_categorical\",\n",
    "            dodge=True,\n",
    "            palette=[\"darkgrey\"],\n",
    "            data=chemo_cesd_faith,\n",
    "            ax=ax)"
   ]
  },
  {
   "cell_type": "code",
   "execution_count": 84,
   "id": "3c2e99e8",
   "metadata": {},
   "outputs": [
    {
     "data": {
      "text/plain": [
       "<AxesSubplot:>"
      ]
     },
     "execution_count": 84,
     "metadata": {},
     "output_type": "execute_result"
    },
    {
     "data": {
      "image/png": "[encoded data removed]",
      "text/plain": [
       "<Figure size 432x288 with 1 Axes>"
      ]
     },
     "metadata": {
      "needs_background": "light"
     },
     "output_type": "display_data"
    }
   ],
   "source": [
    "chemo_cesd_faith[\"faith_pd\"].hist()"
   ]
  },
  {
   "cell_type": "markdown",
   "id": "3aab9394",
   "metadata": {},
   "source": [
    "**Spearman with new CES-D scores and Faith PD**"
   ]
  },
  {
   "cell_type": "code",
   "execution_count": 85,
   "id": "4bf774ac",
   "metadata": {},
   "outputs": [
    {
     "data": {
      "text/plain": [
       "SpearmanrResult(correlation=-0.3260204106740875, pvalue=0.0734739651654051)"
      ]
     },
     "execution_count": 85,
     "metadata": {},
     "output_type": "execute_result"
    }
   ],
   "source": [
    "spearmanr(chemo_cesd_faith[\"Updated CES-D\"], chemo_cesd_faith[\"faith_pd\"])"
   ]
  },
  {
   "cell_type": "code",
   "execution_count": 89,
   "id": "4de9c6ee",
   "metadata": {},
   "outputs": [
    {
     "data": {
      "image/png": "[encoded data removed]",
      "text/plain": [
       "<Figure size 360x360 with 1 Axes>"
      ]
     },
     "metadata": {
      "needs_background": "light"
     },
     "output_type": "display_data"
    }
   ],
   "source": [
    "ax = sns.lmplot(x=\"Updated CES-D\", y=\"faith_pd\", data=chemo_cesd_faith, \n",
    "               line_kws={'color': 'black'}, scatter_kws={\"color\":\"black\"})\n",
    "ax.set(ylim=0,ylabel=\"Faith's Phylogenetic Diversity\", xlabel=\"CES-D Total Score\")\n",
    "plt.savefig(\"reanalysis-2/Figures/faith-cesd.pdf\")\n",
    "plt.savefig(\"reanalysis-2/Figures/faith-cesd.png\")\n",
    "\n",
    "plt.show()\n",
    "\n"
   ]
  },
  {
   "cell_type": "markdown",
   "id": "de33a25a",
   "metadata": {},
   "source": [
    "## PERMDISP"
   ]
  },
  {
   "cell_type": "code",
   "execution_count": 246,
   "id": "df900129",
   "metadata": {},
   "outputs": [
    {
     "name": "stdout",
     "output_type": "stream",
     "text": [
      "\u001b[32mSaved FeatureTable[Frequency] to: core-diversity-results-noNA/rarefied_table.qza\u001b[0m\n",
      "\u001b[32mSaved SampleData[AlphaDiversity] to: core-diversity-results-noNA/faith_pd_vector.qza\u001b[0m\n",
      "\u001b[32mSaved SampleData[AlphaDiversity] to: core-diversity-results-noNA/observed_features_vector.qza\u001b[0m\n",
      "\u001b[32mSaved SampleData[AlphaDiversity] to: core-diversity-results-noNA/shannon_vector.qza\u001b[0m\n",
      "\u001b[32mSaved SampleData[AlphaDiversity] to: core-diversity-results-noNA/evenness_vector.qza\u001b[0m\n",
      "\u001b[32mSaved DistanceMatrix to: core-diversity-results-noNA/unweighted_unifrac_distance_matrix.qza\u001b[0m\n",
      "\u001b[32mSaved DistanceMatrix to: core-diversity-results-noNA/weighted_unifrac_distance_matrix.qza\u001b[0m\n",
      "\u001b[32mSaved DistanceMatrix to: core-diversity-results-noNA/jaccard_distance_matrix.qza\u001b[0m\n",
      "\u001b[32mSaved DistanceMatrix to: core-diversity-results-noNA/bray_curtis_distance_matrix.qza\u001b[0m\n",
      "\u001b[32mSaved PCoAResults to: core-diversity-results-noNA/unweighted_unifrac_pcoa_results.qza\u001b[0m\n",
      "\u001b[32mSaved PCoAResults to: core-diversity-results-noNA/weighted_unifrac_pcoa_results.qza\u001b[0m\n",
      "\u001b[32mSaved PCoAResults to: core-diversity-results-noNA/jaccard_pcoa_results.qza\u001b[0m\n",
      "\u001b[32mSaved PCoAResults to: core-diversity-results-noNA/bray_curtis_pcoa_results.qza\u001b[0m\n",
      "\u001b[32mSaved Visualization to: core-diversity-results-noNA/unweighted_unifrac_emperor.qzv\u001b[0m\n",
      "\u001b[32mSaved Visualization to: core-diversity-results-noNA/weighted_unifrac_emperor.qzv\u001b[0m\n",
      "\u001b[32mSaved Visualization to: core-diversity-results-noNA/jaccard_emperor.qzv\u001b[0m\n",
      "\u001b[32mSaved Visualization to: core-diversity-results-noNA/bray_curtis_emperor.qzv\u001b[0m\n"
     ]
    }
   ],
   "source": [
    "! qiime diversity core-metrics-phylogenetic \\\n",
    "--i-table table_noNA.qza \\\n",
    "--i-phylogeny insertion-tree.qza \\\n",
    "--p-sampling-depth 13100 \\\n",
    "--m-metadata-file Categorical-meta-noNA.tsv \\\n",
    "--output-dir core-diversity-results-noNA"
   ]
  },
  {
   "cell_type": "code",
   "execution_count": 247,
   "id": "7f123d4b",
   "metadata": {},
   "outputs": [
    {
     "name": "stdout",
     "output_type": "stream",
     "text": [
      "\u001b[32mSaved Visualization to: core-diversity-results-noNA/permdisp_hcvsbc_ununi.qza.qzv\u001b[0m\r\n"
     ]
    }
   ],
   "source": [
    "! qiime diversity beta-group-significance \\\n",
    "--i-distance-matrix core-diversity-results-noNA/unweighted_unifrac_distance_matrix.qza \\\n",
    "--m-metadata-file Categorical-meta-noNA.tsv \\\n",
    "--m-metadata-column hcvsbc-cat \\\n",
    "--p-method permdisp \\\n",
    "--o-visualization core-diversity-results-noNA/permdisp_hcvsbc_ununi.qzv"
   ]
  },
  {
   "cell_type": "markdown",
   "id": "f5e1c1e5",
   "metadata": {},
   "source": [
    "#### Unweighted Unifrac\n",
    "#### F value\t2.06044\n",
    "#### p-value\t0.158"
   ]
  },
  {
   "cell_type": "code",
   "execution_count": 251,
   "id": "87bae657",
   "metadata": {},
   "outputs": [
    {
     "name": "stdout",
     "output_type": "stream",
     "text": [
      "\u001b[32mSaved Visualization to: core-diversity-results-noNA/permdisp_hcvsbc_wuni.qzv\u001b[0m\r\n"
     ]
    }
   ],
   "source": [
    "! qiime diversity beta-group-significance \\\n",
    "--i-distance-matrix core-diversity-results-noNA/weighted_unifrac_distance_matrix.qza \\\n",
    "--m-metadata-file Categorical-meta-noNA.tsv \\\n",
    "--m-metadata-column hcvsbc-cat \\\n",
    "--p-method permdisp \\\n",
    "--o-visualization core-diversity-results-noNA/permdisp_hcvsbc_wuni.qzv"
   ]
  },
  {
   "cell_type": "markdown",
   "id": "04171118",
   "metadata": {},
   "source": [
    "#### Weighted UniFrac\n",
    "#### test statistic\t1.22936\n",
    "#### p-value\t0.253"
   ]
  },
  {
   "cell_type": "markdown",
   "id": "00fb0e87",
   "metadata": {},
   "source": [
    "## Desulfobacterota"
   ]
  },
  {
   "cell_type": "code",
   "execution_count": 95,
   "id": "af057549",
   "metadata": {},
   "outputs": [],
   "source": [
    "L2 = Artifact.load(\"reanalysis-2/L2-nobloom-table.qza\").view(pd.DataFrame)\n",
    "L2.index = L2.index.astype(int)"
   ]
  },
  {
   "cell_type": "code",
   "execution_count": 96,
   "id": "17f8879f",
   "metadata": {},
   "outputs": [],
   "source": [
    "L2mat = np.matrix(L2) \n",
    "L2mat /= np.sum(L2mat, axis=1)\n",
    "L2 = pd.DataFrame(L2mat, index = L2.index, columns=L2.columns)"
   ]
  },
  {
   "cell_type": "markdown",
   "id": "a9523038",
   "metadata": {},
   "source": [
    "## Taxa barplot remaking"
   ]
  },
  {
   "cell_type": "code",
   "execution_count": 98,
   "id": "d7bcbc39",
   "metadata": {
    "scrolled": true
   },
   "outputs": [],
   "source": [
    "metadata[\"Experimental Group\"] = metadata[\"Chemotherapy\"].apply(lambda x: grp_mapper[x])"
   ]
  },
  {
   "cell_type": "code",
   "execution_count": 102,
   "id": "2cee6d31",
   "metadata": {},
   "outputs": [],
   "source": [
    "metadata[\"sampleid\"] = metadata.reset_index()[\"sampleid\"].astype(int)"
   ]
  },
  {
   "cell_type": "code",
   "execution_count": null,
   "id": "185baeb2",
   "metadata": {},
   "outputs": [],
   "source": [
    "metadata.to_csv(\"expr-group-metadata.tsv\", sep=\"\\t\", index=False)"
   ]
  },
  {
   "cell_type": "code",
   "execution_count": 180,
   "id": "50b9b00c",
   "metadata": {},
   "outputs": [
    {
     "name": "stdout",
     "output_type": "stream",
     "text": [
      "\u001b[32mSaved FeatureTable[Frequency] to: noMito_noChloro-expr-table.qza\u001b[0m\r\n"
     ]
    }
   ],
   "source": [
    "! qiime feature-table filter-samples \\\n",
    "--i-table noMito_noChloro-noNA-table.qza \\\n",
    "--m-metadata-file expr-group-metadata.tsv \\\n",
    "--o-filtered-table noMito_noChloro-expr-table.qza"
   ]
  },
  {
   "cell_type": "code",
   "execution_count": 181,
   "id": "2947fc30",
   "metadata": {},
   "outputs": [
    {
     "name": "stdout",
     "output_type": "stream",
     "text": [
      "\u001b[32mSaved Visualization to: expr-grp-taxa-barplot.qza.qzv\u001b[0m\r\n"
     ]
    }
   ],
   "source": [
    "! qiime taxa barplot \\\n",
    "--i-table noMito_noChloro-noNA-table.qza \\\n",
    "--i-taxonomy taxonomy-silva.qza \\\n",
    "--m-metadata-file expr-group-metadata.tsv \\\n",
    "--o-visualization expr-grp-taxa-barplot.qza"
   ]
  },
  {
   "cell_type": "markdown",
   "id": "ba173665",
   "metadata": {},
   "source": [
    "## PCoA nicer plots"
   ]
  },
  {
   "cell_type": "code",
   "execution_count": 103,
   "id": "694824fd",
   "metadata": {},
   "outputs": [],
   "source": [
    "from skbio.stats.ordination import OrdinationResults"
   ]
  },
  {
   "cell_type": "code",
   "execution_count": 104,
   "id": "85158d6f",
   "metadata": {},
   "outputs": [],
   "source": [
    "u_uni_pcoa = Artifact.load(\"core-diversity-results-noNA/unweighted_unifrac_pcoa_results.qza\").view(OrdinationResults)"
   ]
  },
  {
   "cell_type": "code",
   "execution_count": 105,
   "id": "977fee21",
   "metadata": {},
   "outputs": [
    {
     "data": {
      "text/plain": [
       "0    0.124638\n",
       "1    0.064752\n",
       "2    0.061258\n",
       "3    0.056244\n",
       "4    0.049513\n",
       "dtype: float64"
      ]
     },
     "execution_count": 105,
     "metadata": {},
     "output_type": "execute_result"
    }
   ],
   "source": [
    "u_uni_pcoa.proportion_explained.head()"
   ]
  },
  {
   "cell_type": "code",
   "execution_count": 106,
   "id": "0f7b7ddf",
   "metadata": {},
   "outputs": [],
   "source": [
    "u_uni_pcoa.samples.index = [int(x) for x in u_uni_pcoa.samples.index]\n",
    "pcoa_df = pd.concat([u_uni_pcoa.samples,\n",
    "                     metadata], axis=1)"
   ]
  },
  {
   "cell_type": "code",
   "execution_count": 107,
   "id": "52f687dc",
   "metadata": {},
   "outputs": [
    {
     "data": {
      "image/png": "[encoded data removed]",
      "text/plain": [
       "<Figure size 432x288 with 1 Axes>"
      ]
     },
     "metadata": {
      "needs_background": "light"
     },
     "output_type": "display_data"
    }
   ],
   "source": [
    "font = {'size'   : 12}\n",
    "\n",
    "matplotlib.rc('font', **font)\n",
    "\n",
    "ax = sns.scatterplot(x=0, y=1, hue=\"Updated CES-D\", \n",
    "                     data=pcoa_df)"
   ]
  },
  {
   "cell_type": "code",
   "execution_count": 111,
   "id": "5f0754b5",
   "metadata": {},
   "outputs": [
    {
     "data": {
      "image/png": "[encoded data removed]",
      "text/plain": [
       "<Figure size 432x288 with 1 Axes>"
      ]
     },
     "metadata": {
      "needs_background": "light"
     },
     "output_type": "display_data"
    }
   ],
   "source": [
    "matplotlib.rc('font', **font)\n",
    "\n",
    "ax = sns.scatterplot(x=0, y=1, hue=\"Chemotherapy\", hue_order=[\"Healthy Control\", \"Breast Cancer\"],\n",
    "                     edgecolor=\"black\",\n",
    "                     data=pcoa_df)\n",
    "handles, labels = ax.get_legend_handles_labels()\n",
    "\n",
    "plt.clf() # Kinda hacky to get rid of the old plot but still have handles/labels\n",
    "\n",
    "ax = sns.scatterplot(x=0, y=1, hue=\"Chemotherapy\", hue_order=[\"Healthy Control\", \"Breast Cancer\"],\n",
    "                     edgecolor='black',\n",
    "                     data=pcoa_df, legend=False)\n",
    "\n",
    "ax.legend(handles=handles, labels=labels, title=None, frameon=False)\n",
    "\n",
    "ax.set(ylim=(-0.3,0.3), ylabel=\"PCo2 (6.5%)\", xlabel=\"PCo1 (12.5%)\")\n",
    "\n",
    "ax.spines[\"top\"].set_visible(False)\n",
    "ax.spines[\"right\"].set_visible(False)\n",
    "\n",
    "plt.savefig(\"reanalysis-2/Figures/HC-BC-PCoA-final.pdf\")\n",
    "plt.savefig(\"reanalysis-2/Figures/HC-BC-PCoA-final.png\")\n",
    "plt.show()\n"
   ]
  },
  {
   "cell_type": "code",
   "execution_count": 112,
   "id": "319aa39f",
   "metadata": {},
   "outputs": [
    {
     "data": {
      "image/png": "[encoded data removed]",
      "text/plain": [
       "<Figure size 432x288 with 1 Axes>"
      ]
     },
     "metadata": {
      "needs_background": "light"
     },
     "output_type": "display_data"
    }
   ],
   "source": [
    "matplotlib.rc('font', **font)\n",
    "\n",
    "ax = sns.scatterplot(x=0, y=1, hue=\"fact_c_r_imp_total_categorical\", \n",
    "                     hue_order=[\"No Cognitive Impairment\", \"Cognitive Impairment\"],\n",
    "                     palette=[\"gold\", \"purple\"],\n",
    "                     data=pcoa_df)\n",
    "handles, labels = ax.get_legend_handles_labels()\n",
    "\n",
    "plt.clf() # Kinda hacky to get rid of the old plot but still have handles/labels\n",
    "\n",
    "ax = sns.scatterplot(x=0, y=1, hue=\"fact_c_r_imp_total_categorical\", \n",
    "                     hue_order=[\"No Cognitive Impairment\", \"Cognitive Impairment\"],\n",
    "                     palette=[\"gold\", \"purple\"], \n",
    "                     edgecolor='black',\n",
    "                     data=pcoa_df, legend=False)\n",
    "\n",
    "ax.legend(handles=handles, labels=labels, title=None, frameon=False)\n",
    "\n",
    "ax.set(ylim=(-0.3,0.3), ylabel=\"PCo2 (6.5%)\", xlabel=\"PCo1 (12.5%)\")\n",
    "\n",
    "ax.spines[\"top\"].set_visible(False)\n",
    "ax.spines[\"right\"].set_visible(False)\n",
    "\n",
    "plt.savefig(\"reanalysis-2/Figures/FACT-Cog-PCoA-final.pdf\")\n",
    "plt.savefig(\"reanalysis-2/Figures/FACT-Cog-PCoA-final.png\")\n",
    "\n",
    "plt.show()\n"
   ]
  },
  {
   "cell_type": "markdown",
   "id": "b16d994e",
   "metadata": {},
   "source": [
    "## Phyla corr with updated CESD"
   ]
  },
  {
   "cell_type": "code",
   "execution_count": 114,
   "id": "b9bc82cb",
   "metadata": {},
   "outputs": [],
   "source": [
    "from skbio.stats.composition import clr"
   ]
  },
  {
   "cell_type": "code",
   "execution_count": 115,
   "id": "17667725",
   "metadata": {},
   "outputs": [
    {
     "name": "stdout",
     "output_type": "stream",
     "text": [
      "SPEARMAN CORR PHYLA AND CESD\n",
      "k__Archaea;p__Euryarchaeota -0.01015128340637748 0.9560261617495794\n",
      "k__Bacteria;__ -0.12212910544570652 0.5054882221449815\n",
      "k__Bacteria;p__ 0.024747248171400497 0.8930528704043305\n",
      "k__Bacteria;p__Actinobacteria -0.06617675682050146 0.7189569259348045\n",
      "k__Bacteria;p__Bacteroidetes 0.17922871638885812 0.32634091213596716\n",
      "k__Bacteria;p__Cyanobacteria -0.18449287036254375 0.3120940688049905\n",
      "k__Bacteria;p__Firmicutes -0.12022110822391098 0.5122105545347095\n",
      "k__Bacteria;p__Fusobacteria 0.01730117350035964 0.9251224841534181\n",
      "k__Bacteria;p__Lentisphaerae -0.15735673897321603 0.3897308401166224\n",
      "k__Bacteria;p__Proteobacteria 0.06488998654899171 0.7242075925369261\n",
      "k__Bacteria;p__Synergistetes -0.1414754187497763 0.4399001176720795\n",
      "SIGNIFICANT:\n",
      "k__Bacteria;p__Tenericutes -0.5326848122216936 0.0016973120003883895\n",
      "k__Bacteria;p__Verrucomicrobia -0.1977932102848612 0.277861248481561\n"
     ]
    }
   ],
   "source": [
    "print(\"SPEARMAN CORR PHYLA AND CESD\")\n",
    "for col in L2.columns:\n",
    "    r, p = spearmanr(metadata[\"Updated CES-D\"].reindex_like(L2),\n",
    "                      L2[col],\n",
    "                    nan_policy=\"omit\")\n",
    "    \n",
    "    if p < 0.05:\n",
    "        print(\"SIGNIFICANT:\")\n",
    "    print(col, r, p)"
   ]
  },
  {
   "cell_type": "code",
   "execution_count": 118,
   "id": "d228dfe7",
   "metadata": {},
   "outputs": [
    {
     "data": {
      "image/png": "[encoded data removed]",
      "text/plain": [
       "<Figure size 432x288 with 1 Axes>"
      ]
     },
     "metadata": {
      "needs_background": "light"
     },
     "output_type": "display_data"
    }
   ],
   "source": [
    "font = {'size'   : 12}\n",
    "matplotlib.rc('font', **font)\n",
    "\n",
    "ax = sns.scatterplot(x=clr(L2[\"k__Bacteria;p__Tenericutes\"].apply(lambda x: x+0.00000001)),\n",
    "                    y=metadata[\"Updated CES-D\"].reindex_like(L2),\n",
    "                    color=[\"black\"])\n",
    "\n",
    "ax.set(xlabel=\"Center Log-Ratio Transformed Tenericutes Relative Abundance\",\n",
    "       ylabel=\"CES-D Total Score\")\n",
    "\n",
    "ax.spines[\"top\"].set_visible(False)\n",
    "ax.spines[\"right\"].set_visible(False)\n",
    "\n",
    "#plt.savefig(\"reanalysis-2/Figures/FACT-Cog-PCoA-final.pdf\")\n",
    "#plt.savefig(\"reanalysis-2/Figures/FACT-Cog-PCoA-final.png\")\n",
    "\n",
    "\n",
    "plt.show()"
   ]
  },
  {
   "cell_type": "markdown",
   "id": "99a3649f",
   "metadata": {},
   "source": [
    "## Point estimates"
   ]
  },
  {
   "cell_type": "code",
   "execution_count": 298,
   "id": "165d80df",
   "metadata": {},
   "outputs": [],
   "source": [
    "faith_pd.index = [float(x) for x in faith_pd.index]"
   ]
  },
  {
   "cell_type": "code",
   "execution_count": 304,
   "id": "9594fb74",
   "metadata": {},
   "outputs": [],
   "source": [
    "metadata[\"faith\"] = faith_pd"
   ]
  },
  {
   "cell_type": "code",
   "execution_count": 306,
   "id": "d45ea06d",
   "metadata": {},
   "outputs": [
    {
     "data": {
      "text/plain": [
       "49.46883630886542"
      ]
     },
     "execution_count": 306,
     "metadata": {},
     "output_type": "execute_result"
    }
   ],
   "source": [
    "metadata.loc[metadata[\"Chemotherapy\"]==\"Breast Cancer\", \"faith\"].mean()"
   ]
  },
  {
   "cell_type": "code",
   "execution_count": null,
   "id": "c74a0615",
   "metadata": {},
   "outputs": [],
   "source": [
    "metadata.loc[metadata[\"Chemotherapy\"]==\"Breast Cancer\", \"faith\"].mean()"
   ]
  },
  {
   "cell_type": "code",
   "execution_count": 307,
   "id": "d232b4ae",
   "metadata": {},
   "outputs": [
    {
     "data": {
      "text/plain": [
       "57.442069505244206"
      ]
     },
     "execution_count": 307,
     "metadata": {},
     "output_type": "execute_result"
    }
   ],
   "source": [
    "metadata.loc[metadata[\"Chemotherapy\"]==\"Healthy Control\", \"faith\"].mean()"
   ]
  },
  {
   "cell_type": "code",
   "execution_count": 313,
   "id": "3c4aab32",
   "metadata": {},
   "outputs": [
    {
     "name": "stdout",
     "output_type": "stream",
     "text": [
      "                      mean  count        std\n",
      "Chemotherapy                                \n",
      "Breast Cancer    49.468836     17  14.172454\n",
      "Healthy Control  57.442070     14  21.273813\n",
      "Breast Cancer: 42.731679143735654 - 56.205993473995186\n",
      "Healthy Control: 46.29816489592784 - 68.58597411456057\n"
     ]
    }
   ],
   "source": [
    "faith_stats = metadata.groupby([\"Chemotherapy\"])[\"faith\"].agg([\"mean\", \"count\",\"std\"])\n",
    "print(faith_stats)\n",
    "\n",
    "for i in faith_stats.index:\n",
    "    m, c, s = faith_stats.loc[i]\n",
    "    hi = (m + 1.96*s/np.sqrt(c))\n",
    "    lo = (m - 1.96*s/np.sqrt(c))\n",
    "    \n",
    "    print(f\"{i}: {lo} - {hi}\")\n"
   ]
  },
  {
   "cell_type": "code",
   "execution_count": 316,
   "id": "46016195",
   "metadata": {},
   "outputs": [],
   "source": [
    "L2_floatindex = L2\n",
    "L2_floatindex.index = [float(x) for x in L2.index]"
   ]
  },
  {
   "cell_type": "code",
   "execution_count": 321,
   "id": "cf77c2af",
   "metadata": {},
   "outputs": [],
   "source": [
    "L2_meta = pd.concat([L2_floatindex, metadata[\"Chemotherapy\"]],\n",
    "                   axis=1)"
   ]
  },
  {
   "cell_type": "code",
   "execution_count": 323,
   "id": "6df19108",
   "metadata": {},
   "outputs": [
    {
     "name": "stdout",
     "output_type": "stream",
     "text": [
      "                     mean  count       std\n",
      "Chemotherapy                              \n",
      "Breast Cancer    0.000831     18  0.002003\n",
      "Healthy Control  0.016034     14  0.036840\n",
      "Breast Cancer: -9.445740230819353e-05 - 0.0017557712658621005\n",
      "Healthy Control: -0.003263785750794647 - 0.035332488374026194\n"
     ]
    }
   ],
   "source": [
    "tener_stats = L2_meta.groupby([\"Chemotherapy\"])[\"k__Bacteria;p__Tenericutes\"].agg([\"mean\", \"count\",\"std\"])\n",
    "print(tener_stats)\n",
    "\n",
    "for i in tener_stats.index:\n",
    "    m, c, s = tener_stats.loc[i]\n",
    "    hi = (m + 1.96*s/np.sqrt(c))\n",
    "    lo = (m - 1.96*s/np.sqrt(c))\n",
    "    \n",
    "    print(f\"{i}: {lo} - {hi}\")"
   ]
  },
  {
   "cell_type": "code",
   "execution_count": 325,
   "id": "dbc9830b",
   "metadata": {},
   "outputs": [
    {
     "name": "stdout",
     "output_type": "stream",
     "text": [
      "                     mean  count       std\n",
      "Chemotherapy                              \n",
      "Breast Cancer    0.000495     18  0.001550\n",
      "Healthy Control  0.017141     14  0.033442\n",
      "Breast Cancer: -0.00022157823068627536 - 0.0012107848274503581\n",
      "Healthy Control: -0.0003768005562235152 - 0.034659254314975234\n"
     ]
    }
   ],
   "source": [
    "ver_stats = L2_meta.groupby([\"Chemotherapy\"])[\"k__Bacteria;p__Verrucomicrobia\"].agg([\"mean\", \"count\",\"std\"])\n",
    "print(ver_stats)\n",
    "\n",
    "for i in ver_stats.index:\n",
    "    m, c, s = ver_stats.loc[i]\n",
    "    hi = (m + 1.96*s/np.sqrt(c))\n",
    "    lo = (m - 1.96*s/np.sqrt(c))\n",
    "    \n",
    "    print(f\"{i}: {lo} - {hi}\")"
   ]
  },
  {
   "cell_type": "code",
   "execution_count": null,
   "id": "4405b6b4",
   "metadata": {},
   "outputs": [],
   "source": []
  }
 ],
 "metadata": {
  "kernelspec": {
   "display_name": "Python 3 (ipykernel)",
   "language": "python",
   "name": "python3"
  },
  "language_info": {
   "codemirror_mode": {
    "name": "ipython",
    "version": 3
   },
   "file_extension": ".py",
   "mimetype": "text/x-python",
   "name": "python",
   "nbconvert_exporter": "python",
   "pygments_lexer": "ipython3",
   "version": "3.8.12"
  }
 },
 "nbformat": 4,
 "nbformat_minor": 5
}
