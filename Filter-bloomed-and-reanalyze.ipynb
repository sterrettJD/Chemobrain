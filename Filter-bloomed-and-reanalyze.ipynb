{
 "cells": [
  {
   "cell_type": "code",
   "execution_count": 193,
   "metadata": {},
   "outputs": [],
   "source": [
    "import pandas as pd\n",
    "import numpy as np\n",
    "from qiime2 import Artifact, Visualization"
   ]
  },
  {
   "cell_type": "code",
   "execution_count": 1,
   "metadata": {},
   "outputs": [
    {
     "name": "stdout",
     "output_type": "stream",
     "text": [
      "/Users/johnsterrett/Research-Projects/Boulder/Chemobrain/200608_Elsayed_Lowry-1101\n"
     ]
    }
   ],
   "source": [
    "cd /Users/johnsterrett/Research-Projects/Boulder/Chemobrain/200608_Elsayed_Lowry-1101"
   ]
  },
  {
   "cell_type": "code",
   "execution_count": 2,
   "metadata": {},
   "outputs": [
    {
     "name": "stdout",
     "output_type": "stream",
     "text": [
      "ANCOM-L2-chemo.qzv\r\n",
      "ANCOM-L2-hcvsbc.qzv\r\n",
      "ANCOM-L3-chemo.qzv\r\n",
      "ANCOM-L3-hcvsbc.qzv\r\n",
      "ANCOM-L6-hcvsbc.qzv\r\n",
      "Akkermansia-boxplots.pdf\r\n",
      "CESD-LEfSe.pdf\r\n",
      "Cat-meta-no-datetime.txt\r\n",
      "Categorical-meta-noNA.tsv\r\n",
      "Categorical-meta-v3.tsv\r\n",
      "Chemo-LEfSe.pdf\r\n",
      "\u001b[31mCompletedJobInfo.xml\u001b[m\u001b[m*\r\n",
      "FACT-LEfSe.pdf\r\n",
      "\u001b[31mGenerateFASTQRunStatistics.xml\u001b[m\u001b[m*\r\n",
      "HLR-abundances-nona.csv\r\n",
      "HLR-abundances.csv\r\n",
      "\u001b[34mInterOp\u001b[m\u001b[m/\r\n",
      "\u001b[34mL2p\u001b[m\u001b[m/\r\n",
      "L2p-filtered.qza\r\n",
      "\u001b[34mL3p\u001b[m\u001b[m/\r\n",
      "L3p-filtered.qza\r\n",
      "\u001b[34mL6p\u001b[m\u001b[m/\r\n",
      "L6p-filtered.qza\r\n",
      "\u001b[31mRunInfo.xml\u001b[m\u001b[m*\r\n",
      "age-cesd-fact-boxplots.pdf\r\n",
      "akkermansia-time-all.pdf\r\n",
      "akkermansia-time.pdf\r\n",
      "alpha-rarefaction.qzv\r\n",
      "alpha-sigcorr-qiime.py\r\n",
      "alpha-sigcorr-qiime.py.1\r\n",
      "alphadiv-bc-cesd-trunc.png\r\n",
      "alphadiv-bc-cesd-trunc.svg\r\n",
      "alphadiv-bc-cesd.png\r\n",
      "alphadiv-bc-cesd.svg\r\n",
      "beta-rarefaction.qzv\r\n",
      "beta-sig-corr-qiime.py\r\n",
      "\u001b[34mbeta_corr_results_pearson\u001b[m\u001b[m/\r\n",
      "biplot-L2.qza\r\n",
      "biplot-L2.qzv\r\n",
      "biplot-bray-L2.qza\r\n",
      "biplot-bray-L2.qzv\r\n",
      "bray_curtis_corr_results.csv\r\n",
      "bray_curtis_sig_results.csv\r\n",
      "by_phylum.csv\r\n",
      "clr_transformed_sharedtaxa.csv\r\n",
      "clr_transformed_sharedtaxa_2.csv\r\n",
      "\u001b[34mcore-diversity-results\u001b[m\u001b[m/\r\n",
      "\u001b[34mcore-diversity-results-noNA\u001b[m\u001b[m/\r\n",
      "\u001b[34mdada2-results\u001b[m\u001b[m/\r\n",
      "\u001b[34mdemux\u001b[m\u001b[m/\r\n",
      "desulfobacterota-fact-scatter-chemo.pdf\r\n",
      "desulfobacterota-fact-scatter.pdf\r\n",
      "\u001b[31mdummyindex_S1_L001_I1_001.fastq.gz\u001b[m\u001b[m*\r\n",
      "\u001b[31mdummyindex_S1_L001_R1_001.fastq.gz\u001b[m\u001b[m*\r\n",
      "\u001b[31mdummyindex_S1_L001_R2_001.fastq\u001b[m\u001b[m*\r\n",
      "\u001b[31mdummyindex_S1_L001_R2_001.fastq.gz\u001b[m\u001b[m*\r\n",
      "expr-group-metadata.tsv\r\n",
      "expr-grp-taxa-barplot.qza.qzv\r\n",
      "faith-group.qzv\r\n",
      "faith.csv\r\n",
      "faith_corr.csv\r\n",
      "faith_group.qzv\r\n",
      "faith_log_fit_annotated.pdf\r\n",
      "\u001b[34mfaith_pd\u001b[m\u001b[m/\r\n",
      "faith_pd.csv\r\n",
      "faith_pd_corr.csv\r\n",
      "\u001b[34mfaith_pd_correlation\u001b[m\u001b[m/\r\n",
      "faith_sqrt_fit.pdf\r\n",
      "faith_time_logfit.pdf\r\n",
      "filtered-table.qza\r\n",
      "filtered-table.qzv\r\n",
      "importing-trial-metadata.tsv\r\n",
      "insertion-placements.qza\r\n",
      "insertion-tree.qza\r\n",
      "jaccard_corr_results.csv\r\n",
      "\u001b[34mjaccard_sig_Race_Ethnicity-cat\u001b[m\u001b[m/\r\n",
      "jaccard_sig_results.csv\r\n",
      "lefse_cesd_in.tsv\r\n",
      "lefse_cesd_out.lefse_internal_res\r\n",
      "lefse_cesd_plotdata.csv\r\n",
      "lefse_chemo_in.tsv\r\n",
      "lefse_chemo_out.lefse_internal_res\r\n",
      "lefse_chemo_plotdata.csv\r\n",
      "lefse_fact_in.tsv\r\n",
      "lefse_fact_out.lefse_internal_res\r\n",
      "level-2-expr-bars.png\r\n",
      "level-2-expr-bars.svg\r\n",
      "level-2-expr-legend.png\r\n",
      "level-2-expr-legend.svg\r\n",
      "level-3-expr-bars.png\r\n",
      "level-3-expr-bars.svg\r\n",
      "level-3-expr-legend.png\r\n",
      "level-3-expr-legend.svg\r\n",
      "level-7.csv\r\n",
      "noMito_noChloro-expr-table.qza\r\n",
      "noMito_noChloro-filtered-table.qza\r\n",
      "noMito_noChloro-filtered-table.qzv\r\n",
      "noMito_noChloro-noNA-table.qza\r\n",
      "\u001b[34mobserved_otus\u001b[m\u001b[m/\r\n",
      "observed_otus.csv\r\n",
      "observed_otus_corr.csv\r\n",
      "\u001b[34mobserved_otus_correlation\u001b[m\u001b[m/\r\n",
      "otus.csv\r\n",
      "\u001b[34motus_data\u001b[m\u001b[m/\r\n",
      "paired-end-sequences.qza\r\n",
      "\u001b[34mpielou_e\u001b[m\u001b[m/\r\n",
      "pielou_e.csv\r\n",
      "pielou_e_corr.csv\r\n",
      "\u001b[34mpielou_e_correlation\u001b[m\u001b[m/\r\n",
      "\u001b[34mraw_sequences\u001b[m\u001b[m/\r\n",
      "removed-table.qza\r\n",
      "removed-table.qzv\r\n",
      "\u001b[31mrunParameters.xml\u001b[m\u001b[m*\r\n",
      "sepp-refs-silva-128.qza\r\n",
      "\u001b[34mshannon\u001b[m\u001b[m/\r\n",
      "shannon.csv\r\n",
      "shannon_corr.csv\r\n",
      "\u001b[34mshannon_correlation\u001b[m\u001b[m/\r\n",
      "shared-heatmap-LEfSe.pdf\r\n",
      "shared-scatterplot-LEfSe.pdf\r\n",
      "silva-138-99-515-806-nb-classifier.qza\r\n",
      "silva-138-99-seqs-515-806.qza\r\n",
      "silva-138-99-tax-515-806.qza\r\n",
      "silva-138-99-tax.qza\r\n",
      "\u001b[34msilva-classified\u001b[m\u001b[m/\r\n",
      "\u001b[34mtable_noNA\u001b[m\u001b[m/\r\n",
      "table_noNA.qza\r\n",
      "tax-L2-table-pseudo.qza\r\n",
      "tax-L2-table.qza\r\n",
      "tax-L3-table-pseudo.qza\r\n",
      "tax-L3-table.qza\r\n",
      "tax-L6-table-pseudo.qza\r\n",
      "tax-L6-table.qza\r\n",
      "tax-table.qza\r\n",
      "taxa-barplot-noNA.qzv\r\n",
      "taxa-silva-barplot.qzv\r\n",
      "taxonomy-silva.qza\r\n",
      "taxonomy-silva.qzv\r\n",
      "time-difference.txt\r\n",
      "time-difference.xlsx\r\n",
      "unweighted_unifrac_corr_results.csv\r\n",
      "unweighted_unifrac_sig_results.csv\r\n",
      "weighted_unifrac_corr_results.csv\r\n",
      "weighted_unifrac_sig_results.csv\r\n"
     ]
    }
   ],
   "source": [
    "ls"
   ]
  },
  {
   "cell_type": "code",
   "execution_count": 3,
   "metadata": {},
   "outputs": [
    {
     "name": "stdout",
     "output_type": "stream",
     "text": [
      "--2021-07-15 10:57:35--  https://raw.githubusercontent.com/knightlab-analyses/bloom-analyses/master/data/bloom_taxa.txt\n",
      "Resolving raw.githubusercontent.com (raw.githubusercontent.com)... 185.199.108.133, 185.199.110.133, 185.199.109.133, ...\n",
      "Connecting to raw.githubusercontent.com (raw.githubusercontent.com)|185.199.108.133|:443... connected.\n",
      "HTTP request sent, awaiting response... 200 OK\n",
      "Length: 3055 (3.0K) [text/plain]\n",
      "Saving to: ‘bloom_taxa.txt’\n",
      "\n",
      "bloom_taxa.txt      100%[===================>]   2.98K  --.-KB/s    in 0s      \n",
      "\n",
      "2021-07-15 10:57:35 (10.4 MB/s) - ‘bloom_taxa.txt’ saved [3055/3055]\n",
      "\n"
     ]
    }
   ],
   "source": [
    "! wget https://raw.githubusercontent.com/knightlab-analyses/bloom-analyses/master/data/bloom_taxa.txt"
   ]
  },
  {
   "cell_type": "code",
   "execution_count": 105,
   "metadata": {},
   "outputs": [],
   "source": [
    "bloomdf = pd.read_csv(\"bloom_taxa.txt\", sep=\"\\t\")\n",
    "\n",
    "bloomdf.columns = ['featureid', 'Storage Change', 'Freeze-Thaw change', 'Taxonomy']\n",
    "\n",
    "#format taxonomy\n",
    "bloomdf[\"Taxonomy\"] = bloomdf[\"Taxonomy\"].apply(lambda x: \"d\" + x[1:])\n",
    "bloomdf[\"Taxonomy\"] = bloomdf[\"Taxonomy\"].apply(lambda x: \"; \".join(x.split(\";\")))"
   ]
  },
  {
   "cell_type": "code",
   "execution_count": 126,
   "metadata": {},
   "outputs": [
    {
     "data": {
      "text/html": [
       "<div>\n",
       "<style scoped>\n",
       "    .dataframe tbody tr th:only-of-type {\n",
       "        vertical-align: middle;\n",
       "    }\n",
       "\n",
       "    .dataframe tbody tr th {\n",
       "        vertical-align: top;\n",
       "    }\n",
       "\n",
       "    .dataframe thead th {\n",
       "        text-align: right;\n",
       "    }\n",
       "</style>\n",
       "<table border=\"1\" class=\"dataframe\">\n",
       "  <thead>\n",
       "    <tr style=\"text-align: right;\">\n",
       "      <th></th>\n",
       "      <th>featureid</th>\n",
       "      <th>Storage Change</th>\n",
       "      <th>Freeze-Thaw change</th>\n",
       "      <th>Taxonomy</th>\n",
       "      <th>Taxonomy (genus)</th>\n",
       "    </tr>\n",
       "  </thead>\n",
       "  <tbody>\n",
       "    <tr>\n",
       "      <th>0</th>\n",
       "      <td>691656f33e727f8857f5c9ee40ed05b1</td>\n",
       "      <td>280.77</td>\n",
       "      <td>56.41</td>\n",
       "      <td>d__Bacteria; p__Proteobacteria; c__Gammaproteo...</td>\n",
       "      <td>d__Bacteria; p__Proteobacteria; c__Gammaproteo...</td>\n",
       "    </tr>\n",
       "    <tr>\n",
       "      <th>1</th>\n",
       "      <td>41f1c6e4d1e4cc653df22555bfab5796</td>\n",
       "      <td>160.78</td>\n",
       "      <td>17.81</td>\n",
       "      <td>d__Bacteria; p__Proteobacteria; c__Gammaproteo...</td>\n",
       "      <td>d__Bacteria; p__Proteobacteria; c__Gammaproteo...</td>\n",
       "    </tr>\n",
       "    <tr>\n",
       "      <th>2</th>\n",
       "      <td>ece1af985b63ebccd2833e9b5f0432e3</td>\n",
       "      <td>138.78</td>\n",
       "      <td>0.85</td>\n",
       "      <td>d__Bacteria; p__Proteobacteria; c__Gammaproteo...</td>\n",
       "      <td>d__Bacteria; p__Proteobacteria; c__Gammaproteo...</td>\n",
       "    </tr>\n",
       "    <tr>\n",
       "      <th>3</th>\n",
       "      <td>04195686f2b70585790ec75320de0d6f</td>\n",
       "      <td>97.38</td>\n",
       "      <td>7.03</td>\n",
       "      <td>d__Bacteria; p__Proteobacteria; c__Gammaproteo...</td>\n",
       "      <td>d__Bacteria; p__Proteobacteria; c__Gammaproteo...</td>\n",
       "    </tr>\n",
       "    <tr>\n",
       "      <th>4</th>\n",
       "      <td>df3f8cdac76c62baa98469c33b82d8df</td>\n",
       "      <td>78.79</td>\n",
       "      <td>2.66</td>\n",
       "      <td>d__Bacteria; p__Proteobacteria; c__Gammaproteo...</td>\n",
       "      <td>d__Bacteria; p__Proteobacteria; c__Gammaproteo...</td>\n",
       "    </tr>\n",
       "  </tbody>\n",
       "</table>\n",
       "</div>"
      ],
      "text/plain": [
       "                          featureid  Storage Change  Freeze-Thaw change  \\\n",
       "0  691656f33e727f8857f5c9ee40ed05b1          280.77               56.41   \n",
       "1  41f1c6e4d1e4cc653df22555bfab5796          160.78               17.81   \n",
       "2  ece1af985b63ebccd2833e9b5f0432e3          138.78                0.85   \n",
       "3  04195686f2b70585790ec75320de0d6f           97.38                7.03   \n",
       "4  df3f8cdac76c62baa98469c33b82d8df           78.79                2.66   \n",
       "\n",
       "                                            Taxonomy  \\\n",
       "0  d__Bacteria; p__Proteobacteria; c__Gammaproteo...   \n",
       "1  d__Bacteria; p__Proteobacteria; c__Gammaproteo...   \n",
       "2  d__Bacteria; p__Proteobacteria; c__Gammaproteo...   \n",
       "3  d__Bacteria; p__Proteobacteria; c__Gammaproteo...   \n",
       "4  d__Bacteria; p__Proteobacteria; c__Gammaproteo...   \n",
       "\n",
       "                                    Taxonomy (genus)  \n",
       "0  d__Bacteria; p__Proteobacteria; c__Gammaproteo...  \n",
       "1  d__Bacteria; p__Proteobacteria; c__Gammaproteo...  \n",
       "2  d__Bacteria; p__Proteobacteria; c__Gammaproteo...  \n",
       "3  d__Bacteria; p__Proteobacteria; c__Gammaproteo...  \n",
       "4  d__Bacteria; p__Proteobacteria; c__Gammaproteo...  "
      ]
     },
     "execution_count": 126,
     "metadata": {},
     "output_type": "execute_result"
    }
   ],
   "source": [
    "bloomdf.head()"
   ]
  },
  {
   "cell_type": "code",
   "execution_count": 106,
   "metadata": {},
   "outputs": [],
   "source": [
    "taxonomy = Artifact.load(\"taxonomy-silva.qza\").view(pd.DataFrame)\n",
    "taxonomy = taxonomy.reset_index().set_index(\"Taxon\")"
   ]
  },
  {
   "cell_type": "code",
   "execution_count": 107,
   "metadata": {},
   "outputs": [
    {
     "data": {
      "text/plain": [
       "Index([], dtype='object', name='Taxon')"
      ]
     },
     "execution_count": 107,
     "metadata": {},
     "output_type": "execute_result"
    }
   ],
   "source": [
    "taxonomy.index[np.where([x in bloomdf[\"Taxonomy\"].values for x in taxonomy.index])]"
   ]
  },
  {
   "cell_type": "markdown",
   "metadata": {},
   "source": [
    "**Can see above that it isn't picking up these taxa when classified down to the species level**"
   ]
  },
  {
   "cell_type": "code",
   "execution_count": 111,
   "metadata": {},
   "outputs": [],
   "source": [
    "bloomdf[\"Taxonomy (genus)\"] = bloomdf[\"Taxonomy\"].apply(lambda x: x.split(\"; s__\")[0])"
   ]
  },
  {
   "cell_type": "code",
   "execution_count": 124,
   "metadata": {},
   "outputs": [],
   "source": [
    "tofilt = taxonomy.index[np.where([x in bloomdf[\"Taxonomy (genus)\"].values for x in taxonomy.index])]"
   ]
  },
  {
   "cell_type": "code",
   "execution_count": 125,
   "metadata": {},
   "outputs": [
    {
     "data": {
      "text/plain": [
       "{'d__Bacteria; p__Firmicutes; c__Bacilli; o__Bacillales; f__Bacillaceae; g__Bacillus',\n",
       " 'd__Bacteria; p__Firmicutes; c__Bacilli; o__Lactobacillales; f__Lactobacillaceae; g__Lactobacillus',\n",
       " 'd__Bacteria; p__Proteobacteria; c__Gammaproteobacteria; o__Pseudomonadales; f__Pseudomonadaceae; g__Pseudomonas'}"
      ]
     },
     "execution_count": 125,
     "metadata": {},
     "output_type": "execute_result"
    }
   ],
   "source": [
    "set(tofilt)"
   ]
  },
  {
   "cell_type": "code",
   "execution_count": 116,
   "metadata": {},
   "outputs": [
    {
     "data": {
      "text/plain": [
       "{'d__Bacteria; p__Bacteroidetes; c__Bacteroidia; o__Bacteroidales; f__Bacteroidaceae; g__Bacteroides',\n",
       " 'd__Bacteria; p__Firmicutes; c__Bacilli; o__Bacillales; f__Planococcaceae; g__Sporosarcina',\n",
       " 'd__Bacteria; p__Firmicutes; c__Bacilli; o__Bacillales; f__Staphylococcaceae; g__Staphylococcus',\n",
       " 'd__Bacteria; p__Firmicutes; c__Bacilli; o__Lactobacillales; f__Lactobacillaceae; g__',\n",
       " 'd__Bacteria; p__Proteobacteria; c__Gammaproteobacteria; o__Enterobacteriales; f__Enterobacteriaceae',\n",
       " 'd__Bacteria; p__Proteobacteria; c__Gammaproteobacteria; o__Enterobacteriales; f__Enterobacteriaceae; g__',\n",
       " 'd__Bacteria; p__Proteobacteria; c__Gammaproteobacteria; o__Enterobacteriales; f__Enterobacteriaceae; g__Citrobacter',\n",
       " 'd__Bacteria; p__Proteobacteria; c__Gammaproteobacteria; o__Enterobacteriales; f__Enterobacteriaceae; g__Escherichia',\n",
       " 'd__Bacteria; p__Proteobacteria; c__Gammaproteobacteria; o__Enterobacteriales; f__Enterobacteriaceae; g__Klebsiella',\n",
       " 'd__Bacteria; p__Proteobacteria; c__Gammaproteobacteria; o__Enterobacteriales; f__Enterobacteriaceae; g__Morganella',\n",
       " 'd__Bacteria; p__Proteobacteria; c__Gammaproteobacteria; o__Enterobacteriales; f__Enterobacteriaceae; g__Proteus',\n",
       " 'd__Bacteria; p__Proteobacteria; c__Gammaproteobacteria; o__Enterobacteriales; f__Enterobacteriaceae; g__Providencia',\n",
       " 'd__Bacteria; p__Proteobacteria; c__Gammaproteobacteria; o__Enterobacteriales; f__Enterobacteriaceae; g__Trabulsiella'}"
      ]
     },
     "execution_count": 116,
     "metadata": {},
     "output_type": "execute_result"
    }
   ],
   "source": [
    "set(bloomdf[\"Taxonomy (genus)\"])-set(tofilt)"
   ]
  },
  {
   "cell_type": "markdown",
   "metadata": {},
   "source": [
    "## SILVA assigned taxonomy isn't showing up, so I'm going to reclassify based on Greengenes"
   ]
  },
  {
   "cell_type": "code",
   "execution_count": 129,
   "metadata": {},
   "outputs": [],
   "source": [
    "mkdir reanalysis"
   ]
  },
  {
   "cell_type": "code",
   "execution_count": 132,
   "metadata": {},
   "outputs": [
    {
     "name": "stdout",
     "output_type": "stream",
     "text": [
      "\u001b[32mSaved FeatureData[Taxonomy] to: reanalysis/taxonomy-gg.qza\u001b[0m\r\n"
     ]
    }
   ],
   "source": [
    "!qiime feature-classifier classify-sklearn \\\n",
    "--i-reads dada2-results/representative_sequences.qza \\\n",
    "--i-classifier gg-13-8-99-515-806-nb-classifier.qza \\\n",
    "--o-classification reanalysis/taxonomy-gg.qza"
   ]
  },
  {
   "cell_type": "code",
   "execution_count": 141,
   "metadata": {},
   "outputs": [],
   "source": [
    "taxonomy = Artifact.load(\"reanalysis/taxonomy-gg.qza\").view(pd.DataFrame)\n",
    "taxonomy = taxonomy.reset_index().set_index(\"Taxon\")"
   ]
  },
  {
   "cell_type": "code",
   "execution_count": 145,
   "metadata": {},
   "outputs": [],
   "source": [
    "bloomdf = pd.read_csv(\"bloom_taxa.txt\", sep=\"\\t\")\n",
    "bloomdf.columns = ['featureid', 'Storage Change', 'Freeze-Thaw change', 'Taxonomy']\n",
    "bloomdf[\"Taxonomy\"] = bloomdf[\"Taxonomy\"].apply(lambda x: \"; \".join(x.split(\";\")))"
   ]
  },
  {
   "cell_type": "markdown",
   "metadata": {},
   "source": [
    "### We're able to pick out these 7 that are in the AGP bloomed df"
   ]
  },
  {
   "cell_type": "code",
   "execution_count": 272,
   "metadata": {},
   "outputs": [
    {
     "data": {
      "text/plain": [
       "{'k__Bacteria; p__Bacteroidetes; c__Bacteroidia; o__Bacteroidales; f__Bacteroidaceae; g__Bacteroides; s__uniformis',\n",
       " 'k__Bacteria; p__Firmicutes; c__Bacilli; o__Bacillales; f__Bacillaceae; g__Bacillus; s__clausii',\n",
       " 'k__Bacteria; p__Firmicutes; c__Bacilli; o__Lactobacillales; f__Lactobacillaceae; g__Lactobacillus; s__zeae',\n",
       " 'k__Bacteria; p__Proteobacteria; c__Gammaproteobacteria; o__Enterobacteriales; f__Enterobacteriaceae',\n",
       " 'k__Bacteria; p__Proteobacteria; c__Gammaproteobacteria; o__Enterobacteriales; f__Enterobacteriaceae; g__Providencia; s__',\n",
       " 'k__Bacteria; p__Proteobacteria; c__Gammaproteobacteria; o__Pseudomonadales; f__Pseudomonadaceae; g__Pseudomonas; s__',\n",
       " 'k__Bacteria; p__Proteobacteria; c__Gammaproteobacteria; o__Pseudomonadales; f__Pseudomonadaceae; g__Pseudomonas; s__fragi'}"
      ]
     },
     "execution_count": 272,
     "metadata": {},
     "output_type": "execute_result"
    }
   ],
   "source": [
    "tofilt = taxonomy.index[np.where( [(x in bloomdf[\"Taxonomy\"].values) for x in taxonomy.index] )]\n",
    "set(tofilt)"
   ]
  },
  {
   "cell_type": "code",
   "execution_count": 273,
   "metadata": {},
   "outputs": [
    {
     "data": {
      "text/plain": [
       "['k__Bacteria; p__Proteobacteria; c__Gammaproteobacteria; o__Enterobacteriales; f__Enterobacteriaceae; g__; s__',\n",
       " 'k__Bacteria; p__Firmicutes; c__Bacilli; o__Bacillales; f__Planococcaceae; g__Sporosarcina; s__ginsengi',\n",
       " 'k__Bacteria; p__Firmicutes; c__Bacilli; o__Lactobacillales; f__Lactobacillaceae; g__; s__',\n",
       " 'k__Bacteria; p__Proteobacteria; c__Gammaproteobacteria; o__Enterobacteriales; f__Enterobacteriaceae; g__Klebsiella; s__',\n",
       " 'k__Bacteria; p__Firmicutes; c__Bacilli; o__Bacillales; f__Staphylococcaceae; g__Staphylococcus; s__',\n",
       " 'k__Bacteria; p__Proteobacteria; c__Gammaproteobacteria; o__Enterobacteriales; f__Enterobacteriaceae; g__Escherichia; s__coli',\n",
       " 'k__Bacteria; p__Proteobacteria; c__Gammaproteobacteria; o__Enterobacteriales; f__Enterobacteriaceae; g__Trabulsiella; s__farmeri',\n",
       " 'k__Bacteria; p__Proteobacteria; c__Gammaproteobacteria; o__Enterobacteriales; f__Enterobacteriaceae; g__Citrobacter; s__',\n",
       " 'k__Bacteria; p__Proteobacteria; c__Gammaproteobacteria; o__Enterobacteriales; f__Enterobacteriaceae; g__Morganella; s__',\n",
       " 'k__Bacteria; p__Proteobacteria; c__Gammaproteobacteria; o__Enterobacteriales; f__Enterobacteriaceae; g__Proteus; s__']"
      ]
     },
     "execution_count": 273,
     "metadata": {},
     "output_type": "execute_result"
    }
   ],
   "source": [
    "notfound = list(set(bloomdf[\"Taxonomy\"])-set(tofilt))\n",
    "notfound"
   ]
  },
  {
   "cell_type": "code",
   "execution_count": 274,
   "metadata": {},
   "outputs": [
    {
     "data": {
      "text/plain": [
       "Index(['k__Bacteria; p__Proteobacteria; c__Gammaproteobacteria; o__Enterobacteriales; f__Enterobacteriaceae; g__Shigella',\n",
       "       'k__Bacteria; p__Proteobacteria; c__Gammaproteobacteria; o__Enterobacteriales; f__Enterobacteriaceae; g__Shigella',\n",
       "       'k__Bacteria; p__Proteobacteria; c__Gammaproteobacteria; o__Enterobacteriales; f__Enterobacteriaceae; g__Shigella',\n",
       "       'k__Bacteria; p__Proteobacteria; c__Gammaproteobacteria; o__Enterobacteriales; f__Enterobacteriaceae; g__Shigella',\n",
       "       'k__Bacteria; p__Proteobacteria; c__Gammaproteobacteria; o__Enterobacteriales; f__Enterobacteriaceae',\n",
       "       'k__Bacteria; p__Proteobacteria; c__Gammaproteobacteria; o__Enterobacteriales; f__Enterobacteriaceae; g__Shigella',\n",
       "       'k__Bacteria; p__Proteobacteria; c__Gammaproteobacteria; o__Enterobacteriales; f__Enterobacteriaceae; g__Shigella',\n",
       "       'k__Bacteria; p__Proteobacteria; c__Gammaproteobacteria; o__Enterobacteriales; f__Enterobacteriaceae',\n",
       "       'k__Bacteria; p__Proteobacteria; c__Gammaproteobacteria; o__Enterobacteriales; f__Enterobacteriaceae',\n",
       "       'k__Bacteria; p__Proteobacteria; c__Gammaproteobacteria; o__Enterobacteriales; f__Enterobacteriaceae',\n",
       "       'k__Bacteria; p__Proteobacteria; c__Gammaproteobacteria; o__Enterobacteriales; f__Enterobacteriaceae',\n",
       "       'k__Bacteria; p__Proteobacteria; c__Gammaproteobacteria; o__Enterobacteriales; f__Enterobacteriaceae',\n",
       "       'k__Bacteria; p__Proteobacteria; c__Gammaproteobacteria; o__Enterobacteriales; f__Enterobacteriaceae',\n",
       "       'k__Bacteria; p__Proteobacteria; c__Gammaproteobacteria; o__Enterobacteriales; f__Enterobacteriaceae',\n",
       "       'k__Bacteria; p__Proteobacteria; c__Gammaproteobacteria; o__Enterobacteriales; f__Enterobacteriaceae',\n",
       "       'k__Bacteria; p__Proteobacteria; c__Gammaproteobacteria; o__Enterobacteriales; f__Enterobacteriaceae',\n",
       "       'k__Bacteria; p__Proteobacteria; c__Gammaproteobacteria; o__Enterobacteriales; f__Enterobacteriaceae',\n",
       "       'k__Bacteria; p__Proteobacteria; c__Gammaproteobacteria; o__Enterobacteriales; f__Enterobacteriaceae',\n",
       "       'k__Bacteria; p__Proteobacteria; c__Gammaproteobacteria; o__Enterobacteriales; f__Enterobacteriaceae',\n",
       "       'k__Bacteria; p__Proteobacteria; c__Gammaproteobacteria; o__Enterobacteriales; f__Enterobacteriaceae',\n",
       "       'k__Bacteria; p__Proteobacteria; c__Gammaproteobacteria; o__Enterobacteriales; f__Enterobacteriaceae',\n",
       "       'k__Bacteria; p__Proteobacteria; c__Gammaproteobacteria; o__Enterobacteriales; f__Enterobacteriaceae; g__Shigella',\n",
       "       'k__Bacteria; p__Proteobacteria; c__Gammaproteobacteria; o__Enterobacteriales; f__Enterobacteriaceae',\n",
       "       'k__Bacteria; p__Proteobacteria; c__Gammaproteobacteria; o__Enterobacteriales; f__Enterobacteriaceae; g__Proteus; s__vulgaris',\n",
       "       'k__Bacteria; p__Proteobacteria; c__Gammaproteobacteria; o__Enterobacteriales; f__Enterobacteriaceae; g__Providencia; s__',\n",
       "       'k__Bacteria; p__Proteobacteria; c__Gammaproteobacteria; o__Enterobacteriales; f__Enterobacteriaceae; g__Morganella',\n",
       "       'k__Bacteria; p__Proteobacteria; c__Gammaproteobacteria; o__Enterobacteriales; f__Enterobacteriaceae',\n",
       "       'k__Bacteria; p__Proteobacteria; c__Gammaproteobacteria; o__Enterobacteriales; f__Enterobacteriaceae',\n",
       "       'k__Bacteria; p__Proteobacteria; c__Gammaproteobacteria; o__Enterobacteriales; f__Enterobacteriaceae',\n",
       "       'k__Bacteria; p__Proteobacteria; c__Gammaproteobacteria; o__Enterobacteriales; f__Enterobacteriaceae',\n",
       "       'k__Bacteria; p__Proteobacteria; c__Gammaproteobacteria; o__Enterobacteriales; f__Enterobacteriaceae',\n",
       "       'k__Bacteria; p__Proteobacteria; c__Gammaproteobacteria; o__Enterobacteriales; f__Enterobacteriaceae',\n",
       "       'k__Bacteria; p__Proteobacteria; c__Gammaproteobacteria; o__Enterobacteriales; f__Enterobacteriaceae',\n",
       "       'k__Bacteria; p__Proteobacteria; c__Gammaproteobacteria; o__Enterobacteriales; f__Enterobacteriaceae',\n",
       "       'k__Bacteria; p__Proteobacteria; c__Gammaproteobacteria; o__Enterobacteriales; f__Enterobacteriaceae',\n",
       "       'k__Bacteria; p__Proteobacteria; c__Gammaproteobacteria; o__Enterobacteriales; f__Enterobacteriaceae',\n",
       "       'k__Bacteria; p__Proteobacteria; c__Gammaproteobacteria; o__Enterobacteriales; f__Enterobacteriaceae'],\n",
       "      dtype='object', name='Taxon')"
      ]
     },
     "execution_count": 274,
     "metadata": {},
     "output_type": "execute_result"
    }
   ],
   "source": [
    "entero = \"k__Bacteria; p__Proteobacteria; c__Gammaproteobacteria; o__Enterobacteriales; f__Enterobacteriaceae\"\n",
    "taxonomy.index[np.where([x.startswith(entero) for x in taxonomy.index])]"
   ]
  },
  {
   "cell_type": "code",
   "execution_count": 275,
   "metadata": {},
   "outputs": [
    {
     "name": "stdout",
     "output_type": "stream",
     "text": [
      "Index(['k__Bacteria; p__Proteobacteria; c__Gammaproteobacteria; o__Enterobacteriales; f__Enterobacteriaceae; g__Shigella',\n",
      "       'k__Bacteria; p__Proteobacteria; c__Gammaproteobacteria; o__Enterobacteriales; f__Enterobacteriaceae; g__Shigella',\n",
      "       'k__Bacteria; p__Proteobacteria; c__Gammaproteobacteria; o__Enterobacteriales; f__Enterobacteriaceae; g__Shigella',\n",
      "       'k__Bacteria; p__Proteobacteria; c__Gammaproteobacteria; o__Enterobacteriales; f__Enterobacteriaceae; g__Shigella',\n",
      "       'k__Bacteria; p__Proteobacteria; c__Gammaproteobacteria; o__Enterobacteriales; f__Enterobacteriaceae; g__Shigella',\n",
      "       'k__Bacteria; p__Proteobacteria; c__Gammaproteobacteria; o__Enterobacteriales; f__Enterobacteriaceae; g__Shigella',\n",
      "       'k__Bacteria; p__Proteobacteria; c__Gammaproteobacteria; o__Enterobacteriales; f__Enterobacteriaceae; g__Shigella',\n",
      "       'k__Bacteria; p__Proteobacteria; c__Gammaproteobacteria; o__Enterobacteriales; f__Enterobacteriaceae; g__Proteus; s__vulgaris',\n",
      "       'k__Bacteria; p__Proteobacteria; c__Gammaproteobacteria; o__Enterobacteriales; f__Enterobacteriaceae; g__Providencia; s__',\n",
      "       'k__Bacteria; p__Proteobacteria; c__Gammaproteobacteria; o__Enterobacteriales; f__Enterobacteriaceae; g__Morganella'],\n",
      "      dtype='object', name='Taxon')\n",
      "Index([], dtype='object', name='Taxon')\n",
      "Index(['k__Bacteria; p__Firmicutes; c__Bacilli; o__Lactobacillales; f__Lactobacillaceae; g__Lactobacillus',\n",
      "       'k__Bacteria; p__Firmicutes; c__Bacilli; o__Lactobacillales; f__Lactobacillaceae; g__Lactobacillus',\n",
      "       'k__Bacteria; p__Firmicutes; c__Bacilli; o__Lactobacillales; f__Lactobacillaceae; g__Lactobacillus',\n",
      "       'k__Bacteria; p__Firmicutes; c__Bacilli; o__Lactobacillales; f__Lactobacillaceae; g__Lactobacillus',\n",
      "       'k__Bacteria; p__Firmicutes; c__Bacilli; o__Lactobacillales; f__Lactobacillaceae; g__Lactobacillus',\n",
      "       'k__Bacteria; p__Firmicutes; c__Bacilli; o__Lactobacillales; f__Lactobacillaceae; g__Lactobacillus; s__iners',\n",
      "       'k__Bacteria; p__Firmicutes; c__Bacilli; o__Lactobacillales; f__Lactobacillaceae; g__Lactobacillus; s__zeae',\n",
      "       'k__Bacteria; p__Firmicutes; c__Bacilli; o__Lactobacillales; f__Lactobacillaceae; g__Lactobacillus',\n",
      "       'k__Bacteria; p__Firmicutes; c__Bacilli; o__Lactobacillales; f__Lactobacillaceae; g__Lactobacillus',\n",
      "       'k__Bacteria; p__Firmicutes; c__Bacilli; o__Lactobacillales; f__Lactobacillaceae; g__Lactobacillus; s__zeae',\n",
      "       'k__Bacteria; p__Firmicutes; c__Bacilli; o__Lactobacillales; f__Lactobacillaceae; g__Lactobacillus; s__',\n",
      "       'k__Bacteria; p__Firmicutes; c__Bacilli; o__Lactobacillales; f__Lactobacillaceae; g__Lactobacillus; s__',\n",
      "       'k__Bacteria; p__Firmicutes; c__Bacilli; o__Lactobacillales; f__Lactobacillaceae; g__Lactobacillus; s__zeae',\n",
      "       'k__Bacteria; p__Firmicutes; c__Bacilli; o__Lactobacillales; f__Lactobacillaceae; g__Lactobacillus; s__',\n",
      "       'k__Bacteria; p__Firmicutes; c__Bacilli; o__Lactobacillales; f__Lactobacillaceae; g__Lactobacillus; s__',\n",
      "       'k__Bacteria; p__Firmicutes; c__Bacilli; o__Lactobacillales; f__Lactobacillaceae; g__Lactobacillus; s__',\n",
      "       'k__Bacteria; p__Firmicutes; c__Bacilli; o__Lactobacillales; f__Lactobacillaceae; g__Lactobacillus; s__vaginalis',\n",
      "       'k__Bacteria; p__Firmicutes; c__Bacilli; o__Lactobacillales; f__Lactobacillaceae; g__Lactobacillus; s__',\n",
      "       'k__Bacteria; p__Firmicutes; c__Bacilli; o__Lactobacillales; f__Lactobacillaceae; g__Lactobacillus; s__vaginalis',\n",
      "       'k__Bacteria; p__Firmicutes; c__Bacilli; o__Lactobacillales; f__Lactobacillaceae; g__Lactobacillus',\n",
      "       'k__Bacteria; p__Firmicutes; c__Bacilli; o__Lactobacillales; f__Lactobacillaceae; g__Lactobacillus; s__manihotivorans',\n",
      "       'k__Bacteria; p__Firmicutes; c__Bacilli; o__Lactobacillales; f__Lactobacillaceae; g__Lactobacillus; s__vaginalis',\n",
      "       'k__Bacteria; p__Firmicutes; c__Bacilli; o__Lactobacillales; f__Lactobacillaceae; g__Lactobacillus; s__delbrueckii',\n",
      "       'k__Bacteria; p__Firmicutes; c__Bacilli; o__Lactobacillales; f__Lactobacillaceae; g__Lactobacillus',\n",
      "       'k__Bacteria; p__Firmicutes; c__Bacilli; o__Lactobacillales; f__Lactobacillaceae; g__Lactobacillus; s__delbrueckii',\n",
      "       'k__Bacteria; p__Firmicutes; c__Bacilli; o__Lactobacillales; f__Lactobacillaceae; g__Lactobacillus; s__',\n",
      "       'k__Bacteria; p__Firmicutes; c__Bacilli; o__Lactobacillales; f__Lactobacillaceae; g__Lactobacillus',\n",
      "       'k__Bacteria; p__Firmicutes; c__Bacilli; o__Lactobacillales; f__Lactobacillaceae; g__Lactobacillus; s__',\n",
      "       'k__Bacteria; p__Firmicutes; c__Bacilli; o__Lactobacillales; f__Lactobacillaceae; g__Lactobacillus',\n",
      "       'k__Bacteria; p__Firmicutes; c__Bacilli; o__Lactobacillales; f__Lactobacillaceae; g__Lactobacillus',\n",
      "       'k__Bacteria; p__Firmicutes; c__Bacilli; o__Lactobacillales; f__Lactobacillaceae; g__Lactobacillus; s__hamsteri'],\n",
      "      dtype='object', name='Taxon')\n",
      "Index([], dtype='object', name='Taxon')\n",
      "Index(['k__Bacteria; p__Firmicutes; c__Bacilli; o__Bacillales; f__Staphylococcaceae; g__Staphylococcus; s__lugdunensis',\n",
      "       'k__Bacteria; p__Firmicutes; c__Bacilli; o__Bacillales; f__Staphylococcaceae; g__Staphylococcus; s__lugdunensis',\n",
      "       'k__Bacteria; p__Firmicutes; c__Bacilli; o__Bacillales; f__Staphylococcaceae; g__Staphylococcus; s__lugdunensis',\n",
      "       'k__Bacteria; p__Firmicutes; c__Bacilli; o__Bacillales; f__Staphylococcaceae; g__Staphylococcus; s__lugdunensis',\n",
      "       'k__Bacteria; p__Firmicutes; c__Bacilli; o__Bacillales; f__Staphylococcaceae; g__Staphylococcus; s__lugdunensis',\n",
      "       'k__Bacteria; p__Firmicutes; c__Bacilli; o__Bacillales; f__Staphylococcaceae; g__Staphylococcus; s__lugdunensis',\n",
      "       'k__Bacteria; p__Firmicutes; c__Bacilli; o__Bacillales; f__Staphylococcaceae; g__Staphylococcus; s__lugdunensis',\n",
      "       'k__Bacteria; p__Firmicutes; c__Bacilli; o__Bacillales; f__Staphylococcaceae; g__Staphylococcus; s__lugdunensis',\n",
      "       'k__Bacteria; p__Firmicutes; c__Bacilli; o__Bacillales; f__Staphylococcaceae; g__Staphylococcus; s__lugdunensis',\n",
      "       'k__Bacteria; p__Firmicutes; c__Bacilli; o__Bacillales; f__Staphylococcaceae; g__Staphylococcus',\n",
      "       'k__Bacteria; p__Firmicutes; c__Bacilli; o__Bacillales; f__Staphylococcaceae; g__Staphylococcus',\n",
      "       'k__Bacteria; p__Firmicutes; c__Bacilli; o__Bacillales; f__Staphylococcaceae; g__Staphylococcus',\n",
      "       'k__Bacteria; p__Firmicutes; c__Bacilli; o__Bacillales; f__Staphylococcaceae; g__Staphylococcus; s__lugdunensis'],\n",
      "      dtype='object', name='Taxon')\n",
      "Index([], dtype='object', name='Taxon')\n",
      "Index([], dtype='object', name='Taxon')\n",
      "Index([], dtype='object', name='Taxon')\n",
      "Index(['k__Bacteria; p__Proteobacteria; c__Gammaproteobacteria; o__Enterobacteriales; f__Enterobacteriaceae; g__Morganella'], dtype='object', name='Taxon')\n",
      "Index(['k__Bacteria; p__Proteobacteria; c__Gammaproteobacteria; o__Enterobacteriales; f__Enterobacteriaceae; g__Proteus; s__vulgaris'], dtype='object', name='Taxon')\n"
     ]
    }
   ],
   "source": [
    "notfound_genus = [x.split(\"; s__\")[0] for x in notfound]\n",
    "for tax in notfound_genus:\n",
    "    print(taxonomy.index[np.where( [(x.startswith(tax)) for x in taxonomy.index] )])"
   ]
  },
  {
   "cell_type": "code",
   "execution_count": 277,
   "metadata": {},
   "outputs": [],
   "source": [
    "tofilt = list(tofilt)\n",
    "tofilt += ['k__Bacteria; p__Proteobacteria; c__Gammaproteobacteria; o__Enterobacteriales; f__Enterobacteriaceae; g__Morganella',\n",
    "           'k__Bacteria; p__Proteobacteria; c__Gammaproteobacteria; o__Enterobacteriales; f__Enterobacteriaceae; g__Proteus; s__vulgaris']"
   ]
  },
  {
   "cell_type": "code",
   "execution_count": 279,
   "metadata": {},
   "outputs": [],
   "source": [
    "tofilt = pd.Index(tofilt)"
   ]
  },
  {
   "cell_type": "markdown",
   "metadata": {},
   "source": [
    "## Actually filtering"
   ]
  },
  {
   "cell_type": "code",
   "execution_count": 280,
   "metadata": {},
   "outputs": [],
   "source": [
    "tofilt_df = taxonomy.loc[tofilt,\"Feature ID\"]\n",
    "#put columns in order\n",
    "tofilt_df = tofilt_df.reset_index().reindex([\"Feature ID\", \"Taxon\"], axis=1)"
   ]
  },
  {
   "cell_type": "code",
   "execution_count": 281,
   "metadata": {},
   "outputs": [
    {
     "name": "stdout",
     "output_type": "stream",
     "text": [
      "905\n",
      "53\n"
     ]
    }
   ],
   "source": [
    "print(len(tofilt_df[\"Feature ID\"]))\n",
    "print(len(tofilt_df[\"Feature ID\"].unique()))"
   ]
  },
  {
   "cell_type": "code",
   "execution_count": 282,
   "metadata": {},
   "outputs": [],
   "source": [
    "bloomed_sequence_ids = pd.Series(tofilt_df[\"Feature ID\"].unique(),name=\"Feature ID\")"
   ]
  },
  {
   "cell_type": "code",
   "execution_count": 283,
   "metadata": {},
   "outputs": [],
   "source": [
    "bloomed_sequence_ids.to_csv(\"reanalysis/bloomed_sequence_ids.tsv\", sep=\"\\t\", index=False)"
   ]
  },
  {
   "cell_type": "code",
   "execution_count": 284,
   "metadata": {},
   "outputs": [
    {
     "name": "stdout",
     "output_type": "stream",
     "text": [
      "\u001b[32mSaved FeatureTable[Frequency] to: reanalysis/nobloom-table.qza\u001b[0m\r\n"
     ]
    }
   ],
   "source": [
    "!qiime feature-table filter-features \\\n",
    "--i-table noMito_noChloro-filtered-table.qza \\\n",
    "--m-metadata-file reanalysis/bloomed_sequence_ids.tsv \\\n",
    "--p-exclude-ids \\\n",
    "--o-filtered-table reanalysis/nobloom-table.qza"
   ]
  },
  {
   "cell_type": "code",
   "execution_count": 285,
   "metadata": {},
   "outputs": [
    {
     "data": {
      "text/html": [
       "<div><img onload=\"(function(div, url){\n",
       "if (typeof require !== 'undefined') {\n",
       "    var baseURL = require.toUrl('').split('/').slice(0, -2).join('/');\n",
       "} else {\n",
       "    var baseURL = JSON.parse(\n",
       "        document.getElementById('jupyter-config-data').innerHTML\n",
       "    ).baseUrl.slice(0, -1);\n",
       "}\n",
       "url = baseURL + url;\n",
       "fetch(url).then(function(res) {\n",
       "    if (res.status === 404) {\n",
       "        div.innerHTML = 'Install QIIME 2 Jupyter extension with:<br />' +\n",
       "                        '<code>jupyter serverextension enable --py qiime2' +\n",
       "                        ' --sys-prefix</code><br />then restart your server.' +\n",
       "                        '<br /><br />(Interactive output not available on ' +\n",
       "                        'static notebook viewer services like nbviewer.)';\n",
       "    } else if (res.status === 409) {\n",
       "        div.innerHTML = 'Visualization no longer in scope. Re-run this cell' +\n",
       "                        ' to see the visualization.';\n",
       "    } else if (res.ok) {\n",
       "        url = res.url;\n",
       "        div.innerHTML = '<iframe src=\\'' + url + '\\' style=\\'' +\n",
       "                        'width: 100%; height: 700px; border: 0;\\'>' +\n",
       "                        '</iframe><hr />Open in a: <a href=\\'' + url + '\\'' +\n",
       "                        ' target=\\'_blank\\'>new window</a>'\n",
       "    } else {\n",
       "        div.innerHTML = 'Something has gone wrong. Check notebook server for' +\n",
       "                        ' errors.';\n",
       "    }\n",
       "});\n",
       "})(this.parentElement, '/qiime2/redirect?location=/var/folders/t7/vhs8v0wd2xqb851ps1hzn0mm0000gn/T/qiime2-archive-q534k0tl')\" src=\"data:image/gif;base64,R0lGODlhAQABAIAAAP///wAAACH5BAEAAAAALAAAAAABAAEAAAICRAEAOw==\" /></div>"
      ],
      "text/plain": [
       "<visualization: Visualization uuid: e19c142b-48a2-4b33-9926-d5a60bb10022>"
      ]
     },
     "execution_count": 285,
     "metadata": {},
     "output_type": "execute_result"
    }
   ],
   "source": [
    "viz = Visualization.load(\"noMito_noChloro-filtered-table.qzv\")\n",
    "viz"
   ]
  },
  {
   "cell_type": "code",
   "execution_count": 286,
   "metadata": {},
   "outputs": [
    {
     "name": "stdout",
     "output_type": "stream",
     "text": [
      "\u001b[32mSaved Visualization to: reanalysis/nobloom-table.qzv\u001b[0m\r\n"
     ]
    }
   ],
   "source": [
    "! qiime feature-table summarize \\\n",
    "--i-table reanalysis/nobloom-table.qza \\\n",
    "--m-sample-metadata-file Categorical-meta-v3.tsv \\\n",
    "--o-visualization reanalysis/nobloom-table.qzv"
   ]
  },
  {
   "cell_type": "code",
   "execution_count": 287,
   "metadata": {},
   "outputs": [
    {
     "data": {
      "text/html": [
       "<div><img onload=\"(function(div, url){\n",
       "if (typeof require !== 'undefined') {\n",
       "    var baseURL = require.toUrl('').split('/').slice(0, -2).join('/');\n",
       "} else {\n",
       "    var baseURL = JSON.parse(\n",
       "        document.getElementById('jupyter-config-data').innerHTML\n",
       "    ).baseUrl.slice(0, -1);\n",
       "}\n",
       "url = baseURL + url;\n",
       "fetch(url).then(function(res) {\n",
       "    if (res.status === 404) {\n",
       "        div.innerHTML = 'Install QIIME 2 Jupyter extension with:<br />' +\n",
       "                        '<code>jupyter serverextension enable --py qiime2' +\n",
       "                        ' --sys-prefix</code><br />then restart your server.' +\n",
       "                        '<br /><br />(Interactive output not available on ' +\n",
       "                        'static notebook viewer services like nbviewer.)';\n",
       "    } else if (res.status === 409) {\n",
       "        div.innerHTML = 'Visualization no longer in scope. Re-run this cell' +\n",
       "                        ' to see the visualization.';\n",
       "    } else if (res.ok) {\n",
       "        url = res.url;\n",
       "        div.innerHTML = '<iframe src=\\'' + url + '\\' style=\\'' +\n",
       "                        'width: 100%; height: 700px; border: 0;\\'>' +\n",
       "                        '</iframe><hr />Open in a: <a href=\\'' + url + '\\'' +\n",
       "                        ' target=\\'_blank\\'>new window</a>'\n",
       "    } else {\n",
       "        div.innerHTML = 'Something has gone wrong. Check notebook server for' +\n",
       "                        ' errors.';\n",
       "    }\n",
       "});\n",
       "})(this.parentElement, '/qiime2/redirect?location=/var/folders/t7/vhs8v0wd2xqb851ps1hzn0mm0000gn/T/qiime2-archive-jrbbmz3t')\" src=\"data:image/gif;base64,R0lGODlhAQABAIAAAP///wAAACH5BAEAAAAALAAAAAABAAEAAAICRAEAOw==\" /></div>"
      ],
      "text/plain": [
       "<visualization: Visualization uuid: bbf5a825-dc2e-41e8-afcd-aaa503a9a111>"
      ]
     },
     "execution_count": 287,
     "metadata": {},
     "output_type": "execute_result"
    }
   ],
   "source": [
    "viz = Visualization.load(\"reanalysis/nobloom-table.qzv\")\n",
    "viz"
   ]
  },
  {
   "cell_type": "code",
   "execution_count": 288,
   "metadata": {},
   "outputs": [
    {
     "name": "stdout",
     "output_type": "stream",
     "text": [
      "\u001b[32mSaved FeatureTable[Frequency] to: reanalysis/nobloom-filt-table.qza\u001b[0m\r\n"
     ]
    }
   ],
   "source": [
    "! qiime feature-table filter-samples \\\n",
    "--i-table reanalysis/nobloom-table.qza \\\n",
    "--m-metadata-file expr-group-metadata.tsv \\\n",
    "--o-filtered-table reanalysis/nobloom-filt-table.qza"
   ]
  },
  {
   "cell_type": "code",
   "execution_count": 289,
   "metadata": {},
   "outputs": [
    {
     "name": "stdout",
     "output_type": "stream",
     "text": [
      "\u001b[32mSaved Visualization to: reanalysis/taxa-barplot-gg.qzv\u001b[0m\r\n"
     ]
    }
   ],
   "source": [
    "! qiime taxa barplot \\\n",
    "--i-table reanalysis/nobloom-filt-table.qza \\\n",
    "--i-taxonomy reanalysis/taxonomy-gg.qza \\\n",
    "--m-metadata-file expr-group-metadata.tsv \\\n",
    "--o-visualization reanalysis/taxa-barplot-gg.qzv"
   ]
  },
  {
   "cell_type": "code",
   "execution_count": 290,
   "metadata": {},
   "outputs": [
    {
     "data": {
      "text/html": [
       "<div><img onload=\"(function(div, url){\n",
       "if (typeof require !== 'undefined') {\n",
       "    var baseURL = require.toUrl('').split('/').slice(0, -2).join('/');\n",
       "} else {\n",
       "    var baseURL = JSON.parse(\n",
       "        document.getElementById('jupyter-config-data').innerHTML\n",
       "    ).baseUrl.slice(0, -1);\n",
       "}\n",
       "url = baseURL + url;\n",
       "fetch(url).then(function(res) {\n",
       "    if (res.status === 404) {\n",
       "        div.innerHTML = 'Install QIIME 2 Jupyter extension with:<br />' +\n",
       "                        '<code>jupyter serverextension enable --py qiime2' +\n",
       "                        ' --sys-prefix</code><br />then restart your server.' +\n",
       "                        '<br /><br />(Interactive output not available on ' +\n",
       "                        'static notebook viewer services like nbviewer.)';\n",
       "    } else if (res.status === 409) {\n",
       "        div.innerHTML = 'Visualization no longer in scope. Re-run this cell' +\n",
       "                        ' to see the visualization.';\n",
       "    } else if (res.ok) {\n",
       "        url = res.url;\n",
       "        div.innerHTML = '<iframe src=\\'' + url + '\\' style=\\'' +\n",
       "                        'width: 100%; height: 700px; border: 0;\\'>' +\n",
       "                        '</iframe><hr />Open in a: <a href=\\'' + url + '\\'' +\n",
       "                        ' target=\\'_blank\\'>new window</a>'\n",
       "    } else {\n",
       "        div.innerHTML = 'Something has gone wrong. Check notebook server for' +\n",
       "                        ' errors.';\n",
       "    }\n",
       "});\n",
       "})(this.parentElement, '/qiime2/redirect?location=/var/folders/t7/vhs8v0wd2xqb851ps1hzn0mm0000gn/T/qiime2-archive-mabg0clc')\" src=\"data:image/gif;base64,R0lGODlhAQABAIAAAP///wAAACH5BAEAAAAALAAAAAABAAEAAAICRAEAOw==\" /></div>"
      ],
      "text/plain": [
       "<visualization: Visualization uuid: ede6bcbc-5307-4fb6-82f3-d30fb0d68beb>"
      ]
     },
     "execution_count": 290,
     "metadata": {},
     "output_type": "execute_result"
    }
   ],
   "source": [
    "viz = Visualization.load(\"reanalysis/taxa-barplot-gg.qzv\")\n",
    "viz"
   ]
  },
  {
   "cell_type": "code",
   "execution_count": 204,
   "metadata": {},
   "outputs": [
    {
     "name": "stdout",
     "output_type": "stream",
     "text": [
      "ANCOM-L2-chemo.qzv\r\n",
      "ANCOM-L2-hcvsbc.qzv\r\n",
      "ANCOM-L3-chemo.qzv\r\n",
      "ANCOM-L3-hcvsbc.qzv\r\n",
      "ANCOM-L6-hcvsbc.qzv\r\n",
      "Akkermansia-boxplots.pdf\r\n",
      "CESD-LEfSe.pdf\r\n",
      "Cat-meta-no-datetime.txt\r\n",
      "Categorical-meta-noNA.tsv\r\n",
      "Categorical-meta-v3.tsv\r\n",
      "Chemo-LEfSe.pdf\r\n",
      "\u001b[31mCompletedJobInfo.xml\u001b[m\u001b[m*\r\n",
      "FACT-LEfSe.pdf\r\n",
      "\u001b[31mGenerateFASTQRunStatistics.xml\u001b[m\u001b[m*\r\n",
      "HLR-abundances-nona.csv\r\n",
      "HLR-abundances.csv\r\n",
      "\u001b[34mInterOp\u001b[m\u001b[m/\r\n",
      "\u001b[34mL2p\u001b[m\u001b[m/\r\n",
      "L2p-filtered.qza\r\n",
      "\u001b[34mL3p\u001b[m\u001b[m/\r\n",
      "L3p-filtered.qza\r\n",
      "\u001b[34mL6p\u001b[m\u001b[m/\r\n",
      "L6p-filtered.qza\r\n",
      "\u001b[31mRunInfo.xml\u001b[m\u001b[m*\r\n",
      "age-cesd-fact-boxplots.pdf\r\n",
      "akkermansia-time-all.pdf\r\n",
      "akkermansia-time.pdf\r\n",
      "alpha-rarefaction.qzv\r\n",
      "alpha-sigcorr-qiime.py\r\n",
      "alpha-sigcorr-qiime.py.1\r\n",
      "alphadiv-bc-cesd-trunc.png\r\n",
      "alphadiv-bc-cesd-trunc.svg\r\n",
      "alphadiv-bc-cesd.png\r\n",
      "alphadiv-bc-cesd.svg\r\n",
      "beta-rarefaction.qzv\r\n",
      "beta-sig-corr-qiime.py\r\n",
      "\u001b[34mbeta_corr_results_pearson\u001b[m\u001b[m/\r\n",
      "biplot-L2.qza\r\n",
      "biplot-L2.qzv\r\n",
      "biplot-bray-L2.qza\r\n",
      "biplot-bray-L2.qzv\r\n",
      "bloom_taxa.txt\r\n",
      "bloomed_sequence_ids.tsv\r\n",
      "bray_curtis_corr_results.csv\r\n",
      "bray_curtis_sig_results.csv\r\n",
      "by_phylum.csv\r\n",
      "clr_transformed_sharedtaxa.csv\r\n",
      "clr_transformed_sharedtaxa_2.csv\r\n",
      "\u001b[34mcore-diversity-results\u001b[m\u001b[m/\r\n",
      "\u001b[34mcore-diversity-results-noNA\u001b[m\u001b[m/\r\n",
      "\u001b[34mdada2-results\u001b[m\u001b[m/\r\n",
      "\u001b[34mdemux\u001b[m\u001b[m/\r\n",
      "desulfobacterota-fact-scatter-chemo.pdf\r\n",
      "desulfobacterota-fact-scatter.pdf\r\n",
      "\u001b[31mdummyindex_S1_L001_I1_001.fastq.gz\u001b[m\u001b[m*\r\n",
      "\u001b[31mdummyindex_S1_L001_R1_001.fastq.gz\u001b[m\u001b[m*\r\n",
      "\u001b[31mdummyindex_S1_L001_R2_001.fastq\u001b[m\u001b[m*\r\n",
      "\u001b[31mdummyindex_S1_L001_R2_001.fastq.gz\u001b[m\u001b[m*\r\n",
      "expr-group-metadata.tsv\r\n",
      "expr-grp-taxa-barplot.qza.qzv\r\n",
      "faith-group.qzv\r\n",
      "faith.csv\r\n",
      "faith_corr.csv\r\n",
      "faith_group.qzv\r\n",
      "faith_log_fit_annotated.pdf\r\n",
      "\u001b[34mfaith_pd\u001b[m\u001b[m/\r\n",
      "faith_pd.csv\r\n",
      "faith_pd_corr.csv\r\n",
      "\u001b[34mfaith_pd_correlation\u001b[m\u001b[m/\r\n",
      "faith_sqrt_fit.pdf\r\n",
      "faith_time_logfit.pdf\r\n",
      "filtered-table.qza\r\n",
      "filtered-table.qzv\r\n",
      "gg-13-8-99-515-806-nb-classifier.qza\r\n",
      "importing-trial-metadata.tsv\r\n",
      "insertion-placements.qza\r\n",
      "insertion-tree.qza\r\n",
      "jaccard_corr_results.csv\r\n",
      "\u001b[34mjaccard_sig_Race_Ethnicity-cat\u001b[m\u001b[m/\r\n",
      "jaccard_sig_results.csv\r\n",
      "lefse_cesd_in.tsv\r\n",
      "lefse_cesd_out.lefse_internal_res\r\n",
      "lefse_cesd_plotdata.csv\r\n",
      "lefse_chemo_in.tsv\r\n",
      "lefse_chemo_out.lefse_internal_res\r\n",
      "lefse_chemo_plotdata.csv\r\n",
      "lefse_fact_in.tsv\r\n",
      "lefse_fact_out.lefse_internal_res\r\n",
      "level-2-expr-bars.png\r\n",
      "level-2-expr-bars.svg\r\n",
      "level-2-expr-legend.png\r\n",
      "level-2-expr-legend.svg\r\n",
      "level-3-expr-bars.png\r\n",
      "level-3-expr-bars.svg\r\n",
      "level-3-expr-legend.png\r\n",
      "level-3-expr-legend.svg\r\n",
      "level-7.csv\r\n",
      "noMito_noChloro-expr-table.qza\r\n",
      "noMito_noChloro-filtered-table.qza\r\n",
      "noMito_noChloro-filtered-table.qzv\r\n",
      "noMito_noChloro-noNA-table.qza\r\n",
      "\u001b[34mobserved_otus\u001b[m\u001b[m/\r\n",
      "observed_otus.csv\r\n",
      "observed_otus_corr.csv\r\n",
      "\u001b[34mobserved_otus_correlation\u001b[m\u001b[m/\r\n",
      "otus.csv\r\n",
      "\u001b[34motus_data\u001b[m\u001b[m/\r\n",
      "paired-end-sequences.qza\r\n",
      "\u001b[34mpielou_e\u001b[m\u001b[m/\r\n",
      "pielou_e.csv\r\n",
      "pielou_e_corr.csv\r\n",
      "\u001b[34mpielou_e_correlation\u001b[m\u001b[m/\r\n",
      "\u001b[34mraw_sequences\u001b[m\u001b[m/\r\n",
      "\u001b[34mreanalysis\u001b[m\u001b[m/\r\n",
      "removed-table.qza\r\n",
      "removed-table.qzv\r\n",
      "\u001b[31mrunParameters.xml\u001b[m\u001b[m*\r\n",
      "sepp-refs-silva-128.qza\r\n",
      "\u001b[34mshannon\u001b[m\u001b[m/\r\n",
      "shannon.csv\r\n",
      "shannon_corr.csv\r\n",
      "\u001b[34mshannon_correlation\u001b[m\u001b[m/\r\n",
      "shared-heatmap-LEfSe.pdf\r\n",
      "shared-scatterplot-LEfSe.pdf\r\n",
      "silva-138-99-515-806-nb-classifier.qza\r\n",
      "silva-138-99-seqs-515-806.qza\r\n",
      "silva-138-99-tax-515-806.qza\r\n",
      "silva-138-99-tax.qza\r\n",
      "\u001b[34msilva-classified\u001b[m\u001b[m/\r\n",
      "\u001b[34mtable_noNA\u001b[m\u001b[m/\r\n",
      "table_noNA.qza\r\n",
      "tax-L2-table-pseudo.qza\r\n",
      "tax-L2-table.qza\r\n",
      "tax-L3-table-pseudo.qza\r\n",
      "tax-L3-table.qza\r\n",
      "tax-L6-table-pseudo.qza\r\n",
      "tax-L6-table.qza\r\n",
      "tax-table.qza\r\n",
      "taxa-barplot-noNA.qzv\r\n",
      "taxa-silva-barplot.qzv\r\n",
      "taxonomy-silva.qza\r\n",
      "taxonomy-silva.qzv\r\n",
      "time-difference.txt\r\n",
      "time-difference.xlsx\r\n",
      "unweighted_unifrac_corr_results.csv\r\n",
      "unweighted_unifrac_sig_results.csv\r\n",
      "weighted_unifrac_corr_results.csv\r\n",
      "weighted_unifrac_sig_results.csv\r\n"
     ]
    }
   ],
   "source": [
    "ls rea"
   ]
  },
  {
   "cell_type": "code",
   "execution_count": null,
   "metadata": {},
   "outputs": [],
   "source": []
  }
 ],
 "metadata": {
  "kernelspec": {
   "display_name": "Python 3",
   "language": "python",
   "name": "python3"
  },
  "language_info": {
   "codemirror_mode": {
    "name": "ipython",
    "version": 3
   },
   "file_extension": ".py",
   "mimetype": "text/x-python",
   "name": "python",
   "nbconvert_exporter": "python",
   "pygments_lexer": "ipython3",
   "version": "3.6.12"
  }
 },
 "nbformat": 4,
 "nbformat_minor": 4
}
