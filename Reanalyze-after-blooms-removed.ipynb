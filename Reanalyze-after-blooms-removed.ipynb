{
 "cells": [
  {
   "cell_type": "code",
   "execution_count": 233,
   "metadata": {},
   "outputs": [],
   "source": [
    "import pandas as pd\n",
    "import numpy as np\n",
    "import matplotlib.pyplot as plt\n",
    "import seaborn as sns\n",
    "from qiime2 import Artifact, Visualization\n",
    "from scipy.stats import spearmanr, kruskal\n",
    "\n",
    "%matplotlib inline"
   ]
  },
  {
   "cell_type": "code",
   "execution_count": 8,
   "metadata": {},
   "outputs": [
    {
     "name": "stdout",
     "output_type": "stream",
     "text": [
      "/Users/johnsterrett/Research-Projects/Boulder/Chemobrain/200608_Elsayed_Lowry-1101/reanalysis-2\n"
     ]
    }
   ],
   "source": [
    "cd ../200608_Elsayed_Lowry-1101/reanalysis-2/"
   ]
  },
  {
   "cell_type": "code",
   "execution_count": 12,
   "metadata": {},
   "outputs": [],
   "source": [
    "cp ../insertion-tree.qza insertion-tree.qza"
   ]
  },
  {
   "cell_type": "code",
   "execution_count": 14,
   "metadata": {},
   "outputs": [
    {
     "name": "stdout",
     "output_type": "stream",
     "text": [
      "expr-group-metadata.tsv    nobloom_table.qza\r\n",
      "filt-seq-taxa-barplot.qzv  samp-filt-seq-table.qza\r\n",
      "insertion-tree.qza         taxonomy-gg.qza\r\n",
      "nobloom_metadata.tsv\r\n"
     ]
    }
   ],
   "source": [
    "ls"
   ]
  },
  {
   "cell_type": "markdown",
   "metadata": {},
   "source": [
    "# Diversity\n",
    "### Start by looking at reads/feature"
   ]
  },
  {
   "cell_type": "markdown",
   "metadata": {},
   "source": [
    ">qiime feature-table summarize \\\n",
    "--i-table nobloom_table.qza \\\n",
    "--o-visualization nobloom_table.qzv \\"
   ]
  },
  {
   "cell_type": "code",
   "execution_count": 16,
   "metadata": {
    "scrolled": false
   },
   "outputs": [
    {
     "data": {
      "text/html": [
       "<div><img onload=\"(function(div, url){\n",
       "if (typeof require !== 'undefined') {\n",
       "    var baseURL = require.toUrl('').split('/').slice(0, -2).join('/');\n",
       "} else {\n",
       "    var baseURL = JSON.parse(\n",
       "        document.getElementById('jupyter-config-data').innerHTML\n",
       "    ).baseUrl.slice(0, -1);\n",
       "}\n",
       "url = baseURL + url;\n",
       "fetch(url).then(function(res) {\n",
       "    if (res.status === 404) {\n",
       "        div.innerHTML = 'Install QIIME 2 Jupyter extension with:<br />' +\n",
       "                        '<code>jupyter serverextension enable --py qiime2' +\n",
       "                        ' --sys-prefix</code><br />then restart your server.' +\n",
       "                        '<br /><br />(Interactive output not available on ' +\n",
       "                        'static notebook viewer services like nbviewer.)';\n",
       "    } else if (res.status === 409) {\n",
       "        div.innerHTML = 'Visualization no longer in scope. Re-run this cell' +\n",
       "                        ' to see the visualization.';\n",
       "    } else if (res.ok) {\n",
       "        url = res.url;\n",
       "        div.innerHTML = '<iframe src=\\'' + url + '\\' style=\\'' +\n",
       "                        'width: 100%; height: 700px; border: 0;\\'>' +\n",
       "                        '</iframe><hr />Open in a: <a href=\\'' + url + '\\'' +\n",
       "                        ' target=\\'_blank\\'>new window</a>'\n",
       "    } else {\n",
       "        div.innerHTML = 'Something has gone wrong. Check notebook server for' +\n",
       "                        ' errors.';\n",
       "    }\n",
       "});\n",
       "})(this.parentElement, '/qiime2/redirect?location=/var/folders/t7/vhs8v0wd2xqb851ps1hzn0mm0000gn/T/qiime2-archive-_hwvqhk6')\" src=\"data:image/gif;base64,R0lGODlhAQABAIAAAP///wAAACH5BAEAAAAALAAAAAABAAEAAAICRAEAOw==\" /></div>"
      ],
      "text/plain": [
       "<visualization: Visualization uuid: 7af54aa8-f056-4148-abd7-d5b1249ab6be>"
      ]
     },
     "execution_count": 16,
     "metadata": {},
     "output_type": "execute_result"
    }
   ],
   "source": [
    "viz = Visualization.load(\"nobloom_table.qzv\")\n",
    "viz"
   ]
  },
  {
   "cell_type": "markdown",
   "metadata": {},
   "source": [
    "**The lowest number of reads above 10,000 is 13,056, so I will rarefy to 13,055.**"
   ]
  },
  {
   "cell_type": "markdown",
   "metadata": {},
   "source": [
    ">qiime diversity core-metrics-phylogenetic \\\n",
    "--i-table nobloom_table.qza \\\n",
    "--i-phylogeny insertion-tree.qza \\\n",
    "--p-sampling-depth 13055 \\\n",
    "--m-metadata-file nobloom_metadata.tsv \\\n",
    "--output-dir core-diversity-results/"
   ]
  },
  {
   "cell_type": "code",
   "execution_count": 21,
   "metadata": {},
   "outputs": [],
   "source": [
    "mkdir diversity-stats-results/"
   ]
  },
  {
   "cell_type": "markdown",
   "metadata": {},
   "source": [
    ">qiime diversity alpha-group-significance \\\n",
    "--i-alpha-diversity core-diversity-results/faith_pd_vector.qza \\\n",
    "--m-metadata-file nobloom_metadata.tsv \\\n",
    "--o-visualization diversity-stats-results/faith-group.qzv"
   ]
  },
  {
   "cell_type": "code",
   "execution_count": 23,
   "metadata": {},
   "outputs": [
    {
     "data": {
      "text/html": [
       "<div><img onload=\"(function(div, url){\n",
       "if (typeof require !== 'undefined') {\n",
       "    var baseURL = require.toUrl('').split('/').slice(0, -2).join('/');\n",
       "} else {\n",
       "    var baseURL = JSON.parse(\n",
       "        document.getElementById('jupyter-config-data').innerHTML\n",
       "    ).baseUrl.slice(0, -1);\n",
       "}\n",
       "url = baseURL + url;\n",
       "fetch(url).then(function(res) {\n",
       "    if (res.status === 404) {\n",
       "        div.innerHTML = 'Install QIIME 2 Jupyter extension with:<br />' +\n",
       "                        '<code>jupyter serverextension enable --py qiime2' +\n",
       "                        ' --sys-prefix</code><br />then restart your server.' +\n",
       "                        '<br /><br />(Interactive output not available on ' +\n",
       "                        'static notebook viewer services like nbviewer.)';\n",
       "    } else if (res.status === 409) {\n",
       "        div.innerHTML = 'Visualization no longer in scope. Re-run this cell' +\n",
       "                        ' to see the visualization.';\n",
       "    } else if (res.ok) {\n",
       "        url = res.url;\n",
       "        div.innerHTML = '<iframe src=\\'' + url + '\\' style=\\'' +\n",
       "                        'width: 100%; height: 700px; border: 0;\\'>' +\n",
       "                        '</iframe><hr />Open in a: <a href=\\'' + url + '\\'' +\n",
       "                        ' target=\\'_blank\\'>new window</a>'\n",
       "    } else {\n",
       "        div.innerHTML = 'Something has gone wrong. Check notebook server for' +\n",
       "                        ' errors.';\n",
       "    }\n",
       "});\n",
       "})(this.parentElement, '/qiime2/redirect?location=/var/folders/t7/vhs8v0wd2xqb851ps1hzn0mm0000gn/T/qiime2-archive-abh7jpad')\" src=\"data:image/gif;base64,R0lGODlhAQABAIAAAP///wAAACH5BAEAAAAALAAAAAABAAEAAAICRAEAOw==\" /></div>"
      ],
      "text/plain": [
       "<visualization: Visualization uuid: 148091e8-02fa-4218-a49e-1628f2e9db89>"
      ]
     },
     "execution_count": 23,
     "metadata": {},
     "output_type": "execute_result"
    }
   ],
   "source": [
    "Visualization.load(\"diversity-stats-results/faith-group.qzv\")"
   ]
  },
  {
   "cell_type": "markdown",
   "metadata": {},
   "source": [
    "### Alpha group results\n",
    " - Chemotherapy\n",
    "     - Not significant\n",
    "     - p=0.267\n",
    "     - H=1.23\n",
    " - CES-D\n",
    "     - Not significant\n",
    "     - p=0.091\n",
    "     - H=2.86\n",
    " - FACT-Cog\n",
    "     - Not significant\n",
    "     - p=0.110\n",
    "     - H=2.453\n",
    " - Stress scale\n",
    "     - Not significant\n",
    "     - p=0.498\n",
    "     - H=0.458\n",
    " - PROMIS\n",
    "     - Not significant\n",
    "     - p=0.620\n",
    "     - H=0.957"
   ]
  },
  {
   "cell_type": "code",
   "execution_count": 25,
   "metadata": {},
   "outputs": [
    {
     "name": "stdout",
     "output_type": "stream",
     "text": [
      "\u001b[32mSaved Visualization to: diversity-stats-results/faith-corr.qzv\u001b[0m\r\n"
     ]
    }
   ],
   "source": [
    "!qiime diversity alpha-correlation \\\n",
    "--i-alpha-diversity core-diversity-results/faith_pd_vector.qza \\\n",
    "--m-metadata-file nobloom_metadata.tsv \\\n",
    "--o-visualization diversity-stats-results/faith-corr.qzv"
   ]
  },
  {
   "cell_type": "code",
   "execution_count": 26,
   "metadata": {},
   "outputs": [
    {
     "data": {
      "text/html": [
       "<div><img onload=\"(function(div, url){\n",
       "if (typeof require !== 'undefined') {\n",
       "    var baseURL = require.toUrl('').split('/').slice(0, -2).join('/');\n",
       "} else {\n",
       "    var baseURL = JSON.parse(\n",
       "        document.getElementById('jupyter-config-data').innerHTML\n",
       "    ).baseUrl.slice(0, -1);\n",
       "}\n",
       "url = baseURL + url;\n",
       "fetch(url).then(function(res) {\n",
       "    if (res.status === 404) {\n",
       "        div.innerHTML = 'Install QIIME 2 Jupyter extension with:<br />' +\n",
       "                        '<code>jupyter serverextension enable --py qiime2' +\n",
       "                        ' --sys-prefix</code><br />then restart your server.' +\n",
       "                        '<br /><br />(Interactive output not available on ' +\n",
       "                        'static notebook viewer services like nbviewer.)';\n",
       "    } else if (res.status === 409) {\n",
       "        div.innerHTML = 'Visualization no longer in scope. Re-run this cell' +\n",
       "                        ' to see the visualization.';\n",
       "    } else if (res.ok) {\n",
       "        url = res.url;\n",
       "        div.innerHTML = '<iframe src=\\'' + url + '\\' style=\\'' +\n",
       "                        'width: 100%; height: 700px; border: 0;\\'>' +\n",
       "                        '</iframe><hr />Open in a: <a href=\\'' + url + '\\'' +\n",
       "                        ' target=\\'_blank\\'>new window</a>'\n",
       "    } else {\n",
       "        div.innerHTML = 'Something has gone wrong. Check notebook server for' +\n",
       "                        ' errors.';\n",
       "    }\n",
       "});\n",
       "})(this.parentElement, '/qiime2/redirect?location=/var/folders/t7/vhs8v0wd2xqb851ps1hzn0mm0000gn/T/qiime2-archive-4t8kfwx0')\" src=\"data:image/gif;base64,R0lGODlhAQABAIAAAP///wAAACH5BAEAAAAALAAAAAABAAEAAAICRAEAOw==\" /></div>"
      ],
      "text/plain": [
       "<visualization: Visualization uuid: 7c5dc032-b053-449d-9906-83f471760e58>"
      ]
     },
     "execution_count": 26,
     "metadata": {},
     "output_type": "execute_result"
    }
   ],
   "source": [
    "Visualization.load(\"diversity-stats-results/faith-corr.qzv\")"
   ]
  },
  {
   "cell_type": "markdown",
   "metadata": {},
   "source": [
    "### Alpha Correlation results\n",
    " - Time difference\n",
    "     - Not significant\n",
    "     - p=0.085\n",
    "     - Spearman r = 0.510\n",
    " - CES-D Total\n",
    "     - SIGNIFICANT\n",
    "     - p=0.033\n",
    "     - Spearman r = -0.3903\n",
    " - FACT-Cog total\n",
    "     - Not significant\n",
    "     - p=0.116\n",
    "     - Spearman r=0.2929\n",
    " - Stress scale\n",
    "     - Not significant\n",
    "     - p=0.247\n",
    "     - Spearman r = -0.2182\n",
    " - PROMIS\n",
    "     - Not significant\n",
    "     - p=0.0648\n",
    "     - Spearman r = -0.3414\n"
   ]
  },
  {
   "cell_type": "code",
   "execution_count": 259,
   "metadata": {},
   "outputs": [],
   "source": [
    "metadata = pd.read_csv(\"nobloom_metadata.tsv\", sep=\"\\t\", index_col=\"sampleid\")\n",
    "\n",
    "faith = Artifact.load(\"core-diversity-results/faith_pd_vector.qza\").view(pd.Series)\n",
    "faith.index = faith.index.astype(int)\n",
    "\n",
    "time_faith = pd.concat([ faith, \n",
    "                         metadata[[\"Chemotherapy\", \"Time difference\"]] ], \n",
    "                       axis=1)\n",
    "\n",
    "#Make controls time diff=0, get rid of negative time diff\n",
    "time_faith.loc[time_faith[\"Chemotherapy\"]==\"Healthy Control\", \"Time difference\"] = 0\n",
    "\n",
    "time_faith.loc[(time_faith[\"Chemotherapy\"]==\"Breast Cancer\") & \n",
    "               (time_faith[\"Time difference\"] < 0),\n",
    "                 \"Time difference\"] = np.NaN\n",
    "\n",
    "#Drop nan faith values\n",
    "time_faith.dropna(inplace=True)\n",
    "\n",
    "time_faith_bc = time_faith[time_faith[\"Chemotherapy\"]==\"Breast Cancer\"]"
   ]
  },
  {
   "cell_type": "code",
   "execution_count": 260,
   "metadata": {},
   "outputs": [],
   "source": [
    "fit = np.polyfit(x = np.log(time_faith_bc[\"Time difference\"]+0.01),\n",
    "                 y = time_faith_bc[\"faith_pd\"],\n",
    "                 deg=1)"
   ]
  },
  {
   "cell_type": "code",
   "execution_count": 75,
   "metadata": {},
   "outputs": [],
   "source": [
    "mkdir Figures"
   ]
  },
  {
   "cell_type": "code",
   "execution_count": 261,
   "metadata": {},
   "outputs": [
    {
     "data": {
      "image/png": "[encoded data removed]",
      "text/plain": [
       "<Figure size 432x288 with 1 Axes>"
      ]
     },
     "metadata": {
      "needs_background": "light"
     },
     "output_type": "display_data"
    }
   ],
   "source": [
    "x = np.arange(0,45,0.25)+0.01\n",
    "logy = fit[0] * np.log(x) + fit[1]\n",
    "\n",
    "\n",
    "ax = sns.scatterplot(y=\"faith_pd\",\n",
    "                     x=\"Time difference\",\n",
    "                     data=time_faith,\n",
    "                     hue=\"Chemotherapy\",\n",
    "                     x_jitter=True,\n",
    "                     s=50)\n",
    "\n",
    "ax.axhline(time_faith.loc[time_faith[\"Chemotherapy\"]==\"Healthy Control\",\"faith_pd\"].mean(),\n",
    "           c=\"tab:blue\",\n",
    "           lw=5,\n",
    "           alpha=0.7)\n",
    "\n",
    "ax.plot(x,logy, lw=5, alpha=0.7, c=\"tab:orange\")\n",
    "\n",
    "\n",
    "\n",
    "annot_coords = (18, fit[0] * np.log(20) + fit[1])\n",
    "\n",
    "ax.annotate(\"y = \" + str(round(fit[0],2)) + r\" $\\log{_{10}}{x} + $\" + str(round(fit[1], 2)), \n",
    "            xy=annot_coords, xytext=(18, fit[0] * np.log(20) + fit[1]-15),\n",
    "            ha=\"center\", bbox=dict(boxstyle=\"round\", fc=\"w\"),\n",
    "            arrowprops=dict(arrowstyle=\"->\"))\n",
    "\n",
    "grp2_mean = time_faith.loc[time_faith[\"Chemotherapy\"]==\"Healthy Control\",\"faith_pd\"].mean()\n",
    "\n",
    "ax.annotate(\"control mean (\" + str(round(grp2_mean,2)) + \")\", \n",
    "            xy=(18, grp2_mean), \n",
    "            xytext=(18, grp2_mean + 15),\n",
    "            ha=\"center\", bbox=dict(boxstyle=\"round\", fc=\"w\"),\n",
    "            arrowprops=dict(arrowstyle=\"->\"))\n",
    "\n",
    "ax.set_ylim(0,100)\n",
    "ax.set_xlim(-2,45)\n",
    "ax.set_ylabel(\"Faith's Phylogenetic Diversity\")\n",
    "ax.set_xlabel(\"Days since last chemotherapy treatment\")\n",
    "\n",
    "plt.savefig(\"Figures/faith_log_fit_annotated.pdf\")\n",
    "plt.show()"
   ]
  },
  {
   "cell_type": "code",
   "execution_count": 262,
   "metadata": {},
   "outputs": [
    {
     "data": {
      "image/png": "[encoded data removed]",
      "text/plain": [
       "<Figure size 432x288 with 1 Axes>"
      ]
     },
     "metadata": {
      "needs_background": "light"
     },
     "output_type": "display_data"
    }
   ],
   "source": [
    "ax = sns.boxplot(x=metadata[\"Chemotherapy\"],\n",
    "                 y=faith,\n",
    "                 showfliers=False,\n",
    "                 palette=[\"tab:orange\", \"tab:blue\"])\n",
    "\n",
    "sns.stripplot(x=metadata[\"Chemotherapy\"],\n",
    "              y=faith,\n",
    "              palette=[\"black\"]*2,\n",
    "              alpha=0.7)\n",
    "\n",
    "ax.set_ylim(0,100)\n",
    "ax.set_ylabel(\"Faith's Phylogenetic Diversity\")\n",
    "\n",
    "plt.savefig(\"Figures/faith_chemo.pdf\")\n",
    "plt.show()"
   ]
  },
  {
   "cell_type": "code",
   "execution_count": 266,
   "metadata": {},
   "outputs": [
    {
     "data": {
      "image/png": "[encoded data removed]",
      "text/plain": [
       "<Figure size 360x360 with 1 Axes>"
      ]
     },
     "metadata": {
      "needs_background": "light"
     },
     "output_type": "display_data"
    }
   ],
   "source": [
    "g = sns.lmplot(x=\"cesd_total\",\n",
    "                y=\"faith_pd\",\n",
    "                data=pd.concat([faith, metadata[\"cesd_total\"]],\n",
    "                              axis=1))\n",
    "\n",
    "g.axes[0,0].set_ylim(0,100)\n",
    "g.axes[0,0].set_ylabel(\"Faith's Phylogenetic Diversity\")\n",
    "\n",
    "g.axes[0,0].set_xlabel(\"CES-D Total Score\")\n",
    "\n",
    "plt.savefig(\"Figures/faith_cesd_corr.pdf\")\n",
    "plt.show()"
   ]
  },
  {
   "cell_type": "markdown",
   "metadata": {},
   "source": [
    "### Beta Diversity"
   ]
  },
  {
   "cell_type": "code",
   "execution_count": 267,
   "metadata": {},
   "outputs": [],
   "source": [
    "from skbio.stats.distance import mantel, permanova, DistanceMatrix\n",
    "from scipy.spatial.distance import pdist, cdist"
   ]
  },
  {
   "cell_type": "code",
   "execution_count": 268,
   "metadata": {},
   "outputs": [],
   "source": [
    "wuni = Artifact.load(\"core-diversity-results/weighted_unifrac_distance_matrix.qza\").view(DistanceMatrix)\n",
    "uuni = Artifact.load(\"core-diversity-results/unweighted_unifrac_distance_matrix.qza\").view(DistanceMatrix)"
   ]
  },
  {
   "cell_type": "code",
   "execution_count": 269,
   "metadata": {},
   "outputs": [],
   "source": [
    "metadata_beta = metadata\n",
    "metadata_beta.index = metadata_beta.index.astype(str)\n",
    "metadata_beta = metadata_beta.loc[list(wuni.ids)]"
   ]
  },
  {
   "cell_type": "markdown",
   "metadata": {},
   "source": [
    "### PERMANOVA\n",
    "#### Weighted UniFrac"
   ]
  },
  {
   "cell_type": "code",
   "execution_count": 270,
   "metadata": {},
   "outputs": [
    {
     "name": "stdout",
     "output_type": "stream",
     "text": [
      "\n",
      "Chemotherapy\n",
      "method name               PERMANOVA\n",
      "test statistic name        pseudo-F\n",
      "sample size                      30\n",
      "number of groups                  2\n",
      "test statistic             0.816605\n",
      "p-value                       0.551\n",
      "number of permutations          999\n",
      "Name: PERMANOVA results, dtype: object\n",
      "\n",
      "fact_c_r_imp_total_categorical\n",
      "method name               PERMANOVA\n",
      "test statistic name        pseudo-F\n",
      "sample size                      30\n",
      "number of groups                  2\n",
      "test statistic              1.12314\n",
      "p-value                       0.309\n",
      "number of permutations          999\n",
      "Name: PERMANOVA results, dtype: object\n",
      "\n",
      "stress_scale_total_categorical\n",
      "method name               PERMANOVA\n",
      "test statistic name        pseudo-F\n",
      "sample size                      30\n",
      "number of groups                  2\n",
      "test statistic             0.396761\n",
      "p-value                       0.969\n",
      "number of permutations          999\n",
      "Name: PERMANOVA results, dtype: object\n",
      "\n",
      "cesd_total_categorical\n",
      "method name               PERMANOVA\n",
      "test statistic name        pseudo-F\n",
      "sample size                      30\n",
      "number of groups                  2\n",
      "test statistic               1.2798\n",
      "p-value                       0.218\n",
      "number of permutations          999\n",
      "Name: PERMANOVA results, dtype: object\n",
      "\n",
      "promis_tscore_categorical\n",
      "method name               PERMANOVA\n",
      "test statistic name        pseudo-F\n",
      "sample size                      30\n",
      "number of groups                  3\n",
      "test statistic              1.12873\n",
      "p-value                       0.317\n",
      "number of permutations          999\n",
      "Name: PERMANOVA results, dtype: object\n"
     ]
    }
   ],
   "source": [
    "for var in [\"Chemotherapy\", \n",
    "            \"fact_c_r_imp_total_categorical\",\n",
    "            \"stress_scale_total_categorical\", \n",
    "            \"cesd_total_categorical\",\n",
    "            \"promis_tscore_categorical\"]:\n",
    "    perm = permanova(wuni, \n",
    "                    metadata_beta,\n",
    "                    column=var)\n",
    "    \n",
    "    print(\"\\n\" + var)\n",
    "    if perm[5] <= 0.05:\n",
    "        print(\" SIGNIFICANT\")\n",
    "    print(perm)"
   ]
  },
  {
   "cell_type": "markdown",
   "metadata": {},
   "source": [
    "#### Unweighted UniFrac"
   ]
  },
  {
   "cell_type": "code",
   "execution_count": 271,
   "metadata": {},
   "outputs": [
    {
     "name": "stdout",
     "output_type": "stream",
     "text": [
      "\n",
      "Chemotherapy\n",
      "method name               PERMANOVA\n",
      "test statistic name        pseudo-F\n",
      "sample size                      30\n",
      "number of groups                  2\n",
      "test statistic              1.07811\n",
      "p-value                       0.245\n",
      "number of permutations          999\n",
      "Name: PERMANOVA results, dtype: object\n",
      "\n",
      "fact_c_r_imp_total_categorical\n",
      "**SIGNIFICANT**\n",
      "method name               PERMANOVA\n",
      "test statistic name        pseudo-F\n",
      "sample size                      30\n",
      "number of groups                  2\n",
      "test statistic              1.51465\n",
      "p-value                       0.017\n",
      "number of permutations          999\n",
      "Name: PERMANOVA results, dtype: object\n",
      "\n",
      "stress_scale_total_categorical\n",
      "method name               PERMANOVA\n",
      "test statistic name        pseudo-F\n",
      "sample size                      30\n",
      "number of groups                  2\n",
      "test statistic              0.80454\n",
      "p-value                       0.937\n",
      "number of permutations          999\n",
      "Name: PERMANOVA results, dtype: object\n",
      "\n",
      "cesd_total_categorical\n",
      "method name               PERMANOVA\n",
      "test statistic name        pseudo-F\n",
      "sample size                      30\n",
      "number of groups                  2\n",
      "test statistic               1.0404\n",
      "p-value                       0.347\n",
      "number of permutations          999\n",
      "Name: PERMANOVA results, dtype: object\n",
      "\n",
      "promis_tscore_categorical\n",
      "method name               PERMANOVA\n",
      "test statistic name        pseudo-F\n",
      "sample size                      30\n",
      "number of groups                  3\n",
      "test statistic              1.10675\n",
      "p-value                       0.159\n",
      "number of permutations          999\n",
      "Name: PERMANOVA results, dtype: object\n"
     ]
    }
   ],
   "source": [
    "for var in [\"Chemotherapy\", \n",
    "            \"fact_c_r_imp_total_categorical\",\n",
    "            \"stress_scale_total_categorical\", \n",
    "            \"cesd_total_categorical\",\n",
    "            \"promis_tscore_categorical\"]:\n",
    "    perm = permanova(uuni, \n",
    "                    metadata_beta,\n",
    "                    column=var)\n",
    "    \n",
    "    print(\"\\n\" + var)\n",
    "    if perm[5] <= 0.05:\n",
    "        print(\"**SIGNIFICANT**\")\n",
    "    print(perm)"
   ]
  },
  {
   "cell_type": "markdown",
   "metadata": {},
   "source": [
    "### Mantel\n",
    "#### weighted UniFrac"
   ]
  },
  {
   "cell_type": "code",
   "execution_count": 272,
   "metadata": {},
   "outputs": [
    {
     "name": "stdout",
     "output_type": "stream",
     "text": [
      "\n",
      "variable:  Time difference\n",
      "significant:  False\n",
      "corr coef:  0.15358421848850945\n",
      "p value:  0.446\n",
      "\n",
      "variable:  fact_c_total\n",
      "significant:  False\n",
      "corr coef:  0.002951707445232093\n",
      "p value:  0.971\n",
      "\n",
      "variable:  cesd_total\n",
      "significant:  False\n",
      "corr coef:  0.06348284364350958\n",
      "p value:  0.457\n",
      "\n",
      "variable:  promis_rawscore\n",
      "significant:  False\n",
      "corr coef:  -0.09411761358093827\n",
      "p value:  0.282\n",
      "\n",
      "variable:  stress_scale_total\n",
      "significant:  False\n",
      "corr coef:  -0.07729954779591705\n",
      "p value:  0.219\n"
     ]
    }
   ],
   "source": [
    "for var in [\"Time difference\",\n",
    "            \"fact_c_total\",\n",
    "            \"cesd_total\",\n",
    "            \"promis_rawscore\",\n",
    "            \"stress_scale_total\"]:\n",
    "    \n",
    "    #initialize empty distance matrix\n",
    "    dat = metadata_beta[var].dropna()\n",
    "    dim = dat.shape[0]\n",
    "    distm = np.empty((dim, dim))\n",
    "    \n",
    "    #fill distance matrix\n",
    "    for i in range(dim):\n",
    "        for j in range(dim):\n",
    "            distm[i,j] = np.abs(dat.iloc[i]-dat.iloc[j])\n",
    "\n",
    "    distm = DistanceMatrix(distm, ids=dat.index)\n",
    "\n",
    "    #filter where we don't have data\n",
    "    var_wuni = DistanceMatrix(wuni.to_data_frame().loc[dat.index,dat.index], \n",
    "                              ids=dat.index)\n",
    "    #do the mantel\n",
    "    man = mantel(var_wuni, \n",
    "                distm,\n",
    "                method=\"spearman\")\n",
    "\n",
    "    print(\"\\nvariable: \", var)\n",
    "    print(\"significant: \", man[1]<0.05)\n",
    "    print(\"corr coef: \", man[0])\n",
    "    print(\"p value: \", man[1])"
   ]
  },
  {
   "cell_type": "markdown",
   "metadata": {},
   "source": [
    "#### Unweighted UniFrac"
   ]
  },
  {
   "cell_type": "code",
   "execution_count": 273,
   "metadata": {},
   "outputs": [
    {
     "name": "stdout",
     "output_type": "stream",
     "text": [
      "\n",
      "variable:  Time difference\n",
      "significant:  False\n",
      "corr coef:  0.07642638277486448\n",
      "p value:  0.668\n",
      "\n",
      "variable:  fact_c_total\n",
      "significant:  False\n",
      "corr coef:  0.10572806820942689\n",
      "p value:  0.16\n",
      "\n",
      "variable:  cesd_total\n",
      "significant:  False\n",
      "corr coef:  0.0008239026282835701\n",
      "p value:  0.993\n",
      "\n",
      "variable:  promis_rawscore\n",
      "significant:  False\n",
      "corr coef:  0.01658151414238586\n",
      "p value:  0.861\n",
      "\n",
      "variable:  stress_scale_total\n",
      "significant:  False\n",
      "corr coef:  -0.03324645393547799\n",
      "p value:  0.639\n"
     ]
    }
   ],
   "source": [
    "for var in [\"Time difference\",\n",
    "            \"fact_c_total\",\n",
    "            \"cesd_total\",\n",
    "            \"promis_rawscore\",\n",
    "            \"stress_scale_total\"]:\n",
    "    \n",
    "    #initialize empty distance matrix\n",
    "    dat = metadata_beta[var].dropna()\n",
    "    dim = dat.shape[0]\n",
    "    distm = np.empty((dim, dim))\n",
    "    \n",
    "    #fill distance matrix\n",
    "    for i in range(dim):\n",
    "        for j in range(dim):\n",
    "            distm[i,j] = np.abs(dat.iloc[i]-dat.iloc[j])\n",
    "\n",
    "    distm = DistanceMatrix(distm, ids=dat.index)\n",
    "\n",
    "    #filter where we don't have data\n",
    "    var_uuni = DistanceMatrix(uuni.to_data_frame().loc[dat.index,dat.index], \n",
    "                              ids=dat.index)\n",
    "    #do the mantel\n",
    "    man = mantel(var_uuni, \n",
    "                distm,\n",
    "                method=\"spearman\")\n",
    "\n",
    "    print(\"\\nvariable: \", var)\n",
    "    print(\"significant: \", man[1]<0.05)\n",
    "    print(\"corr coef: \", man[0])\n",
    "    print(\"p value: \", man[1])"
   ]
  },
  {
   "cell_type": "markdown",
   "metadata": {},
   "source": [
    "## Differential abundance"
   ]
  },
  {
   "cell_type": "code",
   "execution_count": 201,
   "metadata": {},
   "outputs": [
    {
     "name": "stdout",
     "output_type": "stream",
     "text": [
      "\u001b[32mSaved FeatureTable[Frequency] to: L2-nobloom-table.qza\u001b[0m\r\n"
     ]
    }
   ],
   "source": [
    "! qiime taxa collapse \\\n",
    "--i-table nobloom_table.qza \\\n",
    "--i-taxonomy taxonomy-gg.qza \\\n",
    "--p-level 2 \\\n",
    "--o-collapsed-table L2-nobloom-table.qza"
   ]
  },
  {
   "cell_type": "code",
   "execution_count": 202,
   "metadata": {},
   "outputs": [
    {
     "name": "stdout",
     "output_type": "stream",
     "text": [
      "\u001b[32mSaved FeatureTable[Frequency] to: L6-nobloom-table.qza\u001b[0m\r\n"
     ]
    }
   ],
   "source": [
    "! qiime taxa collapse \\\n",
    "--i-table nobloom_table.qza \\\n",
    "--i-taxonomy taxonomy-gg.qza \\\n",
    "--p-level 6 \\\n",
    "--o-collapsed-table L6-nobloom-table.qza"
   ]
  },
  {
   "cell_type": "code",
   "execution_count": 205,
   "metadata": {},
   "outputs": [
    {
     "name": "stdout",
     "output_type": "stream",
     "text": [
      "\u001b[32mSaved FeatureTable[Composition] to: L2-nobloom-pseudo-table.qza\u001b[0m\r\n"
     ]
    }
   ],
   "source": [
    "! qiime composition add-pseudocount \\\n",
    "--i-table L2-nobloom-table.qza \\\n",
    "--o-composition-table L2-nobloom-pseudo-table.qza"
   ]
  },
  {
   "cell_type": "code",
   "execution_count": 206,
   "metadata": {},
   "outputs": [
    {
     "name": "stdout",
     "output_type": "stream",
     "text": [
      "\u001b[32mSaved FeatureTable[Composition] to: L6-nobloom-pseudo-table.qza\u001b[0m\r\n"
     ]
    }
   ],
   "source": [
    "! qiime composition add-pseudocount \\\n",
    "--i-table L6-nobloom-table.qza \\\n",
    "--o-composition-table L6-nobloom-pseudo-table.qza"
   ]
  },
  {
   "cell_type": "code",
   "execution_count": 208,
   "metadata": {},
   "outputs": [
    {
     "name": "stdout",
     "output_type": "stream",
     "text": [
      "\u001b[32mSaved Visualization to: ANCOM-L2-chemo.qzv\u001b[0m\r\n"
     ]
    }
   ],
   "source": [
    "! qiime composition ancom \\\n",
    "--i-table L2-nobloom-pseudo-table.qza \\\n",
    "--m-metadata-file nobloom_metadata.tsv \\\n",
    "--m-metadata-column \"Chemotherapy\" \\\n",
    "--o-visualization ANCOM-L2-chemo.qzv"
   ]
  },
  {
   "cell_type": "code",
   "execution_count": 209,
   "metadata": {},
   "outputs": [
    {
     "name": "stdout",
     "output_type": "stream",
     "text": [
      "\u001b[32mSaved Visualization to: ANCOM-L6-chemo.qzv\u001b[0m\r\n"
     ]
    }
   ],
   "source": [
    "! qiime composition ancom \\\n",
    "--i-table L6-nobloom-pseudo-table.qza \\\n",
    "--m-metadata-file nobloom_metadata.tsv \\\n",
    "--m-metadata-column \"Chemotherapy\" \\\n",
    "--o-visualization ANCOM-L6-chemo.qzv"
   ]
  },
  {
   "cell_type": "markdown",
   "metadata": {},
   "source": [
    "#### NO SIGNIFICANT RESULTS FROM ANCOM\n",
    "\n",
    "### Taxa correlations"
   ]
  },
  {
   "cell_type": "code",
   "execution_count": 274,
   "metadata": {},
   "outputs": [],
   "source": [
    "L2 = Artifact.load(\"L2-nobloom-table.qza\").view(pd.DataFrame)\n",
    "\n",
    "L2mat = np.matrix(L2)\n",
    "L2mat /= L2mat.sum(axis=1)\n",
    "\n",
    "L2 = pd.DataFrame(L2mat,\n",
    "                  columns=L2.columns,\n",
    "                  index=L2.index)"
   ]
  },
  {
   "cell_type": "code",
   "execution_count": 275,
   "metadata": {},
   "outputs": [
    {
     "name": "stdout",
     "output_type": "stream",
     "text": [
      "k__Archaea;p__Euryarchaeota SpearmanrResult(correlation=0.053398285092415676, pvalue=0.7716208536223468)\n",
      "k__Bacteria;__ SpearmanrResult(correlation=0.00495347671714674, pvalue=0.9785344195744046)\n",
      "k__Bacteria;p__ SpearmanrResult(correlation=0.29795093816833756, pvalue=0.09766741711407034)\n",
      "k__Bacteria;p__Actinobacteria SpearmanrResult(correlation=-0.06729006686386008, pvalue=0.714424189864929)\n",
      "k__Bacteria;p__Bacteroidetes SpearmanrResult(correlation=-0.007334067233118264, pvalue=0.9682226176176119)\n",
      "k__Bacteria;p__Cyanobacteria SpearmanrResult(correlation=0.26400645206450624, pvalue=0.14426886968436842)\n",
      "k__Bacteria;p__Firmicutes SpearmanrResult(correlation=-0.015768244551204267, pvalue=0.9317406945378783)\n",
      "k__Bacteria;p__Fusobacteria SpearmanrResult(correlation=0.04412469905425526, pvalue=0.8104909085348513)\n",
      "k__Bacteria;p__Lentisphaerae SpearmanrResult(correlation=0.18812509191329121, pvalue=0.30249438587549515)\n",
      "k__Bacteria;p__Proteobacteria SpearmanrResult(correlation=0.022735608422666618, pvalue=0.9017025966775322)\n",
      "k__Bacteria;p__Synergistetes SpearmanrResult(correlation=-0.07448773454208439, pvalue=0.6853558633660475)\n",
      "k__Bacteria;p__Tenericutes SpearmanrResult(correlation=0.13829344424518641, pvalue=0.45035750627311955)\n",
      "k__Bacteria;p__Verrucomicrobia SpearmanrResult(correlation=0.008039813332049428, pvalue=0.965166492062612)\n"
     ]
    }
   ],
   "source": [
    "for col in L2.columns:\n",
    "    spear = spearmanr(metadata[\"fact_c_total\"],\n",
    "                      L2[col])\n",
    "    \n",
    "    if spear.pvalue < 0.05:\n",
    "        print(\"SIGNIFICANT:\")\n",
    "    print(col, spear)"
   ]
  },
  {
   "cell_type": "code",
   "execution_count": 299,
   "metadata": {},
   "outputs": [
    {
     "data": {
      "text/html": [
       "<div>\n",
       "<style scoped>\n",
       "    .dataframe tbody tr th:only-of-type {\n",
       "        vertical-align: middle;\n",
       "    }\n",
       "\n",
       "    .dataframe tbody tr th {\n",
       "        vertical-align: top;\n",
       "    }\n",
       "\n",
       "    .dataframe thead th {\n",
       "        text-align: right;\n",
       "    }\n",
       "</style>\n",
       "<table border=\"1\" class=\"dataframe\">\n",
       "  <thead>\n",
       "    <tr style=\"text-align: right;\">\n",
       "      <th></th>\n",
       "      <th>k__Bacteria;p__Actinobacteria</th>\n",
       "      <th>k__Bacteria;p__Bacteroidetes</th>\n",
       "      <th>k__Bacteria;p__Firmicutes</th>\n",
       "      <th>k__Bacteria;p__Proteobacteria</th>\n",
       "      <th>k__Bacteria;p__Tenericutes</th>\n",
       "      <th>k__Bacteria;p__Verrucomicrobia</th>\n",
       "    </tr>\n",
       "  </thead>\n",
       "  <tbody>\n",
       "    <tr>\n",
       "      <th>1</th>\n",
       "      <td>0.066813</td>\n",
       "      <td>0.124315</td>\n",
       "      <td>0.755203</td>\n",
       "      <td>0.053669</td>\n",
       "      <td>0.000000</td>\n",
       "      <td>0.000000</td>\n",
       "    </tr>\n",
       "    <tr>\n",
       "      <th>10</th>\n",
       "      <td>0.023347</td>\n",
       "      <td>0.435018</td>\n",
       "      <td>0.516745</td>\n",
       "      <td>0.008891</td>\n",
       "      <td>0.010553</td>\n",
       "      <td>0.000000</td>\n",
       "    </tr>\n",
       "    <tr>\n",
       "      <th>12</th>\n",
       "      <td>0.011258</td>\n",
       "      <td>0.271776</td>\n",
       "      <td>0.706959</td>\n",
       "      <td>0.009946</td>\n",
       "      <td>0.000000</td>\n",
       "      <td>0.000000</td>\n",
       "    </tr>\n",
       "    <tr>\n",
       "      <th>14</th>\n",
       "      <td>0.033363</td>\n",
       "      <td>0.095912</td>\n",
       "      <td>0.854832</td>\n",
       "      <td>0.003232</td>\n",
       "      <td>0.007552</td>\n",
       "      <td>0.000000</td>\n",
       "    </tr>\n",
       "    <tr>\n",
       "      <th>15</th>\n",
       "      <td>0.024392</td>\n",
       "      <td>0.463274</td>\n",
       "      <td>0.481043</td>\n",
       "      <td>0.014872</td>\n",
       "      <td>0.006833</td>\n",
       "      <td>0.002452</td>\n",
       "    </tr>\n",
       "    <tr>\n",
       "      <th>17</th>\n",
       "      <td>0.000560</td>\n",
       "      <td>0.591117</td>\n",
       "      <td>0.371614</td>\n",
       "      <td>0.036708</td>\n",
       "      <td>0.000000</td>\n",
       "      <td>0.000000</td>\n",
       "    </tr>\n",
       "    <tr>\n",
       "      <th>19</th>\n",
       "      <td>0.062944</td>\n",
       "      <td>0.266182</td>\n",
       "      <td>0.643069</td>\n",
       "      <td>0.021311</td>\n",
       "      <td>0.004989</td>\n",
       "      <td>0.000000</td>\n",
       "    </tr>\n",
       "    <tr>\n",
       "      <th>21</th>\n",
       "      <td>0.003196</td>\n",
       "      <td>0.527444</td>\n",
       "      <td>0.435956</td>\n",
       "      <td>0.011693</td>\n",
       "      <td>0.000000</td>\n",
       "      <td>0.000507</td>\n",
       "    </tr>\n",
       "    <tr>\n",
       "      <th>22</th>\n",
       "      <td>0.021050</td>\n",
       "      <td>0.384769</td>\n",
       "      <td>0.585339</td>\n",
       "      <td>0.008842</td>\n",
       "      <td>0.000000</td>\n",
       "      <td>0.000000</td>\n",
       "    </tr>\n",
       "    <tr>\n",
       "      <th>23</th>\n",
       "      <td>0.008687</td>\n",
       "      <td>0.539383</td>\n",
       "      <td>0.419367</td>\n",
       "      <td>0.032563</td>\n",
       "      <td>0.000000</td>\n",
       "      <td>0.000000</td>\n",
       "    </tr>\n",
       "    <tr>\n",
       "      <th>24</th>\n",
       "      <td>0.024475</td>\n",
       "      <td>0.502426</td>\n",
       "      <td>0.407547</td>\n",
       "      <td>0.053348</td>\n",
       "      <td>0.002619</td>\n",
       "      <td>0.006564</td>\n",
       "    </tr>\n",
       "    <tr>\n",
       "      <th>25</th>\n",
       "      <td>0.027329</td>\n",
       "      <td>0.390531</td>\n",
       "      <td>0.561211</td>\n",
       "      <td>0.016916</td>\n",
       "      <td>0.004013</td>\n",
       "      <td>0.000000</td>\n",
       "    </tr>\n",
       "    <tr>\n",
       "      <th>26</th>\n",
       "      <td>0.043720</td>\n",
       "      <td>0.164120</td>\n",
       "      <td>0.770526</td>\n",
       "      <td>0.006015</td>\n",
       "      <td>0.000567</td>\n",
       "      <td>0.006583</td>\n",
       "    </tr>\n",
       "    <tr>\n",
       "      <th>28</th>\n",
       "      <td>0.099502</td>\n",
       "      <td>0.114453</td>\n",
       "      <td>0.778895</td>\n",
       "      <td>0.007150</td>\n",
       "      <td>0.000000</td>\n",
       "      <td>0.000000</td>\n",
       "    </tr>\n",
       "    <tr>\n",
       "      <th>29</th>\n",
       "      <td>0.009546</td>\n",
       "      <td>0.233910</td>\n",
       "      <td>0.714116</td>\n",
       "      <td>0.039965</td>\n",
       "      <td>0.000000</td>\n",
       "      <td>0.000000</td>\n",
       "    </tr>\n",
       "    <tr>\n",
       "      <th>3</th>\n",
       "      <td>0.004771</td>\n",
       "      <td>0.570157</td>\n",
       "      <td>0.371950</td>\n",
       "      <td>0.053123</td>\n",
       "      <td>0.000000</td>\n",
       "      <td>0.000000</td>\n",
       "    </tr>\n",
       "    <tr>\n",
       "      <th>30</th>\n",
       "      <td>0.006435</td>\n",
       "      <td>0.448136</td>\n",
       "      <td>0.445650</td>\n",
       "      <td>0.095775</td>\n",
       "      <td>0.000000</td>\n",
       "      <td>0.000000</td>\n",
       "    </tr>\n",
       "    <tr>\n",
       "      <th>31</th>\n",
       "      <td>0.005744</td>\n",
       "      <td>0.818551</td>\n",
       "      <td>0.175245</td>\n",
       "      <td>0.000460</td>\n",
       "      <td>0.000000</td>\n",
       "      <td>0.000000</td>\n",
       "    </tr>\n",
       "    <tr>\n",
       "      <th>32</th>\n",
       "      <td>0.062385</td>\n",
       "      <td>0.006025</td>\n",
       "      <td>0.926621</td>\n",
       "      <td>0.004970</td>\n",
       "      <td>0.000000</td>\n",
       "      <td>0.000000</td>\n",
       "    </tr>\n",
       "    <tr>\n",
       "      <th>34</th>\n",
       "      <td>0.015620</td>\n",
       "      <td>0.422501</td>\n",
       "      <td>0.416028</td>\n",
       "      <td>0.020826</td>\n",
       "      <td>0.000000</td>\n",
       "      <td>0.125026</td>\n",
       "    </tr>\n",
       "    <tr>\n",
       "      <th>36</th>\n",
       "      <td>0.066360</td>\n",
       "      <td>0.379166</td>\n",
       "      <td>0.526400</td>\n",
       "      <td>0.028074</td>\n",
       "      <td>0.000000</td>\n",
       "      <td>0.000000</td>\n",
       "    </tr>\n",
       "    <tr>\n",
       "      <th>38</th>\n",
       "      <td>0.022586</td>\n",
       "      <td>0.392412</td>\n",
       "      <td>0.571642</td>\n",
       "      <td>0.011419</td>\n",
       "      <td>0.000000</td>\n",
       "      <td>0.000148</td>\n",
       "    </tr>\n",
       "    <tr>\n",
       "      <th>39</th>\n",
       "      <td>0.033073</td>\n",
       "      <td>0.142957</td>\n",
       "      <td>0.766387</td>\n",
       "      <td>0.007572</td>\n",
       "      <td>0.004477</td>\n",
       "      <td>0.036374</td>\n",
       "    </tr>\n",
       "    <tr>\n",
       "      <th>4</th>\n",
       "      <td>0.041775</td>\n",
       "      <td>0.044303</td>\n",
       "      <td>0.823576</td>\n",
       "      <td>0.002310</td>\n",
       "      <td>0.070042</td>\n",
       "      <td>0.005409</td>\n",
       "    </tr>\n",
       "    <tr>\n",
       "      <th>41</th>\n",
       "      <td>0.037198</td>\n",
       "      <td>0.644235</td>\n",
       "      <td>0.289557</td>\n",
       "      <td>0.022645</td>\n",
       "      <td>0.000768</td>\n",
       "      <td>0.000352</td>\n",
       "    </tr>\n",
       "    <tr>\n",
       "      <th>42</th>\n",
       "      <td>0.042207</td>\n",
       "      <td>0.094464</td>\n",
       "      <td>0.705045</td>\n",
       "      <td>0.007469</td>\n",
       "      <td>0.127019</td>\n",
       "      <td>0.021091</td>\n",
       "    </tr>\n",
       "    <tr>\n",
       "      <th>43</th>\n",
       "      <td>0.010516</td>\n",
       "      <td>0.227757</td>\n",
       "      <td>0.723260</td>\n",
       "      <td>0.005812</td>\n",
       "      <td>0.000000</td>\n",
       "      <td>0.032655</td>\n",
       "    </tr>\n",
       "    <tr>\n",
       "      <th>44</th>\n",
       "      <td>0.052597</td>\n",
       "      <td>0.058546</td>\n",
       "      <td>0.862577</td>\n",
       "      <td>0.005074</td>\n",
       "      <td>0.000000</td>\n",
       "      <td>0.000000</td>\n",
       "    </tr>\n",
       "    <tr>\n",
       "      <th>45</th>\n",
       "      <td>0.011744</td>\n",
       "      <td>0.567155</td>\n",
       "      <td>0.400715</td>\n",
       "      <td>0.020046</td>\n",
       "      <td>0.000000</td>\n",
       "      <td>0.000000</td>\n",
       "    </tr>\n",
       "    <tr>\n",
       "      <th>46</th>\n",
       "      <td>0.060630</td>\n",
       "      <td>0.606903</td>\n",
       "      <td>0.237191</td>\n",
       "      <td>0.071624</td>\n",
       "      <td>0.000000</td>\n",
       "      <td>0.001333</td>\n",
       "    </tr>\n",
       "    <tr>\n",
       "      <th>6</th>\n",
       "      <td>0.013858</td>\n",
       "      <td>0.534089</td>\n",
       "      <td>0.436530</td>\n",
       "      <td>0.005054</td>\n",
       "      <td>0.000000</td>\n",
       "      <td>0.010386</td>\n",
       "    </tr>\n",
       "    <tr>\n",
       "      <th>8</th>\n",
       "      <td>0.018595</td>\n",
       "      <td>0.639629</td>\n",
       "      <td>0.251173</td>\n",
       "      <td>0.090603</td>\n",
       "      <td>0.000000</td>\n",
       "      <td>0.000000</td>\n",
       "    </tr>\n",
       "  </tbody>\n",
       "</table>\n",
       "</div>"
      ],
      "text/plain": [
       "    k__Bacteria;p__Actinobacteria  k__Bacteria;p__Bacteroidetes  \\\n",
       "1                        0.066813                      0.124315   \n",
       "10                       0.023347                      0.435018   \n",
       "12                       0.011258                      0.271776   \n",
       "14                       0.033363                      0.095912   \n",
       "15                       0.024392                      0.463274   \n",
       "17                       0.000560                      0.591117   \n",
       "19                       0.062944                      0.266182   \n",
       "21                       0.003196                      0.527444   \n",
       "22                       0.021050                      0.384769   \n",
       "23                       0.008687                      0.539383   \n",
       "24                       0.024475                      0.502426   \n",
       "25                       0.027329                      0.390531   \n",
       "26                       0.043720                      0.164120   \n",
       "28                       0.099502                      0.114453   \n",
       "29                       0.009546                      0.233910   \n",
       "3                        0.004771                      0.570157   \n",
       "30                       0.006435                      0.448136   \n",
       "31                       0.005744                      0.818551   \n",
       "32                       0.062385                      0.006025   \n",
       "34                       0.015620                      0.422501   \n",
       "36                       0.066360                      0.379166   \n",
       "38                       0.022586                      0.392412   \n",
       "39                       0.033073                      0.142957   \n",
       "4                        0.041775                      0.044303   \n",
       "41                       0.037198                      0.644235   \n",
       "42                       0.042207                      0.094464   \n",
       "43                       0.010516                      0.227757   \n",
       "44                       0.052597                      0.058546   \n",
       "45                       0.011744                      0.567155   \n",
       "46                       0.060630                      0.606903   \n",
       "6                        0.013858                      0.534089   \n",
       "8                        0.018595                      0.639629   \n",
       "\n",
       "    k__Bacteria;p__Firmicutes  k__Bacteria;p__Proteobacteria  \\\n",
       "1                    0.755203                       0.053669   \n",
       "10                   0.516745                       0.008891   \n",
       "12                   0.706959                       0.009946   \n",
       "14                   0.854832                       0.003232   \n",
       "15                   0.481043                       0.014872   \n",
       "17                   0.371614                       0.036708   \n",
       "19                   0.643069                       0.021311   \n",
       "21                   0.435956                       0.011693   \n",
       "22                   0.585339                       0.008842   \n",
       "23                   0.419367                       0.032563   \n",
       "24                   0.407547                       0.053348   \n",
       "25                   0.561211                       0.016916   \n",
       "26                   0.770526                       0.006015   \n",
       "28                   0.778895                       0.007150   \n",
       "29                   0.714116                       0.039965   \n",
       "3                    0.371950                       0.053123   \n",
       "30                   0.445650                       0.095775   \n",
       "31                   0.175245                       0.000460   \n",
       "32                   0.926621                       0.004970   \n",
       "34                   0.416028                       0.020826   \n",
       "36                   0.526400                       0.028074   \n",
       "38                   0.571642                       0.011419   \n",
       "39                   0.766387                       0.007572   \n",
       "4                    0.823576                       0.002310   \n",
       "41                   0.289557                       0.022645   \n",
       "42                   0.705045                       0.007469   \n",
       "43                   0.723260                       0.005812   \n",
       "44                   0.862577                       0.005074   \n",
       "45                   0.400715                       0.020046   \n",
       "46                   0.237191                       0.071624   \n",
       "6                    0.436530                       0.005054   \n",
       "8                    0.251173                       0.090603   \n",
       "\n",
       "    k__Bacteria;p__Tenericutes  k__Bacteria;p__Verrucomicrobia  \n",
       "1                     0.000000                        0.000000  \n",
       "10                    0.010553                        0.000000  \n",
       "12                    0.000000                        0.000000  \n",
       "14                    0.007552                        0.000000  \n",
       "15                    0.006833                        0.002452  \n",
       "17                    0.000000                        0.000000  \n",
       "19                    0.004989                        0.000000  \n",
       "21                    0.000000                        0.000507  \n",
       "22                    0.000000                        0.000000  \n",
       "23                    0.000000                        0.000000  \n",
       "24                    0.002619                        0.006564  \n",
       "25                    0.004013                        0.000000  \n",
       "26                    0.000567                        0.006583  \n",
       "28                    0.000000                        0.000000  \n",
       "29                    0.000000                        0.000000  \n",
       "3                     0.000000                        0.000000  \n",
       "30                    0.000000                        0.000000  \n",
       "31                    0.000000                        0.000000  \n",
       "32                    0.000000                        0.000000  \n",
       "34                    0.000000                        0.125026  \n",
       "36                    0.000000                        0.000000  \n",
       "38                    0.000000                        0.000148  \n",
       "39                    0.004477                        0.036374  \n",
       "4                     0.070042                        0.005409  \n",
       "41                    0.000768                        0.000352  \n",
       "42                    0.127019                        0.021091  \n",
       "43                    0.000000                        0.032655  \n",
       "44                    0.000000                        0.000000  \n",
       "45                    0.000000                        0.000000  \n",
       "46                    0.000000                        0.001333  \n",
       "6                     0.000000                        0.010386  \n",
       "8                     0.000000                        0.000000  "
      ]
     },
     "execution_count": 299,
     "metadata": {},
     "output_type": "execute_result"
    }
   ],
   "source": [
    "L2.loc[:,L2.mean(axis=0)>0.005]"
   ]
  },
  {
   "cell_type": "code",
   "execution_count": 303,
   "metadata": {},
   "outputs": [
    {
     "data": {
      "image/png": "[encoded data removed]",
      "text/plain": [
       "<Figure size 432x288 with 1 Axes>"
      ]
     },
     "metadata": {
      "needs_background": "light"
     },
     "output_type": "display_data"
    }
   ],
   "source": [
    "\n",
    "\n",
    "L2chemo = pd.concat([L2.loc[:,L2.mean(axis=0)>0.001], \n",
    "                     metadata[\"Chemotherapy\"]],\n",
    "                    axis=1)\n",
    "\n",
    "L2chemo = pd.melt(L2chemo, id_vars=\"Chemotherapy\")\n",
    "\n",
    "L2chemo[\"Phylum\"] = L2chemo[\"variable\"].apply(lambda x: x.split(\"p__\")[1])\n",
    "\n",
    "ax = sns.boxplot(x=\"value\",\n",
    "                y=\"Phylum\",\n",
    "                hue=\"Chemotherapy\",\n",
    "                data=L2chemo,\n",
    "                palette=[\"tab:orange\",\"tab:blue\"])\n",
    "\n",
    "ax.set_xlabel(\"Relative Abundance\")\n",
    "\n",
    "plt.savefig(\"Figures/Phyla-boxplots.pdf\")\n",
    "plt.show()"
   ]
  },
  {
   "cell_type": "markdown",
   "metadata": {},
   "source": [
    "### Akkermansia"
   ]
  },
  {
   "cell_type": "code",
   "execution_count": 304,
   "metadata": {},
   "outputs": [
    {
     "data": {
      "image/png": "[encoded data removed]",
      "text/plain": [
       "<Figure size 432x288 with 1 Axes>"
      ]
     },
     "metadata": {
      "needs_background": "light"
     },
     "output_type": "display_data"
    }
   ],
   "source": [
    "ax = sns.boxplot(x=metadata[\"Chemotherapy\"],\n",
    "                y=L2[\"k__Bacteria;p__Verrucomicrobia\"],\n",
    "                showfliers=False,\n",
    "                 palette=[\"tab:orange\", \"tab:blue\"])\n",
    "\n",
    "sns.stripplot(x=metadata[\"Chemotherapy\"],\n",
    "              y=L2[\"k__Bacteria;p__Verrucomicrobia\"],\n",
    "              palette=[\"black\"]*2,\n",
    "              alpha=0.7,\n",
    "              ax=ax)\n",
    "plt.show()"
   ]
  },
  {
   "cell_type": "code",
   "execution_count": 305,
   "metadata": {},
   "outputs": [
    {
     "data": {
      "text/plain": [
       "KruskalResult(statistic=5.518042867440461, pvalue=0.01882130426578598)"
      ]
     },
     "execution_count": 305,
     "metadata": {},
     "output_type": "execute_result"
    }
   ],
   "source": [
    "kruskal(L2.loc[metadata[\"Chemotherapy\"]==\"Breast Cancer\",\"k__Bacteria;p__Verrucomicrobia\"],\n",
    "        L2.loc[metadata[\"Chemotherapy\"]==\"Healthy Control\",\"k__Bacteria;p__Verrucomicrobia\"])"
   ]
  },
  {
   "cell_type": "code",
   "execution_count": 306,
   "metadata": {},
   "outputs": [],
   "source": [
    "L6 = Artifact.load(\"L6-nobloom-table.qza\").view(pd.DataFrame)\n",
    "\n",
    "L6mat = np.matrix(L6)\n",
    "L6mat /= L6mat.sum(axis=1)\n",
    "\n",
    "L6 = pd.DataFrame(L6mat,\n",
    "                  columns=L6.columns,\n",
    "                  index=L6.index)"
   ]
  },
  {
   "cell_type": "code",
   "execution_count": 307,
   "metadata": {},
   "outputs": [
    {
     "data": {
      "text/plain": [
       "['k__Bacteria;p__Verrucomicrobia;c__Verrucomicrobiae;o__Verrucomicrobiales;f__Verrucomicrobiaceae;g__Akkermansia']"
      ]
     },
     "execution_count": 307,
     "metadata": {},
     "output_type": "execute_result"
    }
   ],
   "source": [
    "list(filter(lambda x: \"akkermansia\" in x.lower(), L6.columns))"
   ]
  },
  {
   "cell_type": "code",
   "execution_count": 308,
   "metadata": {},
   "outputs": [],
   "source": [
    "akker = 'k__Bacteria;p__Verrucomicrobia;c__Verrucomicrobiae;o__Verrucomicrobiales;f__Verrucomicrobiaceae;g__Akkermansia'"
   ]
  },
  {
   "cell_type": "code",
   "execution_count": 310,
   "metadata": {},
   "outputs": [
    {
     "data": {
      "image/png": "[encoded data removed]",
      "text/plain": [
       "<Figure size 432x288 with 1 Axes>"
      ]
     },
     "metadata": {
      "needs_background": "light"
     },
     "output_type": "display_data"
    }
   ],
   "source": [
    "ax = sns.boxplot(x=metadata[\"Chemotherapy\"],\n",
    "                y=L6[akker],\n",
    "                showfliers=False)\n",
    "\n",
    "sns.stripplot(x=metadata[\"Chemotherapy\"],\n",
    "              y=L6[akker],\n",
    "              palette=[\"black\"]*2,\n",
    "              alpha=0.7,\n",
    "              ax=ax)\n",
    "\n",
    "ax.set_ylabel(r\"$Akkermansia$ Relative Abundance\")\n",
    "\n",
    "plt.savefig(\"Figures/Akkermansia-boxplot.pdf\")\n",
    "plt.show()"
   ]
  },
  {
   "cell_type": "code",
   "execution_count": 311,
   "metadata": {},
   "outputs": [
    {
     "data": {
      "text/plain": [
       "KruskalResult(statistic=5.518042867440461, pvalue=0.01882130426578598)"
      ]
     },
     "execution_count": 311,
     "metadata": {},
     "output_type": "execute_result"
    }
   ],
   "source": [
    "kruskal(L6.loc[metadata[\"Chemotherapy\"]==\"Breast Cancer\",akker],\n",
    "        L6.loc[metadata[\"Chemotherapy\"]==\"Healthy Control\",akker])"
   ]
  },
  {
   "cell_type": "code",
   "execution_count": null,
   "metadata": {},
   "outputs": [],
   "source": []
  }
 ],
 "metadata": {
  "kernelspec": {
   "display_name": "Python 3",
   "language": "python",
   "name": "python3"
  },
  "language_info": {
   "codemirror_mode": {
    "name": "ipython",
    "version": 3
   },
   "file_extension": ".py",
   "mimetype": "text/x-python",
   "name": "python",
   "nbconvert_exporter": "python",
   "pygments_lexer": "ipython3",
   "version": "3.6.12"
  }
 },
 "nbformat": 4,
 "nbformat_minor": 4
}
