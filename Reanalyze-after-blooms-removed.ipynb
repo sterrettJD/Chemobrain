{
 "cells": [
  {
   "cell_type": "code",
   "execution_count": 26,
   "metadata": {},
   "outputs": [],
   "source": [
    "import pandas as pd\n",
    "import numpy as np\n",
    "import matplotlib.pyplot as plt\n",
    "import seaborn as sns\n",
    "from qiime2 import Artifact, Visualization\n",
    "from scipy.stats import spearmanr, kruskal, pearsonr\n",
    "\n",
    "%matplotlib inline"
   ]
  },
  {
   "cell_type": "code",
   "execution_count": 2,
   "metadata": {},
   "outputs": [
    {
     "name": "stdout",
     "output_type": "stream",
     "text": [
      "/Users/johnsterrett/Research-Projects/Boulder/Chemobrain/200608_Elsayed_Lowry-1101/reanalysis-2\n"
     ]
    }
   ],
   "source": [
    "cd ../200608_Elsayed_Lowry-1101/reanalysis-2/"
   ]
  },
  {
   "cell_type": "code",
   "execution_count": 3,
   "metadata": {},
   "outputs": [],
   "source": [
    "cp ../insertion-tree.qza insertion-tree.qza"
   ]
  },
  {
   "cell_type": "code",
   "execution_count": 4,
   "metadata": {},
   "outputs": [
    {
     "name": "stdout",
     "output_type": "stream",
     "text": [
      "ANCOM-L2-chemo.qzv                  lefse_cesd_in.tsv\r\n",
      "ANCOM-L6-chemo.qzv                  lefse_cesd_out.lefse_internal_res\r\n",
      "CESD-LEfSe.pdf                      lefse_cesd_plotdata.csv\r\n",
      "Chemo-LEfSe.pdf                     lefse_chemo_in.tsv\r\n",
      "\u001b[34mFigures\u001b[m\u001b[m/                            lefse_chemo_out.lefse_internal_res\r\n",
      "L2-nobloom-pseudo-table.qza         lefse_chemo_plotdata.csv\r\n",
      "L2-nobloom-table.qza                lefse_fact_in.tsv\r\n",
      "L6-nobloom-pseudo-table.qza         lefse_fact_out.lefse_internal_res\r\n",
      "L6-nobloom-table.qza                nobloom_metadata.tsv\r\n",
      "\u001b[34mcore-diversity-results\u001b[m\u001b[m/             nobloom_table.qza\r\n",
      "\u001b[34mdiversity-stats-results\u001b[m\u001b[m/            nobloom_table.qzv\r\n",
      "expr-group-metadata.tsv             samp-filt-seq-table.qza\r\n",
      "filt-seq-taxa-barplot.qzv           shared-scatterplot-LEfSe.pdf\r\n",
      "insertion-tree.qza                  taxonomy-gg.qza\r\n"
     ]
    }
   ],
   "source": [
    "ls"
   ]
  },
  {
   "cell_type": "markdown",
   "metadata": {},
   "source": [
    "# Diversity\n",
    "### Start by looking at reads/feature"
   ]
  },
  {
   "cell_type": "markdown",
   "metadata": {},
   "source": [
    ">qiime feature-table summarize \\\n",
    "--i-table nobloom_table.qza \\\n",
    "--o-visualization nobloom_table.qzv \\"
   ]
  },
  {
   "cell_type": "code",
   "execution_count": 5,
   "metadata": {
    "scrolled": false
   },
   "outputs": [
    {
     "data": {
      "text/html": [
       "<div><img onload=\"(function(div, url){\n",
       "if (typeof require !== 'undefined') {\n",
       "    var baseURL = require.toUrl('').split('/').slice(0, -2).join('/');\n",
       "} else {\n",
       "    var baseURL = JSON.parse(\n",
       "        document.getElementById('jupyter-config-data').innerHTML\n",
       "    ).baseUrl.slice(0, -1);\n",
       "}\n",
       "url = baseURL + url;\n",
       "fetch(url).then(function(res) {\n",
       "    if (res.status === 404) {\n",
       "        div.innerHTML = 'Install QIIME 2 Jupyter extension with:<br />' +\n",
       "                        '<code>jupyter serverextension enable --py qiime2' +\n",
       "                        ' --sys-prefix</code><br />then restart your server.' +\n",
       "                        '<br /><br />(Interactive output not available on ' +\n",
       "                        'static notebook viewer services like nbviewer.)';\n",
       "    } else if (res.status === 409) {\n",
       "        div.innerHTML = 'Visualization no longer in scope. Re-run this cell' +\n",
       "                        ' to see the visualization.';\n",
       "    } else if (res.ok) {\n",
       "        url = res.url;\n",
       "        div.innerHTML = '<iframe src=\\'' + url + '\\' style=\\'' +\n",
       "                        'width: 100%; height: 700px; border: 0;\\'>' +\n",
       "                        '</iframe><hr />Open in a: <a href=\\'' + url + '\\'' +\n",
       "                        ' target=\\'_blank\\'>new window</a>'\n",
       "    } else {\n",
       "        div.innerHTML = 'Something has gone wrong. Check notebook server for' +\n",
       "                        ' errors.';\n",
       "    }\n",
       "});\n",
       "})(this.parentElement, '/qiime2/redirect?location=/var/folders/t7/vhs8v0wd2xqb851ps1hzn0mm0000gn/T/qiime2-archive-9bq8yb35')\" src=\"data:image/gif;base64,R0lGODlhAQABAIAAAP///wAAACH5BAEAAAAALAAAAAABAAEAAAICRAEAOw==\" /></div>"
      ],
      "text/plain": [
       "<visualization: Visualization uuid: 7af54aa8-f056-4148-abd7-d5b1249ab6be>"
      ]
     },
     "execution_count": 5,
     "metadata": {},
     "output_type": "execute_result"
    }
   ],
   "source": [
    "viz = Visualization.load(\"nobloom_table.qzv\")\n",
    "viz"
   ]
  },
  {
   "cell_type": "markdown",
   "metadata": {},
   "source": [
    "**The lowest number of reads above 10,000 is 13,056, so I will rarefy to 13,055.**"
   ]
  },
  {
   "cell_type": "markdown",
   "metadata": {},
   "source": [
    ">qiime diversity core-metrics-phylogenetic \\\n",
    "--i-table nobloom_table.qza \\\n",
    "--i-phylogeny insertion-tree.qza \\\n",
    "--p-sampling-depth 13055 \\\n",
    "--m-metadata-file nobloom_metadata.tsv \\\n",
    "--output-dir core-diversity-results/"
   ]
  },
  {
   "cell_type": "code",
   "execution_count": 6,
   "metadata": {},
   "outputs": [
    {
     "name": "stdout",
     "output_type": "stream",
     "text": [
      "mkdir: diversity-stats-results/: File exists\r\n"
     ]
    }
   ],
   "source": [
    "mkdir diversity-stats-results/"
   ]
  },
  {
   "cell_type": "markdown",
   "metadata": {},
   "source": [
    ">qiime diversity alpha-group-significance \\\n",
    "--i-alpha-diversity core-diversity-results/faith_pd_vector.qza \\\n",
    "--m-metadata-file nobloom_metadata.tsv \\\n",
    "--o-visualization diversity-stats-results/faith-group.qzv"
   ]
  },
  {
   "cell_type": "code",
   "execution_count": 7,
   "metadata": {},
   "outputs": [
    {
     "data": {
      "text/html": [
       "<div><img onload=\"(function(div, url){\n",
       "if (typeof require !== 'undefined') {\n",
       "    var baseURL = require.toUrl('').split('/').slice(0, -2).join('/');\n",
       "} else {\n",
       "    var baseURL = JSON.parse(\n",
       "        document.getElementById('jupyter-config-data').innerHTML\n",
       "    ).baseUrl.slice(0, -1);\n",
       "}\n",
       "url = baseURL + url;\n",
       "fetch(url).then(function(res) {\n",
       "    if (res.status === 404) {\n",
       "        div.innerHTML = 'Install QIIME 2 Jupyter extension with:<br />' +\n",
       "                        '<code>jupyter serverextension enable --py qiime2' +\n",
       "                        ' --sys-prefix</code><br />then restart your server.' +\n",
       "                        '<br /><br />(Interactive output not available on ' +\n",
       "                        'static notebook viewer services like nbviewer.)';\n",
       "    } else if (res.status === 409) {\n",
       "        div.innerHTML = 'Visualization no longer in scope. Re-run this cell' +\n",
       "                        ' to see the visualization.';\n",
       "    } else if (res.ok) {\n",
       "        url = res.url;\n",
       "        div.innerHTML = '<iframe src=\\'' + url + '\\' style=\\'' +\n",
       "                        'width: 100%; height: 700px; border: 0;\\'>' +\n",
       "                        '</iframe><hr />Open in a: <a href=\\'' + url + '\\'' +\n",
       "                        ' target=\\'_blank\\'>new window</a>'\n",
       "    } else {\n",
       "        div.innerHTML = 'Something has gone wrong. Check notebook server for' +\n",
       "                        ' errors.';\n",
       "    }\n",
       "});\n",
       "})(this.parentElement, '/qiime2/redirect?location=/var/folders/t7/vhs8v0wd2xqb851ps1hzn0mm0000gn/T/qiime2-archive-dprtmxyn')\" src=\"data:image/gif;base64,R0lGODlhAQABAIAAAP///wAAACH5BAEAAAAALAAAAAABAAEAAAICRAEAOw==\" /></div>"
      ],
      "text/plain": [
       "<visualization: Visualization uuid: 148091e8-02fa-4218-a49e-1628f2e9db89>"
      ]
     },
     "execution_count": 7,
     "metadata": {},
     "output_type": "execute_result"
    }
   ],
   "source": [
    "Visualization.load(\"diversity-stats-results/faith-group.qzv\")"
   ]
  },
  {
   "cell_type": "markdown",
   "metadata": {},
   "source": [
    "### Alpha group results\n",
    " - Chemotherapy\n",
    "     - Not significant\n",
    "     - p=0.267\n",
    "     - H=1.23\n",
    " - CES-D\n",
    "     - Not significant\n",
    "     - p=0.091\n",
    "     - H=2.86\n",
    " - FACT-Cog\n",
    "     - Not significant\n",
    "     - p=0.110\n",
    "     - H=2.453\n",
    " - Stress scale\n",
    "     - Not significant\n",
    "     - p=0.498\n",
    "     - H=0.458\n",
    " - PROMIS\n",
    "     - Not significant\n",
    "     - p=0.620\n",
    "     - H=0.957"
   ]
  },
  {
   "cell_type": "markdown",
   "metadata": {},
   "source": [
    ">qiime diversity alpha-correlation \\\n",
    "--i-alpha-diversity core-diversity-results/faith_pd_vector.qza \\\n",
    "--m-metadata-file nobloom_metadata.tsv \\\n",
    "--o-visualization diversity-stats-results/faith-corr.qzv"
   ]
  },
  {
   "cell_type": "code",
   "execution_count": 8,
   "metadata": {},
   "outputs": [
    {
     "data": {
      "text/html": [
       "<div><img onload=\"(function(div, url){\n",
       "if (typeof require !== 'undefined') {\n",
       "    var baseURL = require.toUrl('').split('/').slice(0, -2).join('/');\n",
       "} else {\n",
       "    var baseURL = JSON.parse(\n",
       "        document.getElementById('jupyter-config-data').innerHTML\n",
       "    ).baseUrl.slice(0, -1);\n",
       "}\n",
       "url = baseURL + url;\n",
       "fetch(url).then(function(res) {\n",
       "    if (res.status === 404) {\n",
       "        div.innerHTML = 'Install QIIME 2 Jupyter extension with:<br />' +\n",
       "                        '<code>jupyter serverextension enable --py qiime2' +\n",
       "                        ' --sys-prefix</code><br />then restart your server.' +\n",
       "                        '<br /><br />(Interactive output not available on ' +\n",
       "                        'static notebook viewer services like nbviewer.)';\n",
       "    } else if (res.status === 409) {\n",
       "        div.innerHTML = 'Visualization no longer in scope. Re-run this cell' +\n",
       "                        ' to see the visualization.';\n",
       "    } else if (res.ok) {\n",
       "        url = res.url;\n",
       "        div.innerHTML = '<iframe src=\\'' + url + '\\' style=\\'' +\n",
       "                        'width: 100%; height: 700px; border: 0;\\'>' +\n",
       "                        '</iframe><hr />Open in a: <a href=\\'' + url + '\\'' +\n",
       "                        ' target=\\'_blank\\'>new window</a>'\n",
       "    } else {\n",
       "        div.innerHTML = 'Something has gone wrong. Check notebook server for' +\n",
       "                        ' errors.';\n",
       "    }\n",
       "});\n",
       "})(this.parentElement, '/qiime2/redirect?location=/var/folders/t7/vhs8v0wd2xqb851ps1hzn0mm0000gn/T/qiime2-archive-1k0nugqx')\" src=\"data:image/gif;base64,R0lGODlhAQABAIAAAP///wAAACH5BAEAAAAALAAAAAABAAEAAAICRAEAOw==\" /></div>"
      ],
      "text/plain": [
       "<visualization: Visualization uuid: 7c5dc032-b053-449d-9906-83f471760e58>"
      ]
     },
     "execution_count": 8,
     "metadata": {},
     "output_type": "execute_result"
    }
   ],
   "source": [
    "Visualization.load(\"diversity-stats-results/faith-corr.qzv\")"
   ]
  },
  {
   "cell_type": "markdown",
   "metadata": {},
   "source": [
    "### Alpha Correlation results\n",
    " - Time difference\n",
    "     - Not significant\n",
    "     - p=0.085\n",
    "     - Spearman r = 0.510\n",
    " - CES-D Total\n",
    "     - SIGNIFICANT\n",
    "     - p=0.033\n",
    "     - Spearman r = -0.3903\n",
    " - FACT-Cog total\n",
    "     - Not significant\n",
    "     - p=0.116\n",
    "     - Spearman r=0.2929\n",
    " - Stress scale\n",
    "     - Not significant\n",
    "     - p=0.247\n",
    "     - Spearman r = -0.2182\n",
    " - PROMIS\n",
    "     - Not significant\n",
    "     - p=0.0648\n",
    "     - Spearman r = -0.3414\n"
   ]
  },
  {
   "cell_type": "code",
   "execution_count": 9,
   "metadata": {},
   "outputs": [],
   "source": [
    "metadata = pd.read_csv(\"nobloom_metadata.tsv\", sep=\"\\t\", index_col=\"sampleid\")\n",
    "\n",
    "faith = Artifact.load(\"core-diversity-results/faith_pd_vector.qza\").view(pd.Series)\n",
    "faith.index = faith.index.astype(int)\n",
    "\n",
    "time_faith = pd.concat([ faith, \n",
    "                         metadata[[\"Chemotherapy\", \"Time difference\"]] ], \n",
    "                       axis=1)\n",
    "\n",
    "#Make controls time diff=0, get rid of negative time diff\n",
    "time_faith.loc[time_faith[\"Chemotherapy\"]==\"Healthy Control\", \"Time difference\"] = 0\n",
    "\n",
    "time_faith.loc[(time_faith[\"Chemotherapy\"]==\"Breast Cancer\") & \n",
    "               (time_faith[\"Time difference\"] < 0),\n",
    "                 \"Time difference\"] = np.NaN\n",
    "\n",
    "#Drop nan faith values\n",
    "time_faith.dropna(inplace=True)\n",
    "\n",
    "time_faith_bc = time_faith[time_faith[\"Chemotherapy\"]==\"Breast Cancer\"]"
   ]
  },
  {
   "cell_type": "code",
   "execution_count": 10,
   "metadata": {},
   "outputs": [],
   "source": [
    "fit = np.polyfit(x = np.log(time_faith_bc[\"Time difference\"]+0.01),\n",
    "                 y = time_faith_bc[\"faith_pd\"],\n",
    "                 deg=1)"
   ]
  },
  {
   "cell_type": "code",
   "execution_count": 11,
   "metadata": {},
   "outputs": [
    {
     "name": "stdout",
     "output_type": "stream",
     "text": [
      "mkdir: Figures: File exists\r\n"
     ]
    }
   ],
   "source": [
    "mkdir Figures"
   ]
  },
  {
   "cell_type": "code",
   "execution_count": 12,
   "metadata": {},
   "outputs": [
    {
     "data": {
      "image/png": "[encoded data removed]",
      "text/plain": [
       "<Figure size 432x288 with 1 Axes>"
      ]
     },
     "metadata": {
      "needs_background": "light"
     },
     "output_type": "display_data"
    }
   ],
   "source": [
    "x = np.arange(0,45,0.25)+0.01\n",
    "logy = fit[0] * np.log(x) + fit[1]\n",
    "\n",
    "\n",
    "ax = sns.scatterplot(y=\"faith_pd\",\n",
    "                     x=\"Time difference\",\n",
    "                     data=time_faith,\n",
    "                     hue=\"Chemotherapy\",\n",
    "                     x_jitter=True,\n",
    "                     s=50)\n",
    "\n",
    "ax.axhline(time_faith.loc[time_faith[\"Chemotherapy\"]==\"Healthy Control\",\"faith_pd\"].mean(),\n",
    "           c=\"tab:blue\",\n",
    "           lw=5,\n",
    "           alpha=0.7)\n",
    "\n",
    "ax.plot(x,logy, lw=5, alpha=0.7, c=\"tab:orange\")\n",
    "\n",
    "\n",
    "\n",
    "annot_coords = (18, fit[0] * np.log(20) + fit[1])\n",
    "\n",
    "ax.annotate(\"y = \" + str(round(fit[0],2)) + r\" $\\log{_{10}}{x} + $\" + str(round(fit[1], 2)), \n",
    "            xy=annot_coords, xytext=(18, fit[0] * np.log(20) + fit[1]-15),\n",
    "            ha=\"center\", bbox=dict(boxstyle=\"round\", fc=\"w\"),\n",
    "            arrowprops=dict(arrowstyle=\"->\"))\n",
    "\n",
    "grp2_mean = time_faith.loc[time_faith[\"Chemotherapy\"]==\"Healthy Control\",\"faith_pd\"].mean()\n",
    "\n",
    "ax.annotate(\"control mean (\" + str(round(grp2_mean,2)) + \")\", \n",
    "            xy=(18, grp2_mean), \n",
    "            xytext=(18, grp2_mean + 15),\n",
    "            ha=\"center\", bbox=dict(boxstyle=\"round\", fc=\"w\"),\n",
    "            arrowprops=dict(arrowstyle=\"->\"))\n",
    "\n",
    "ax.set_ylim(0,100)\n",
    "ax.set_xlim(-2,45)\n",
    "ax.set_ylabel(\"Faith's Phylogenetic Diversity\")\n",
    "ax.set_xlabel(\"Days since last chemotherapy treatment\")\n",
    "\n",
    "plt.savefig(\"Figures/faith_log_fit_annotated.pdf\")\n",
    "plt.show()"
   ]
  },
  {
   "cell_type": "code",
   "execution_count": 13,
   "metadata": {},
   "outputs": [
    {
     "data": {
      "image/png": "[encoded data removed]",
      "text/plain": [
       "<Figure size 432x288 with 1 Axes>"
      ]
     },
     "metadata": {
      "needs_background": "light"
     },
     "output_type": "display_data"
    }
   ],
   "source": [
    "ax = sns.boxplot(x=metadata[\"Chemotherapy\"],\n",
    "                 y=faith,\n",
    "                 showfliers=False,\n",
    "                 palette=[\"tab:orange\", \"tab:blue\"])\n",
    "\n",
    "sns.stripplot(x=metadata[\"Chemotherapy\"],\n",
    "              y=faith,\n",
    "              palette=[\"black\"]*2,\n",
    "              alpha=0.7)\n",
    "\n",
    "ax.set_ylim(0,100)\n",
    "ax.set_ylabel(\"Faith's Phylogenetic Diversity\")\n",
    "\n",
    "plt.savefig(\"Figures/faith_chemo.pdf\")\n",
    "plt.show()"
   ]
  },
  {
   "cell_type": "code",
   "execution_count": 14,
   "metadata": {},
   "outputs": [
    {
     "data": {
      "image/png": "[encoded data removed]",
      "text/plain": [
       "<Figure size 360x360 with 1 Axes>"
      ]
     },
     "metadata": {
      "needs_background": "light"
     },
     "output_type": "display_data"
    }
   ],
   "source": [
    "g = sns.lmplot(x=\"cesd_total\",\n",
    "                y=\"faith_pd\",\n",
    "                data=pd.concat([faith, metadata[\"cesd_total\"]],\n",
    "                              axis=1))\n",
    "\n",
    "g.axes[0,0].set_ylim(0,100)\n",
    "g.axes[0,0].set_ylabel(\"Faith's Phylogenetic Diversity\")\n",
    "\n",
    "g.axes[0,0].set_xlabel(\"CES-D Total Score\")\n",
    "\n",
    "plt.savefig(\"Figures/faith_cesd_corr.pdf\")\n",
    "plt.show()"
   ]
  },
  {
   "cell_type": "markdown",
   "metadata": {},
   "source": [
    "### Beta Diversity"
   ]
  },
  {
   "cell_type": "code",
   "execution_count": 15,
   "metadata": {},
   "outputs": [],
   "source": [
    "from skbio.stats.distance import mantel, permanova, DistanceMatrix\n",
    "from scipy.spatial.distance import pdist, cdist"
   ]
  },
  {
   "cell_type": "code",
   "execution_count": 16,
   "metadata": {},
   "outputs": [],
   "source": [
    "wuni = Artifact.load(\"core-diversity-results/weighted_unifrac_distance_matrix.qza\").view(DistanceMatrix)\n",
    "uuni = Artifact.load(\"core-diversity-results/unweighted_unifrac_distance_matrix.qza\").view(DistanceMatrix)"
   ]
  },
  {
   "cell_type": "code",
   "execution_count": 17,
   "metadata": {},
   "outputs": [],
   "source": [
    "metadata_beta = metadata\n",
    "metadata_beta.index = metadata_beta.index.astype(str)\n",
    "metadata_beta = metadata_beta.loc[list(wuni.ids)]"
   ]
  },
  {
   "cell_type": "markdown",
   "metadata": {},
   "source": [
    "### PERMANOVA\n",
    "#### Weighted UniFrac"
   ]
  },
  {
   "cell_type": "code",
   "execution_count": 18,
   "metadata": {},
   "outputs": [
    {
     "name": "stdout",
     "output_type": "stream",
     "text": [
      "\n",
      "Chemotherapy\n",
      "method name               PERMANOVA\n",
      "test statistic name        pseudo-F\n",
      "sample size                      30\n",
      "number of groups                  2\n",
      "test statistic             0.816605\n",
      "p-value                       0.544\n",
      "number of permutations          999\n",
      "Name: PERMANOVA results, dtype: object\n",
      "\n",
      "fact_c_r_imp_total_categorical\n",
      "method name               PERMANOVA\n",
      "test statistic name        pseudo-F\n",
      "sample size                      30\n",
      "number of groups                  2\n",
      "test statistic              1.12314\n",
      "p-value                       0.283\n",
      "number of permutations          999\n",
      "Name: PERMANOVA results, dtype: object\n",
      "\n",
      "stress_scale_total_categorical\n",
      "method name               PERMANOVA\n",
      "test statistic name        pseudo-F\n",
      "sample size                      30\n",
      "number of groups                  2\n",
      "test statistic             0.396761\n",
      "p-value                       0.969\n",
      "number of permutations          999\n",
      "Name: PERMANOVA results, dtype: object\n",
      "\n",
      "cesd_total_categorical\n",
      "method name               PERMANOVA\n",
      "test statistic name        pseudo-F\n",
      "sample size                      30\n",
      "number of groups                  2\n",
      "test statistic               1.2798\n",
      "p-value                       0.224\n",
      "number of permutations          999\n",
      "Name: PERMANOVA results, dtype: object\n",
      "\n",
      "promis_tscore_categorical\n",
      "method name               PERMANOVA\n",
      "test statistic name        pseudo-F\n",
      "sample size                      30\n",
      "number of groups                  3\n",
      "test statistic              1.12873\n",
      "p-value                       0.315\n",
      "number of permutations          999\n",
      "Name: PERMANOVA results, dtype: object\n"
     ]
    }
   ],
   "source": [
    "for var in [\"Chemotherapy\", \n",
    "            \"fact_c_r_imp_total_categorical\",\n",
    "            \"stress_scale_total_categorical\", \n",
    "            \"cesd_total_categorical\",\n",
    "            \"promis_tscore_categorical\"]:\n",
    "    perm = permanova(wuni, \n",
    "                    metadata_beta,\n",
    "                    column=var)\n",
    "    \n",
    "    print(\"\\n\" + var)\n",
    "    if perm[5] <= 0.05:\n",
    "        print(\" SIGNIFICANT\")\n",
    "    print(perm)"
   ]
  },
  {
   "cell_type": "markdown",
   "metadata": {},
   "source": [
    "#### Unweighted UniFrac"
   ]
  },
  {
   "cell_type": "code",
   "execution_count": 19,
   "metadata": {},
   "outputs": [
    {
     "name": "stdout",
     "output_type": "stream",
     "text": [
      "\n",
      "Chemotherapy\n",
      "method name               PERMANOVA\n",
      "test statistic name        pseudo-F\n",
      "sample size                      30\n",
      "number of groups                  2\n",
      "test statistic              1.07811\n",
      "p-value                       0.231\n",
      "number of permutations          999\n",
      "Name: PERMANOVA results, dtype: object\n",
      "\n",
      "fact_c_r_imp_total_categorical\n",
      "**SIGNIFICANT**\n",
      "method name               PERMANOVA\n",
      "test statistic name        pseudo-F\n",
      "sample size                      30\n",
      "number of groups                  2\n",
      "test statistic              1.51465\n",
      "p-value                       0.014\n",
      "number of permutations          999\n",
      "Name: PERMANOVA results, dtype: object\n",
      "\n",
      "stress_scale_total_categorical\n",
      "method name               PERMANOVA\n",
      "test statistic name        pseudo-F\n",
      "sample size                      30\n",
      "number of groups                  2\n",
      "test statistic              0.80454\n",
      "p-value                       0.915\n",
      "number of permutations          999\n",
      "Name: PERMANOVA results, dtype: object\n",
      "\n",
      "cesd_total_categorical\n",
      "method name               PERMANOVA\n",
      "test statistic name        pseudo-F\n",
      "sample size                      30\n",
      "number of groups                  2\n",
      "test statistic               1.0404\n",
      "p-value                       0.329\n",
      "number of permutations          999\n",
      "Name: PERMANOVA results, dtype: object\n",
      "\n",
      "promis_tscore_categorical\n",
      "method name               PERMANOVA\n",
      "test statistic name        pseudo-F\n",
      "sample size                      30\n",
      "number of groups                  3\n",
      "test statistic              1.10675\n",
      "p-value                       0.146\n",
      "number of permutations          999\n",
      "Name: PERMANOVA results, dtype: object\n"
     ]
    }
   ],
   "source": [
    "for var in [\"Chemotherapy\", \n",
    "            \"fact_c_r_imp_total_categorical\",\n",
    "            \"stress_scale_total_categorical\", \n",
    "            \"cesd_total_categorical\",\n",
    "            \"promis_tscore_categorical\"]:\n",
    "    perm = permanova(uuni, \n",
    "                    metadata_beta,\n",
    "                    column=var)\n",
    "    \n",
    "    print(\"\\n\" + var)\n",
    "    if perm[5] <= 0.05:\n",
    "        print(\"**SIGNIFICANT**\")\n",
    "    print(perm)"
   ]
  },
  {
   "cell_type": "markdown",
   "metadata": {},
   "source": [
    "### Mantel\n",
    "#### weighted UniFrac"
   ]
  },
  {
   "cell_type": "code",
   "execution_count": 20,
   "metadata": {},
   "outputs": [
    {
     "name": "stdout",
     "output_type": "stream",
     "text": [
      "\n",
      "variable:  Time difference\n",
      "significant:  False\n",
      "corr coef:  0.15358421848850945\n",
      "p value:  0.429\n",
      "\n",
      "variable:  fact_c_total\n",
      "significant:  False\n",
      "corr coef:  0.002951707445232093\n",
      "p value:  0.966\n",
      "\n",
      "variable:  cesd_total\n",
      "significant:  False\n",
      "corr coef:  0.06348284364350958\n",
      "p value:  0.435\n",
      "\n",
      "variable:  promis_rawscore\n",
      "significant:  False\n",
      "corr coef:  -0.09411761358093827\n",
      "p value:  0.275\n",
      "\n",
      "variable:  stress_scale_total\n",
      "significant:  False\n",
      "corr coef:  -0.07729954779591705\n",
      "p value:  0.2\n"
     ]
    }
   ],
   "source": [
    "for var in [\"Time difference\",\n",
    "            \"fact_c_total\",\n",
    "            \"cesd_total\",\n",
    "            \"promis_rawscore\",\n",
    "            \"stress_scale_total\"]:\n",
    "    \n",
    "    #initialize empty distance matrix\n",
    "    dat = metadata_beta[var].dropna()\n",
    "    dim = dat.shape[0]\n",
    "    distm = np.empty((dim, dim))\n",
    "    \n",
    "    #fill distance matrix\n",
    "    for i in range(dim):\n",
    "        for j in range(dim):\n",
    "            distm[i,j] = np.abs(dat.iloc[i]-dat.iloc[j])\n",
    "\n",
    "    distm = DistanceMatrix(distm, ids=dat.index)\n",
    "\n",
    "    #filter where we don't have data\n",
    "    var_wuni = DistanceMatrix(wuni.to_data_frame().loc[dat.index,dat.index], \n",
    "                              ids=dat.index)\n",
    "    #do the mantel\n",
    "    man = mantel(var_wuni, \n",
    "                distm,\n",
    "                method=\"spearman\")\n",
    "\n",
    "    print(\"\\nvariable: \", var)\n",
    "    print(\"significant: \", man[1]<0.05)\n",
    "    print(\"corr coef: \", man[0])\n",
    "    print(\"p value: \", man[1])"
   ]
  },
  {
   "cell_type": "markdown",
   "metadata": {},
   "source": [
    "#### Unweighted UniFrac"
   ]
  },
  {
   "cell_type": "code",
   "execution_count": 21,
   "metadata": {},
   "outputs": [
    {
     "name": "stdout",
     "output_type": "stream",
     "text": [
      "\n",
      "variable:  Time difference\n",
      "significant:  False\n",
      "corr coef:  0.07642638277486448\n",
      "p value:  0.682\n",
      "\n",
      "variable:  fact_c_total\n",
      "significant:  False\n",
      "corr coef:  0.10572806820942689\n",
      "p value:  0.155\n",
      "\n",
      "variable:  cesd_total\n",
      "significant:  False\n",
      "corr coef:  0.0008239026282835701\n",
      "p value:  0.99\n",
      "\n",
      "variable:  promis_rawscore\n",
      "significant:  False\n",
      "corr coef:  0.01658151414238586\n",
      "p value:  0.87\n",
      "\n",
      "variable:  stress_scale_total\n",
      "significant:  False\n",
      "corr coef:  -0.03324645393547799\n",
      "p value:  0.607\n"
     ]
    }
   ],
   "source": [
    "for var in [\"Time difference\",\n",
    "            \"fact_c_total\",\n",
    "            \"cesd_total\",\n",
    "            \"promis_rawscore\",\n",
    "            \"stress_scale_total\"]:\n",
    "    \n",
    "    #initialize empty distance matrix\n",
    "    dat = metadata_beta[var].dropna()\n",
    "    dim = dat.shape[0]\n",
    "    distm = np.empty((dim, dim))\n",
    "    \n",
    "    #fill distance matrix\n",
    "    for i in range(dim):\n",
    "        for j in range(dim):\n",
    "            distm[i,j] = np.abs(dat.iloc[i]-dat.iloc[j])\n",
    "\n",
    "    distm = DistanceMatrix(distm, ids=dat.index)\n",
    "\n",
    "    #filter where we don't have data\n",
    "    var_uuni = DistanceMatrix(uuni.to_data_frame().loc[dat.index,dat.index], \n",
    "                              ids=dat.index)\n",
    "    #do the mantel\n",
    "    man = mantel(var_uuni, \n",
    "                distm,\n",
    "                method=\"spearman\")\n",
    "\n",
    "    print(\"\\nvariable: \", var)\n",
    "    print(\"significant: \", man[1]<0.05)\n",
    "    print(\"corr coef: \", man[0])\n",
    "    print(\"p value: \", man[1])"
   ]
  },
  {
   "cell_type": "markdown",
   "metadata": {},
   "source": [
    "## Differential abundance"
   ]
  },
  {
   "cell_type": "markdown",
   "metadata": {},
   "source": [
    "! qiime taxa collapse \\\n",
    "--i-table nobloom_table.qza \\\n",
    "--i-taxonomy taxonomy-gg.qza \\\n",
    "--p-level 2 \\\n",
    "--o-collapsed-table L2-nobloom-table.qza"
   ]
  },
  {
   "cell_type": "markdown",
   "metadata": {},
   "source": [
    "! qiime taxa collapse \\\n",
    "--i-table nobloom_table.qza \\\n",
    "--i-taxonomy taxonomy-gg.qza \\\n",
    "--p-level 6 \\\n",
    "--o-collapsed-table L6-nobloom-table.qza"
   ]
  },
  {
   "cell_type": "markdown",
   "metadata": {},
   "source": [
    "! qiime composition add-pseudocount \\\n",
    "--i-table L2-nobloom-table.qza \\\n",
    "--o-composition-table L2-nobloom-pseudo-table.qza"
   ]
  },
  {
   "cell_type": "markdown",
   "metadata": {},
   "source": [
    "! qiime composition add-pseudocount \\\n",
    "--i-table L6-nobloom-table.qza \\\n",
    "--o-composition-table L6-nobloom-pseudo-table.qza"
   ]
  },
  {
   "cell_type": "markdown",
   "metadata": {},
   "source": [
    "! qiime composition ancom \\\n",
    "--i-table L2-nobloom-pseudo-table.qza \\\n",
    "--m-metadata-file nobloom_metadata.tsv \\\n",
    "--m-metadata-column \"Chemotherapy\" \\\n",
    "--o-visualization ANCOM-L2-chemo.qzv"
   ]
  },
  {
   "cell_type": "markdown",
   "metadata": {},
   "source": [
    "! qiime composition ancom \\\n",
    "--i-table L6-nobloom-pseudo-table.qza \\\n",
    "--m-metadata-file nobloom_metadata.tsv \\\n",
    "--m-metadata-column \"Chemotherapy\" \\\n",
    "--o-visualization ANCOM-L6-chemo.qzv"
   ]
  },
  {
   "cell_type": "markdown",
   "metadata": {},
   "source": [
    "#### NO SIGNIFICANT RESULTS FROM ANCOM\n",
    "\n",
    "### Taxa correlations"
   ]
  },
  {
   "cell_type": "code",
   "execution_count": 22,
   "metadata": {},
   "outputs": [],
   "source": [
    "L2 = Artifact.load(\"L2-nobloom-table.qza\").view(pd.DataFrame)\n",
    "\n",
    "L2mat = np.matrix(L2)\n",
    "L2mat /= L2mat.sum(axis=1)\n",
    "\n",
    "L2 = pd.DataFrame(L2mat,\n",
    "                  columns=L2.columns,\n",
    "                  index=L2.index)"
   ]
  },
  {
   "cell_type": "code",
   "execution_count": 59,
   "metadata": {},
   "outputs": [
    {
     "name": "stdout",
     "output_type": "stream",
     "text": [
      "SPEARMAN CORR PHYLA AND FACT COG\n",
      "k__Archaea;p__Euryarchaeota SpearmanrResult(correlation=0.053398285092415676, pvalue=0.7716208536223468)\n",
      "k__Bacteria;__ SpearmanrResult(correlation=0.00495347671714674, pvalue=0.9785344195744046)\n",
      "k__Bacteria;p__ SpearmanrResult(correlation=0.29795093816833756, pvalue=0.09766741711407034)\n",
      "k__Bacteria;p__Actinobacteria SpearmanrResult(correlation=-0.06729006686386008, pvalue=0.714424189864929)\n",
      "k__Bacteria;p__Bacteroidetes SpearmanrResult(correlation=-0.007334067233118264, pvalue=0.9682226176176119)\n",
      "k__Bacteria;p__Cyanobacteria SpearmanrResult(correlation=0.26400645206450624, pvalue=0.14426886968436842)\n",
      "k__Bacteria;p__Firmicutes SpearmanrResult(correlation=-0.015768244551204267, pvalue=0.9317406945378783)\n",
      "k__Bacteria;p__Fusobacteria SpearmanrResult(correlation=0.04412469905425526, pvalue=0.8104909085348513)\n",
      "k__Bacteria;p__Lentisphaerae SpearmanrResult(correlation=0.18812509191329121, pvalue=0.30249438587549515)\n",
      "k__Bacteria;p__Proteobacteria SpearmanrResult(correlation=0.022735608422666618, pvalue=0.9017025966775322)\n",
      "k__Bacteria;p__Synergistetes SpearmanrResult(correlation=-0.07448773454208439, pvalue=0.6853558633660475)\n",
      "k__Bacteria;p__Tenericutes SpearmanrResult(correlation=0.13829344424518641, pvalue=0.45035750627311955)\n",
      "k__Bacteria;p__Verrucomicrobia SpearmanrResult(correlation=0.008039813332049428, pvalue=0.965166492062612)\n"
     ]
    }
   ],
   "source": [
    "print(\"SPEARMAN CORR PHYLA AND FACT COG\")\n",
    "for col in L2.columns:\n",
    "    spear = spearmanr(metadata[\"fact_c_total\"],\n",
    "                      L2[col])\n",
    "    \n",
    "    if spear.pvalue < 0.05:\n",
    "        print(\"SIGNIFICANT:\")\n",
    "    print(col, spear)"
   ]
  },
  {
   "cell_type": "code",
   "execution_count": 60,
   "metadata": {},
   "outputs": [
    {
     "name": "stdout",
     "output_type": "stream",
     "text": [
      "SPEARMAN CORR PHYLA AND CESD\n",
      "k__Archaea;p__Euryarchaeota SpearmanrResult(correlation=0.084683657215937, pvalue=0.6449326081059528)\n",
      "k__Bacteria;__ SpearmanrResult(correlation=-0.0011144606409142685, pvalue=0.9951700297526646)\n",
      "k__Bacteria;p__ SpearmanrResult(correlation=-0.34523918629487627, pvalue=0.052960824597309546)\n",
      "k__Bacteria;p__Actinobacteria SpearmanrResult(correlation=0.20746117897552022, pvalue=0.25456332467528636)\n",
      "k__Bacteria;p__Bacteroidetes SpearmanrResult(correlation=-0.23906731075921328, pvalue=0.18758149716241473)\n",
      "k__Bacteria;p__Cyanobacteria SpearmanrResult(correlation=-0.046801288547089225, pvalue=0.7992220311766998)\n",
      "k__Bacteria;p__Firmicutes SpearmanrResult(correlation=0.22914445543177478, pvalue=0.20711777697940975)\n",
      "k__Bacteria;p__Fusobacteria SpearmanrResult(correlation=-0.0162001900988084, pvalue=0.929875356679561)\n",
      "k__Bacteria;p__Lentisphaerae SpearmanrResult(correlation=-0.22668457080156565, pvalue=0.21216982708849547)\n",
      "k__Bacteria;p__Proteobacteria SpearmanrResult(correlation=-0.04796046741595286, pvalue=0.7943538453293353)\n",
      "k__Bacteria;p__Synergistetes SpearmanrResult(correlation=-0.0013135289269304107, pvalue=0.9943072988912719)\n",
      "k__Bacteria;p__Tenericutes SpearmanrResult(correlation=0.19304063859455023, pvalue=0.289803202701255)\n",
      "k__Bacteria;p__Verrucomicrobia SpearmanrResult(correlation=-0.09400495787843202, pvalue=0.6088253166505716)\n"
     ]
    }
   ],
   "source": [
    "print(\"SPEARMAN CORR PHYLA AND CESD\")\n",
    "for col in L2.columns:\n",
    "    spear = spearmanr(metadata[\"cesd_total\"],\n",
    "                      L2[col])\n",
    "    \n",
    "    if spear.pvalue < 0.05:\n",
    "        print(\"SIGNIFICANT:\")\n",
    "    print(col, spear)"
   ]
  },
  {
   "cell_type": "code",
   "execution_count": 61,
   "metadata": {},
   "outputs": [
    {
     "name": "stdout",
     "output_type": "stream",
     "text": [
      "UNTRANSFORMED HISTOGRAMS\n"
     ]
    },
    {
     "data": {
      "image/png": "[encoded data removed]",
      "text/plain": [
       "<Figure size 432x288 with 1 Axes>"
      ]
     },
     "metadata": {
      "needs_background": "light"
     },
     "output_type": "display_data"
    },
    {
     "data": {
      "image/png": "[encoded data removed]",
      "text/plain": [
       "<Figure size 432x288 with 1 Axes>"
      ]
     },
     "metadata": {
      "needs_background": "light"
     },
     "output_type": "display_data"
    },
    {
     "data": {
      "image/png": "[encoded data removed]",
      "text/plain": [
       "<Figure size 432x288 with 1 Axes>"
      ]
     },
     "metadata": {
      "needs_background": "light"
     },
     "output_type": "display_data"
    },
    {
     "data": {
      "image/png": "[encoded data removed]",
      "text/plain": [
       "<Figure size 432x288 with 1 Axes>"
      ]
     },
     "metadata": {
      "needs_background": "light"
     },
     "output_type": "display_data"
    },
    {
     "data": {
      "image/png": "[encoded data removed]",
      "text/plain": [
       "<Figure size 432x288 with 1 Axes>"
      ]
     },
     "metadata": {
      "needs_background": "light"
     },
     "output_type": "display_data"
    },
    {
     "data": {
      "image/png": "[encoded data removed]",
      "text/plain": [
       "<Figure size 432x288 with 1 Axes>"
      ]
     },
     "metadata": {
      "needs_background": "light"
     },
     "output_type": "display_data"
    },
    {
     "data": {
      "image/png": "[encoded data removed]",
      "text/plain": [
       "<Figure size 432x288 with 1 Axes>"
      ]
     },
     "metadata": {
      "needs_background": "light"
     },
     "output_type": "display_data"
    },
    {
     "data": {
      "image/png": "[encoded data removed]",
      "text/plain": [
       "<Figure size 432x288 with 1 Axes>"
      ]
     },
     "metadata": {
      "needs_background": "light"
     },
     "output_type": "display_data"
    },
    {
     "data": {
      "image/png": "[encoded data removed]",
      "text/plain": [
       "<Figure size 432x288 with 1 Axes>"
      ]
     },
     "metadata": {
      "needs_background": "light"
     },
     "output_type": "display_data"
    },
    {
     "data": {
      "image/png": "[encoded data removed]",
      "text/plain": [
       "<Figure size 432x288 with 1 Axes>"
      ]
     },
     "metadata": {
      "needs_background": "light"
     },
     "output_type": "display_data"
    },
    {
     "data": {
      "image/png": "[encoded data removed]",
      "text/plain": [
       "<Figure size 432x288 with 1 Axes>"
      ]
     },
     "metadata": {
      "needs_background": "light"
     },
     "output_type": "display_data"
    },
    {
     "data": {
      "image/png": "[encoded data removed]",
      "text/plain": [
       "<Figure size 432x288 with 1 Axes>"
      ]
     },
     "metadata": {
      "needs_background": "light"
     },
     "output_type": "display_data"
    },
    {
     "data": {
      "image/png": "[encoded data removed]",
      "text/plain": [
       "<Figure size 432x288 with 1 Axes>"
      ]
     },
     "metadata": {
      "needs_background": "light"
     },
     "output_type": "display_data"
    }
   ],
   "source": [
    "print(\"UNTRANSFORMED HISTOGRAMS\")\n",
    "for col in L2.columns:\n",
    "    L2[col].hist()\n",
    "    plt.show()"
   ]
  },
  {
   "cell_type": "code",
   "execution_count": 25,
   "metadata": {},
   "outputs": [],
   "source": [
    "from skbio.stats.composition import clr"
   ]
  },
  {
   "cell_type": "code",
   "execution_count": 39,
   "metadata": {},
   "outputs": [
    {
     "name": "stdout",
     "output_type": "stream",
     "text": [
      "PEARSON CORR PHYLA AND FACT-COG\n",
      "k__Archaea;p__Euryarchaeota 0.07665215188261981 0.6766982293826271\n",
      "k__Bacteria;__ 0.016686850208478494 0.9277741748079694\n",
      "k__Bacteria;p__ 0.25059334669006755 0.16655460419298518\n",
      "k__Bacteria;p__Actinobacteria -0.02302767519780463 0.9004460455923246\n",
      "k__Bacteria;p__Bacteroidetes -0.12772777454441553 0.48602045790054943\n",
      "k__Bacteria;p__Cyanobacteria 0.2766904446064558 0.12526825115094287\n",
      "k__Bacteria;p__Firmicutes 0.1100065101366609 0.548935504799943\n",
      "k__Bacteria;p__Fusobacteria -0.07837791727515811 0.6698240698157426\n",
      "k__Bacteria;p__Lentisphaerae 0.1253846094084028 0.4941209819292371\n",
      "k__Bacteria;p__Proteobacteria -0.005937774017303887 0.9742703161175928\n",
      "k__Bacteria;p__Synergistetes -0.2654222675007799 0.14204980784054042\n",
      "k__Bacteria;p__Tenericutes 0.15199020469213326 0.40630159652397085\n",
      "k__Bacteria;p__Verrucomicrobia 0.0032298423488376846 0.9860027596500022\n"
     ]
    }
   ],
   "source": [
    "print(\"PEARSON CORR PHYLA AND FACT-COG\")\n",
    "for col in L2.columns:\n",
    "    r, p = pearsonr(metadata[\"fact_c_total\"],\n",
    "                      clr(L2[col].apply(lambda x: x+0.00001)))\n",
    "    \n",
    "    if p < 0.05:\n",
    "        print(\"SIGNIFICANT:\")\n",
    "    print(col, r, p)"
   ]
  },
  {
   "cell_type": "code",
   "execution_count": 40,
   "metadata": {},
   "outputs": [
    {
     "name": "stdout",
     "output_type": "stream",
     "text": [
      "PEARSON CORR PHYLA AND CESD\n",
      "k__Archaea;p__Euryarchaeota -0.004932870525326996 0.9786236948924716\n",
      "k__Bacteria;__ 0.006715796649576916 0.970900309293152\n",
      "k__Bacteria;p__ -0.2932205912055708 0.10336792843765631\n",
      "k__Bacteria;p__Actinobacteria 0.19731258390636944 0.2790542624137768\n",
      "k__Bacteria;p__Bacteroidetes -0.1257670293337986 0.49279426126629244\n",
      "k__Bacteria;p__Cyanobacteria -0.036563539608624705 0.8425195477753593\n",
      "k__Bacteria;p__Firmicutes 0.05921707065733535 0.7475001030302989\n",
      "k__Bacteria;p__Fusobacteria 0.10930519774488566 0.5515014099856227\n",
      "k__Bacteria;p__Lentisphaerae -0.19567065570684689 0.2831547685562246\n",
      "k__Bacteria;p__Proteobacteria 0.01963358741243236 0.9150621783109515\n",
      "k__Bacteria;p__Synergistetes -0.02791891047679504 0.8794400986945778\n",
      "k__Bacteria;p__Tenericutes 0.1186288154613791 0.5178542470783736\n",
      "k__Bacteria;p__Verrucomicrobia -0.02998512188017926 0.8705898339799109\n"
     ]
    }
   ],
   "source": [
    "print(\"PEARSON CORR PHYLA AND CESD\")\n",
    "for col in L2.columns:\n",
    "    r, p = pearsonr(metadata[\"cesd_total\"],\n",
    "                      clr(L2[col].apply(lambda x: x+0.00001)))\n",
    "    \n",
    "    if p < 0.05:\n",
    "        print(\"SIGNIFICANT:\")\n",
    "    print(col, r, p)"
   ]
  },
  {
   "cell_type": "code",
   "execution_count": 63,
   "metadata": {},
   "outputs": [
    {
     "name": "stdout",
     "output_type": "stream",
     "text": [
      "CLR TRANSFORMED HISTOGRAMS\n",
      "k__Archaea;p__Euryarchaeota\n"
     ]
    },
    {
     "data": {
      "image/png": "[encoded data removed]",
      "text/plain": [
       "<Figure size 432x288 with 1 Axes>"
      ]
     },
     "metadata": {
      "needs_background": "light"
     },
     "output_type": "display_data"
    },
    {
     "name": "stdout",
     "output_type": "stream",
     "text": [
      "k__Bacteria;__\n"
     ]
    },
    {
     "data": {
      "image/png": "[encoded data removed]",
      "text/plain": [
       "<Figure size 432x288 with 1 Axes>"
      ]
     },
     "metadata": {
      "needs_background": "light"
     },
     "output_type": "display_data"
    },
    {
     "name": "stdout",
     "output_type": "stream",
     "text": [
      "k__Bacteria;p__\n"
     ]
    },
    {
     "data": {
      "image/png": "[encoded data removed]",
      "text/plain": [
       "<Figure size 432x288 with 1 Axes>"
      ]
     },
     "metadata": {
      "needs_background": "light"
     },
     "output_type": "display_data"
    },
    {
     "name": "stdout",
     "output_type": "stream",
     "text": [
      "k__Bacteria;p__Actinobacteria\n"
     ]
    },
    {
     "data": {
      "image/png": "[encoded data removed]",
      "text/plain": [
       "<Figure size 432x288 with 1 Axes>"
      ]
     },
     "metadata": {
      "needs_background": "light"
     },
     "output_type": "display_data"
    },
    {
     "name": "stdout",
     "output_type": "stream",
     "text": [
      "k__Bacteria;p__Bacteroidetes\n"
     ]
    },
    {
     "data": {
      "image/png": "[encoded data removed]",
      "text/plain": [
       "<Figure size 432x288 with 1 Axes>"
      ]
     },
     "metadata": {
      "needs_background": "light"
     },
     "output_type": "display_data"
    },
    {
     "name": "stdout",
     "output_type": "stream",
     "text": [
      "k__Bacteria;p__Cyanobacteria\n"
     ]
    },
    {
     "data": {
      "image/png": "[encoded data removed]",
      "text/plain": [
       "<Figure size 432x288 with 1 Axes>"
      ]
     },
     "metadata": {
      "needs_background": "light"
     },
     "output_type": "display_data"
    },
    {
     "name": "stdout",
     "output_type": "stream",
     "text": [
      "k__Bacteria;p__Firmicutes\n"
     ]
    },
    {
     "data": {
      "image/png": "[encoded data removed]",
      "text/plain": [
       "<Figure size 432x288 with 1 Axes>"
      ]
     },
     "metadata": {
      "needs_background": "light"
     },
     "output_type": "display_data"
    },
    {
     "name": "stdout",
     "output_type": "stream",
     "text": [
      "k__Bacteria;p__Fusobacteria\n"
     ]
    },
    {
     "data": {
      "image/png": "[encoded data removed]",
      "text/plain": [
       "<Figure size 432x288 with 1 Axes>"
      ]
     },
     "metadata": {
      "needs_background": "light"
     },
     "output_type": "display_data"
    },
    {
     "name": "stdout",
     "output_type": "stream",
     "text": [
      "k__Bacteria;p__Lentisphaerae\n"
     ]
    },
    {
     "data": {
      "image/png": "[encoded data removed]",
      "text/plain": [
       "<Figure size 432x288 with 1 Axes>"
      ]
     },
     "metadata": {
      "needs_background": "light"
     },
     "output_type": "display_data"
    },
    {
     "name": "stdout",
     "output_type": "stream",
     "text": [
      "k__Bacteria;p__Proteobacteria\n"
     ]
    },
    {
     "data": {
      "image/png": "[encoded data removed]",
      "text/plain": [
       "<Figure size 432x288 with 1 Axes>"
      ]
     },
     "metadata": {
      "needs_background": "light"
     },
     "output_type": "display_data"
    },
    {
     "name": "stdout",
     "output_type": "stream",
     "text": [
      "k__Bacteria;p__Synergistetes\n"
     ]
    },
    {
     "data": {
      "image/png": "[encoded data removed]",
      "text/plain": [
       "<Figure size 432x288 with 1 Axes>"
      ]
     },
     "metadata": {
      "needs_background": "light"
     },
     "output_type": "display_data"
    },
    {
     "name": "stdout",
     "output_type": "stream",
     "text": [
      "k__Bacteria;p__Tenericutes\n"
     ]
    },
    {
     "data": {
      "image/png": "[encoded data removed]",
      "text/plain": [
       "<Figure size 432x288 with 1 Axes>"
      ]
     },
     "metadata": {
      "needs_background": "light"
     },
     "output_type": "display_data"
    },
    {
     "name": "stdout",
     "output_type": "stream",
     "text": [
      "k__Bacteria;p__Verrucomicrobia\n"
     ]
    },
    {
     "data": {
      "image/png": "[encoded data removed]",
      "text/plain": [
       "<Figure size 432x288 with 1 Axes>"
      ]
     },
     "metadata": {
      "needs_background": "light"
     },
     "output_type": "display_data"
    }
   ],
   "source": [
    "clr_L2 = pd.DataFrame(clr(L2.apply(lambda x: x+0.00001)),\n",
    "                     index=L2.index,\n",
    "                     columns=L2.columns)\n",
    "\n",
    "clr_L2[\"participant ID\"] = metadata[\"plate.sample.id\"].apply(lambda x: x.split(\"-\")[0])\n",
    "clr_L2 = clr_L2.reset_index().set_index(\"participant ID\")\n",
    "clr_L2 = clr_L2.rename(columns={\"index\":\"SampleID\"})\n",
    "\n",
    "clr_L2.to_csv(\"clr_transformed_phyla.csv\")\n",
    "\n",
    "print(\"CLR TRANSFORMED HISTOGRAMS\")\n",
    "for col in clr_L2.drop(\"SampleID\",axis=1):\n",
    "    print(col)\n",
    "    clr_L2[col].hist()\n",
    "    plt.show()"
   ]
  },
  {
   "cell_type": "code",
   "execution_count": 54,
   "metadata": {},
   "outputs": [
    {
     "data": {
      "image/png": "[encoded data removed]",
      "text/plain": [
       "<Figure size 432x288 with 1 Axes>"
      ]
     },
     "metadata": {
      "needs_background": "light"
     },
     "output_type": "display_data"
    }
   ],
   "source": [
    "L2chemo = pd.concat([L2.loc[:,L2.mean(axis=0)>0.001], \n",
    "                     metadata[\"Chemotherapy\"]],\n",
    "                    axis=1)\n",
    "\n",
    "L2chemo = pd.melt(L2chemo, id_vars=\"Chemotherapy\")\n",
    "\n",
    "L2chemo[\"Phylum\"] = L2chemo[\"variable\"].apply(lambda x: x.split(\"p__\")[1])\n",
    "\n",
    "ax = sns.boxplot(x=\"value\",\n",
    "                y=\"Phylum\",\n",
    "                hue=\"Chemotherapy\",\n",
    "                data=L2chemo,\n",
    "                palette=[\"tab:orange\",\"tab:blue\"])\n",
    "\n",
    "ax.set_xlabel(\"Relative Abundance\")\n",
    "\n",
    "plt.savefig(\"Figures/Phyla-boxplots.pdf\")\n",
    "plt.show()"
   ]
  },
  {
   "cell_type": "markdown",
   "metadata": {},
   "source": [
    "### Akkermansia"
   ]
  },
  {
   "cell_type": "code",
   "execution_count": 304,
   "metadata": {},
   "outputs": [
    {
     "data": {
      "image/png": "[encoded data removed]",
      "text/plain": [
       "<Figure size 432x288 with 1 Axes>"
      ]
     },
     "metadata": {
      "needs_background": "light"
     },
     "output_type": "display_data"
    }
   ],
   "source": [
    "ax = sns.boxplot(x=metadata[\"Chemotherapy\"],\n",
    "                y=L2[\"k__Bacteria;p__Verrucomicrobia\"],\n",
    "                showfliers=False,\n",
    "                 palette=[\"tab:orange\", \"tab:blue\"])\n",
    "\n",
    "sns.stripplot(x=metadata[\"Chemotherapy\"],\n",
    "              y=L2[\"k__Bacteria;p__Verrucomicrobia\"],\n",
    "              palette=[\"black\"]*2,\n",
    "              alpha=0.7,\n",
    "              ax=ax)\n",
    "plt.show()"
   ]
  },
  {
   "cell_type": "code",
   "execution_count": 305,
   "metadata": {},
   "outputs": [
    {
     "data": {
      "text/plain": [
       "KruskalResult(statistic=5.518042867440461, pvalue=0.01882130426578598)"
      ]
     },
     "execution_count": 305,
     "metadata": {},
     "output_type": "execute_result"
    }
   ],
   "source": [
    "kruskal(L2.loc[metadata[\"Chemotherapy\"]==\"Breast Cancer\",\"k__Bacteria;p__Verrucomicrobia\"],\n",
    "        L2.loc[metadata[\"Chemotherapy\"]==\"Healthy Control\",\"k__Bacteria;p__Verrucomicrobia\"])"
   ]
  },
  {
   "cell_type": "code",
   "execution_count": 306,
   "metadata": {},
   "outputs": [],
   "source": [
    "L6 = Artifact.load(\"L6-nobloom-table.qza\").view(pd.DataFrame)\n",
    "\n",
    "L6mat = np.matrix(L6)\n",
    "L6mat /= L6mat.sum(axis=1)\n",
    "\n",
    "L6 = pd.DataFrame(L6mat,\n",
    "                  columns=L6.columns,\n",
    "                  index=L6.index)"
   ]
  },
  {
   "cell_type": "code",
   "execution_count": 307,
   "metadata": {},
   "outputs": [
    {
     "data": {
      "text/plain": [
       "['k__Bacteria;p__Verrucomicrobia;c__Verrucomicrobiae;o__Verrucomicrobiales;f__Verrucomicrobiaceae;g__Akkermansia']"
      ]
     },
     "execution_count": 307,
     "metadata": {},
     "output_type": "execute_result"
    }
   ],
   "source": [
    "list(filter(lambda x: \"akkermansia\" in x.lower(), L6.columns))"
   ]
  },
  {
   "cell_type": "code",
   "execution_count": 308,
   "metadata": {},
   "outputs": [],
   "source": [
    "akker = 'k__Bacteria;p__Verrucomicrobia;c__Verrucomicrobiae;o__Verrucomicrobiales;f__Verrucomicrobiaceae;g__Akkermansia'"
   ]
  },
  {
   "cell_type": "code",
   "execution_count": 312,
   "metadata": {},
   "outputs": [
    {
     "data": {
      "image/png": "[encoded data removed]",
      "text/plain": [
       "<Figure size 432x288 with 1 Axes>"
      ]
     },
     "metadata": {
      "needs_background": "light"
     },
     "output_type": "display_data"
    }
   ],
   "source": [
    "ax = sns.boxplot(x=metadata[\"Chemotherapy\"],\n",
    "                y=L6[akker],\n",
    "                showfliers=False,\n",
    "                palette=[\"tab:orange\", \"tab:blue\"])\n",
    "\n",
    "sns.stripplot(x=metadata[\"Chemotherapy\"],\n",
    "              y=L6[akker],\n",
    "              palette=[\"black\"]*2,\n",
    "              alpha=0.7,\n",
    "              ax=ax)\n",
    "\n",
    "ax.set_ylabel(r\"$Akkermansia$ Relative Abundance\")\n",
    "\n",
    "plt.savefig(\"Figures/Akkermansia-boxplot.pdf\")\n",
    "plt.show()"
   ]
  },
  {
   "cell_type": "code",
   "execution_count": 311,
   "metadata": {},
   "outputs": [
    {
     "data": {
      "text/plain": [
       "KruskalResult(statistic=5.518042867440461, pvalue=0.01882130426578598)"
      ]
     },
     "execution_count": 311,
     "metadata": {},
     "output_type": "execute_result"
    }
   ],
   "source": [
    "kruskal(L6.loc[metadata[\"Chemotherapy\"]==\"Breast Cancer\",akker],\n",
    "        L6.loc[metadata[\"Chemotherapy\"]==\"Healthy Control\",akker])"
   ]
  },
  {
   "cell_type": "code",
   "execution_count": null,
   "metadata": {},
   "outputs": [],
   "source": []
  }
 ],
 "metadata": {
  "kernelspec": {
   "display_name": "Python 3",
   "language": "python",
   "name": "python3"
  },
  "language_info": {
   "codemirror_mode": {
    "name": "ipython",
    "version": 3
   },
   "file_extension": ".py",
   "mimetype": "text/x-python",
   "name": "python",
   "nbconvert_exporter": "python",
   "pygments_lexer": "ipython3",
   "version": "3.6.12"
  }
 },
 "nbformat": 4,
 "nbformat_minor": 4
}
