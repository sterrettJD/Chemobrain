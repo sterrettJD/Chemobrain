{
 "cells": [
  {
   "cell_type": "code",
   "execution_count": 1,
   "metadata": {},
   "outputs": [],
   "source": [
    "import pandas as pd\n",
    "import numpy as np\n",
    "import matplotlib.pyplot as plt\n",
    "import seaborn as sns\n",
    "from qiime2 import Artifact, Visualization\n",
    "from scipy.stats import spearmanr, kruskal, pearsonr\n",
    "\n",
    "%matplotlib inline"
   ]
  },
  {
   "cell_type": "code",
   "execution_count": 2,
   "metadata": {},
   "outputs": [
    {
     "name": "stdout",
     "output_type": "stream",
     "text": [
      "/Users/johnsterrett/Research-Projects/Boulder/Chemobrain/200608_Elsayed_Lowry-1101/reanalysis-2\n"
     ]
    }
   ],
   "source": [
    "cd ../200608_Elsayed_Lowry-1101/reanalysis-2/"
   ]
  },
  {
   "cell_type": "code",
   "execution_count": 3,
   "metadata": {},
   "outputs": [],
   "source": [
    "cp ../insertion-tree.qza insertion-tree.qza"
   ]
  },
  {
   "cell_type": "code",
   "execution_count": 3,
   "metadata": {},
   "outputs": [
    {
     "name": "stdout",
     "output_type": "stream",
     "text": [
      "ANCOM-L2-chemo.qzv                  lefse_cesd_in.tsv\r\n",
      "ANCOM-L6-chemo.qzv                  lefse_cesd_out.lefse_internal_res\r\n",
      "CESD-LEfSe.pdf                      lefse_cesd_plotdata.csv\r\n",
      "Chemo-LEfSe.pdf                     lefse_chemo_in.tsv\r\n",
      "\u001b[34mFigures\u001b[m\u001b[m/                            lefse_chemo_out.lefse_internal_res\r\n",
      "L2-nobloom-pseudo-table.qza         lefse_chemo_plotdata.csv\r\n",
      "L2-nobloom-table.qza                lefse_fact_in.tsv\r\n",
      "L6-nobloom-pseudo-table.qza         lefse_fact_out.lefse_internal_res\r\n",
      "L6-nobloom-table.qza                nobloom_metadata.tsv\r\n",
      "clr_transformed_phyla.csv           nobloom_table.qza\r\n",
      "\u001b[34mcore-diversity-results\u001b[m\u001b[m/             nobloom_table.qzv\r\n",
      "\u001b[34mdiversity-stats-results\u001b[m\u001b[m/            samp-filt-seq-table.qza\r\n",
      "expr-group-metadata.tsv             shared-scatterplot-LEfSe.pdf\r\n",
      "filt-seq-taxa-barplot.qzv           taxa_barplot_no_outlier.qzv\r\n",
      "insertion-tree.qza                  taxonomy-gg.qza\r\n"
     ]
    }
   ],
   "source": [
    "ls"
   ]
  },
  {
   "cell_type": "markdown",
   "metadata": {},
   "source": [
    "# Diversity\n",
    "### Start by looking at reads/feature"
   ]
  },
  {
   "cell_type": "markdown",
   "metadata": {},
   "source": [
    ">qiime feature-table summarize \\\n",
    "--i-table nobloom_table.qza \\\n",
    "--o-visualization nobloom_table.qzv \\"
   ]
  },
  {
   "cell_type": "code",
   "execution_count": 4,
   "metadata": {
    "scrolled": false
   },
   "outputs": [
    {
     "data": {
      "text/html": [
       "<div><img onload=\"(function(div, url){\n",
       "if (typeof require !== 'undefined') {\n",
       "    var baseURL = require.toUrl('').split('/').slice(0, -2).join('/');\n",
       "} else {\n",
       "    var baseURL = JSON.parse(\n",
       "        document.getElementById('jupyter-config-data').innerHTML\n",
       "    ).baseUrl.slice(0, -1);\n",
       "}\n",
       "url = baseURL + url;\n",
       "fetch(url).then(function(res) {\n",
       "    if (res.status === 404) {\n",
       "        div.innerHTML = 'Install QIIME 2 Jupyter extension with:<br />' +\n",
       "                        '<code>jupyter serverextension enable --py qiime2' +\n",
       "                        ' --sys-prefix</code><br />then restart your server.' +\n",
       "                        '<br /><br />(Interactive output not available on ' +\n",
       "                        'static notebook viewer services like nbviewer.)';\n",
       "    } else if (res.status === 409) {\n",
       "        div.innerHTML = 'Visualization no longer in scope. Re-run this cell' +\n",
       "                        ' to see the visualization.';\n",
       "    } else if (res.ok) {\n",
       "        url = res.url;\n",
       "        div.innerHTML = '<iframe src=\\'' + url + '\\' style=\\'' +\n",
       "                        'width: 100%; height: 700px; border: 0;\\'>' +\n",
       "                        '</iframe><hr />Open in a: <a href=\\'' + url + '\\'' +\n",
       "                        ' target=\\'_blank\\'>new window</a>'\n",
       "    } else {\n",
       "        div.innerHTML = 'Something has gone wrong. Check notebook server for' +\n",
       "                        ' errors.';\n",
       "    }\n",
       "});\n",
       "})(this.parentElement, '/qiime2/redirect?location=/var/folders/wp/9dsg4hm50lg540x82g1bht1r0000gn/T/qiime2-archive-t04oufr6')\" src=\"data:image/gif;base64,R0lGODlhAQABAIAAAP///wAAACH5BAEAAAAALAAAAAABAAEAAAICRAEAOw==\" /></div>"
      ],
      "text/plain": [
       "<visualization: Visualization uuid: 7af54aa8-f056-4148-abd7-d5b1249ab6be>"
      ]
     },
     "execution_count": 4,
     "metadata": {},
     "output_type": "execute_result"
    }
   ],
   "source": [
    "viz = Visualization.load(\"nobloom_table.qzv\")\n",
    "viz"
   ]
  },
  {
   "cell_type": "markdown",
   "metadata": {},
   "source": [
    "**The lowest number of reads above 10,000 is 13,056, so I will rarefy to 13,055.**"
   ]
  },
  {
   "cell_type": "markdown",
   "metadata": {},
   "source": [
    ">qiime diversity core-metrics-phylogenetic \\\n",
    "--i-table nobloom_table.qza \\\n",
    "--i-phylogeny insertion-tree.qza \\\n",
    "--p-sampling-depth 13055 \\\n",
    "--m-metadata-file nobloom_metadata.tsv \\\n",
    "--output-dir core-diversity-results/"
   ]
  },
  {
   "cell_type": "code",
   "execution_count": 6,
   "metadata": {},
   "outputs": [
    {
     "name": "stdout",
     "output_type": "stream",
     "text": [
      "mkdir: diversity-stats-results/: File exists\r\n"
     ]
    }
   ],
   "source": [
    "mkdir diversity-stats-results/"
   ]
  },
  {
   "cell_type": "markdown",
   "metadata": {},
   "source": [
    ">qiime diversity alpha-group-significance \\\n",
    "--i-alpha-diversity core-diversity-results/faith_pd_vector.qza \\\n",
    "--m-metadata-file nobloom_metadata.tsv \\\n",
    "--o-visualization diversity-stats-results/faith-group.qzv"
   ]
  },
  {
   "cell_type": "code",
   "execution_count": 5,
   "metadata": {
    "scrolled": true
   },
   "outputs": [
    {
     "data": {
      "text/html": [
       "<div><img onload=\"(function(div, url){\n",
       "if (typeof require !== 'undefined') {\n",
       "    var baseURL = require.toUrl('').split('/').slice(0, -2).join('/');\n",
       "} else {\n",
       "    var baseURL = JSON.parse(\n",
       "        document.getElementById('jupyter-config-data').innerHTML\n",
       "    ).baseUrl.slice(0, -1);\n",
       "}\n",
       "url = baseURL + url;\n",
       "fetch(url).then(function(res) {\n",
       "    if (res.status === 404) {\n",
       "        div.innerHTML = 'Install QIIME 2 Jupyter extension with:<br />' +\n",
       "                        '<code>jupyter serverextension enable --py qiime2' +\n",
       "                        ' --sys-prefix</code><br />then restart your server.' +\n",
       "                        '<br /><br />(Interactive output not available on ' +\n",
       "                        'static notebook viewer services like nbviewer.)';\n",
       "    } else if (res.status === 409) {\n",
       "        div.innerHTML = 'Visualization no longer in scope. Re-run this cell' +\n",
       "                        ' to see the visualization.';\n",
       "    } else if (res.ok) {\n",
       "        url = res.url;\n",
       "        div.innerHTML = '<iframe src=\\'' + url + '\\' style=\\'' +\n",
       "                        'width: 100%; height: 700px; border: 0;\\'>' +\n",
       "                        '</iframe><hr />Open in a: <a href=\\'' + url + '\\'' +\n",
       "                        ' target=\\'_blank\\'>new window</a>'\n",
       "    } else {\n",
       "        div.innerHTML = 'Something has gone wrong. Check notebook server for' +\n",
       "                        ' errors.';\n",
       "    }\n",
       "});\n",
       "})(this.parentElement, '/qiime2/redirect?location=/var/folders/wp/9dsg4hm50lg540x82g1bht1r0000gn/T/qiime2-archive-ht26pegy')\" src=\"data:image/gif;base64,R0lGODlhAQABAIAAAP///wAAACH5BAEAAAAALAAAAAABAAEAAAICRAEAOw==\" /></div>"
      ],
      "text/plain": [
       "<visualization: Visualization uuid: 148091e8-02fa-4218-a49e-1628f2e9db89>"
      ]
     },
     "execution_count": 5,
     "metadata": {},
     "output_type": "execute_result"
    }
   ],
   "source": [
    "Visualization.load(\"diversity-stats-results/faith-group.qzv\")"
   ]
  },
  {
   "cell_type": "markdown",
   "metadata": {},
   "source": [
    "### Alpha group results\n",
    " - Chemotherapy\n",
    "     - Not significant\n",
    "     - p=0.267\n",
    "     - H=1.23\n",
    " - CES-D\n",
    "     - Not significant\n",
    "     - p=0.091\n",
    "     - H=2.86\n",
    " - FACT-Cog\n",
    "     - Not significant\n",
    "     - p=0.110\n",
    "     - H=2.453\n",
    " - Stress scale\n",
    "     - Not significant\n",
    "     - p=0.498\n",
    "     - H=0.458\n",
    " - PROMIS\n",
    "     - Not significant\n",
    "     - p=0.620\n",
    "     - H=0.957"
   ]
  },
  {
   "cell_type": "markdown",
   "metadata": {},
   "source": [
    ">qiime diversity alpha-correlation \\\n",
    "--i-alpha-diversity core-diversity-results/faith_pd_vector.qza \\\n",
    "--m-metadata-file nobloom_metadata.tsv \\\n",
    "--o-visualization diversity-stats-results/faith-corr.qzv"
   ]
  },
  {
   "cell_type": "code",
   "execution_count": 6,
   "metadata": {},
   "outputs": [
    {
     "data": {
      "text/html": [
       "<div><img onload=\"(function(div, url){\n",
       "if (typeof require !== 'undefined') {\n",
       "    var baseURL = require.toUrl('').split('/').slice(0, -2).join('/');\n",
       "} else {\n",
       "    var baseURL = JSON.parse(\n",
       "        document.getElementById('jupyter-config-data').innerHTML\n",
       "    ).baseUrl.slice(0, -1);\n",
       "}\n",
       "url = baseURL + url;\n",
       "fetch(url).then(function(res) {\n",
       "    if (res.status === 404) {\n",
       "        div.innerHTML = 'Install QIIME 2 Jupyter extension with:<br />' +\n",
       "                        '<code>jupyter serverextension enable --py qiime2' +\n",
       "                        ' --sys-prefix</code><br />then restart your server.' +\n",
       "                        '<br /><br />(Interactive output not available on ' +\n",
       "                        'static notebook viewer services like nbviewer.)';\n",
       "    } else if (res.status === 409) {\n",
       "        div.innerHTML = 'Visualization no longer in scope. Re-run this cell' +\n",
       "                        ' to see the visualization.';\n",
       "    } else if (res.ok) {\n",
       "        url = res.url;\n",
       "        div.innerHTML = '<iframe src=\\'' + url + '\\' style=\\'' +\n",
       "                        'width: 100%; height: 700px; border: 0;\\'>' +\n",
       "                        '</iframe><hr />Open in a: <a href=\\'' + url + '\\'' +\n",
       "                        ' target=\\'_blank\\'>new window</a>'\n",
       "    } else {\n",
       "        div.innerHTML = 'Something has gone wrong. Check notebook server for' +\n",
       "                        ' errors.';\n",
       "    }\n",
       "});\n",
       "})(this.parentElement, '/qiime2/redirect?location=/var/folders/wp/9dsg4hm50lg540x82g1bht1r0000gn/T/qiime2-archive-h92wkwh6')\" src=\"data:image/gif;base64,R0lGODlhAQABAIAAAP///wAAACH5BAEAAAAALAAAAAABAAEAAAICRAEAOw==\" /></div>"
      ],
      "text/plain": [
       "<visualization: Visualization uuid: 7c5dc032-b053-449d-9906-83f471760e58>"
      ]
     },
     "execution_count": 6,
     "metadata": {},
     "output_type": "execute_result"
    }
   ],
   "source": [
    "Visualization.load(\"diversity-stats-results/faith-corr.qzv\")"
   ]
  },
  {
   "cell_type": "markdown",
   "metadata": {},
   "source": [
    "### Alpha Correlation results\n",
    " - Time difference\n",
    "     - Not significant\n",
    "     - p=0.085\n",
    "     - Spearman r = 0.510\n",
    " - CES-D Total\n",
    "     - SIGNIFICANT\n",
    "     - p=0.033\n",
    "     - Spearman r = -0.3903\n",
    " - FACT-Cog total\n",
    "     - Not significant\n",
    "     - p=0.116\n",
    "     - Spearman r=0.2929\n",
    " - Stress scale\n",
    "     - Not significant\n",
    "     - p=0.247\n",
    "     - Spearman r = -0.2182\n",
    " - PROMIS\n",
    "     - Not significant\n",
    "     - p=0.0648\n",
    "     - Spearman r = -0.3414\n"
   ]
  },
  {
   "cell_type": "code",
   "execution_count": 5,
   "metadata": {},
   "outputs": [],
   "source": [
    "metadata = pd.read_csv(\"nobloom_metadata.tsv\", sep=\"\\t\", index_col=\"sampleid\")\n",
    "\n",
    "faith = Artifact.load(\"core-diversity-results/faith_pd_vector.qza\").view(pd.Series)\n",
    "faith.index = faith.index.astype(int)\n",
    "\n",
    "time_faith = pd.concat([ faith, \n",
    "                         metadata[[\"Chemotherapy\", \"Time difference\"]] ], \n",
    "                       axis=1)\n",
    "\n",
    "#Make controls time diff=0, get rid of negative time diff\n",
    "time_faith.loc[time_faith[\"Chemotherapy\"]==\"Healthy Control\", \"Time difference\"] = 0\n",
    "\n",
    "time_faith.loc[(time_faith[\"Chemotherapy\"]==\"Breast Cancer\") & \n",
    "               (time_faith[\"Time difference\"] < 0),\n",
    "                 \"Time difference\"] = np.NaN\n",
    "\n",
    "#Drop nan faith values\n",
    "time_faith.dropna(inplace=True)\n",
    "\n",
    "time_faith_bc = time_faith[time_faith[\"Chemotherapy\"]==\"Breast Cancer\"]"
   ]
  },
  {
   "cell_type": "code",
   "execution_count": 6,
   "metadata": {},
   "outputs": [],
   "source": [
    "fit = np.polyfit(x = np.log(time_faith_bc[\"Time difference\"]+0.01),\n",
    "                 y = time_faith_bc[\"faith_pd\"],\n",
    "                 deg=1)"
   ]
  },
  {
   "cell_type": "code",
   "execution_count": 11,
   "metadata": {},
   "outputs": [
    {
     "name": "stdout",
     "output_type": "stream",
     "text": [
      "mkdir: Figures: File exists\r\n"
     ]
    }
   ],
   "source": [
    "mkdir Figures"
   ]
  },
  {
   "cell_type": "code",
   "execution_count": 7,
   "metadata": {},
   "outputs": [
    {
     "data": {
      "image/png": "[encoded data removed]",
      "text/plain": [
       "<Figure size 432x288 with 1 Axes>"
      ]
     },
     "metadata": {
      "needs_background": "light"
     },
     "output_type": "display_data"
    }
   ],
   "source": [
    "x = np.arange(0,45,0.25)+0.01\n",
    "logy = fit[0] * np.log(x) + fit[1]\n",
    "\n",
    "\n",
    "ax = sns.scatterplot(y=\"faith_pd\",\n",
    "                     x=\"Time difference\",\n",
    "                     data=time_faith,\n",
    "                     hue=\"Chemotherapy\",\n",
    "                     x_jitter=True,\n",
    "                     s=50)\n",
    "handles, labels = ax.get_legend_handles_labels()\n",
    "plt.clf()\n",
    "\n",
    "\n",
    "\n",
    "\n",
    "\n",
    "ax = sns.scatterplot(y=\"faith_pd\",\n",
    "                     x=\"Time difference\",\n",
    "                     data=time_faith,\n",
    "                     hue=\"Chemotherapy\",\n",
    "                     x_jitter=True,\n",
    "                     s=50,\n",
    "                    legend=False)\n",
    "\n",
    "plt.legend(handles=handles[1:], labels=labels[1:])\n",
    "\n",
    "\n",
    "ax.axhline(time_faith.loc[time_faith[\"Chemotherapy\"]==\"Healthy Control\",\"faith_pd\"].mean(),\n",
    "           c=\"tab:blue\",\n",
    "           lw=5,\n",
    "           alpha=0.7)\n",
    "\n",
    "ax.plot(x,logy, lw=5, alpha=0.7, c=\"tab:orange\")\n",
    "\n",
    "\n",
    "\n",
    "annot_coords = (18, fit[0] * np.log(20) + fit[1])\n",
    "\n",
    "ax.annotate(\"y = \" + str(round(fit[0],1)) + r\" $\\log{_{10}}{x} + $\" + str(round(fit[1], 1)), \n",
    "            xy=annot_coords, xytext=(18, fit[0] * np.log(20) + fit[1]-15),\n",
    "            ha=\"center\", bbox=dict(boxstyle=\"round\", fc=\"w\"),\n",
    "            arrowprops=dict(arrowstyle=\"->\"))\n",
    "\n",
    "grp2_mean = time_faith.loc[time_faith[\"Chemotherapy\"]==\"Healthy Control\",\"faith_pd\"].mean()\n",
    "\n",
    "ax.annotate(\"control mean (\" + str(round(grp2_mean,1)) + \")\", \n",
    "            xy=(18, grp2_mean), \n",
    "            xytext=(18, grp2_mean + 15),\n",
    "            ha=\"center\", bbox=dict(boxstyle=\"round\", fc=\"w\"),\n",
    "            arrowprops=dict(arrowstyle=\"->\"))\n",
    "\n",
    "ax.set_ylim(0,100)\n",
    "ax.set_xlim(-2,45)\n",
    "ax.set_ylabel(\"Faith's Phylogenetic Diversity\")\n",
    "ax.set_xlabel(\"Days Since Last Chemotherapy Treatment\")\n",
    "\n",
    "\n",
    "plt.show()"
   ]
  },
  {
   "cell_type": "code",
   "execution_count": 59,
   "metadata": {},
   "outputs": [
    {
     "data": {
      "image/png": "[encoded data removed]",
      "text/plain": [
       "<Figure size 432x288 with 1 Axes>"
      ]
     },
     "metadata": {
      "needs_background": "light"
     },
     "output_type": "display_data"
    }
   ],
   "source": [
    "ax = sns.boxplot(x=metadata[\"Chemotherapy\"],\n",
    "                 y=faith,\n",
    "                 showfliers=False,\n",
    "                 palette=[\"tab:blue\", \"tab:orange\"],\n",
    "                 order=[\"Healthy Control\", \"Breast Cancer\"])\n",
    "\n",
    "sns.stripplot(x=metadata[\"Chemotherapy\"],\n",
    "              y=faith,\n",
    "              palette=[\"black\"]*2,\n",
    "              order=[\"Healthy Control\", \"Breast Cancer\"],\n",
    "              alpha=0.7)\n",
    "\n",
    "ax.set_ylim(0,100)\n",
    "ax.set_ylabel(\"Faith's Phylogenetic Diversity\")\n",
    "ax.set_xlabel(None)\n",
    "\n",
    "ax.spines[\"top\"].set_visible(False)\n",
    "ax.spines[\"right\"].set_visible(False)\n",
    "\n",
    "plt.savefig(\"Figures/faith_chemo.pdf\")\n",
    "plt.savefig(\"Figures/faith_chemo.png\")\n",
    "plt.show()"
   ]
  },
  {
   "cell_type": "code",
   "execution_count": 9,
   "metadata": {},
   "outputs": [
    {
     "data": {
      "image/png": "[encoded data removed]",
      "text/plain": [
       "<Figure size 360x360 with 1 Axes>"
      ]
     },
     "metadata": {
      "needs_background": "light"
     },
     "output_type": "display_data"
    }
   ],
   "source": [
    "g = sns.lmplot(x=\"cesd_total\",\n",
    "               y=\"faith_pd\",\n",
    "               data=pd.concat([faith, metadata[\"cesd_total\"]],\n",
    "                              axis=1),\n",
    "               line_kws={\"color\": \"black\"}, \n",
    "               scatter_kws={\"color\":\"black\"})\n",
    "\n",
    "g.axes[0,0].set_ylim(0,100)\n",
    "g.axes[0,0].set_ylabel(\"Faith's Phylogenetic Diversity\")\n",
    "\n",
    "g.axes[0,0].set_xlabel(\"CES-D Total Score\")\n",
    "\n",
    "plt.tight_layout()\n",
    "\n",
    "\n",
    "plt.show()"
   ]
  },
  {
   "cell_type": "markdown",
   "metadata": {},
   "source": [
    "### Beta Diversity"
   ]
  },
  {
   "cell_type": "code",
   "execution_count": 10,
   "metadata": {},
   "outputs": [],
   "source": [
    "from skbio.stats.distance import mantel, permanova, DistanceMatrix\n",
    "from scipy.spatial.distance import pdist, cdist"
   ]
  },
  {
   "cell_type": "code",
   "execution_count": 11,
   "metadata": {},
   "outputs": [],
   "source": [
    "wuni = Artifact.load(\"core-diversity-results/weighted_unifrac_distance_matrix.qza\").view(DistanceMatrix)\n",
    "uuni = Artifact.load(\"core-diversity-results/unweighted_unifrac_distance_matrix.qza\").view(DistanceMatrix)"
   ]
  },
  {
   "cell_type": "code",
   "execution_count": 12,
   "metadata": {},
   "outputs": [],
   "source": [
    "metadata_beta = metadata\n",
    "metadata_beta.index = metadata_beta.index.astype(str)\n",
    "metadata_beta = metadata_beta.loc[list(wuni.ids)]"
   ]
  },
  {
   "cell_type": "markdown",
   "metadata": {},
   "source": [
    "### PERMANOVA\n",
    "#### Weighted UniFrac"
   ]
  },
  {
   "cell_type": "code",
   "execution_count": 13,
   "metadata": {},
   "outputs": [
    {
     "name": "stdout",
     "output_type": "stream",
     "text": [
      "\n",
      "Chemotherapy\n",
      "method name               PERMANOVA\n",
      "test statistic name        pseudo-F\n",
      "sample size                      30\n",
      "number of groups                  2\n",
      "test statistic             0.816605\n",
      "p-value                       0.529\n",
      "number of permutations          999\n",
      "Name: PERMANOVA results, dtype: object\n",
      "\n",
      "fact_c_r_imp_total_categorical\n",
      "method name               PERMANOVA\n",
      "test statistic name        pseudo-F\n",
      "sample size                      30\n",
      "number of groups                  2\n",
      "test statistic             1.123139\n",
      "p-value                         0.3\n",
      "number of permutations          999\n",
      "Name: PERMANOVA results, dtype: object\n",
      "\n",
      "stress_scale_total_categorical\n",
      "method name               PERMANOVA\n",
      "test statistic name        pseudo-F\n",
      "sample size                      30\n",
      "number of groups                  2\n",
      "test statistic             0.396761\n",
      "p-value                       0.965\n",
      "number of permutations          999\n",
      "Name: PERMANOVA results, dtype: object\n",
      "\n",
      "cesd_total_categorical\n",
      "method name               PERMANOVA\n",
      "test statistic name        pseudo-F\n",
      "sample size                      30\n",
      "number of groups                  2\n",
      "test statistic             1.279803\n",
      "p-value                       0.219\n",
      "number of permutations          999\n",
      "Name: PERMANOVA results, dtype: object\n",
      "\n",
      "promis_tscore_categorical\n",
      "method name               PERMANOVA\n",
      "test statistic name        pseudo-F\n",
      "sample size                      30\n",
      "number of groups                  3\n",
      "test statistic             1.128734\n",
      "p-value                        0.34\n",
      "number of permutations          999\n",
      "Name: PERMANOVA results, dtype: object\n"
     ]
    }
   ],
   "source": [
    "for var in [\"Chemotherapy\", \n",
    "            \"fact_c_r_imp_total_categorical\",\n",
    "            \"stress_scale_total_categorical\", \n",
    "            \"cesd_total_categorical\",\n",
    "            \"promis_tscore_categorical\"]:\n",
    "    perm = permanova(wuni, \n",
    "                    metadata_beta,\n",
    "                    column=var)\n",
    "    \n",
    "    print(\"\\n\" + var)\n",
    "    if perm[5] <= 0.05:\n",
    "        print(\" SIGNIFICANT\")\n",
    "    print(perm)"
   ]
  },
  {
   "cell_type": "markdown",
   "metadata": {},
   "source": [
    "#### Unweighted UniFrac"
   ]
  },
  {
   "cell_type": "code",
   "execution_count": 14,
   "metadata": {},
   "outputs": [
    {
     "name": "stdout",
     "output_type": "stream",
     "text": [
      "\n",
      "Chemotherapy\n",
      "method name               PERMANOVA\n",
      "test statistic name        pseudo-F\n",
      "sample size                      30\n",
      "number of groups                  2\n",
      "test statistic             1.078113\n",
      "p-value                        0.27\n",
      "number of permutations          999\n",
      "Name: PERMANOVA results, dtype: object\n",
      "\n",
      "fact_c_r_imp_total_categorical\n",
      "**SIGNIFICANT**\n",
      "method name               PERMANOVA\n",
      "test statistic name        pseudo-F\n",
      "sample size                      30\n",
      "number of groups                  2\n",
      "test statistic             1.514654\n",
      "p-value                       0.018\n",
      "number of permutations          999\n",
      "Name: PERMANOVA results, dtype: object\n",
      "\n",
      "stress_scale_total_categorical\n",
      "method name               PERMANOVA\n",
      "test statistic name        pseudo-F\n",
      "sample size                      30\n",
      "number of groups                  2\n",
      "test statistic              0.80454\n",
      "p-value                       0.917\n",
      "number of permutations          999\n",
      "Name: PERMANOVA results, dtype: object\n",
      "\n",
      "cesd_total_categorical\n",
      "method name               PERMANOVA\n",
      "test statistic name        pseudo-F\n",
      "sample size                      30\n",
      "number of groups                  2\n",
      "test statistic             1.040396\n",
      "p-value                       0.342\n",
      "number of permutations          999\n",
      "Name: PERMANOVA results, dtype: object\n",
      "\n",
      "promis_tscore_categorical\n",
      "method name               PERMANOVA\n",
      "test statistic name        pseudo-F\n",
      "sample size                      30\n",
      "number of groups                  3\n",
      "test statistic             1.106752\n",
      "p-value                       0.158\n",
      "number of permutations          999\n",
      "Name: PERMANOVA results, dtype: object\n"
     ]
    }
   ],
   "source": [
    "for var in [\"Chemotherapy\", \n",
    "            \"fact_c_r_imp_total_categorical\",\n",
    "            \"stress_scale_total_categorical\", \n",
    "            \"cesd_total_categorical\",\n",
    "            \"promis_tscore_categorical\"]:\n",
    "    perm = permanova(uuni, \n",
    "                    metadata_beta,\n",
    "                    column=var)\n",
    "    \n",
    "    print(\"\\n\" + var)\n",
    "    if perm[5] <= 0.05:\n",
    "        print(\"**SIGNIFICANT**\")\n",
    "    print(perm)"
   ]
  },
  {
   "cell_type": "markdown",
   "metadata": {},
   "source": [
    "### Mantel\n",
    "#### weighted UniFrac"
   ]
  },
  {
   "cell_type": "code",
   "execution_count": 15,
   "metadata": {},
   "outputs": [
    {
     "name": "stdout",
     "output_type": "stream",
     "text": [
      "\n",
      "variable:  Time difference\n",
      "significant:  False\n",
      "corr coef:  0.15358421848850945\n",
      "p value:  0.44\n",
      "\n",
      "variable:  fact_c_total\n",
      "significant:  False\n",
      "corr coef:  0.002951707445232093\n",
      "p value:  0.974\n",
      "\n",
      "variable:  cesd_total\n",
      "significant:  False\n",
      "corr coef:  0.06348284364350958\n",
      "p value:  0.456\n",
      "\n",
      "variable:  promis_rawscore\n",
      "significant:  False\n",
      "corr coef:  -0.09411761358093827\n",
      "p value:  0.273\n",
      "\n",
      "variable:  stress_scale_total\n",
      "significant:  False\n",
      "corr coef:  -0.07729954779591705\n",
      "p value:  0.214\n"
     ]
    }
   ],
   "source": [
    "for var in [\"Time difference\",\n",
    "            \"fact_c_total\",\n",
    "            \"cesd_total\",\n",
    "            \"promis_rawscore\",\n",
    "            \"stress_scale_total\"]:\n",
    "    \n",
    "    #initialize empty distance matrix\n",
    "    dat = metadata_beta[var].dropna()\n",
    "    dim = dat.shape[0]\n",
    "    distm = np.empty((dim, dim))\n",
    "    \n",
    "    #fill distance matrix\n",
    "    for i in range(dim):\n",
    "        for j in range(dim):\n",
    "            distm[i,j] = np.abs(dat.iloc[i]-dat.iloc[j])\n",
    "\n",
    "    distm = DistanceMatrix(distm, ids=dat.index)\n",
    "\n",
    "    #filter where we don't have data\n",
    "    var_wuni = DistanceMatrix(wuni.to_data_frame().loc[dat.index,dat.index], \n",
    "                              ids=dat.index)\n",
    "    #do the mantel\n",
    "    man = mantel(var_wuni, \n",
    "                distm,\n",
    "                method=\"spearman\")\n",
    "\n",
    "    print(\"\\nvariable: \", var)\n",
    "    print(\"significant: \", man[1]<0.05)\n",
    "    print(\"corr coef: \", man[0])\n",
    "    print(\"p value: \", man[1])"
   ]
  },
  {
   "cell_type": "markdown",
   "metadata": {},
   "source": [
    "#### Unweighted UniFrac"
   ]
  },
  {
   "cell_type": "code",
   "execution_count": 16,
   "metadata": {},
   "outputs": [
    {
     "name": "stdout",
     "output_type": "stream",
     "text": [
      "\n",
      "variable:  Time difference\n",
      "significant:  False\n",
      "corr coef:  0.07642638277486448\n",
      "p value:  0.669\n",
      "\n",
      "variable:  fact_c_total\n",
      "significant:  False\n",
      "corr coef:  0.10572806820942689\n",
      "p value:  0.163\n",
      "\n",
      "variable:  cesd_total\n",
      "significant:  False\n",
      "corr coef:  0.0008239026282835701\n",
      "p value:  0.993\n",
      "\n",
      "variable:  promis_rawscore\n",
      "significant:  False\n",
      "corr coef:  0.01658151414238586\n",
      "p value:  0.845\n",
      "\n",
      "variable:  stress_scale_total\n",
      "significant:  False\n",
      "corr coef:  -0.03324645393547799\n",
      "p value:  0.612\n"
     ]
    }
   ],
   "source": [
    "for var in [\"Time difference\",\n",
    "            \"fact_c_total\",\n",
    "            \"cesd_total\",\n",
    "            \"promis_rawscore\",\n",
    "            \"stress_scale_total\"]:\n",
    "    \n",
    "    #initialize empty distance matrix\n",
    "    dat = metadata_beta[var].dropna()\n",
    "    dim = dat.shape[0]\n",
    "    distm = np.empty((dim, dim))\n",
    "    \n",
    "    #fill distance matrix\n",
    "    for i in range(dim):\n",
    "        for j in range(dim):\n",
    "            distm[i,j] = np.abs(dat.iloc[i]-dat.iloc[j])\n",
    "\n",
    "    distm = DistanceMatrix(distm, ids=dat.index)\n",
    "\n",
    "    #filter where we don't have data\n",
    "    var_uuni = DistanceMatrix(uuni.to_data_frame().loc[dat.index,dat.index], \n",
    "                              ids=dat.index)\n",
    "    #do the mantel\n",
    "    man = mantel(var_uuni, \n",
    "                distm,\n",
    "                method=\"spearman\")\n",
    "\n",
    "    print(\"\\nvariable: \", var)\n",
    "    print(\"significant: \", man[1]<0.05)\n",
    "    print(\"corr coef: \", man[0])\n",
    "    print(\"p value: \", man[1])"
   ]
  },
  {
   "cell_type": "markdown",
   "metadata": {},
   "source": [
    "## Differential abundance"
   ]
  },
  {
   "cell_type": "markdown",
   "metadata": {},
   "source": [
    "! qiime taxa collapse \\\n",
    "--i-table nobloom_table.qza \\\n",
    "--i-taxonomy taxonomy-gg.qza \\\n",
    "--p-level 2 \\\n",
    "--o-collapsed-table L2-nobloom-table.qza"
   ]
  },
  {
   "cell_type": "markdown",
   "metadata": {},
   "source": [
    "! qiime taxa collapse \\\n",
    "--i-table nobloom_table.qza \\\n",
    "--i-taxonomy taxonomy-gg.qza \\\n",
    "--p-level 6 \\\n",
    "--o-collapsed-table L6-nobloom-table.qza"
   ]
  },
  {
   "cell_type": "markdown",
   "metadata": {},
   "source": [
    "! qiime composition add-pseudocount \\\n",
    "--i-table L2-nobloom-table.qza \\\n",
    "--o-composition-table L2-nobloom-pseudo-table.qza"
   ]
  },
  {
   "cell_type": "markdown",
   "metadata": {},
   "source": [
    "! qiime composition add-pseudocount \\\n",
    "--i-table L6-nobloom-table.qza \\\n",
    "--o-composition-table L6-nobloom-pseudo-table.qza"
   ]
  },
  {
   "cell_type": "markdown",
   "metadata": {},
   "source": [
    "! qiime composition ancom \\\n",
    "--i-table L2-nobloom-pseudo-table.qza \\\n",
    "--m-metadata-file nobloom_metadata.tsv \\\n",
    "--m-metadata-column \"Chemotherapy\" \\\n",
    "--o-visualization ANCOM-L2-chemo.qzv"
   ]
  },
  {
   "cell_type": "markdown",
   "metadata": {},
   "source": [
    "! qiime composition ancom \\\n",
    "--i-table L6-nobloom-pseudo-table.qza \\\n",
    "--m-metadata-file nobloom_metadata.tsv \\\n",
    "--m-metadata-column \"Chemotherapy\" \\\n",
    "--o-visualization ANCOM-L6-chemo.qzv"
   ]
  },
  {
   "cell_type": "markdown",
   "metadata": {},
   "source": [
    "#### NO SIGNIFICANT RESULTS FROM ANCOM\n",
    "\n",
    "### Taxa correlations"
   ]
  },
  {
   "cell_type": "code",
   "execution_count": 17,
   "metadata": {},
   "outputs": [],
   "source": [
    "L2 = Artifact.load(\"L2-nobloom-table.qza\").view(pd.DataFrame)\n",
    "\n",
    "L2mat = np.matrix(L2)\n",
    "L2mat /= L2mat.sum(axis=1)\n",
    "\n",
    "L2 = pd.DataFrame(L2mat,\n",
    "                  columns=L2.columns,\n",
    "                  index=L2.index)"
   ]
  },
  {
   "cell_type": "code",
   "execution_count": 18,
   "metadata": {},
   "outputs": [
    {
     "name": "stdout",
     "output_type": "stream",
     "text": [
      "SPEARMAN CORR PHYLA AND FACT COG\n",
      "k__Archaea;p__Euryarchaeota SpearmanrResult(correlation=-0.003013447239978311, pvalue=0.9869404736606391)\n",
      "k__Bacteria;__ SpearmanrResult(correlation=-0.13930389624955528, pvalue=0.4470223155634683)\n",
      "k__Bacteria;p__ SpearmanrResult(correlation=-0.033858061155492905, pvalue=0.8540429284168896)\n",
      "k__Bacteria;p__Actinobacteria SpearmanrResult(correlation=0.10506051311441914, pvalue=0.5671497203375993)\n",
      "k__Bacteria;p__Bacteroidetes SpearmanrResult(correlation=-0.010634397488021483, pvalue=0.9539355419484379)\n",
      "k__Bacteria;p__Cyanobacteria SpearmanrResult(correlation=-0.1909538786386009, pvalue=0.2951486984983393)\n",
      "k__Bacteria;p__Firmicutes SpearmanrResult(correlation=-0.03355335759151606, pvalue=0.8553426439957798)\n",
      "k__Bacteria;p__Fusobacteria SpearmanrResult(correlation=0.09371037571423518, pvalue=0.6099532669062211)\n",
      "k__Bacteria;p__Lentisphaerae SpearmanrResult(correlation=0.29686791960883524, pvalue=0.09895101876710606)\n",
      "k__Bacteria;p__Proteobacteria SpearmanrResult(correlation=0.03245324750654832, pvalue=0.8600382494525454)\n",
      "k__Bacteria;p__Synergistetes SpearmanrResult(correlation=0.07820119931397716, pvalue=0.670526788687748)\n",
      "k__Bacteria;p__Tenericutes SpearmanrResult(correlation=0.29974400669731327, pvalue=0.09557006618432916)\n",
      "k__Bacteria;p__Verrucomicrobia SpearmanrResult(correlation=0.21975489774268434, pvalue=0.2268537320455516)\n"
     ]
    }
   ],
   "source": [
    "print(\"SPEARMAN CORR PHYLA AND FACT COG\")\n",
    "for col in L2.columns:\n",
    "    spear = spearmanr(metadata[\"fact_c_total\"].reindex_like(L2),\n",
    "                      L2[col])\n",
    "    \n",
    "    if spear.pvalue < 0.05:\n",
    "        print(\"SIGNIFICANT:\")\n",
    "    print(col, spear)"
   ]
  },
  {
   "cell_type": "code",
   "execution_count": 19,
   "metadata": {},
   "outputs": [
    {
     "name": "stdout",
     "output_type": "stream",
     "text": [
      "SPEARMAN CORR PHYLA AND CESD\n",
      "k__Archaea;p__Euryarchaeota SpearmanrResult(correlation=-0.0024160815182863622, pvalue=0.9895291487495608)\n",
      "k__Bacteria;__ SpearmanrResult(correlation=-0.11408024378813332, pvalue=0.5341424498562868)\n",
      "k__Bacteria;p__ SpearmanrResult(correlation=0.02517597109949954, pvalue=0.8912109567792014)\n",
      "k__Bacteria;p__Actinobacteria SpearmanrResult(correlation=-0.04336655291250909, pvalue=0.8136897177164872)\n",
      "k__Bacteria;p__Bacteroidetes SpearmanrResult(correlation=0.17328245506989862, pvalue=0.34290782900065586)\n",
      "k__Bacteria;p__Cyanobacteria SpearmanrResult(correlation=-0.1846565691684659, pvalue=0.31165737142123756)\n",
      "k__Bacteria;p__Firmicutes SpearmanrResult(correlation=-0.11429659284568074, pvalue=0.5333621938049486)\n",
      "k__Bacteria;p__Fusobacteria SpearmanrResult(correlation=0.0529790000528599, pvalue=0.773367344351273)\n",
      "k__Bacteria;p__Lentisphaerae SpearmanrResult(correlation=-0.1580253017607068, pvalue=0.3876941652995556)\n",
      "k__Bacteria;p__Proteobacteria SpearmanrResult(correlation=0.04649041477485085, pvalue=0.8005288714630734)\n",
      "k__Bacteria;p__Synergistetes SpearmanrResult(correlation=-0.1482098472553147, pvalue=0.4182101810320197)\n",
      "SIGNIFICANT:\n",
      "k__Bacteria;p__Tenericutes SpearmanrResult(correlation=-0.5259815152716677, pvalue=0.0019887049048683777)\n",
      "k__Bacteria;p__Verrucomicrobia SpearmanrResult(correlation=-0.17416742745388614, pvalue=0.34041044367364226)\n"
     ]
    }
   ],
   "source": [
    "print(\"SPEARMAN CORR PHYLA AND CESD\")\n",
    "for col in L2.columns:\n",
    "    spear = spearmanr(metadata[\"cesd_total\"].reindex_like(L2),\n",
    "                      L2[col])\n",
    "    \n",
    "    if spear.pvalue < 0.05:\n",
    "        print(\"SIGNIFICANT:\")\n",
    "    print(col, spear)"
   ]
  },
  {
   "cell_type": "code",
   "execution_count": 20,
   "metadata": {},
   "outputs": [
    {
     "name": "stdout",
     "output_type": "stream",
     "text": [
      "UNTRANSFORMED HISTOGRAMS\n"
     ]
    },
    {
     "data": {
      "image/png": "[encoded data removed]",
      "text/plain": [
       "<Figure size 432x288 with 1 Axes>"
      ]
     },
     "metadata": {
      "needs_background": "light"
     },
     "output_type": "display_data"
    },
    {
     "data": {
      "image/png": "[encoded data removed]",
      "text/plain": [
       "<Figure size 432x288 with 1 Axes>"
      ]
     },
     "metadata": {
      "needs_background": "light"
     },
     "output_type": "display_data"
    },
    {
     "data": {
      "image/png": "[encoded data removed]",
      "text/plain": [
       "<Figure size 432x288 with 1 Axes>"
      ]
     },
     "metadata": {
      "needs_background": "light"
     },
     "output_type": "display_data"
    },
    {
     "data": {
      "image/png": "[encoded data removed]",
      "text/plain": [
       "<Figure size 432x288 with 1 Axes>"
      ]
     },
     "metadata": {
      "needs_background": "light"
     },
     "output_type": "display_data"
    },
    {
     "data": {
      "image/png": "[encoded data removed]",
      "text/plain": [
       "<Figure size 432x288 with 1 Axes>"
      ]
     },
     "metadata": {
      "needs_background": "light"
     },
     "output_type": "display_data"
    },
    {
     "data": {
      "image/png": "[encoded data removed]",
      "text/plain": [
       "<Figure size 432x288 with 1 Axes>"
      ]
     },
     "metadata": {
      "needs_background": "light"
     },
     "output_type": "display_data"
    },
    {
     "data": {
      "image/png": "[encoded data removed]",
      "text/plain": [
       "<Figure size 432x288 with 1 Axes>"
      ]
     },
     "metadata": {
      "needs_background": "light"
     },
     "output_type": "display_data"
    },
    {
     "data": {
      "image/png": "[encoded data removed]",
      "text/plain": [
       "<Figure size 432x288 with 1 Axes>"
      ]
     },
     "metadata": {
      "needs_background": "light"
     },
     "output_type": "display_data"
    },
    {
     "data": {
      "image/png": "[encoded data removed]",
      "text/plain": [
       "<Figure size 432x288 with 1 Axes>"
      ]
     },
     "metadata": {
      "needs_background": "light"
     },
     "output_type": "display_data"
    },
    {
     "data": {
      "image/png": "[encoded data removed]",
      "text/plain": [
       "<Figure size 432x288 with 1 Axes>"
      ]
     },
     "metadata": {
      "needs_background": "light"
     },
     "output_type": "display_data"
    },
    {
     "data": {
      "image/png": "[encoded data removed]",
      "text/plain": [
       "<Figure size 432x288 with 1 Axes>"
      ]
     },
     "metadata": {
      "needs_background": "light"
     },
     "output_type": "display_data"
    },
    {
     "data": {
      "image/png": "[encoded data removed]",
      "text/plain": [
       "<Figure size 432x288 with 1 Axes>"
      ]
     },
     "metadata": {
      "needs_background": "light"
     },
     "output_type": "display_data"
    },
    {
     "data": {
      "image/png": "[encoded data removed]",
      "text/plain": [
       "<Figure size 432x288 with 1 Axes>"
      ]
     },
     "metadata": {
      "needs_background": "light"
     },
     "output_type": "display_data"
    }
   ],
   "source": [
    "print(\"UNTRANSFORMED HISTOGRAMS\")\n",
    "for col in L2.columns:\n",
    "    L2[col].hist()\n",
    "    plt.show()"
   ]
  },
  {
   "cell_type": "code",
   "execution_count": 21,
   "metadata": {},
   "outputs": [],
   "source": [
    "from skbio.stats.composition import clr"
   ]
  },
  {
   "cell_type": "code",
   "execution_count": 22,
   "metadata": {},
   "outputs": [
    {
     "name": "stdout",
     "output_type": "stream",
     "text": [
      "PEARSON CORR PHYLA AND FACT-COG\n",
      "k__Archaea;p__Euryarchaeota 0.034368191494453984 0.8518678061672841\n",
      "k__Bacteria;__ -0.11730220908944226 0.5225794380283644\n",
      "k__Bacteria;p__ 0.01647736927610054 0.9286785625232692\n",
      "k__Bacteria;p__Actinobacteria 0.02171587505360653 0.9060915819671096\n",
      "k__Bacteria;p__Bacteroidetes 0.0221714093950979 0.9041305944472732\n",
      "k__Bacteria;p__Cyanobacteria -0.29923296699603563 0.0961643105807507\n",
      "k__Bacteria;p__Firmicutes 0.12351626096813473 0.5006287759225702\n",
      "k__Bacteria;p__Fusobacteria 0.16314026006158164 0.3723170084623345\n",
      "k__Bacteria;p__Lentisphaerae 0.28815666624282477 0.10974479088587293\n",
      "k__Bacteria;p__Proteobacteria -0.02856994994494097 0.8766498879663186\n",
      "k__Bacteria;p__Synergistetes 0.0531834176285564 0.7725157263605427\n",
      "k__Bacteria;p__Tenericutes 0.31514544833479813 0.07893747578444758\n",
      "k__Bacteria;p__Verrucomicrobia 0.26756172572034076 0.13874389953049177\n"
     ]
    }
   ],
   "source": [
    "print(\"PEARSON CORR PHYLA AND FACT-COG\")\n",
    "for col in L2.columns:\n",
    "    r, p = pearsonr(metadata[\"fact_c_total\"].reindex_like(L2),\n",
    "                      clr(L2[col].apply(lambda x: x+0.00001)))\n",
    "    \n",
    "    if p < 0.05:\n",
    "        print(\"SIGNIFICANT:\")\n",
    "    print(col, r, p)"
   ]
  },
  {
   "cell_type": "code",
   "execution_count": 23,
   "metadata": {},
   "outputs": [
    {
     "name": "stdout",
     "output_type": "stream",
     "text": [
      "PEARSON CORR PHYLA AND CESD\n",
      "k__Archaea;p__Euryarchaeota 0.1192210176595688 0.5157516975033499\n",
      "k__Bacteria;__ -0.03490369812245231 0.8495856331976083\n",
      "k__Bacteria;p__ -0.0011794590103269623 0.9948883363351921\n",
      "k__Bacteria;p__Actinobacteria 0.004014273985706387 0.9826037119506041\n",
      "k__Bacteria;p__Bacteroidetes -0.06423587426869044 0.7268814432963026\n",
      "k__Bacteria;p__Cyanobacteria -0.17331096846589983 0.3428271916142132\n",
      "k__Bacteria;p__Firmicutes -0.06256936383435548 0.7337079467559613\n",
      "k__Bacteria;p__Fusobacteria -0.0038378548064915783 0.9833681359251001\n",
      "k__Bacteria;p__Lentisphaerae -0.16803554269409696 0.35794175856118526\n",
      "k__Bacteria;p__Proteobacteria -0.08020394994670843 0.6625789988913344\n",
      "k__Bacteria;p__Synergistetes -0.13838636197264273 0.4500502562024056\n",
      "SIGNIFICANT:\n",
      "k__Bacteria;p__Tenericutes -0.4643557834541515 0.007420972443826028\n",
      "k__Bacteria;p__Verrucomicrobia -0.18009518588508625 0.32396876596846796\n"
     ]
    }
   ],
   "source": [
    "print(\"PEARSON CORR PHYLA AND CESD\")\n",
    "for col in L2.columns:\n",
    "    r, p = pearsonr(metadata[\"cesd_total\"].reindex_like(L2),\n",
    "                      clr(L2[col].apply(lambda x: x+0.00001)))\n",
    "    \n",
    "    if p < 0.05:\n",
    "        print(\"SIGNIFICANT:\")\n",
    "    print(col, r, p)"
   ]
  },
  {
   "cell_type": "code",
   "execution_count": 25,
   "metadata": {},
   "outputs": [
    {
     "data": {
      "image/png": "[encoded data removed]",
      "text/plain": [
       "<Figure size 432x288 with 1 Axes>"
      ]
     },
     "metadata": {
      "needs_background": "light"
     },
     "output_type": "display_data"
    }
   ],
   "source": [
    "ax = sns.scatterplot(x=L2[\"k__Bacteria;p__Tenericutes\"],\n",
    "                    y=metadata[\"cesd_total\"].reindex_like(L2),\n",
    "                    hue=metadata[\"Chemotherapy\"])"
   ]
  },
  {
   "cell_type": "code",
   "execution_count": 24,
   "metadata": {},
   "outputs": [
    {
     "name": "stdout",
     "output_type": "stream",
     "text": [
      "CLR TRANSFORMED HISTOGRAMS\n",
      "k__Archaea;p__Euryarchaeota\n"
     ]
    },
    {
     "data": {
      "image/png": "[encoded data removed]",
      "text/plain": [
       "<Figure size 432x288 with 1 Axes>"
      ]
     },
     "metadata": {
      "needs_background": "light"
     },
     "output_type": "display_data"
    },
    {
     "name": "stdout",
     "output_type": "stream",
     "text": [
      "k__Bacteria;__\n"
     ]
    },
    {
     "data": {
      "image/png": "[encoded data removed]",
      "text/plain": [
       "<Figure size 432x288 with 1 Axes>"
      ]
     },
     "metadata": {
      "needs_background": "light"
     },
     "output_type": "display_data"
    },
    {
     "name": "stdout",
     "output_type": "stream",
     "text": [
      "k__Bacteria;p__\n"
     ]
    },
    {
     "data": {
      "image/png": "[encoded data removed]",
      "text/plain": [
       "<Figure size 432x288 with 1 Axes>"
      ]
     },
     "metadata": {
      "needs_background": "light"
     },
     "output_type": "display_data"
    },
    {
     "name": "stdout",
     "output_type": "stream",
     "text": [
      "k__Bacteria;p__Actinobacteria\n"
     ]
    },
    {
     "data": {
      "image/png": "[encoded data removed]",
      "text/plain": [
       "<Figure size 432x288 with 1 Axes>"
      ]
     },
     "metadata": {
      "needs_background": "light"
     },
     "output_type": "display_data"
    },
    {
     "name": "stdout",
     "output_type": "stream",
     "text": [
      "k__Bacteria;p__Bacteroidetes\n"
     ]
    },
    {
     "data": {
      "image/png": "[encoded data removed]",
      "text/plain": [
       "<Figure size 432x288 with 1 Axes>"
      ]
     },
     "metadata": {
      "needs_background": "light"
     },
     "output_type": "display_data"
    },
    {
     "name": "stdout",
     "output_type": "stream",
     "text": [
      "k__Bacteria;p__Cyanobacteria\n"
     ]
    },
    {
     "data": {
      "image/png": "[encoded data removed]",
      "text/plain": [
       "<Figure size 432x288 with 1 Axes>"
      ]
     },
     "metadata": {
      "needs_background": "light"
     },
     "output_type": "display_data"
    },
    {
     "name": "stdout",
     "output_type": "stream",
     "text": [
      "k__Bacteria;p__Firmicutes\n"
     ]
    },
    {
     "data": {
      "image/png": "[encoded data removed]",
      "text/plain": [
       "<Figure size 432x288 with 1 Axes>"
      ]
     },
     "metadata": {
      "needs_background": "light"
     },
     "output_type": "display_data"
    },
    {
     "name": "stdout",
     "output_type": "stream",
     "text": [
      "k__Bacteria;p__Fusobacteria\n"
     ]
    },
    {
     "data": {
      "image/png": "[encoded data removed]",
      "text/plain": [
       "<Figure size 432x288 with 1 Axes>"
      ]
     },
     "metadata": {
      "needs_background": "light"
     },
     "output_type": "display_data"
    },
    {
     "name": "stdout",
     "output_type": "stream",
     "text": [
      "k__Bacteria;p__Lentisphaerae\n"
     ]
    },
    {
     "data": {
      "image/png": "[encoded data removed]",
      "text/plain": [
       "<Figure size 432x288 with 1 Axes>"
      ]
     },
     "metadata": {
      "needs_background": "light"
     },
     "output_type": "display_data"
    },
    {
     "name": "stdout",
     "output_type": "stream",
     "text": [
      "k__Bacteria;p__Proteobacteria\n"
     ]
    },
    {
     "data": {
      "image/png": "[encoded data removed]",
      "text/plain": [
       "<Figure size 432x288 with 1 Axes>"
      ]
     },
     "metadata": {
      "needs_background": "light"
     },
     "output_type": "display_data"
    },
    {
     "name": "stdout",
     "output_type": "stream",
     "text": [
      "k__Bacteria;p__Synergistetes\n"
     ]
    },
    {
     "data": {
      "image/png": "[encoded data removed]",
      "text/plain": [
       "<Figure size 432x288 with 1 Axes>"
      ]
     },
     "metadata": {
      "needs_background": "light"
     },
     "output_type": "display_data"
    },
    {
     "name": "stdout",
     "output_type": "stream",
     "text": [
      "k__Bacteria;p__Tenericutes\n"
     ]
    },
    {
     "data": {
      "image/png": "[encoded data removed]",
      "text/plain": [
       "<Figure size 432x288 with 1 Axes>"
      ]
     },
     "metadata": {
      "needs_background": "light"
     },
     "output_type": "display_data"
    },
    {
     "name": "stdout",
     "output_type": "stream",
     "text": [
      "k__Bacteria;p__Verrucomicrobia\n"
     ]
    },
    {
     "data": {
      "image/png": "[encoded data removed]",
      "text/plain": [
       "<Figure size 432x288 with 1 Axes>"
      ]
     },
     "metadata": {
      "needs_background": "light"
     },
     "output_type": "display_data"
    }
   ],
   "source": [
    "clr_L2 = pd.DataFrame(clr(L2.apply(lambda x: x+0.00001)),\n",
    "                     index=L2.index,\n",
    "                     columns=L2.columns)\n",
    "\n",
    "clr_L2[\"participant ID\"] = metadata[\"plate.sample.id\"].apply(lambda x: x.split(\"-\")[0])\n",
    "clr_L2 = clr_L2.reset_index().set_index(\"participant ID\")\n",
    "clr_L2 = clr_L2.rename(columns={\"index\":\"SampleID\"})\n",
    "\n",
    "clr_L2.to_csv(\"clr_transformed_phyla.csv\")\n",
    "\n",
    "print(\"CLR TRANSFORMED HISTOGRAMS\")\n",
    "for col in clr_L2.drop(\"SampleID\",axis=1):\n",
    "    print(col)\n",
    "    clr_L2[col].hist()\n",
    "    plt.show()"
   ]
  },
  {
   "cell_type": "code",
   "execution_count": 31,
   "metadata": {},
   "outputs": [
    {
     "data": {
      "image/png": "[encoded data removed]",
      "text/plain": [
       "<Figure size 432x288 with 1 Axes>"
      ]
     },
     "metadata": {
      "needs_background": "light"
     },
     "output_type": "display_data"
    }
   ],
   "source": [
    "L2chemo = pd.concat([L2.loc[:,L2.mean(axis=0)>0.001], \n",
    "                     metadata[\"Chemotherapy\"]],\n",
    "                    axis=1)\n",
    "\n",
    "L2chemo = pd.melt(L2chemo, id_vars=\"Chemotherapy\")\n",
    "\n",
    "L2chemo[\"Phylum\"] = L2chemo[\"variable\"].apply(lambda x: x.split(\"p__\")[1])\n",
    "\n",
    "ax = sns.boxplot(x=\"value\",\n",
    "                y=\"Phylum\",\n",
    "                hue=\"Chemotherapy\",\n",
    "                data=L2chemo,\n",
    "                palette=[\"tab:blue\", \"tab:orange\"],\n",
    "                hue_order=[\"Healthy Control\", \"Breast Cancer\"])\n",
    "handles, labels = ax.get_legend_handles_labels()\n",
    "\n",
    "plt.clf() # I cleared and remade at the time to remove the legend title, but I don't think it's necessary\n",
    "\n",
    "\n",
    "ax = sns.boxplot(x=\"value\",\n",
    "                y=\"Phylum\",\n",
    "                hue=\"Chemotherapy\",\n",
    "                data=L2chemo,\n",
    "                palette=[\"tab:blue\",\"tab:orange\"],\n",
    "                hue_order=[\"Healthy Control\", \"Breast Cancer\"])\n",
    "\n",
    "plt.legend(handles=handles[:], labels=labels[:])\n",
    "\n",
    "ax.set_xlabel(\"Relative Abundance\")\n",
    "ax.spines[\"top\"].set_visible(False)\n",
    "ax.spines[\"right\"].set_visible(False)\n",
    "\n",
    "plt.tight_layout()\n",
    "\n",
    "plt.savefig(\"Figures/Phyla-boxplots.pdf\")\n",
    "plt.savefig(\"Figures/Phyla-boxplots.png\")\n",
    "plt.show()"
   ]
  },
  {
   "cell_type": "markdown",
   "metadata": {},
   "source": [
    "### Akkermansia"
   ]
  },
  {
   "cell_type": "code",
   "execution_count": 33,
   "metadata": {},
   "outputs": [
    {
     "data": {
      "image/png": "[encoded data removed]",
      "text/plain": [
       "<Figure size 432x288 with 1 Axes>"
      ]
     },
     "metadata": {
      "needs_background": "light"
     },
     "output_type": "display_data"
    }
   ],
   "source": [
    "ax = sns.boxplot(x=metadata[\"Chemotherapy\"],\n",
    "                 y=L2[\"k__Bacteria;p__Verrucomicrobia\"],\n",
    "                 showfliers=False,\n",
    "                 palette=[\"tab:blue\", \"tab:orange\"],\n",
    "                 order=[\"Healthy Control\",\"Breast Cancer\"])\n",
    "\n",
    "sns.stripplot(x=metadata[\"Chemotherapy\"],\n",
    "              y=L2[\"k__Bacteria;p__Verrucomicrobia\"],\n",
    "              palette=[\"black\"]*2,\n",
    "              order=[\"Healthy Control\",\"Breast Cancer\"],\n",
    "              alpha=0.7,\n",
    "              ax=ax)\n",
    "ax.set_ylabel(r\"Verrucomicrobia Relative Abundance\")\n",
    "ax.set_xlabel(None)\n",
    "\n",
    "ax.spines[\"top\"].set_visible(False)\n",
    "ax.spines[\"right\"].set_visible(False)\n",
    "\n",
    "plt.savefig(\"Figures/Verruco_Chemo_boxplot.pdf\")\n",
    "plt.savefig(\"Figures/Verruco_Chemo_boxplot.png\")\n",
    "plt.show()"
   ]
  },
  {
   "cell_type": "code",
   "execution_count": 34,
   "metadata": {},
   "outputs": [
    {
     "data": {
      "text/plain": [
       "KruskalResult(statistic=5.518042867440461, pvalue=0.01882130426578598)"
      ]
     },
     "execution_count": 34,
     "metadata": {},
     "output_type": "execute_result"
    }
   ],
   "source": [
    "kruskal(L2.loc[metadata[\"Chemotherapy\"]==\"Breast Cancer\",\"k__Bacteria;p__Verrucomicrobia\"],\n",
    "        L2.loc[metadata[\"Chemotherapy\"]==\"Healthy Control\",\"k__Bacteria;p__Verrucomicrobia\"])"
   ]
  },
  {
   "cell_type": "code",
   "execution_count": 35,
   "metadata": {},
   "outputs": [],
   "source": [
    "L6 = Artifact.load(\"L6-nobloom-table.qza\").view(pd.DataFrame)\n",
    "\n",
    "L6mat = np.matrix(L6)\n",
    "L6mat /= L6mat.sum(axis=1)\n",
    "\n",
    "L6 = pd.DataFrame(L6mat,\n",
    "                  columns=L6.columns,\n",
    "                  index=L6.index)"
   ]
  },
  {
   "cell_type": "code",
   "execution_count": 36,
   "metadata": {},
   "outputs": [
    {
     "data": {
      "text/plain": [
       "['k__Bacteria;p__Verrucomicrobia;c__Verrucomicrobiae;o__Verrucomicrobiales;f__Verrucomicrobiaceae;g__Akkermansia']"
      ]
     },
     "execution_count": 36,
     "metadata": {},
     "output_type": "execute_result"
    }
   ],
   "source": [
    "list(filter(lambda x: \"akkermansia\" in x.lower(), L6.columns))"
   ]
  },
  {
   "cell_type": "code",
   "execution_count": 37,
   "metadata": {},
   "outputs": [],
   "source": [
    "akker = 'k__Bacteria;p__Verrucomicrobia;c__Verrucomicrobiae;o__Verrucomicrobiales;f__Verrucomicrobiaceae;g__Akkermansia'"
   ]
  },
  {
   "cell_type": "code",
   "execution_count": 39,
   "metadata": {},
   "outputs": [
    {
     "data": {
      "image/png": "[encoded data removed]",
      "text/plain": [
       "<Figure size 432x288 with 1 Axes>"
      ]
     },
     "metadata": {
      "needs_background": "light"
     },
     "output_type": "display_data"
    }
   ],
   "source": [
    "ax = sns.boxplot(x=metadata[\"Chemotherapy\"],\n",
    "                y=L6[akker],\n",
    "                showfliers=False,\n",
    "                palette=[\"tab:blue\", \"tab:orange\"],\n",
    "                order=[\"Healthy Control\",\"Breast Cancer\"])\n",
    "\n",
    "sns.stripplot(x=metadata[\"Chemotherapy\"],\n",
    "              y=L6[akker],\n",
    "              palette=[\"black\"]*2,\n",
    "              order=[\"Healthy Control\",\"Breast Cancer\"],\n",
    "              alpha=0.7,\n",
    "              ax=ax)\n",
    "\n",
    "ax.set_ylabel(r\"$Akkermansia$ Relative Abundance\")\n",
    "ax.set_xlabel(None)\n",
    "\n",
    "ax.spines[\"top\"].set_visible(False)\n",
    "ax.spines[\"right\"].set_visible(False)\n",
    "\n",
    "plt.savefig(\"Figures/Akkermansia-boxplot.pdf\")\n",
    "plt.savefig(\"Figures/Akkermansia-boxplot.png\")\n",
    "plt.show()"
   ]
  },
  {
   "cell_type": "code",
   "execution_count": 40,
   "metadata": {},
   "outputs": [
    {
     "data": {
      "text/plain": [
       "KruskalResult(statistic=5.518042867440461, pvalue=0.01882130426578598)"
      ]
     },
     "execution_count": 40,
     "metadata": {},
     "output_type": "execute_result"
    }
   ],
   "source": [
    "kruskal(L6.loc[metadata[\"Chemotherapy\"]==\"Breast Cancer\",akker],\n",
    "        L6.loc[metadata[\"Chemotherapy\"]==\"Healthy Control\",akker])"
   ]
  },
  {
   "cell_type": "markdown",
   "metadata": {},
   "source": [
    "### Chemo/Control Taxa correlations, per Emily's request"
   ]
  },
  {
   "cell_type": "code",
   "execution_count": 41,
   "metadata": {},
   "outputs": [
    {
     "name": "stdout",
     "output_type": "stream",
     "text": [
      "PEARSON CORR PHYLA AND CHEMO\n",
      "k__Archaea;p__Euryarchaeota r: -0.09709660234040693, p: 0.5970410685196886\n",
      "k__Bacteria;__ r: 0.09210256619620677, p: 0.616124994333259\n",
      "k__Bacteria;p__ r: 0.2266987421973002, p: 0.21214048247686765\n",
      "k__Bacteria;p__Actinobacteria r: -0.12325377872011428, p: 0.5015464899714674\n",
      "k__Bacteria;p__Bacteroidetes r: -0.004020738746921819, p: 0.982575700436164\n",
      "k__Bacteria;p__Cyanobacteria r: 0.10736540279686742, p: 0.5586275619230582\n",
      "k__Bacteria;p__Firmicutes r: -0.13413282358159717, p: 0.4642303481165677\n",
      "k__Bacteria;p__Fusobacteria r: -0.12826422253920092, p: 0.48417555167754045\n",
      "k__Bacteria;p__Lentisphaerae r: -0.20808904696388422, p: 0.25309631012127626\n",
      "k__Bacteria;p__Proteobacteria r: 0.09598335617470212, p: 0.6012730202182178\n",
      "k__Bacteria;p__Synergistetes r: 0.017327136484892022, p: 0.9250104336325986\n",
      "k__Bacteria;p__Tenericutes r: -0.3407241149906237, p: 0.056354277356640364\n",
      "SIGNIFICANT:\n",
      "k__Bacteria;p__Verrucomicrobia r: -0.4530575951844207, p: 0.009215645275401151\n"
     ]
    }
   ],
   "source": [
    "bcmap = {\"Healthy Control\":0, \"Breast Cancer\":1}\n",
    "\n",
    "print(\"PEARSON CORR PHYLA AND CHEMO\")\n",
    "for col in L2.columns:\n",
    "    r, p = pearsonr(pd.Series(clr(L2[col].apply(lambda x: x+0.00001)), index=L2.index),\n",
    "                    metadata[\"Chemotherapy\"].replace(bcmap).reindex_like(L2))\n",
    "    \n",
    "    if p < 0.05:\n",
    "        print(\"SIGNIFICANT:\")\n",
    "    print(col, f\"r: {r}, p: {p}\")"
   ]
  },
  {
   "cell_type": "code",
   "execution_count": 42,
   "metadata": {},
   "outputs": [
    {
     "name": "stdout",
     "output_type": "stream",
     "text": [
      "k__Archaea;p__Euryarchaeota test statistic: -0.5343447930876146, p: 0.597041068519689\n",
      "k__Bacteria;__ test statistic: 0.5066199061494081, p: 0.6161249943332587\n",
      "k__Bacteria;p__ test statistic: 1.2748715208822168, p: 0.21214048247686712\n",
      "k__Bacteria;p__Actinobacteria test statistic: -0.680275726196357, p: 0.5015464899714671\n",
      "k__Bacteria;p__Bacteroidetes test statistic: -0.022022671108955956, p: 0.9825757004361644\n",
      "k__Bacteria;p__Cyanobacteria test statistic: 0.5914835244071432, p: 0.5586275619230578\n",
      "k__Bacteria;p__Firmicutes test statistic: -0.7413752714213778, p: 0.4642303481165667\n",
      "k__Bacteria;p__Fusobacteria test statistic: -0.7083833041422567, p: 0.48417555167754\n",
      "k__Bacteria;p__Lentisphaerae test statistic: -1.165258286992369, p: 0.25309631012127626\n",
      "k__Bacteria;p__Proteobacteria test statistic: 0.5281610449591774, p: 0.601273020218217\n",
      "k__Bacteria;p__Synergistetes test statistic: 0.09491888489930679, p: 0.9250104336325966\n",
      "k__Bacteria;p__Tenericutes test statistic: -1.984998549998154, p: 0.05635427735664039\n",
      "SIGNIFICANT:\n",
      "k__Bacteria;p__Verrucomicrobia test statistic: -2.783567969627004, p: 0.009215645275401143\n"
     ]
    }
   ],
   "source": [
    "from scipy.stats import ttest_ind\n",
    "\n",
    "for col in L2.columns:\n",
    "    clr_tax = pd.Series(clr(L2[col].apply(lambda x: x+0.00001)),index=L2.index)\n",
    "\n",
    "    res = ttest_ind(clr_tax.loc[metadata[\"Chemotherapy\"]==\"Breast Cancer\"],\n",
    "                    clr_tax.loc[metadata[\"Chemotherapy\"]==\"Healthy Control\"])\n",
    "\n",
    "    if res.pvalue < 0.05:\n",
    "        print(\"SIGNIFICANT:\")\n",
    "    print(col, f\"test statistic: {res.statistic}, p: {res.pvalue}\")"
   ]
  },
  {
   "cell_type": "code",
   "execution_count": 43,
   "metadata": {},
   "outputs": [
    {
     "data": {
      "image/png": "[encoded data removed]",
      "text/plain": [
       "<Figure size 432x288 with 1 Axes>"
      ]
     },
     "metadata": {
      "needs_background": "light"
     },
     "output_type": "display_data"
    }
   ],
   "source": [
    "ax = sns.boxplot(x=metadata[\"Chemotherapy\"],\n",
    "                y=L2[\"k__Bacteria;p__Tenericutes\"],\n",
    "                showfliers=False,\n",
    "                palette=[\"tab:blue\", \"tab:orange\"],\n",
    "                order=[\"Healthy Control\",\"Breast Cancer\"])\n",
    "\n",
    "sns.stripplot(x=metadata[\"Chemotherapy\"],\n",
    "              y=L2[\"k__Bacteria;p__Tenericutes\"],\n",
    "              palette=[\"black\"]*2,\n",
    "              order=[\"Healthy Control\",\"Breast Cancer\"],\n",
    "              alpha=0.7,\n",
    "              ax=ax)\n",
    "ax.set_ylabel(r\"Tenericutes Relative Abundance\")\n",
    "ax.set_xlabel(None)\n",
    "\n",
    "ax.spines[\"top\"].set_visible(False)\n",
    "ax.spines[\"right\"].set_visible(False)\n",
    "\n",
    "plt.savefig(\"Figures/Tenericutes_chemo_boxplot.pdf\")\n",
    "plt.savefig(\"Figures/Tenericutes_chemo_boxplot.png\")\n",
    "plt.show()"
   ]
  },
  {
   "cell_type": "markdown",
   "metadata": {},
   "source": [
    "# Export clr transformed phyla for Emily's hierarchical regression"
   ]
  },
  {
   "cell_type": "code",
   "execution_count": 44,
   "metadata": {},
   "outputs": [],
   "source": [
    "L2_clr = pd.DataFrame(index=L2.index, columns=L2.columns)\n",
    "\n",
    "for col in L2.columns:\n",
    "    L2_clr[col] = clr(L2[col].apply(lambda x: x+0.000001))"
   ]
  },
  {
   "cell_type": "code",
   "execution_count": 45,
   "metadata": {},
   "outputs": [],
   "source": [
    "L2_clr[\"Participant ID\"] = metadata[\"plate.sample.id\"].apply(lambda x: x.split(\"-\")[0])"
   ]
  },
  {
   "cell_type": "code",
   "execution_count": 83,
   "metadata": {},
   "outputs": [],
   "source": [
    "L2_clr.to_csv(\"clr_transformed_phyla.csv\")"
   ]
  },
  {
   "cell_type": "markdown",
   "metadata": {},
   "source": [
    "# Verrucomicrobia Tenericutes corr"
   ]
  },
  {
   "cell_type": "code",
   "execution_count": 46,
   "metadata": {},
   "outputs": [
    {
     "data": {
      "text/plain": [
       "Index(['k__Archaea;p__Euryarchaeota', 'k__Bacteria;__', 'k__Bacteria;p__',\n",
       "       'k__Bacteria;p__Actinobacteria', 'k__Bacteria;p__Bacteroidetes',\n",
       "       'k__Bacteria;p__Cyanobacteria', 'k__Bacteria;p__Firmicutes',\n",
       "       'k__Bacteria;p__Fusobacteria', 'k__Bacteria;p__Lentisphaerae',\n",
       "       'k__Bacteria;p__Proteobacteria', 'k__Bacteria;p__Synergistetes',\n",
       "       'k__Bacteria;p__Tenericutes', 'k__Bacteria;p__Verrucomicrobia',\n",
       "       'Participant ID'],\n",
       "      dtype='object')"
      ]
     },
     "execution_count": 46,
     "metadata": {},
     "output_type": "execute_result"
    }
   ],
   "source": [
    "L2_clr.columns"
   ]
  },
  {
   "cell_type": "code",
   "execution_count": 47,
   "metadata": {},
   "outputs": [
    {
     "name": "stdout",
     "output_type": "stream",
     "text": [
      "r: 0.3459711960245896, p: 0.05242625425314766\n"
     ]
    }
   ],
   "source": [
    "r, p = pearsonr(L2_clr['k__Bacteria;p__Tenericutes'], \n",
    "                L2_clr['k__Bacteria;p__Verrucomicrobia'])\n",
    "\n",
    "print(f'r: {r}, p: {p}')"
   ]
  },
  {
   "cell_type": "markdown",
   "metadata": {},
   "source": [
    "# Tenericutes chemo kruskal (10/6)"
   ]
  },
  {
   "cell_type": "code",
   "execution_count": 48,
   "metadata": {},
   "outputs": [],
   "source": [
    "from scipy.stats import kruskal"
   ]
  },
  {
   "cell_type": "code",
   "execution_count": 53,
   "metadata": {},
   "outputs": [
    {
     "data": {
      "text/plain": [
       "set()"
      ]
     },
     "execution_count": 53,
     "metadata": {},
     "output_type": "execute_result"
    }
   ],
   "source": [
    "L2.index = L2.index.astype(int)\n",
    "metadata.index = metadata.index.astype(int)\n",
    "set(L2.index)-set(metadata.index)"
   ]
  },
  {
   "cell_type": "code",
   "execution_count": 54,
   "metadata": {},
   "outputs": [
    {
     "data": {
      "text/plain": [
       "Int64Index([ 1,  3,  4,  6,  8, 10, 12, 14, 15, 17, 19, 21, 22, 23, 45, 46, 24,\n",
       "            25, 26, 28, 29, 30, 31, 32, 34, 36, 38, 39, 41, 42, 43, 44],\n",
       "           dtype='int64', name='sampleid')"
      ]
     },
     "execution_count": 54,
     "metadata": {},
     "output_type": "execute_result"
    }
   ],
   "source": [
    "metadata.index"
   ]
  },
  {
   "cell_type": "code",
   "execution_count": 55,
   "metadata": {},
   "outputs": [
    {
     "data": {
      "text/plain": [
       "KruskalResult(statistic=3.5464759959142, pvalue=0.059672054947283226)"
      ]
     },
     "execution_count": 55,
     "metadata": {},
     "output_type": "execute_result"
    }
   ],
   "source": [
    "kruskal(L2.loc[metadata[\"Chemotherapy\"]==\"Breast Cancer\", \"k__Bacteria;p__Tenericutes\"],\n",
    "        L2.loc[metadata[\"Chemotherapy\"]==\"Healthy Control\", \"k__Bacteria;p__Tenericutes\"])"
   ]
  },
  {
   "cell_type": "code",
   "execution_count": 56,
   "metadata": {},
   "outputs": [
    {
     "data": {
      "text/plain": [
       "KruskalResult(statistic=5.518042867440461, pvalue=0.01882130426578598)"
      ]
     },
     "execution_count": 56,
     "metadata": {},
     "output_type": "execute_result"
    }
   ],
   "source": [
    "kruskal(L2.loc[metadata[\"Chemotherapy\"]==\"Breast Cancer\", \"k__Bacteria;p__Verrucomicrobia\"],\n",
    "        L2.loc[metadata[\"Chemotherapy\"]==\"Healthy Control\", \"k__Bacteria;p__Verrucomicrobia\"])"
   ]
  },
  {
   "cell_type": "markdown",
   "metadata": {},
   "source": [
    "# Remake taxa barplot with no outlier"
   ]
  },
  {
   "cell_type": "code",
   "execution_count": 21,
   "metadata": {},
   "outputs": [
    {
     "name": "stdout",
     "output_type": "stream",
     "text": [
      "\u001b[32mSaved Visualization to: taxa_barplot_no_outlier.qzv\u001b[0m\r\n"
     ]
    }
   ],
   "source": [
    "! qiime taxa barplot \\\n",
    "--i-table nobloom_table.qza \\\n",
    "--i-taxonomy taxonomy-gg.qza \\\n",
    "--m-metadata-file nobloom_metadata.tsv \\\n",
    "--o-visualization taxa_barplot_no_outlier.qzv"
   ]
  },
  {
   "cell_type": "markdown",
   "metadata": {},
   "source": [
    "# Check FACT-Cog vals"
   ]
  },
  {
   "cell_type": "code",
   "execution_count": 57,
   "metadata": {},
   "outputs": [
    {
     "name": "stdout",
     "output_type": "stream",
     "text": [
      "impairment: \n",
      "sampleid\n",
      "12    52.0\n",
      "14    58.0\n",
      "21    53.0\n",
      "22    48.0\n",
      "23    46.0\n",
      "46    19.0\n",
      "28    52.0\n",
      "30    32.0\n",
      "31    57.0\n",
      "32    56.0\n",
      "38    54.0\n",
      "44    41.0\n",
      "Name: fact_c_r_imp_total, dtype: float64\n",
      "No impairment: \n",
      "sampleid\n",
      "1     72.0\n",
      "3     67.0\n",
      "4     70.0\n",
      "6     67.0\n",
      "8     74.0\n",
      "10    74.0\n",
      "15    73.0\n",
      "17    69.0\n",
      "19    75.0\n",
      "45    71.0\n",
      "24    66.0\n",
      "25    61.0\n",
      "26    71.0\n",
      "29    66.0\n",
      "34    68.0\n",
      "36    74.0\n",
      "39    63.0\n",
      "41    67.0\n",
      "42    66.0\n",
      "43    73.0\n",
      "Name: fact_c_r_imp_total, dtype: float64\n"
     ]
    }
   ],
   "source": [
    "print(\"impairment: \")\n",
    "print(metadata.loc[metadata[\"fact_c_r_imp_total_categorical\"]==\"Cognitive Impairment\",\n",
    "             \"fact_c_r_imp_total\"])\n",
    "\n",
    "print(\"No impairment: \")\n",
    "print(metadata.loc[metadata[\"fact_c_r_imp_total_categorical\"]==\"No Cognitive Impairment\",\n",
    "             \"fact_c_r_imp_total\"])"
   ]
  },
  {
   "cell_type": "code",
   "execution_count": 58,
   "metadata": {},
   "outputs": [
    {
     "name": "stdout",
     "output_type": "stream",
     "text": [
      "probable depression\n",
      "sampleid\n",
      "1     36.0\n",
      "3     33.0\n",
      "6     46.0\n",
      "8     30.0\n",
      "12    23.0\n",
      "15    27.0\n",
      "17    33.0\n",
      "21    38.0\n",
      "22    40.0\n",
      "23    30.0\n",
      "46    34.0\n",
      "24    33.0\n",
      "25    29.0\n",
      "26    29.0\n",
      "28    47.0\n",
      "29    30.0\n",
      "30    29.0\n",
      "31    37.0\n",
      "32    34.0\n",
      "36    26.0\n",
      "38    25.0\n",
      "39    31.0\n",
      "41    27.0\n",
      "44    54.0\n",
      "Name: cesd_total, dtype: float64\n",
      "possible depression\n",
      "sampleid\n",
      "4     20.0\n",
      "10    22.0\n",
      "14    20.0\n",
      "19    20.0\n",
      "45    22.0\n",
      "34    22.0\n",
      "42    22.0\n",
      "43    21.0\n",
      "Name: cesd_total, dtype: float64\n"
     ]
    }
   ],
   "source": [
    "print(\"probable depression\")\n",
    "print(metadata.loc[metadata[\"cesd_total_categorical\"]==\"Probable Depression\",\n",
    "             \"cesd_total\"])\n",
    "\n",
    "print(\"possible depression\")\n",
    "print(metadata.loc[metadata[\"cesd_total_categorical\"]==\"Possible Depression\",\n",
    "             \"cesd_total\"])"
   ]
  },
  {
   "cell_type": "code",
   "execution_count": 68,
   "metadata": {},
   "outputs": [],
   "source": [
    "verruc_L6 = L6[[col for col in L6.columns if \"Verruc\" in col]]"
   ]
  },
  {
   "cell_type": "code",
   "execution_count": 83,
   "metadata": {},
   "outputs": [
    {
     "data": {
      "text/plain": [
       "'Average Akkermansia relative abundance is 99.8% of the average relative abundance of Verrucomicrobia'"
      ]
     },
     "execution_count": 83,
     "metadata": {},
     "output_type": "execute_result"
    }
   ],
   "source": [
    "akker = verruc_L6.mean(axis=0)[\"k__Bacteria;p__Verrucomicrobia;c__Verrucomicrobiae;o__Verrucomicrobiales;f__Verrucomicrobiaceae;g__Akkermansia\"]\n",
    "total_verruc = verruc_L6.mean().sum()\n",
    "\n",
    "f\"Average Akkermansia relative abundance is {round((akker/total_verruc)*100, 1)}% of the average relative abundance of Verrucomicrobia\""
   ]
  },
  {
   "cell_type": "code",
   "execution_count": 80,
   "metadata": {},
   "outputs": [],
   "source": [
    "akker_percent_of_verruc = verruc_L6[\"k__Bacteria;p__Verrucomicrobia;c__Verrucomicrobiae;o__Verrucomicrobiales;f__Verrucomicrobiaceae;g__Akkermansia\"]/verruc_L6.sum(axis=1)"
   ]
  },
  {
   "cell_type": "code",
   "execution_count": 82,
   "metadata": {},
   "outputs": [
    {
     "data": {
      "text/plain": [
       "0.9933110367892977"
      ]
     },
     "execution_count": 82,
     "metadata": {},
     "output_type": "execute_result"
    }
   ],
   "source": [
    "akker_percent_of_verruc.mean()"
   ]
  },
  {
   "cell_type": "code",
   "execution_count": 84,
   "metadata": {},
   "outputs": [
    {
     "name": "stdout",
     "output_type": "stream",
     "text": [
      "ANCOM-L2-chemo.qzv                  lefse_cesd_in.tsv\r\n",
      "ANCOM-L6-chemo.qzv                  lefse_cesd_out.lefse_internal_res\r\n",
      "CESD-LEfSe.pdf                      lefse_cesd_plotdata.csv\r\n",
      "Chemo-LEfSe.pdf                     lefse_chemo_in.tsv\r\n",
      "\u001b[34mFigures\u001b[m\u001b[m/                            lefse_chemo_out.lefse_internal_res\r\n",
      "L2-nobloom-pseudo-table.qza         lefse_chemo_plotdata.csv\r\n",
      "L2-nobloom-table.qza                lefse_fact_in.tsv\r\n",
      "L6-nobloom-pseudo-table.qza         lefse_fact_out.lefse_internal_res\r\n",
      "L6-nobloom-table.qza                nobloom_metadata.tsv\r\n",
      "clr_transformed_phyla.csv           nobloom_table.qza\r\n",
      "\u001b[34mcore-diversity-results\u001b[m\u001b[m/             nobloom_table.qzv\r\n",
      "\u001b[34mdiversity-stats-results\u001b[m\u001b[m/            samp-filt-seq-table.qza\r\n",
      "expr-group-metadata.tsv             shared-scatterplot-LEfSe.pdf\r\n",
      "filt-seq-taxa-barplot.qzv           taxa_barplot_no_outlier.qzv\r\n",
      "insertion-tree.qza                  taxonomy-gg.qza\r\n"
     ]
    }
   ],
   "source": [
    "ls"
   ]
  },
  {
   "cell_type": "code",
   "execution_count": 86,
   "metadata": {},
   "outputs": [],
   "source": [
    "L6_counts = Artifact.load(\"L6-nobloom-table.qza\").view(pd.DataFrame)"
   ]
  },
  {
   "cell_type": "code",
   "execution_count": 88,
   "metadata": {},
   "outputs": [],
   "source": [
    "verruc_L6_counts = L6[[col for col in L6.columns if \"Verruc\" in col]]"
   ]
  },
  {
   "cell_type": "code",
   "execution_count": 91,
   "metadata": {},
   "outputs": [],
   "source": [
    "akkermansia_total_reads = verruc_L6_counts[\"k__Bacteria;p__Verrucomicrobia;c__Verrucomicrobiae;o__Verrucomicrobiales;f__Verrucomicrobiaceae;g__Akkermansia\"].sum()\n",
    "verruc_total_reads = verruc_L6_counts.sum().sum()"
   ]
  },
  {
   "cell_type": "code",
   "execution_count": 92,
   "metadata": {},
   "outputs": [
    {
     "name": "stdout",
     "output_type": "stream",
     "text": [
      "99.8% of total verrucomicrobia reads belonged to Akkermansia genus\n"
     ]
    }
   ],
   "source": [
    "print(f\"{round( (akkermansia_total_reads/verruc_total_reads)*100, 1)}% of total verrucomicrobia reads belonged to Akkermansia genus\")"
   ]
  },
  {
   "cell_type": "code",
   "execution_count": null,
   "metadata": {},
   "outputs": [],
   "source": []
  }
 ],
 "metadata": {
  "kernelspec": {
   "display_name": "Python 3 (ipykernel)",
   "language": "python",
   "name": "python3"
  },
  "language_info": {
   "codemirror_mode": {
    "name": "ipython",
    "version": 3
   },
   "file_extension": ".py",
   "mimetype": "text/x-python",
   "name": "python",
   "nbconvert_exporter": "python",
   "pygments_lexer": "ipython3",
   "version": "3.8.12"
  }
 },
 "nbformat": 4,
 "nbformat_minor": 4
}
